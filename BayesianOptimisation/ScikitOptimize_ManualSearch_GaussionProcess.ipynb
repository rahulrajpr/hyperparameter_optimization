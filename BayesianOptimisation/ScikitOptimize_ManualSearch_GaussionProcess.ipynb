{
  "nbformat": 4,
  "nbformat_minor": 0,
  "metadata": {
    "colab": {
      "provenance": [],
      "authorship_tag": "ABX9TyOj8HOOIf4t8YRLaBrnvbrU",
      "include_colab_link": true
    },
    "kernelspec": {
      "name": "python3",
      "display_name": "Python 3"
    },
    "language_info": {
      "name": "python"
    }
  },
  "cells": [
    {
      "cell_type": "markdown",
      "metadata": {
        "id": "view-in-github",
        "colab_type": "text"
      },
      "source": [
        "<a href=\"https://colab.research.google.com/github/rahulrajpr/AdvancedHyperParameterOptimisation/blob/BayesianOptimization/ScikitOptimize_ManualSearch_GaussionProcess.ipynb\" target=\"_parent\"><img src=\"https://colab.research.google.com/assets/colab-badge.svg\" alt=\"Open In Colab\"/></a>"
      ]
    },
    {
      "cell_type": "markdown",
      "source": [
        "### Bayesian Optimisation (Gaussian Process)\n",
        "\n",
        "- Tech - Scikit optimize\n",
        "\n",
        "- steps : \n",
        "- list of parameters grid\n",
        "- initiate the algorithm objective\n",
        "- define objctive function\n",
        "- call gp_minimize\n",
        "- explore the best parameters\n",
        "- plot the convergence"
      ],
      "metadata": {
        "id": "BRm7nMP5w99h"
      }
    },
    {
      "cell_type": "code",
      "execution_count": 114,
      "metadata": {
        "id": "xpeLZ_4ceHCT"
      },
      "outputs": [],
      "source": [
        "import pandas as pd\n",
        "import numpy as np\n",
        "import matplotlib.pyplot as plt\n",
        "import seaborn as sns\n",
        "import warnings\n",
        "warnings.filterwarnings('ignore')"
      ]
    },
    {
      "cell_type": "code",
      "source": [
        "from sklearn.datasets import load_breast_cancer"
      ],
      "metadata": {
        "id": "-rInJBCsegHp"
      },
      "execution_count": 115,
      "outputs": []
    },
    {
      "cell_type": "code",
      "source": [
        "dataset = load_breast_cancer()\n",
        "data = dataset.data\n",
        "target = dataset.target\n",
        "columns = dataset.feature_names"
      ],
      "metadata": {
        "id": "ghCyFQKeelNF"
      },
      "execution_count": 116,
      "outputs": []
    },
    {
      "cell_type": "code",
      "source": [
        "df = pd.DataFrame(data = data, columns = columns)\n",
        "df['target'] = target"
      ],
      "metadata": {
        "id": "zH7--ekkeyCU"
      },
      "execution_count": 117,
      "outputs": []
    },
    {
      "cell_type": "code",
      "source": [
        "df.info()"
      ],
      "metadata": {
        "colab": {
          "base_uri": "https://localhost:8080/"
        },
        "id": "xR_AWDgkfAGt",
        "outputId": "89f879e4-00db-4e4c-e3b0-37a54cb81d50"
      },
      "execution_count": 118,
      "outputs": [
        {
          "output_type": "stream",
          "name": "stdout",
          "text": [
            "<class 'pandas.core.frame.DataFrame'>\n",
            "RangeIndex: 569 entries, 0 to 568\n",
            "Data columns (total 31 columns):\n",
            " #   Column                   Non-Null Count  Dtype  \n",
            "---  ------                   --------------  -----  \n",
            " 0   mean radius              569 non-null    float64\n",
            " 1   mean texture             569 non-null    float64\n",
            " 2   mean perimeter           569 non-null    float64\n",
            " 3   mean area                569 non-null    float64\n",
            " 4   mean smoothness          569 non-null    float64\n",
            " 5   mean compactness         569 non-null    float64\n",
            " 6   mean concavity           569 non-null    float64\n",
            " 7   mean concave points      569 non-null    float64\n",
            " 8   mean symmetry            569 non-null    float64\n",
            " 9   mean fractal dimension   569 non-null    float64\n",
            " 10  radius error             569 non-null    float64\n",
            " 11  texture error            569 non-null    float64\n",
            " 12  perimeter error          569 non-null    float64\n",
            " 13  area error               569 non-null    float64\n",
            " 14  smoothness error         569 non-null    float64\n",
            " 15  compactness error        569 non-null    float64\n",
            " 16  concavity error          569 non-null    float64\n",
            " 17  concave points error     569 non-null    float64\n",
            " 18  symmetry error           569 non-null    float64\n",
            " 19  fractal dimension error  569 non-null    float64\n",
            " 20  worst radius             569 non-null    float64\n",
            " 21  worst texture            569 non-null    float64\n",
            " 22  worst perimeter          569 non-null    float64\n",
            " 23  worst area               569 non-null    float64\n",
            " 24  worst smoothness         569 non-null    float64\n",
            " 25  worst compactness        569 non-null    float64\n",
            " 26  worst concavity          569 non-null    float64\n",
            " 27  worst concave points     569 non-null    float64\n",
            " 28  worst symmetry           569 non-null    float64\n",
            " 29  worst fractal dimension  569 non-null    float64\n",
            " 30  target                   569 non-null    int64  \n",
            "dtypes: float64(30), int64(1)\n",
            "memory usage: 137.9 KB\n"
          ]
        }
      ]
    },
    {
      "cell_type": "code",
      "source": [
        "X = df.drop('target', axis = 1)\n",
        "y = df['target']"
      ],
      "metadata": {
        "id": "SKgeT-P5fBRx"
      },
      "execution_count": 119,
      "outputs": []
    },
    {
      "cell_type": "code",
      "source": [
        "from sklearn.model_selection import train_test_split"
      ],
      "metadata": {
        "id": "F-R9GoFofIXL"
      },
      "execution_count": 120,
      "outputs": []
    },
    {
      "cell_type": "code",
      "source": [
        "X_train,X_test,y_train,y_test = train_test_split(X,y,train_size =0.7, random_state = 100)"
      ],
      "metadata": {
        "id": "DhB_oBFEfOsH"
      },
      "execution_count": 121,
      "outputs": []
    },
    {
      "cell_type": "markdown",
      "source": [
        "Initiate a gradient boosting object"
      ],
      "metadata": {
        "id": "1ZwQUIZEfd94"
      }
    },
    {
      "cell_type": "code",
      "source": [
        "from sklearn.ensemble import GradientBoostingClassifier"
      ],
      "metadata": {
        "id": "i4lfN-akfYM2"
      },
      "execution_count": 122,
      "outputs": []
    },
    {
      "cell_type": "code",
      "source": [
        "gbc = GradientBoostingClassifier(random_state = 100)"
      ],
      "metadata": {
        "id": "Fkii6INDfpeQ"
      },
      "execution_count": 123,
      "outputs": []
    },
    {
      "cell_type": "markdown",
      "source": [
        "Install the scikit optimize"
      ],
      "metadata": {
        "id": "JHedW513gIz9"
      }
    },
    {
      "cell_type": "code",
      "source": [
        "!pip install scikit-optimize"
      ],
      "metadata": {
        "colab": {
          "base_uri": "https://localhost:8080/"
        },
        "id": "Ok89LXFlg0rC",
        "outputId": "04123d9d-6c5c-436c-881c-e08d5be8a7ec"
      },
      "execution_count": 124,
      "outputs": [
        {
          "output_type": "stream",
          "name": "stdout",
          "text": [
            "Looking in indexes: https://pypi.org/simple, https://us-python.pkg.dev/colab-wheels/public/simple/\n",
            "Requirement already satisfied: scikit-optimize in /usr/local/lib/python3.8/dist-packages (0.9.0)\n",
            "Requirement already satisfied: scikit-learn>=0.20.0 in /usr/local/lib/python3.8/dist-packages (from scikit-optimize) (1.0.2)\n",
            "Requirement already satisfied: pyaml>=16.9 in /usr/local/lib/python3.8/dist-packages (from scikit-optimize) (21.10.1)\n",
            "Requirement already satisfied: joblib>=0.11 in /usr/local/lib/python3.8/dist-packages (from scikit-optimize) (1.2.0)\n",
            "Requirement already satisfied: scipy>=0.19.1 in /usr/local/lib/python3.8/dist-packages (from scikit-optimize) (1.7.3)\n",
            "Requirement already satisfied: numpy>=1.13.3 in /usr/local/lib/python3.8/dist-packages (from scikit-optimize) (1.21.6)\n",
            "Requirement already satisfied: PyYAML in /usr/local/lib/python3.8/dist-packages (from pyaml>=16.9->scikit-optimize) (6.0)\n",
            "Requirement already satisfied: threadpoolctl>=2.0.0 in /usr/local/lib/python3.8/dist-packages (from scikit-learn>=0.20.0->scikit-optimize) (3.1.0)\n"
          ]
        }
      ]
    },
    {
      "cell_type": "markdown",
      "source": [
        "Creating the parameter space"
      ],
      "metadata": {
        "id": "93AXansrigwR"
      }
    },
    {
      "cell_type": "code",
      "source": [
        "from skopt.space import Real,Integer,Categorical"
      ],
      "metadata": {
        "id": "gSqjNfTagxlP"
      },
      "execution_count": 125,
      "outputs": []
    },
    {
      "cell_type": "code",
      "source": [
        "# unlike gridsearch, randomised search, scikit optmise take parameter space as a list, not as a dictonary\n",
        "params_grid = [\n",
        "    Integer(low = 10, high = 120, name = \"n_estimators\"),\n",
        "    Real(low = 0.001, high = 0.999, name = \"min_samples_split\"),\n",
        "    Integer(low = 1, high = 5, name = \"max_depth\"),\n",
        "    Categorical(categories = ['deviance', 'exponential'], name = \"loss\"),\n",
        "]"
      ],
      "metadata": {
        "id": "lgLlYl5shU2t"
      },
      "execution_count": 126,
      "outputs": []
    },
    {
      "cell_type": "markdown",
      "source": [
        "Creating the object function"
      ],
      "metadata": {
        "id": "ZiaSUiJUirBy"
      }
    },
    {
      "cell_type": "code",
      "source": [
        "from skopt.utils import use_named_args"
      ],
      "metadata": {
        "id": "jrAXZreWieSC"
      },
      "execution_count": 127,
      "outputs": []
    },
    {
      "cell_type": "code",
      "source": [
        "from sklearn.model_selection import cross_val_score"
      ],
      "metadata": {
        "id": "oLzgi8dAr785"
      },
      "execution_count": 128,
      "outputs": []
    },
    {
      "cell_type": "code",
      "source": [
        "# define the objective function\n",
        "@use_named_args(params_grid)\n",
        "def objective(**params):\n",
        "  \n",
        "  gbc.set_params(**params)\n",
        "\n",
        "  cv_scores = np.mean(cross_val_score(estimator = gbc,\n",
        "                              X = X_train,\n",
        "                              y = y_train,\n",
        "                              cv = 5,\n",
        "                              scoring = 'accuracy',\n",
        "                              n_jobs = -1))\n",
        "  \n",
        "  #mean_score = np.mean(cv_scores) \n",
        "\n",
        "  return -cv_scores # the object function always to minimize the function, since we use the accuracy we want to negate the values and maximize the function"
      ],
      "metadata": {
        "id": "ikECHAm9i2jn"
      },
      "execution_count": 129,
      "outputs": []
    },
    {
      "cell_type": "markdown",
      "source": [
        "Bayesian Optoimisation call"
      ],
      "metadata": {
        "id": "Oy7s3GUrk3lD"
      }
    },
    {
      "cell_type": "code",
      "source": [
        "from skopt import gp_minimize"
      ],
      "metadata": {
        "id": "6bOo_6QJkwDZ"
      },
      "execution_count": 130,
      "outputs": []
    },
    {
      "cell_type": "code",
      "source": [
        "gp = gp_minimize(\n",
        "    func = objective, # the objective function to minimize\n",
        "    dimensions = params_grid, # the hyperparameter space\n",
        "    n_initial_points = 10, # the number of points to evaluate f(x) to start of\n",
        "    acq_func = 'EI', # the acquisition function\n",
        "    n_calls = 50, # the number of subsequent evaluations of f(x)\n",
        "    random_state = 0)\n",
        "\n",
        "%time"
      ],
      "metadata": {
        "colab": {
          "base_uri": "https://localhost:8080/"
        },
        "id": "BVsYNXD7lDv5",
        "outputId": "8226c7e9-eb07-4048-c558-65ea0bef4df7"
      },
      "execution_count": 131,
      "outputs": [
        {
          "output_type": "stream",
          "name": "stdout",
          "text": [
            "CPU times: user 0 ns, sys: 8 µs, total: 8 µs\n",
            "Wall time: 7.87 µs\n"
          ]
        }
      ]
    },
    {
      "cell_type": "markdown",
      "source": [
        "Lets Explore the gp_minimize object"
      ],
      "metadata": {
        "id": "uiH4F5kYvoJA"
      }
    },
    {
      "cell_type": "code",
      "source": [
        "# the best metric - shows - negated value\n",
        "gp.fun"
      ],
      "metadata": {
        "colab": {
          "base_uri": "https://localhost:8080/"
        },
        "id": "Hs7h_X15mUC4",
        "outputId": "08ac1eb2-3e94-4c78-aa9a-e04e6d439306"
      },
      "execution_count": 136,
      "outputs": [
        {
          "output_type": "execute_result",
          "data": {
            "text/plain": [
              "-0.9622784810126582"
            ]
          },
          "metadata": {},
          "execution_count": 136
        }
      ]
    },
    {
      "cell_type": "code",
      "source": [
        "# the best parameters of search\n",
        "gp.x"
      ],
      "metadata": {
        "colab": {
          "base_uri": "https://localhost:8080/"
        },
        "id": "QzMAqrnXvvdF",
        "outputId": "56acdb23-7827-4050-b63d-f633ad1f518d"
      },
      "execution_count": 137,
      "outputs": [
        {
          "output_type": "execute_result",
          "data": {
            "text/plain": [
              "[120, 0.001, 1, 'exponential']"
            ]
          },
          "metadata": {},
          "execution_count": 137
        }
      ]
    },
    {
      "cell_type": "markdown",
      "source": [
        "lets evaluate the convergence"
      ],
      "metadata": {
        "id": "vCKPwKz7wrV0"
      }
    },
    {
      "cell_type": "code",
      "source": [
        "from skopt.plots import plot_convergence"
      ],
      "metadata": {
        "id": "YVHnbsTywbyN"
      },
      "execution_count": 140,
      "outputs": []
    },
    {
      "cell_type": "code",
      "source": [
        "plot_convergence(gp)\n",
        "plt.show()"
      ],
      "metadata": {
        "colab": {
          "base_uri": "https://localhost:8080/",
          "height": 297
        },
        "id": "5qx0VrNFwxvY",
        "outputId": "124e307a-279c-499f-f9c5-eff887c6ccd5"
      },
      "execution_count": 142,
      "outputs": [
        {
          "output_type": "display_data",
          "data": {
            "text/plain": [
              "<Figure size 432x288 with 1 Axes>"
            ],
            "image/png": "[encoded data removed]"
          },
          "metadata": {
            "needs_background": "light"
          }
        }
      ]
    }
  ]
}