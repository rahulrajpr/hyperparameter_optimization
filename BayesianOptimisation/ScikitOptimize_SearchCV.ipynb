{
  "nbformat": 4,
  "nbformat_minor": 0,
  "metadata": {
    "colab": {
      "provenance": [],
      "authorship_tag": "ABX9TyMQ6SM+UdvURzbRFw1QloYg",
      "include_colab_link": true
    },
    "kernelspec": {
      "name": "python3",
      "display_name": "Python 3"
    },
    "language_info": {
      "name": "python"
    }
  },
  "cells": [
    {
      "cell_type": "markdown",
      "metadata": {
        "id": "view-in-github",
        "colab_type": "text"
      },
      "source": [
        "<a href=\"https://colab.research.google.com/github/rahulrajpr/AdvancedHyperParameterOptimisation/blob/BayesianOptimization/ScikitOptimize_SearchCV.ipynb\" target=\"_parent\"><img src=\"https://colab.research.google.com/assets/colab-badge.svg\" alt=\"Open In Colab\"/></a>"
      ]
    },
    {
      "cell_type": "code",
      "execution_count": 1,
      "metadata": {
        "id": "sbJ2Ffwb966-"
      },
      "outputs": [],
      "source": [
        "import pandas as pd\n",
        "import numpy as np\n",
        "import matplotlib.pyplot as plt\n",
        "import seaborn as sns\n",
        "import warnings\n",
        "warnings.filterwarnings('ignore')"
      ]
    },
    {
      "cell_type": "code",
      "source": [
        "from sklearn.datasets import load_boston"
      ],
      "metadata": {
        "id": "OyKHq_AE-RFJ"
      },
      "execution_count": 2,
      "outputs": []
    },
    {
      "cell_type": "code",
      "source": [
        "dataset = load_boston()\n",
        "data = dataset.data\n",
        "columns = dataset.feature_names\n",
        "target = dataset.target\n",
        "df = pd.DataFrame(data = data,columns = columns)\n",
        "df['target'] = target\n",
        "df.info()"
      ],
      "metadata": {
        "colab": {
          "base_uri": "https://localhost:8080/"
        },
        "id": "ZJhH7g74-kNl",
        "outputId": "9b561c32-1612-4565-9044-87002a901385"
      },
      "execution_count": 3,
      "outputs": [
        {
          "output_type": "stream",
          "name": "stdout",
          "text": [
            "<class 'pandas.core.frame.DataFrame'>\n",
            "RangeIndex: 506 entries, 0 to 505\n",
            "Data columns (total 14 columns):\n",
            " #   Column   Non-Null Count  Dtype  \n",
            "---  ------   --------------  -----  \n",
            " 0   CRIM     506 non-null    float64\n",
            " 1   ZN       506 non-null    float64\n",
            " 2   INDUS    506 non-null    float64\n",
            " 3   CHAS     506 non-null    float64\n",
            " 4   NOX      506 non-null    float64\n",
            " 5   RM       506 non-null    float64\n",
            " 6   AGE      506 non-null    float64\n",
            " 7   DIS      506 non-null    float64\n",
            " 8   RAD      506 non-null    float64\n",
            " 9   TAX      506 non-null    float64\n",
            " 10  PTRATIO  506 non-null    float64\n",
            " 11  B        506 non-null    float64\n",
            " 12  LSTAT    506 non-null    float64\n",
            " 13  target   506 non-null    float64\n",
            "dtypes: float64(14)\n",
            "memory usage: 55.5 KB\n"
          ]
        }
      ]
    },
    {
      "cell_type": "code",
      "source": [
        "sns.distplot(df['target'])\n",
        "plt.show()"
      ],
      "metadata": {
        "colab": {
          "base_uri": "https://localhost:8080/",
          "height": 279
        },
        "id": "RxYOipsh-3iA",
        "outputId": "f77cc398-2f13-4a5c-800d-6441b46725fe"
      },
      "execution_count": 5,
      "outputs": [
        {
          "output_type": "display_data",
          "data": {
            "text/plain": [
              "<Figure size 432x288 with 1 Axes>"
            ],
            "image/png": "[encoded data removed]"
          },
          "metadata": {
            "needs_background": "light"
          }
        }
      ]
    },
    {
      "cell_type": "code",
      "source": [
        "X = df.drop('target', axis = 1)\n",
        "y = df['target']"
      ],
      "metadata": {
        "id": "NLOKGRc5_AFl"
      },
      "execution_count": 6,
      "outputs": []
    },
    {
      "cell_type": "code",
      "source": [
        "from sklearn.model_selection import train_test_split"
      ],
      "metadata": {
        "id": "KAswdMoh_KVa"
      },
      "execution_count": 7,
      "outputs": []
    },
    {
      "cell_type": "code",
      "source": [
        "X_train, X_test, y_train,y_test = train_test_split(X,y,train_size = 0.7, random_state = 100)"
      ],
      "metadata": {
        "id": "GWmHzvNE_QW6"
      },
      "execution_count": 31,
      "outputs": []
    },
    {
      "cell_type": "markdown",
      "source": [
        "Lets initiate the algorith object"
      ],
      "metadata": {
        "id": "Gk0_jBZs_fcq"
      }
    },
    {
      "cell_type": "code",
      "source": [
        "from sklearn.ensemble import GradientBoostingRegressor"
      ],
      "metadata": {
        "id": "dzYyw_QV_a30"
      },
      "execution_count": 11,
      "outputs": []
    },
    {
      "cell_type": "code",
      "source": [
        "gbr = GradientBoostingRegressor(random_state = 100)"
      ],
      "metadata": {
        "id": "TLJOdvwF_onz"
      },
      "execution_count": 12,
      "outputs": []
    },
    {
      "cell_type": "markdown",
      "source": [
        "lets define the parameters grid"
      ],
      "metadata": {
        "id": "GRfDBGf0ArE1"
      }
    },
    {
      "cell_type": "code",
      "source": [
        "params_grid = {\n",
        "    'n_estimators' : [20,120],\n",
        "    'min_samples_split' :[0.001,0.009,'log-uniform'],\n",
        "    'max_depth':[1,8],\n",
        "    'loss':['ls','lad','huber']}"
      ],
      "metadata": {
        "id": "M_yQ1cy7_zis"
      },
      "execution_count": 15,
      "outputs": []
    },
    {
      "cell_type": "markdown",
      "source": [
        "create the BayesSearchCV Object"
      ],
      "metadata": {
        "id": "5njfI9ShAwge"
      }
    },
    {
      "cell_type": "code",
      "source": [
        "!pip install scikit-optimize"
      ],
      "metadata": {
        "colab": {
          "base_uri": "https://localhost:8080/"
        },
        "id": "8RYjPDcr_39M",
        "outputId": "0480d864-314d-4f1f-9df8-702c1c189687"
      },
      "execution_count": 17,
      "outputs": [
        {
          "output_type": "stream",
          "name": "stdout",
          "text": [
            "Looking in indexes: https://pypi.org/simple, https://us-python.pkg.dev/colab-wheels/public/simple/\n",
            "Collecting scikit-optimize\n",
            "  Downloading scikit_optimize-0.9.0-py2.py3-none-any.whl (100 kB)\n",
            "\u001b[K     |████████████████████████████████| 100 kB 4.5 MB/s \n",
            "\u001b[?25hRequirement already satisfied: scipy>=0.19.1 in /usr/local/lib/python3.8/dist-packages (from scikit-optimize) (1.7.3)\n",
            "Requirement already satisfied: numpy>=1.13.3 in /usr/local/lib/python3.8/dist-packages (from scikit-optimize) (1.21.6)\n",
            "Requirement already satisfied: scikit-learn>=0.20.0 in /usr/local/lib/python3.8/dist-packages (from scikit-optimize) (1.0.2)\n",
            "Collecting pyaml>=16.9\n",
            "  Downloading pyaml-21.10.1-py2.py3-none-any.whl (24 kB)\n",
            "Requirement already satisfied: joblib>=0.11 in /usr/local/lib/python3.8/dist-packages (from scikit-optimize) (1.2.0)\n",
            "Requirement already satisfied: PyYAML in /usr/local/lib/python3.8/dist-packages (from pyaml>=16.9->scikit-optimize) (6.0)\n",
            "Requirement already satisfied: threadpoolctl>=2.0.0 in /usr/local/lib/python3.8/dist-packages (from scikit-learn>=0.20.0->scikit-optimize) (3.1.0)\n",
            "Installing collected packages: pyaml, scikit-optimize\n",
            "Successfully installed pyaml-21.10.1 scikit-optimize-0.9.0\n"
          ]
        }
      ]
    },
    {
      "cell_type": "code",
      "source": [
        "from skopt import BayesSearchCV"
      ],
      "metadata": {
        "id": "4t0xMUDTA7nZ"
      },
      "execution_count": 18,
      "outputs": []
    },
    {
      "cell_type": "code",
      "source": [
        "search = BayesSearchCV(estimator = gbr,\n",
        "                       search_spaces = params_grid,\n",
        "                       scoring = 'neg_mean_squared_error',\n",
        "                       n_iter = 50,\n",
        "                       cv = 5,\n",
        "                       verbose = 1,\n",
        "                       n_jobs = -1,\n",
        "                       random_state = 100)"
      ],
      "metadata": {
        "id": "F26YFZ7NBQAT"
      },
      "execution_count": 21,
      "outputs": []
    },
    {
      "cell_type": "markdown",
      "source": [
        "lets fit the search object"
      ],
      "metadata": {
        "id": "tjMbviYOB-1f"
      }
    },
    {
      "cell_type": "code",
      "source": [
        "search.fit(X_train,y_train)"
      ],
      "metadata": {
        "colab": {
          "base_uri": "https://localhost:8080/"
        },
        "id": "RatZ_77cB5pT",
        "outputId": "6f63d1f4-76e6-4cad-81b8-4841344ed408"
      },
      "execution_count": 22,
      "outputs": [
        {
          "output_type": "stream",
          "name": "stdout",
          "text": [
            "Fitting 5 folds for each of 1 candidates, totalling 5 fits\n",
            "Fitting 5 folds for each of 1 candidates, totalling 5 fits\n",
            "Fitting 5 folds for each of 1 candidates, totalling 5 fits\n",
            "Fitting 5 folds for each of 1 candidates, totalling 5 fits\n",
            "Fitting 5 folds for each of 1 candidates, totalling 5 fits\n",
            "Fitting 5 folds for each of 1 candidates, totalling 5 fits\n",
            "Fitting 5 folds for each of 1 candidates, totalling 5 fits\n",
            "Fitting 5 folds for each of 1 candidates, totalling 5 fits\n",
            "Fitting 5 folds for each of 1 candidates, totalling 5 fits\n",
            "Fitting 5 folds for each of 1 candidates, totalling 5 fits\n",
            "Fitting 5 folds for each of 1 candidates, totalling 5 fits\n",
            "Fitting 5 folds for each of 1 candidates, totalling 5 fits\n",
            "Fitting 5 folds for each of 1 candidates, totalling 5 fits\n",
            "Fitting 5 folds for each of 1 candidates, totalling 5 fits\n",
            "Fitting 5 folds for each of 1 candidates, totalling 5 fits\n",
            "Fitting 5 folds for each of 1 candidates, totalling 5 fits\n",
            "Fitting 5 folds for each of 1 candidates, totalling 5 fits\n",
            "Fitting 5 folds for each of 1 candidates, totalling 5 fits\n",
            "Fitting 5 folds for each of 1 candidates, totalling 5 fits\n",
            "Fitting 5 folds for each of 1 candidates, totalling 5 fits\n",
            "Fitting 5 folds for each of 1 candidates, totalling 5 fits\n",
            "Fitting 5 folds for each of 1 candidates, totalling 5 fits\n",
            "Fitting 5 folds for each of 1 candidates, totalling 5 fits\n",
            "Fitting 5 folds for each of 1 candidates, totalling 5 fits\n",
            "Fitting 5 folds for each of 1 candidates, totalling 5 fits\n",
            "Fitting 5 folds for each of 1 candidates, totalling 5 fits\n",
            "Fitting 5 folds for each of 1 candidates, totalling 5 fits\n",
            "Fitting 5 folds for each of 1 candidates, totalling 5 fits\n",
            "Fitting 5 folds for each of 1 candidates, totalling 5 fits\n",
            "Fitting 5 folds for each of 1 candidates, totalling 5 fits\n",
            "Fitting 5 folds for each of 1 candidates, totalling 5 fits\n",
            "Fitting 5 folds for each of 1 candidates, totalling 5 fits\n",
            "Fitting 5 folds for each of 1 candidates, totalling 5 fits\n",
            "Fitting 5 folds for each of 1 candidates, totalling 5 fits\n",
            "Fitting 5 folds for each of 1 candidates, totalling 5 fits\n",
            "Fitting 5 folds for each of 1 candidates, totalling 5 fits\n",
            "Fitting 5 folds for each of 1 candidates, totalling 5 fits\n",
            "Fitting 5 folds for each of 1 candidates, totalling 5 fits\n",
            "Fitting 5 folds for each of 1 candidates, totalling 5 fits\n",
            "Fitting 5 folds for each of 1 candidates, totalling 5 fits\n",
            "Fitting 5 folds for each of 1 candidates, totalling 5 fits\n",
            "Fitting 5 folds for each of 1 candidates, totalling 5 fits\n",
            "Fitting 5 folds for each of 1 candidates, totalling 5 fits\n",
            "Fitting 5 folds for each of 1 candidates, totalling 5 fits\n",
            "Fitting 5 folds for each of 1 candidates, totalling 5 fits\n",
            "Fitting 5 folds for each of 1 candidates, totalling 5 fits\n",
            "Fitting 5 folds for each of 1 candidates, totalling 5 fits\n",
            "Fitting 5 folds for each of 1 candidates, totalling 5 fits\n",
            "Fitting 5 folds for each of 1 candidates, totalling 5 fits\n",
            "Fitting 5 folds for each of 1 candidates, totalling 5 fits\n"
          ]
        },
        {
          "output_type": "execute_result",
          "data": {
            "text/plain": [
              "BayesSearchCV(cv=5, estimator=GradientBoostingRegressor(random_state=100),\n",
              "              n_jobs=-1, random_state=100, scoring='neg_mean_squared_error',\n",
              "              search_spaces={'loss': ['ls', 'lad', 'huber'],\n",
              "                             'max_depth': [1, 8],\n",
              "                             'min_samples_split': [0.001, 0.009, 'log-uniform'],\n",
              "                             'n_estimators': [20, 120]},\n",
              "              verbose=1)"
            ]
          },
          "metadata": {},
          "execution_count": 22
        }
      ]
    },
    {
      "cell_type": "markdown",
      "source": [
        "Lets Explore the search object"
      ],
      "metadata": {
        "id": "CJizaC-zCq5r"
      }
    },
    {
      "cell_type": "code",
      "source": [
        "search.best_params_"
      ],
      "metadata": {
        "colab": {
          "base_uri": "https://localhost:8080/"
        },
        "id": "Q4nK59L0CEFc",
        "outputId": "b99d4da5-f722-4e88-9382-66bdff264574"
      },
      "execution_count": 23,
      "outputs": [
        {
          "output_type": "execute_result",
          "data": {
            "text/plain": [
              "OrderedDict([('loss', 'ls'),\n",
              "             ('max_depth', 3),\n",
              "             ('min_samples_split', 0.0015883733533062906),\n",
              "             ('n_estimators', 120)])"
            ]
          },
          "metadata": {},
          "execution_count": 23
        }
      ]
    },
    {
      "cell_type": "code",
      "source": [
        "best_estimator = search.best_estimator_\n",
        "best_estimator"
      ],
      "metadata": {
        "colab": {
          "base_uri": "https://localhost:8080/"
        },
        "id": "UPbrVjE3Cv-q",
        "outputId": "ca74434b-efa4-43e5-d14c-0fc8cef69035"
      },
      "execution_count": 28,
      "outputs": [
        {
          "output_type": "execute_result",
          "data": {
            "text/plain": [
              "GradientBoostingRegressor(loss='ls', min_samples_split=0.0015883733533062906,\n",
              "                          n_estimators=120, random_state=100)"
            ]
          },
          "metadata": {},
          "execution_count": 28
        }
      ]
    },
    {
      "cell_type": "code",
      "source": [
        "search.best_score_"
      ],
      "metadata": {
        "colab": {
          "base_uri": "https://localhost:8080/"
        },
        "id": "mPDb15xQC9qx",
        "outputId": "090c8171-b512-4557-f831-2ba595340a2a"
      },
      "execution_count": 26,
      "outputs": [
        {
          "output_type": "execute_result",
          "data": {
            "text/plain": [
              "-10.570813249347438"
            ]
          },
          "metadata": {},
          "execution_count": 26
        }
      ]
    },
    {
      "cell_type": "markdown",
      "source": [
        "Evaluate the model"
      ],
      "metadata": {
        "id": "vZUPezk0DMp9"
      }
    },
    {
      "cell_type": "code",
      "source": [
        "from sklearn.metrics import mean_squared_error"
      ],
      "metadata": {
        "id": "HNEP5iUpDEoX"
      },
      "execution_count": 27,
      "outputs": []
    },
    {
      "cell_type": "code",
      "source": [
        "print('error in train : ',mean_squared_error(y_train, best_estimator.predict(X_train)))\n",
        "print('error in test : ',mean_squared_error(y_test, best_estimator.predict(X_test)))"
      ],
      "metadata": {
        "colab": {
          "base_uri": "https://localhost:8080/"
        },
        "id": "SIVIhfFSDVT5",
        "outputId": "300bf141-a5b6-4c68-b8bf-94093bf2b21b"
      },
      "execution_count": 32,
      "outputs": [
        {
          "output_type": "stream",
          "name": "stdout",
          "text": [
            "error in train :  1.1716967854335043\n",
            "error in test :  17.045828395109538\n"
          ]
        }
      ]
    },
    {
      "cell_type": "markdown",
      "source": [
        "Lets explore the search results"
      ],
      "metadata": {
        "id": "k2kLNF7TEBaW"
      }
    },
    {
      "cell_type": "code",
      "source": [
        "res = pd.DataFrame(search.cv_results_)\n",
        "res.head()"
      ],
      "metadata": {
        "colab": {
          "base_uri": "https://localhost:8080/",
          "height": 444
        },
        "id": "fb4oM2foDtKf",
        "outputId": "9a176750-7cb2-4dd9-ad1f-e52d91fb97b7"
      },
      "execution_count": 43,
      "outputs": [
        {
          "output_type": "execute_result",
          "data": {
            "text/plain": [
              "   mean_fit_time  std_fit_time  mean_score_time  std_score_time param_loss  \\\n",
              "0       0.337335      0.086577         0.018474        0.010745        lad   \n",
              "1       1.253981      0.194415         0.008446        0.007877        lad   \n",
              "2       1.223072      0.154138         0.004541        0.002112        lad   \n",
              "3       0.069795      0.032455         0.002690        0.000381         ls   \n",
              "4       0.416957      0.062790         0.002818        0.000412        lad   \n",
              "\n",
              "  param_max_depth param_min_samples_split param_n_estimators  \\\n",
              "0               2                0.002382                 33   \n",
              "1               4                0.005075                 99   \n",
              "2               5                0.005452                 90   \n",
              "3               3                0.003455                 35   \n",
              "4               6                 0.00147                 36   \n",
              "\n",
              "                                              params  split0_test_score  \\\n",
              "0  {'loss': 'lad', 'max_depth': 2, 'min_samples_s...         -14.493010   \n",
              "1  {'loss': 'lad', 'max_depth': 4, 'min_samples_s...         -13.538192   \n",
              "2  {'loss': 'lad', 'max_depth': 5, 'min_samples_s...         -11.738898   \n",
              "3  {'loss': 'ls', 'max_depth': 3, 'min_samples_sp...          -8.569913   \n",
              "4  {'loss': 'lad', 'max_depth': 6, 'min_samples_s...         -12.352143   \n",
              "\n",
              "   split1_test_score  split2_test_score  split3_test_score  split4_test_score  \\\n",
              "0         -19.802632          -8.437010         -14.384091         -20.529158   \n",
              "1         -14.038527          -5.971926          -7.196388         -18.150886   \n",
              "2         -15.093140          -5.585612          -6.850747         -17.362771   \n",
              "3         -12.640445          -6.690543         -11.712050         -20.509238   \n",
              "4         -15.410871          -5.870388          -8.367049         -18.583954   \n",
              "\n",
              "   mean_test_score  std_test_score  rank_test_score  \n",
              "0       -15.529180        4.380546               49  \n",
              "1       -11.779184        4.550244               45  \n",
              "2       -11.326234        4.555971               43  \n",
              "3       -12.024438        4.750854               46  \n",
              "4       -12.116881        4.600188               47  "
            ],
            "text/html": [
              "\n",
              "  <div id=\"df-d30a3792-645e-48a8-abeb-381a3ddce449\">\n",
              "    <div class=\"colab-df-container\">\n",
              "      <div>\n",
              "<style scoped>\n",
              "    .dataframe tbody tr th:only-of-type {\n",
              "        vertical-align: middle;\n",
              "    }\n",
              "\n",
              "    .dataframe tbody tr th {\n",
              "        vertical-align: top;\n",
              "    }\n",
              "\n",
              "    .dataframe thead th {\n",
              "        text-align: right;\n",
              "    }\n",
              "</style>\n",
              "<table border=\"1\" class=\"dataframe\">\n",
              "  <thead>\n",
              "    <tr style=\"text-align: right;\">\n",
              "      <th></th>\n",
              "      <th>mean_fit_time</th>\n",
              "      <th>std_fit_time</th>\n",
              "      <th>mean_score_time</th>\n",
              "      <th>std_score_time</th>\n",
              "      <th>param_loss</th>\n",
              "      <th>param_max_depth</th>\n",
              "      <th>param_min_samples_split</th>\n",
              "      <th>param_n_estimators</th>\n",
              "      <th>params</th>\n",
              "      <th>split0_test_score</th>\n",
              "      <th>split1_test_score</th>\n",
              "      <th>split2_test_score</th>\n",
              "      <th>split3_test_score</th>\n",
              "      <th>split4_test_score</th>\n",
              "      <th>mean_test_score</th>\n",
              "      <th>std_test_score</th>\n",
              "      <th>rank_test_score</th>\n",
              "    </tr>\n",
              "  </thead>\n",
              "  <tbody>\n",
              "    <tr>\n",
              "      <th>0</th>\n",
              "      <td>0.337335</td>\n",
              "      <td>0.086577</td>\n",
              "      <td>0.018474</td>\n",
              "      <td>0.010745</td>\n",
              "      <td>lad</td>\n",
              "      <td>2</td>\n",
              "      <td>0.002382</td>\n",
              "      <td>33</td>\n",
              "      <td>{'loss': 'lad', 'max_depth': 2, 'min_samples_s...</td>\n",
              "      <td>-14.493010</td>\n",
              "      <td>-19.802632</td>\n",
              "      <td>-8.437010</td>\n",
              "      <td>-14.384091</td>\n",
              "      <td>-20.529158</td>\n",
              "      <td>-15.529180</td>\n",
              "      <td>4.380546</td>\n",
              "      <td>49</td>\n",
              "    </tr>\n",
              "    <tr>\n",
              "      <th>1</th>\n",
              "      <td>1.253981</td>\n",
              "      <td>0.194415</td>\n",
              "      <td>0.008446</td>\n",
              "      <td>0.007877</td>\n",
              "      <td>lad</td>\n",
              "      <td>4</td>\n",
              "      <td>0.005075</td>\n",
              "      <td>99</td>\n",
              "      <td>{'loss': 'lad', 'max_depth': 4, 'min_samples_s...</td>\n",
              "      <td>-13.538192</td>\n",
              "      <td>-14.038527</td>\n",
              "      <td>-5.971926</td>\n",
              "      <td>-7.196388</td>\n",
              "      <td>-18.150886</td>\n",
              "      <td>-11.779184</td>\n",
              "      <td>4.550244</td>\n",
              "      <td>45</td>\n",
              "    </tr>\n",
              "    <tr>\n",
              "      <th>2</th>\n",
              "      <td>1.223072</td>\n",
              "      <td>0.154138</td>\n",
              "      <td>0.004541</td>\n",
              "      <td>0.002112</td>\n",
              "      <td>lad</td>\n",
              "      <td>5</td>\n",
              "      <td>0.005452</td>\n",
              "      <td>90</td>\n",
              "      <td>{'loss': 'lad', 'max_depth': 5, 'min_samples_s...</td>\n",
              "      <td>-11.738898</td>\n",
              "      <td>-15.093140</td>\n",
              "      <td>-5.585612</td>\n",
              "      <td>-6.850747</td>\n",
              "      <td>-17.362771</td>\n",
              "      <td>-11.326234</td>\n",
              "      <td>4.555971</td>\n",
              "      <td>43</td>\n",
              "    </tr>\n",
              "    <tr>\n",
              "      <th>3</th>\n",
              "      <td>0.069795</td>\n",
              "      <td>0.032455</td>\n",
              "      <td>0.002690</td>\n",
              "      <td>0.000381</td>\n",
              "      <td>ls</td>\n",
              "      <td>3</td>\n",
              "      <td>0.003455</td>\n",
              "      <td>35</td>\n",
              "      <td>{'loss': 'ls', 'max_depth': 3, 'min_samples_sp...</td>\n",
              "      <td>-8.569913</td>\n",
              "      <td>-12.640445</td>\n",
              "      <td>-6.690543</td>\n",
              "      <td>-11.712050</td>\n",
              "      <td>-20.509238</td>\n",
              "      <td>-12.024438</td>\n",
              "      <td>4.750854</td>\n",
              "      <td>46</td>\n",
              "    </tr>\n",
              "    <tr>\n",
              "      <th>4</th>\n",
              "      <td>0.416957</td>\n",
              "      <td>0.062790</td>\n",
              "      <td>0.002818</td>\n",
              "      <td>0.000412</td>\n",
              "      <td>lad</td>\n",
              "      <td>6</td>\n",
              "      <td>0.00147</td>\n",
              "      <td>36</td>\n",
              "      <td>{'loss': 'lad', 'max_depth': 6, 'min_samples_s...</td>\n",
              "      <td>-12.352143</td>\n",
              "      <td>-15.410871</td>\n",
              "      <td>-5.870388</td>\n",
              "      <td>-8.367049</td>\n",
              "      <td>-18.583954</td>\n",
              "      <td>-12.116881</td>\n",
              "      <td>4.600188</td>\n",
              "      <td>47</td>\n",
              "    </tr>\n",
              "  </tbody>\n",
              "</table>\n",
              "</div>\n",
              "      <button class=\"colab-df-convert\" onclick=\"convertToInteractive('df-d30a3792-645e-48a8-abeb-381a3ddce449')\"\n",
              "              title=\"Convert this dataframe to an interactive table.\"\n",
              "              style=\"display:none;\">\n",
              "        \n",
              "  <svg xmlns=\"http://www.w3.org/2000/svg\" height=\"24px\"viewBox=\"0 0 24 24\"\n",
              "       width=\"24px\">\n",
              "    <path d=\"M0 0h24v24H0V0z\" fill=\"none\"/>\n",
              "    <path d=\"M18.56 5.44l.94 2.06.94-2.06 2.06-.94-2.06-.94-.94-2.06-.94 2.06-2.06.94zm-11 1L8.5 8.5l.94-2.06 2.06-.94-2.06-.94L8.5 2.5l-.94 2.06-2.06.94zm10 10l.94 2.06.94-2.06 2.06-.94-2.06-.94-.94-2.06-.94 2.06-2.06.94z\"/><path d=\"M17.41 7.96l-1.37-1.37c-.4-.4-.92-.59-1.43-.59-.52 0-1.04.2-1.43.59L10.3 9.45l-7.72 7.72c-.78.78-.78 2.05 0 2.83L4 21.41c.39.39.9.59 1.41.59.51 0 1.02-.2 1.41-.59l7.78-7.78 2.81-2.81c.8-.78.8-2.07 0-2.86zM5.41 20L4 18.59l7.72-7.72 1.47 1.35L5.41 20z\"/>\n",
              "  </svg>\n",
              "      </button>\n",
              "      \n",
              "  <style>\n",
              "    .colab-df-container {\n",
              "      display:flex;\n",
              "      flex-wrap:wrap;\n",
              "      gap: 12px;\n",
              "    }\n",
              "\n",
              "    .colab-df-convert {\n",
              "      background-color: #E8F0FE;\n",
              "      border: none;\n",
              "      border-radius: 50%;\n",
              "      cursor: pointer;\n",
              "      display: none;\n",
              "      fill: #1967D2;\n",
              "      height: 32px;\n",
              "      padding: 0 0 0 0;\n",
              "      width: 32px;\n",
              "    }\n",
              "\n",
              "    .colab-df-convert:hover {\n",
              "      background-color: #E2EBFA;\n",
              "      box-shadow: 0px 1px 2px rgba(60, 64, 67, 0.3), 0px 1px 3px 1px rgba(60, 64, 67, 0.15);\n",
              "      fill: #174EA6;\n",
              "    }\n",
              "\n",
              "    [theme=dark] .colab-df-convert {\n",
              "      background-color: #3B4455;\n",
              "      fill: #D2E3FC;\n",
              "    }\n",
              "\n",
              "    [theme=dark] .colab-df-convert:hover {\n",
              "      background-color: #434B5C;\n",
              "      box-shadow: 0px 1px 3px 1px rgba(0, 0, 0, 0.15);\n",
              "      filter: drop-shadow(0px 1px 2px rgba(0, 0, 0, 0.3));\n",
              "      fill: #FFFFFF;\n",
              "    }\n",
              "  </style>\n",
              "\n",
              "      <script>\n",
              "        const buttonEl =\n",
              "          document.querySelector('#df-d30a3792-645e-48a8-abeb-381a3ddce449 button.colab-df-convert');\n",
              "        buttonEl.style.display =\n",
              "          google.colab.kernel.accessAllowed ? 'block' : 'none';\n",
              "\n",
              "        async function convertToInteractive(key) {\n",
              "          const element = document.querySelector('#df-d30a3792-645e-48a8-abeb-381a3ddce449');\n",
              "          const dataTable =\n",
              "            await google.colab.kernel.invokeFunction('convertToInteractive',\n",
              "                                                     [key], {});\n",
              "          if (!dataTable) return;\n",
              "\n",
              "          const docLinkHtml = 'Like what you see? Visit the ' +\n",
              "            '<a target=\"_blank\" href=https://colab.research.google.com/notebooks/data_table.ipynb>data table notebook</a>'\n",
              "            + ' to learn more about interactive tables.';\n",
              "          element.innerHTML = '';\n",
              "          dataTable['output_type'] = 'display_data';\n",
              "          await google.colab.output.renderOutput(dataTable, element);\n",
              "          const docLink = document.createElement('div');\n",
              "          docLink.innerHTML = docLinkHtml;\n",
              "          element.appendChild(docLink);\n",
              "        }\n",
              "      </script>\n",
              "    </div>\n",
              "  </div>\n",
              "  "
            ]
          },
          "metadata": {},
          "execution_count": 43
        }
      ]
    },
    {
      "cell_type": "code",
      "source": [
        "res.info()"
      ],
      "metadata": {
        "colab": {
          "base_uri": "https://localhost:8080/"
        },
        "id": "PvpqOSOaEIBH",
        "outputId": "c415d1db-1f0c-403a-e22b-b41e57d5e902"
      },
      "execution_count": 44,
      "outputs": [
        {
          "output_type": "stream",
          "name": "stdout",
          "text": [
            "<class 'pandas.core.frame.DataFrame'>\n",
            "RangeIndex: 50 entries, 0 to 49\n",
            "Data columns (total 17 columns):\n",
            " #   Column                   Non-Null Count  Dtype  \n",
            "---  ------                   --------------  -----  \n",
            " 0   mean_fit_time            50 non-null     float64\n",
            " 1   std_fit_time             50 non-null     float64\n",
            " 2   mean_score_time          50 non-null     float64\n",
            " 3   std_score_time           50 non-null     float64\n",
            " 4   param_loss               50 non-null     object \n",
            " 5   param_max_depth          50 non-null     object \n",
            " 6   param_min_samples_split  50 non-null     object \n",
            " 7   param_n_estimators       50 non-null     object \n",
            " 8   params                   50 non-null     object \n",
            " 9   split0_test_score        50 non-null     float64\n",
            " 10  split1_test_score        50 non-null     float64\n",
            " 11  split2_test_score        50 non-null     float64\n",
            " 12  split3_test_score        50 non-null     float64\n",
            " 13  split4_test_score        50 non-null     float64\n",
            " 14  mean_test_score          50 non-null     float64\n",
            " 15  std_test_score           50 non-null     float64\n",
            " 16  rank_test_score          50 non-null     int32  \n",
            "dtypes: float64(11), int32(1), object(5)\n",
            "memory usage: 6.6+ KB\n"
          ]
        }
      ]
    },
    {
      "cell_type": "code",
      "source": [
        "sel_cols = ['rank_test_score','param_n_estimators','param_min_samples_split','param_max_depth','param_loss','mean_test_score','std_test_score']"
      ],
      "metadata": {
        "id": "N6s99dh1Ectz"
      },
      "execution_count": 45,
      "outputs": []
    },
    {
      "cell_type": "code",
      "source": [
        "res = res[sel_cols].sort_values('rank_test_score').set_index('rank_test_score')\n",
        "res.head()"
      ],
      "metadata": {
        "colab": {
          "base_uri": "https://localhost:8080/",
          "height": 237
        },
        "id": "tItfk20ZEzIS",
        "outputId": "08f8a4f3-e043-4cb5-efc7-bb9c95794737"
      },
      "execution_count": 46,
      "outputs": [
        {
          "output_type": "execute_result",
          "data": {
            "text/plain": [
              "                param_n_estimators param_min_samples_split param_max_depth  \\\n",
              "rank_test_score                                                              \n",
              "1                              120                0.001537               3   \n",
              "1                              120                0.001538               3   \n",
              "1                              120                0.001538               3   \n",
              "1                              120                0.001539               3   \n",
              "1                              120                0.001539               3   \n",
              "\n",
              "                param_loss  mean_test_score  std_test_score  \n",
              "rank_test_score                                              \n",
              "1                       ls       -10.570813        4.565117  \n",
              "1                       ls       -10.570813        4.565117  \n",
              "1                       ls       -10.570813        4.565117  \n",
              "1                       ls       -10.570813        4.565117  \n",
              "1                       ls       -10.570813        4.565117  "
            ],
            "text/html": [
              "\n",
              "  <div id=\"df-98f150eb-127a-4c95-a0e3-a87bfa2d3de5\">\n",
              "    <div class=\"colab-df-container\">\n",
              "      <div>\n",
              "<style scoped>\n",
              "    .dataframe tbody tr th:only-of-type {\n",
              "        vertical-align: middle;\n",
              "    }\n",
              "\n",
              "    .dataframe tbody tr th {\n",
              "        vertical-align: top;\n",
              "    }\n",
              "\n",
              "    .dataframe thead th {\n",
              "        text-align: right;\n",
              "    }\n",
              "</style>\n",
              "<table border=\"1\" class=\"dataframe\">\n",
              "  <thead>\n",
              "    <tr style=\"text-align: right;\">\n",
              "      <th></th>\n",
              "      <th>param_n_estimators</th>\n",
              "      <th>param_min_samples_split</th>\n",
              "      <th>param_max_depth</th>\n",
              "      <th>param_loss</th>\n",
              "      <th>mean_test_score</th>\n",
              "      <th>std_test_score</th>\n",
              "    </tr>\n",
              "    <tr>\n",
              "      <th>rank_test_score</th>\n",
              "      <th></th>\n",
              "      <th></th>\n",
              "      <th></th>\n",
              "      <th></th>\n",
              "      <th></th>\n",
              "      <th></th>\n",
              "    </tr>\n",
              "  </thead>\n",
              "  <tbody>\n",
              "    <tr>\n",
              "      <th>1</th>\n",
              "      <td>120</td>\n",
              "      <td>0.001537</td>\n",
              "      <td>3</td>\n",
              "      <td>ls</td>\n",
              "      <td>-10.570813</td>\n",
              "      <td>4.565117</td>\n",
              "    </tr>\n",
              "    <tr>\n",
              "      <th>1</th>\n",
              "      <td>120</td>\n",
              "      <td>0.001538</td>\n",
              "      <td>3</td>\n",
              "      <td>ls</td>\n",
              "      <td>-10.570813</td>\n",
              "      <td>4.565117</td>\n",
              "    </tr>\n",
              "    <tr>\n",
              "      <th>1</th>\n",
              "      <td>120</td>\n",
              "      <td>0.001538</td>\n",
              "      <td>3</td>\n",
              "      <td>ls</td>\n",
              "      <td>-10.570813</td>\n",
              "      <td>4.565117</td>\n",
              "    </tr>\n",
              "    <tr>\n",
              "      <th>1</th>\n",
              "      <td>120</td>\n",
              "      <td>0.001539</td>\n",
              "      <td>3</td>\n",
              "      <td>ls</td>\n",
              "      <td>-10.570813</td>\n",
              "      <td>4.565117</td>\n",
              "    </tr>\n",
              "    <tr>\n",
              "      <th>1</th>\n",
              "      <td>120</td>\n",
              "      <td>0.001539</td>\n",
              "      <td>3</td>\n",
              "      <td>ls</td>\n",
              "      <td>-10.570813</td>\n",
              "      <td>4.565117</td>\n",
              "    </tr>\n",
              "  </tbody>\n",
              "</table>\n",
              "</div>\n",
              "      <button class=\"colab-df-convert\" onclick=\"convertToInteractive('df-98f150eb-127a-4c95-a0e3-a87bfa2d3de5')\"\n",
              "              title=\"Convert this dataframe to an interactive table.\"\n",
              "              style=\"display:none;\">\n",
              "        \n",
              "  <svg xmlns=\"http://www.w3.org/2000/svg\" height=\"24px\"viewBox=\"0 0 24 24\"\n",
              "       width=\"24px\">\n",
              "    <path d=\"M0 0h24v24H0V0z\" fill=\"none\"/>\n",
              "    <path d=\"M18.56 5.44l.94 2.06.94-2.06 2.06-.94-2.06-.94-.94-2.06-.94 2.06-2.06.94zm-11 1L8.5 8.5l.94-2.06 2.06-.94-2.06-.94L8.5 2.5l-.94 2.06-2.06.94zm10 10l.94 2.06.94-2.06 2.06-.94-2.06-.94-.94-2.06-.94 2.06-2.06.94z\"/><path d=\"M17.41 7.96l-1.37-1.37c-.4-.4-.92-.59-1.43-.59-.52 0-1.04.2-1.43.59L10.3 9.45l-7.72 7.72c-.78.78-.78 2.05 0 2.83L4 21.41c.39.39.9.59 1.41.59.51 0 1.02-.2 1.41-.59l7.78-7.78 2.81-2.81c.8-.78.8-2.07 0-2.86zM5.41 20L4 18.59l7.72-7.72 1.47 1.35L5.41 20z\"/>\n",
              "  </svg>\n",
              "      </button>\n",
              "      \n",
              "  <style>\n",
              "    .colab-df-container {\n",
              "      display:flex;\n",
              "      flex-wrap:wrap;\n",
              "      gap: 12px;\n",
              "    }\n",
              "\n",
              "    .colab-df-convert {\n",
              "      background-color: #E8F0FE;\n",
              "      border: none;\n",
              "      border-radius: 50%;\n",
              "      cursor: pointer;\n",
              "      display: none;\n",
              "      fill: #1967D2;\n",
              "      height: 32px;\n",
              "      padding: 0 0 0 0;\n",
              "      width: 32px;\n",
              "    }\n",
              "\n",
              "    .colab-df-convert:hover {\n",
              "      background-color: #E2EBFA;\n",
              "      box-shadow: 0px 1px 2px rgba(60, 64, 67, 0.3), 0px 1px 3px 1px rgba(60, 64, 67, 0.15);\n",
              "      fill: #174EA6;\n",
              "    }\n",
              "\n",
              "    [theme=dark] .colab-df-convert {\n",
              "      background-color: #3B4455;\n",
              "      fill: #D2E3FC;\n",
              "    }\n",
              "\n",
              "    [theme=dark] .colab-df-convert:hover {\n",
              "      background-color: #434B5C;\n",
              "      box-shadow: 0px 1px 3px 1px rgba(0, 0, 0, 0.15);\n",
              "      filter: drop-shadow(0px 1px 2px rgba(0, 0, 0, 0.3));\n",
              "      fill: #FFFFFF;\n",
              "    }\n",
              "  </style>\n",
              "\n",
              "      <script>\n",
              "        const buttonEl =\n",
              "          document.querySelector('#df-98f150eb-127a-4c95-a0e3-a87bfa2d3de5 button.colab-df-convert');\n",
              "        buttonEl.style.display =\n",
              "          google.colab.kernel.accessAllowed ? 'block' : 'none';\n",
              "\n",
              "        async function convertToInteractive(key) {\n",
              "          const element = document.querySelector('#df-98f150eb-127a-4c95-a0e3-a87bfa2d3de5');\n",
              "          const dataTable =\n",
              "            await google.colab.kernel.invokeFunction('convertToInteractive',\n",
              "                                                     [key], {});\n",
              "          if (!dataTable) return;\n",
              "\n",
              "          const docLinkHtml = 'Like what you see? Visit the ' +\n",
              "            '<a target=\"_blank\" href=https://colab.research.google.com/notebooks/data_table.ipynb>data table notebook</a>'\n",
              "            + ' to learn more about interactive tables.';\n",
              "          element.innerHTML = '';\n",
              "          dataTable['output_type'] = 'display_data';\n",
              "          await google.colab.output.renderOutput(dataTable, element);\n",
              "          const docLink = document.createElement('div');\n",
              "          docLink.innerHTML = docLinkHtml;\n",
              "          element.appendChild(docLink);\n",
              "        }\n",
              "      </script>\n",
              "    </div>\n",
              "  </div>\n",
              "  "
            ]
          },
          "metadata": {},
          "execution_count": 46
        }
      ]
    },
    {
      "cell_type": "code",
      "source": [
        "def param_observe(param_name):\n",
        "  mean = res.groupby([param_name])['mean_test_score'].mean()\n",
        "  std = res.groupby([param_name])['mean_test_score'].std()\n",
        "  mean.plot( yerr = [std,std])\n",
        "  plt.show()"
      ],
      "metadata": {
        "id": "sQ0DH_8hE3Av"
      },
      "execution_count": 54,
      "outputs": []
    },
    {
      "cell_type": "code",
      "source": [
        "param_observe('param_n_estimators')"
      ],
      "metadata": {
        "colab": {
          "base_uri": "https://localhost:8080/",
          "height": 280
        },
        "id": "VsNnheNRFal9",
        "outputId": "64850b3d-a3c1-498e-d8f0-46d1d49c189b"
      },
      "execution_count": 55,
      "outputs": [
        {
          "output_type": "display_data",
          "data": {
            "text/plain": [
              "<Figure size 432x288 with 1 Axes>"
            ],
            "image/png": "[encoded data removed]"
          },
          "metadata": {
            "needs_background": "light"
          }
        }
      ]
    },
    {
      "cell_type": "code",
      "source": [
        "param_observe('param_min_samples_split')"
      ],
      "metadata": {
        "colab": {
          "base_uri": "https://localhost:8080/",
          "height": 280
        },
        "id": "gGf2QoOaGNE7",
        "outputId": "d8415a4e-7fd8-4ca5-9406-8593134c0f65"
      },
      "execution_count": 56,
      "outputs": [
        {
          "output_type": "display_data",
          "data": {
            "text/plain": [
              "<Figure size 432x288 with 1 Axes>"
            ],
            "image/png": "[encoded data removed]"
          },
          "metadata": {
            "needs_background": "light"
          }
        }
      ]
    },
    {
      "cell_type": "code",
      "source": [
        "param_observe('param_max_depth')"
      ],
      "metadata": {
        "colab": {
          "base_uri": "https://localhost:8080/",
          "height": 280
        },
        "id": "Z-5iGAQmGTwV",
        "outputId": "053aa69b-1c7a-43cf-e093-f697ef4a68c2"
      },
      "execution_count": 57,
      "outputs": [
        {
          "output_type": "display_data",
          "data": {
            "text/plain": [
              "<Figure size 432x288 with 1 Axes>"
            ],
            "image/png": "[encoded data removed]"
          },
          "metadata": {
            "needs_background": "light"
          }
        }
      ]
    },
    {
      "cell_type": "code",
      "source": [
        "param_observe('param_loss')"
      ],
      "metadata": {
        "colab": {
          "base_uri": "https://localhost:8080/",
          "height": 280
        },
        "id": "yFVIU2k1GbHV",
        "outputId": "82e3e296-3bfc-464c-f96d-e19a9ab55436"
      },
      "execution_count": 58,
      "outputs": [
        {
          "output_type": "display_data",
          "data": {
            "text/plain": [
              "<Figure size 432x288 with 1 Axes>"
            ],
            "image/png": "[encoded data removed]"
          },
          "metadata": {
            "needs_background": "light"
          }
        }
      ]
    }
  ]
}