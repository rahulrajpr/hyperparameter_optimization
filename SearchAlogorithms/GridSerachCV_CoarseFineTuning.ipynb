{
  "nbformat": 4,
  "nbformat_minor": 0,
  "metadata": {
    "colab": {
      "provenance": [],
      "authorship_tag": "ABX9TyN4PSwCkuTn20z1MHbBRaJq",
      "include_colab_link": true
    },
    "kernelspec": {
      "name": "python3",
      "display_name": "Python 3"
    },
    "language_info": {
      "name": "python"
    }
  },
  "cells": [
    {
      "cell_type": "markdown",
      "metadata": {
        "id": "view-in-github",
        "colab_type": "text"
      },
      "source": [
        "<a href=\"https://colab.research.google.com/github/rahulrajpr/AdvancedHyperParameterOptimisation/blob/SearchAlgorithms/GridSerachCV_CoarseFineTuning.ipynb\" target=\"_parent\"><img src=\"https://colab.research.google.com/assets/colab-badge.svg\" alt=\"Open In Colab\"/></a>"
      ]
    },
    {
      "cell_type": "markdown",
      "source": [
        "Approach \n",
        "\n",
        "1. Coarse Tuning of the hyperparameter spaces\n",
        "2. Fine Tuning of the hyper parameter spaces"
      ],
      "metadata": {
        "id": "p6u6kQ-vWldZ"
      }
    },
    {
      "cell_type": "code",
      "execution_count": 1,
      "metadata": {
        "id": "hok4Wg1oWOEW"
      },
      "outputs": [],
      "source": [
        "import pandas as pd\n",
        "import numpy as np\n",
        "import matplotlib.pyplot as plt\n",
        "import seaborn as sns\n",
        "import warnings\n",
        "warnings.filterwarnings('ignore')"
      ]
    },
    {
      "cell_type": "code",
      "source": [
        "from sklearn.datasets import load_breast_cancer"
      ],
      "metadata": {
        "id": "3Qy0_XGgW-Ko"
      },
      "execution_count": 2,
      "outputs": []
    },
    {
      "cell_type": "code",
      "source": [
        "data = pd.DataFrame(data = load_breast_cancer().data, columns = load_breast_cancer().feature_names)"
      ],
      "metadata": {
        "id": "zH3AK63nXFys"
      },
      "execution_count": 5,
      "outputs": []
    },
    {
      "cell_type": "code",
      "source": [
        "data['target'] = load_breast_cancer().target"
      ],
      "metadata": {
        "id": "lsh7QFyyXwJr"
      },
      "execution_count": 7,
      "outputs": []
    },
    {
      "cell_type": "code",
      "source": [
        "data.isnull().sum()"
      ],
      "metadata": {
        "colab": {
          "base_uri": "https://localhost:8080/"
        },
        "id": "hDcuzxbVXxkY",
        "outputId": "be2952df-8e9a-400d-983d-e11318882041"
      },
      "execution_count": 9,
      "outputs": [
        {
          "output_type": "execute_result",
          "data": {
            "text/plain": [
              "mean radius                0\n",
              "mean texture               0\n",
              "mean perimeter             0\n",
              "mean area                  0\n",
              "mean smoothness            0\n",
              "mean compactness           0\n",
              "mean concavity             0\n",
              "mean concave points        0\n",
              "mean symmetry              0\n",
              "mean fractal dimension     0\n",
              "radius error               0\n",
              "texture error              0\n",
              "perimeter error            0\n",
              "area error                 0\n",
              "smoothness error           0\n",
              "compactness error          0\n",
              "concavity error            0\n",
              "concave points error       0\n",
              "symmetry error             0\n",
              "fractal dimension error    0\n",
              "worst radius               0\n",
              "worst texture              0\n",
              "worst perimeter            0\n",
              "worst area                 0\n",
              "worst smoothness           0\n",
              "worst compactness          0\n",
              "worst concavity            0\n",
              "worst concave points       0\n",
              "worst symmetry             0\n",
              "worst fractal dimension    0\n",
              "target                     0\n",
              "dtype: int64"
            ]
          },
          "metadata": {},
          "execution_count": 9
        }
      ]
    },
    {
      "cell_type": "code",
      "source": [
        "X = data.drop('target', axis = 1)\n",
        "y = data['target']"
      ],
      "metadata": {
        "id": "dENkvYfGX5ka"
      },
      "execution_count": 10,
      "outputs": []
    },
    {
      "cell_type": "code",
      "source": [
        "from sklearn.model_selection import train_test_split"
      ],
      "metadata": {
        "id": "cZmsG_JZYFE0"
      },
      "execution_count": 11,
      "outputs": []
    },
    {
      "cell_type": "code",
      "source": [
        "X_train, X_test, y_train, y_test = train_test_split(X,y, train_size = 0.7, random_state = 100)"
      ],
      "metadata": {
        "id": "Oau150uvYNmK"
      },
      "execution_count": 12,
      "outputs": []
    },
    {
      "cell_type": "code",
      "source": [
        "from sklearn.ensemble import GradientBoostingClassifier"
      ],
      "metadata": {
        "id": "LXBpo5SZYZlg"
      },
      "execution_count": 13,
      "outputs": []
    },
    {
      "cell_type": "code",
      "source": [
        "gbc = GradientBoostingClassifier(random_state = 100)"
      ],
      "metadata": {
        "id": "TyYqJ81gYk2B"
      },
      "execution_count": 14,
      "outputs": []
    },
    {
      "cell_type": "code",
      "source": [
        "help(GradientBoostingClassifier)"
      ],
      "metadata": {
        "id": "zO88yWCZYvLI"
      },
      "execution_count": null,
      "outputs": []
    },
    {
      "cell_type": "markdown",
      "source": [
        "### Coarse Tuning with GridSearch CV"
      ],
      "metadata": {
        "id": "z4Jt_EK2ZHI1"
      }
    },
    {
      "cell_type": "code",
      "source": [
        "from sklearn.model_selection import GridSearchCV"
      ],
      "metadata": {
        "id": "GLZCUmhiY0oF"
      },
      "execution_count": 17,
      "outputs": []
    },
    {
      "cell_type": "code",
      "source": [
        "params = {'n_estimators' : [10,20,50,100],\n",
        "          'min_samples_split':[0.1,0.3,0.5],\n",
        "          'max_depth' :[1,2,3,4,None]}"
      ],
      "metadata": {
        "id": "nWTWSrRKZTBZ"
      },
      "execution_count": 18,
      "outputs": []
    },
    {
      "cell_type": "code",
      "source": [
        "search = GridSearchCV(estimator = gbc,\n",
        "                      param_grid = params,\n",
        "                      scoring = 'roc_auc',\n",
        "                      cv = 5,\n",
        "                      verbose = 1,\n",
        "                      n_jobs = -1,\n",
        "                      return_train_score = True)"
      ],
      "metadata": {
        "id": "gDM6HZRTaPqz"
      },
      "execution_count": 23,
      "outputs": []
    },
    {
      "cell_type": "code",
      "source": [
        "search.fit(X_train,y_train)\n",
        "%time"
      ],
      "metadata": {
        "colab": {
          "base_uri": "https://localhost:8080/"
        },
        "id": "XQwfzD4VapaU",
        "outputId": "d437263b-ed8f-412e-aaff-c05e57633426"
      },
      "execution_count": 24,
      "outputs": [
        {
          "output_type": "stream",
          "name": "stdout",
          "text": [
            "Fitting 5 folds for each of 60 candidates, totalling 300 fits\n",
            "CPU times: user 2 µs, sys: 0 ns, total: 2 µs\n",
            "Wall time: 4.77 µs\n"
          ]
        }
      ]
    },
    {
      "cell_type": "code",
      "source": [
        "search.best_params_"
      ],
      "metadata": {
        "colab": {
          "base_uri": "https://localhost:8080/"
        },
        "id": "6CR3fKqaax7s",
        "outputId": "1b44755c-4767-48ff-ff76-956357bfd82f"
      },
      "execution_count": 25,
      "outputs": [
        {
          "output_type": "execute_result",
          "data": {
            "text/plain": [
              "{'max_depth': 1, 'min_samples_split': 0.1, 'n_estimators': 100}"
            ]
          },
          "metadata": {},
          "execution_count": 25
        }
      ]
    },
    {
      "cell_type": "code",
      "source": [
        "best_estimator = search.best_estimator_"
      ],
      "metadata": {
        "id": "eM7hkSXCbbO8"
      },
      "execution_count": 29,
      "outputs": []
    },
    {
      "cell_type": "code",
      "source": [
        "pred_train = best_estimator.predict_proba(X_train)[:,1]\n",
        "pred_test = best_estimator.predict_proba(X_test)[:,1]"
      ],
      "metadata": {
        "id": "5uzXUHCZbkoD"
      },
      "execution_count": 32,
      "outputs": []
    },
    {
      "cell_type": "code",
      "source": [
        "from sklearn.metrics import roc_auc_score"
      ],
      "metadata": {
        "id": "ODCBMyf_buZY"
      },
      "execution_count": 34,
      "outputs": []
    },
    {
      "cell_type": "code",
      "source": [
        "print('train roc_auc score : ',roc_auc_score(y_train,pred_train))\n",
        "print('test roc_auc score : ',roc_auc_score(y_test,pred_test))"
      ],
      "metadata": {
        "colab": {
          "base_uri": "https://localhost:8080/"
        },
        "id": "481Fy6HpcCs_",
        "outputId": "7c1d7647-4d17-4c88-c124-a5261ce11b0b"
      },
      "execution_count": 37,
      "outputs": [
        {
          "output_type": "stream",
          "name": "stdout",
          "text": [
            "train roc_auc score :  0.9981351981351982\n",
            "test roc_auc score :  0.9948849104859334\n"
          ]
        }
      ]
    },
    {
      "cell_type": "code",
      "source": [
        "sel_cols = ['rank_test_score','param_n_estimators','param_min_samples_split','param_max_depth','mean_test_score','std_test_score']"
      ],
      "metadata": {
        "id": "RpKCYn3Bck5F"
      },
      "execution_count": 57,
      "outputs": []
    },
    {
      "cell_type": "code",
      "source": [
        "results = pd.DataFrame(search.cv_results_).sort_values('rank_test_score')[sel_cols].set_index('rank_test_score')"
      ],
      "metadata": {
        "id": "sU7Rpt9mclAq"
      },
      "execution_count": 62,
      "outputs": []
    },
    {
      "cell_type": "code",
      "source": [
        "results.head(10)"
      ],
      "metadata": {
        "colab": {
          "base_uri": "https://localhost:8080/",
          "height": 394
        },
        "id": "mhlNbA_pck0N",
        "outputId": "ad6e87aa-f926-4502-b3ad-11a30bf85ee5"
      },
      "execution_count": 63,
      "outputs": [
        {
          "output_type": "execute_result",
          "data": {
            "text/plain": [
              "                param_n_estimators param_min_samples_split param_max_depth  \\\n",
              "rank_test_score                                                              \n",
              "1                              100                     0.1               1   \n",
              "1                              100                     0.3               1   \n",
              "1                              100                     0.5               1   \n",
              "4                               50                     0.1               1   \n",
              "4                               50                     0.3               1   \n",
              "4                               50                     0.5               1   \n",
              "7                              100                     0.5               4   \n",
              "8                              100                     0.5               2   \n",
              "9                              100                     0.3               2   \n",
              "10                              50                     0.5               2   \n",
              "\n",
              "                 mean_test_score  std_test_score  \n",
              "rank_test_score                                   \n",
              "1                       0.991616        0.004332  \n",
              "1                       0.991616        0.004332  \n",
              "1                       0.991616        0.004332  \n",
              "4                       0.990962        0.005705  \n",
              "4                       0.990962        0.005705  \n",
              "4                       0.990962        0.005705  \n",
              "7                       0.990674        0.003828  \n",
              "8                       0.990655        0.003231  \n",
              "9                       0.990645        0.003503  \n",
              "10                      0.990440        0.004651  "
            ],
            "text/html": [
              "\n",
              "  <div id=\"df-baa500c0-3660-430b-a52d-ae5e79739d61\">\n",
              "    <div class=\"colab-df-container\">\n",
              "      <div>\n",
              "<style scoped>\n",
              "    .dataframe tbody tr th:only-of-type {\n",
              "        vertical-align: middle;\n",
              "    }\n",
              "\n",
              "    .dataframe tbody tr th {\n",
              "        vertical-align: top;\n",
              "    }\n",
              "\n",
              "    .dataframe thead th {\n",
              "        text-align: right;\n",
              "    }\n",
              "</style>\n",
              "<table border=\"1\" class=\"dataframe\">\n",
              "  <thead>\n",
              "    <tr style=\"text-align: right;\">\n",
              "      <th></th>\n",
              "      <th>param_n_estimators</th>\n",
              "      <th>param_min_samples_split</th>\n",
              "      <th>param_max_depth</th>\n",
              "      <th>mean_test_score</th>\n",
              "      <th>std_test_score</th>\n",
              "    </tr>\n",
              "    <tr>\n",
              "      <th>rank_test_score</th>\n",
              "      <th></th>\n",
              "      <th></th>\n",
              "      <th></th>\n",
              "      <th></th>\n",
              "      <th></th>\n",
              "    </tr>\n",
              "  </thead>\n",
              "  <tbody>\n",
              "    <tr>\n",
              "      <th>1</th>\n",
              "      <td>100</td>\n",
              "      <td>0.1</td>\n",
              "      <td>1</td>\n",
              "      <td>0.991616</td>\n",
              "      <td>0.004332</td>\n",
              "    </tr>\n",
              "    <tr>\n",
              "      <th>1</th>\n",
              "      <td>100</td>\n",
              "      <td>0.3</td>\n",
              "      <td>1</td>\n",
              "      <td>0.991616</td>\n",
              "      <td>0.004332</td>\n",
              "    </tr>\n",
              "    <tr>\n",
              "      <th>1</th>\n",
              "      <td>100</td>\n",
              "      <td>0.5</td>\n",
              "      <td>1</td>\n",
              "      <td>0.991616</td>\n",
              "      <td>0.004332</td>\n",
              "    </tr>\n",
              "    <tr>\n",
              "      <th>4</th>\n",
              "      <td>50</td>\n",
              "      <td>0.1</td>\n",
              "      <td>1</td>\n",
              "      <td>0.990962</td>\n",
              "      <td>0.005705</td>\n",
              "    </tr>\n",
              "    <tr>\n",
              "      <th>4</th>\n",
              "      <td>50</td>\n",
              "      <td>0.3</td>\n",
              "      <td>1</td>\n",
              "      <td>0.990962</td>\n",
              "      <td>0.005705</td>\n",
              "    </tr>\n",
              "    <tr>\n",
              "      <th>4</th>\n",
              "      <td>50</td>\n",
              "      <td>0.5</td>\n",
              "      <td>1</td>\n",
              "      <td>0.990962</td>\n",
              "      <td>0.005705</td>\n",
              "    </tr>\n",
              "    <tr>\n",
              "      <th>7</th>\n",
              "      <td>100</td>\n",
              "      <td>0.5</td>\n",
              "      <td>4</td>\n",
              "      <td>0.990674</td>\n",
              "      <td>0.003828</td>\n",
              "    </tr>\n",
              "    <tr>\n",
              "      <th>8</th>\n",
              "      <td>100</td>\n",
              "      <td>0.5</td>\n",
              "      <td>2</td>\n",
              "      <td>0.990655</td>\n",
              "      <td>0.003231</td>\n",
              "    </tr>\n",
              "    <tr>\n",
              "      <th>9</th>\n",
              "      <td>100</td>\n",
              "      <td>0.3</td>\n",
              "      <td>2</td>\n",
              "      <td>0.990645</td>\n",
              "      <td>0.003503</td>\n",
              "    </tr>\n",
              "    <tr>\n",
              "      <th>10</th>\n",
              "      <td>50</td>\n",
              "      <td>0.5</td>\n",
              "      <td>2</td>\n",
              "      <td>0.990440</td>\n",
              "      <td>0.004651</td>\n",
              "    </tr>\n",
              "  </tbody>\n",
              "</table>\n",
              "</div>\n",
              "      <button class=\"colab-df-convert\" onclick=\"convertToInteractive('df-baa500c0-3660-430b-a52d-ae5e79739d61')\"\n",
              "              title=\"Convert this dataframe to an interactive table.\"\n",
              "              style=\"display:none;\">\n",
              "        \n",
              "  <svg xmlns=\"http://www.w3.org/2000/svg\" height=\"24px\"viewBox=\"0 0 24 24\"\n",
              "       width=\"24px\">\n",
              "    <path d=\"M0 0h24v24H0V0z\" fill=\"none\"/>\n",
              "    <path d=\"M18.56 5.44l.94 2.06.94-2.06 2.06-.94-2.06-.94-.94-2.06-.94 2.06-2.06.94zm-11 1L8.5 8.5l.94-2.06 2.06-.94-2.06-.94L8.5 2.5l-.94 2.06-2.06.94zm10 10l.94 2.06.94-2.06 2.06-.94-2.06-.94-.94-2.06-.94 2.06-2.06.94z\"/><path d=\"M17.41 7.96l-1.37-1.37c-.4-.4-.92-.59-1.43-.59-.52 0-1.04.2-1.43.59L10.3 9.45l-7.72 7.72c-.78.78-.78 2.05 0 2.83L4 21.41c.39.39.9.59 1.41.59.51 0 1.02-.2 1.41-.59l7.78-7.78 2.81-2.81c.8-.78.8-2.07 0-2.86zM5.41 20L4 18.59l7.72-7.72 1.47 1.35L5.41 20z\"/>\n",
              "  </svg>\n",
              "      </button>\n",
              "      \n",
              "  <style>\n",
              "    .colab-df-container {\n",
              "      display:flex;\n",
              "      flex-wrap:wrap;\n",
              "      gap: 12px;\n",
              "    }\n",
              "\n",
              "    .colab-df-convert {\n",
              "      background-color: #E8F0FE;\n",
              "      border: none;\n",
              "      border-radius: 50%;\n",
              "      cursor: pointer;\n",
              "      display: none;\n",
              "      fill: #1967D2;\n",
              "      height: 32px;\n",
              "      padding: 0 0 0 0;\n",
              "      width: 32px;\n",
              "    }\n",
              "\n",
              "    .colab-df-convert:hover {\n",
              "      background-color: #E2EBFA;\n",
              "      box-shadow: 0px 1px 2px rgba(60, 64, 67, 0.3), 0px 1px 3px 1px rgba(60, 64, 67, 0.15);\n",
              "      fill: #174EA6;\n",
              "    }\n",
              "\n",
              "    [theme=dark] .colab-df-convert {\n",
              "      background-color: #3B4455;\n",
              "      fill: #D2E3FC;\n",
              "    }\n",
              "\n",
              "    [theme=dark] .colab-df-convert:hover {\n",
              "      background-color: #434B5C;\n",
              "      box-shadow: 0px 1px 3px 1px rgba(0, 0, 0, 0.15);\n",
              "      filter: drop-shadow(0px 1px 2px rgba(0, 0, 0, 0.3));\n",
              "      fill: #FFFFFF;\n",
              "    }\n",
              "  </style>\n",
              "\n",
              "      <script>\n",
              "        const buttonEl =\n",
              "          document.querySelector('#df-baa500c0-3660-430b-a52d-ae5e79739d61 button.colab-df-convert');\n",
              "        buttonEl.style.display =\n",
              "          google.colab.kernel.accessAllowed ? 'block' : 'none';\n",
              "\n",
              "        async function convertToInteractive(key) {\n",
              "          const element = document.querySelector('#df-baa500c0-3660-430b-a52d-ae5e79739d61');\n",
              "          const dataTable =\n",
              "            await google.colab.kernel.invokeFunction('convertToInteractive',\n",
              "                                                     [key], {});\n",
              "          if (!dataTable) return;\n",
              "\n",
              "          const docLinkHtml = 'Like what you see? Visit the ' +\n",
              "            '<a target=\"_blank\" href=https://colab.research.google.com/notebooks/data_table.ipynb>data table notebook</a>'\n",
              "            + ' to learn more about interactive tables.';\n",
              "          element.innerHTML = '';\n",
              "          dataTable['output_type'] = 'display_data';\n",
              "          await google.colab.output.renderOutput(dataTable, element);\n",
              "          const docLink = document.createElement('div');\n",
              "          docLink.innerHTML = docLinkHtml;\n",
              "          element.appendChild(docLink);\n",
              "        }\n",
              "      </script>\n",
              "    </div>\n",
              "  </div>\n",
              "  "
            ]
          },
          "metadata": {},
          "execution_count": 63
        }
      ]
    },
    {
      "cell_type": "code",
      "source": [
        "def plot_results(result,parameter):\n",
        "  avg = result.groupby(parameter)['mean_test_score'].mean()\n",
        "  std = result.groupby(parameter)['mean_test_score'].std()\n",
        "  plt.figure(figsize = [8,5])\n",
        "  avg.plot(yerr = [std,std], subplots =True)\n",
        "  plt.show()"
      ],
      "metadata": {
        "id": "mVgr28Wze8ia"
      },
      "execution_count": 120,
      "outputs": []
    },
    {
      "cell_type": "code",
      "source": [
        "plot_results(results,'param_n_estimators')"
      ],
      "metadata": {
        "colab": {
          "base_uri": "https://localhost:8080/",
          "height": 335
        },
        "id": "l4ydEWAUfxGj",
        "outputId": "02bb1e8c-c6c2-476d-f673-dbf2824674c9"
      },
      "execution_count": 121,
      "outputs": [
        {
          "output_type": "display_data",
          "data": {
            "text/plain": [
              "<Figure size 576x360 with 1 Axes>"
            ],
            "image/png": "[encoded data removed]"
          },
          "metadata": {
            "needs_background": "light"
          }
        }
      ]
    },
    {
      "cell_type": "code",
      "source": [
        "plot_results(results,'param_max_depth')"
      ],
      "metadata": {
        "colab": {
          "base_uri": "https://localhost:8080/",
          "height": 335
        },
        "id": "bub1G840fxCd",
        "outputId": "88a81a34-1cb9-411c-e545-1128162dbcf1"
      },
      "execution_count": 122,
      "outputs": [
        {
          "output_type": "display_data",
          "data": {
            "text/plain": [
              "<Figure size 576x360 with 1 Axes>"
            ],
            "image/png": "[encoded data removed]"
          },
          "metadata": {
            "needs_background": "light"
          }
        }
      ]
    },
    {
      "cell_type": "code",
      "source": [
        "plot_results(results,'param_min_samples_split')"
      ],
      "metadata": {
        "colab": {
          "base_uri": "https://localhost:8080/",
          "height": 335
        },
        "id": "pmpXBIbLfxEz",
        "outputId": "2ea64329-f4a8-44a1-b6dd-fd7a7cab73f5"
      },
      "execution_count": 123,
      "outputs": [
        {
          "output_type": "display_data",
          "data": {
            "text/plain": [
              "<Figure size 576x360 with 1 Axes>"
            ],
            "image/png": "[encoded data removed]"
          },
          "metadata": {
            "needs_background": "light"
          }
        }
      ]
    },
    {
      "cell_type": "markdown",
      "source": [
        "From the above plot, it is evident that, \n",
        "\n",
        "1. n_estimators seems good between 60 and 100\n",
        "2. max_depth seems good between 2 and 3\n",
        "3. min_sample_splis does not have an impact in the model"
      ],
      "metadata": {
        "id": "mybWIp9QiKW1"
      }
    },
    {
      "cell_type": "markdown",
      "source": [
        "### Fine Tuning using Grid Search CV"
      ],
      "metadata": {
        "id": "S5r2hdshccnG"
      }
    },
    {
      "cell_type": "code",
      "source": [
        "params = {'n_estimators':[60,80,100,120],\n",
        "          'max_depth' : [2,3],\n",
        "          'loss' : ['deviance','exponential']}"
      ],
      "metadata": {
        "id": "ZdhfXHmEcM-B"
      },
      "execution_count": 105,
      "outputs": []
    },
    {
      "cell_type": "code",
      "source": [
        "gbc = GradientBoostingClassifier(random_state = 100)"
      ],
      "metadata": {
        "id": "obbJwFz_j-3v"
      },
      "execution_count": 106,
      "outputs": []
    },
    {
      "cell_type": "code",
      "source": [
        "search_fine = GridSearchCV(estimator = gbc,\n",
        "                      param_grid = params,\n",
        "                      scoring = 'roc_auc',\n",
        "                      cv = 5,\n",
        "                      verbose = 1,\n",
        "                      n_jobs = -1,\n",
        "                      return_train_score = True)"
      ],
      "metadata": {
        "id": "CwvAUq1jjZdY"
      },
      "execution_count": 107,
      "outputs": []
    },
    {
      "cell_type": "code",
      "source": [
        "search_fine.fit(X_train,y_train)\n",
        "%time"
      ],
      "metadata": {
        "colab": {
          "base_uri": "https://localhost:8080/"
        },
        "id": "zIoui7qujitO",
        "outputId": "cc83b469-4c0e-4cf3-b60a-4654261175e7"
      },
      "execution_count": 109,
      "outputs": [
        {
          "output_type": "stream",
          "name": "stdout",
          "text": [
            "Fitting 5 folds for each of 16 candidates, totalling 80 fits\n",
            "CPU times: user 2 µs, sys: 0 ns, total: 2 µs\n",
            "Wall time: 4.05 µs\n"
          ]
        }
      ]
    },
    {
      "cell_type": "code",
      "source": [
        "search_fine.best_params_"
      ],
      "metadata": {
        "colab": {
          "base_uri": "https://localhost:8080/"
        },
        "id": "yemKc4zfjqmh",
        "outputId": "dc89063a-8b52-4d76-97f5-1ff39688f0f5"
      },
      "execution_count": 110,
      "outputs": [
        {
          "output_type": "execute_result",
          "data": {
            "text/plain": [
              "{'loss': 'deviance', 'max_depth': 2, 'n_estimators': 120}"
            ]
          },
          "metadata": {},
          "execution_count": 110
        }
      ]
    },
    {
      "cell_type": "code",
      "source": [
        "best_estimator_fine = search_fine.best_estimator_"
      ],
      "metadata": {
        "id": "O5AomnXKkf_b"
      },
      "execution_count": 111,
      "outputs": []
    },
    {
      "cell_type": "code",
      "source": [
        "pred_train = best_estimator_fine.predict_proba(X_train)[:,1]\n",
        "pred_test = best_estimator_fine.predict_proba(X_test)[:,1]"
      ],
      "metadata": {
        "id": "EBRgIuBWktD_"
      },
      "execution_count": 112,
      "outputs": []
    },
    {
      "cell_type": "code",
      "source": [
        "print('train roc_auc score : ',roc_auc_score(y_train,pred_train))\n",
        "print('test roc_auc score : ',roc_auc_score(y_test,pred_test))"
      ],
      "metadata": {
        "colab": {
          "base_uri": "https://localhost:8080/"
        },
        "id": "n5MSYvZmknzg",
        "outputId": "61222fc2-48b3-4e30-f410-cfd81673bd42"
      },
      "execution_count": 113,
      "outputs": [
        {
          "output_type": "stream",
          "name": "stdout",
          "text": [
            "train roc_auc score :  1.0\n",
            "test roc_auc score :  0.9931798806479114\n"
          ]
        }
      ]
    },
    {
      "cell_type": "code",
      "source": [
        "sel_cols = ['rank_test_score','param_n_estimators','param_loss','param_max_depth','mean_test_score','std_test_score']"
      ],
      "metadata": {
        "id": "N8-XWjvRlAEf"
      },
      "execution_count": 115,
      "outputs": []
    },
    {
      "cell_type": "code",
      "source": [
        "results_fine = pd.DataFrame(search_fine.cv_results_).sort_values('rank_test_score')[sel_cols].set_index('rank_test_score')"
      ],
      "metadata": {
        "id": "-c1qhHzskzJJ"
      },
      "execution_count": 116,
      "outputs": []
    },
    {
      "cell_type": "code",
      "source": [
        "results_fine.head(10)"
      ],
      "metadata": {
        "colab": {
          "base_uri": "https://localhost:8080/",
          "height": 394
        },
        "id": "R2-pHw5zk-Hz",
        "outputId": "145269ca-ceb3-49ee-9e30-a5318c2cdffa"
      },
      "execution_count": 118,
      "outputs": [
        {
          "output_type": "execute_result",
          "data": {
            "text/plain": [
              "                param_n_estimators   param_loss param_max_depth  \\\n",
              "rank_test_score                                                   \n",
              "1                              120     deviance               2   \n",
              "2                              100     deviance               2   \n",
              "3                               80     deviance               2   \n",
              "4                              120  exponential               2   \n",
              "5                              100  exponential               2   \n",
              "6                              120     deviance               3   \n",
              "7                               80  exponential               2   \n",
              "8                               60     deviance               2   \n",
              "9                               60  exponential               2   \n",
              "10                              60  exponential               3   \n",
              "\n",
              "                 mean_test_score  std_test_score  \n",
              "rank_test_score                                   \n",
              "1                       0.990244        0.004007  \n",
              "2                       0.990104        0.003633  \n",
              "3                       0.989810        0.004463  \n",
              "4                       0.989694        0.004542  \n",
              "5                       0.989539        0.004888  \n",
              "6                       0.989534        0.005425  \n",
              "7                       0.989119        0.004944  \n",
              "8                       0.988629        0.005795  \n",
              "9                       0.988194        0.006947  \n",
              "10                      0.987243        0.007279  "
            ],
            "text/html": [
              "\n",
              "  <div id=\"df-ff043482-db2e-4223-a5ce-324a362a0b6a\">\n",
              "    <div class=\"colab-df-container\">\n",
              "      <div>\n",
              "<style scoped>\n",
              "    .dataframe tbody tr th:only-of-type {\n",
              "        vertical-align: middle;\n",
              "    }\n",
              "\n",
              "    .dataframe tbody tr th {\n",
              "        vertical-align: top;\n",
              "    }\n",
              "\n",
              "    .dataframe thead th {\n",
              "        text-align: right;\n",
              "    }\n",
              "</style>\n",
              "<table border=\"1\" class=\"dataframe\">\n",
              "  <thead>\n",
              "    <tr style=\"text-align: right;\">\n",
              "      <th></th>\n",
              "      <th>param_n_estimators</th>\n",
              "      <th>param_loss</th>\n",
              "      <th>param_max_depth</th>\n",
              "      <th>mean_test_score</th>\n",
              "      <th>std_test_score</th>\n",
              "    </tr>\n",
              "    <tr>\n",
              "      <th>rank_test_score</th>\n",
              "      <th></th>\n",
              "      <th></th>\n",
              "      <th></th>\n",
              "      <th></th>\n",
              "      <th></th>\n",
              "    </tr>\n",
              "  </thead>\n",
              "  <tbody>\n",
              "    <tr>\n",
              "      <th>1</th>\n",
              "      <td>120</td>\n",
              "      <td>deviance</td>\n",
              "      <td>2</td>\n",
              "      <td>0.990244</td>\n",
              "      <td>0.004007</td>\n",
              "    </tr>\n",
              "    <tr>\n",
              "      <th>2</th>\n",
              "      <td>100</td>\n",
              "      <td>deviance</td>\n",
              "      <td>2</td>\n",
              "      <td>0.990104</td>\n",
              "      <td>0.003633</td>\n",
              "    </tr>\n",
              "    <tr>\n",
              "      <th>3</th>\n",
              "      <td>80</td>\n",
              "      <td>deviance</td>\n",
              "      <td>2</td>\n",
              "      <td>0.989810</td>\n",
              "      <td>0.004463</td>\n",
              "    </tr>\n",
              "    <tr>\n",
              "      <th>4</th>\n",
              "      <td>120</td>\n",
              "      <td>exponential</td>\n",
              "      <td>2</td>\n",
              "      <td>0.989694</td>\n",
              "      <td>0.004542</td>\n",
              "    </tr>\n",
              "    <tr>\n",
              "      <th>5</th>\n",
              "      <td>100</td>\n",
              "      <td>exponential</td>\n",
              "      <td>2</td>\n",
              "      <td>0.989539</td>\n",
              "      <td>0.004888</td>\n",
              "    </tr>\n",
              "    <tr>\n",
              "      <th>6</th>\n",
              "      <td>120</td>\n",
              "      <td>deviance</td>\n",
              "      <td>3</td>\n",
              "      <td>0.989534</td>\n",
              "      <td>0.005425</td>\n",
              "    </tr>\n",
              "    <tr>\n",
              "      <th>7</th>\n",
              "      <td>80</td>\n",
              "      <td>exponential</td>\n",
              "      <td>2</td>\n",
              "      <td>0.989119</td>\n",
              "      <td>0.004944</td>\n",
              "    </tr>\n",
              "    <tr>\n",
              "      <th>8</th>\n",
              "      <td>60</td>\n",
              "      <td>deviance</td>\n",
              "      <td>2</td>\n",
              "      <td>0.988629</td>\n",
              "      <td>0.005795</td>\n",
              "    </tr>\n",
              "    <tr>\n",
              "      <th>9</th>\n",
              "      <td>60</td>\n",
              "      <td>exponential</td>\n",
              "      <td>2</td>\n",
              "      <td>0.988194</td>\n",
              "      <td>0.006947</td>\n",
              "    </tr>\n",
              "    <tr>\n",
              "      <th>10</th>\n",
              "      <td>60</td>\n",
              "      <td>exponential</td>\n",
              "      <td>3</td>\n",
              "      <td>0.987243</td>\n",
              "      <td>0.007279</td>\n",
              "    </tr>\n",
              "  </tbody>\n",
              "</table>\n",
              "</div>\n",
              "      <button class=\"colab-df-convert\" onclick=\"convertToInteractive('df-ff043482-db2e-4223-a5ce-324a362a0b6a')\"\n",
              "              title=\"Convert this dataframe to an interactive table.\"\n",
              "              style=\"display:none;\">\n",
              "        \n",
              "  <svg xmlns=\"http://www.w3.org/2000/svg\" height=\"24px\"viewBox=\"0 0 24 24\"\n",
              "       width=\"24px\">\n",
              "    <path d=\"M0 0h24v24H0V0z\" fill=\"none\"/>\n",
              "    <path d=\"M18.56 5.44l.94 2.06.94-2.06 2.06-.94-2.06-.94-.94-2.06-.94 2.06-2.06.94zm-11 1L8.5 8.5l.94-2.06 2.06-.94-2.06-.94L8.5 2.5l-.94 2.06-2.06.94zm10 10l.94 2.06.94-2.06 2.06-.94-2.06-.94-.94-2.06-.94 2.06-2.06.94z\"/><path d=\"M17.41 7.96l-1.37-1.37c-.4-.4-.92-.59-1.43-.59-.52 0-1.04.2-1.43.59L10.3 9.45l-7.72 7.72c-.78.78-.78 2.05 0 2.83L4 21.41c.39.39.9.59 1.41.59.51 0 1.02-.2 1.41-.59l7.78-7.78 2.81-2.81c.8-.78.8-2.07 0-2.86zM5.41 20L4 18.59l7.72-7.72 1.47 1.35L5.41 20z\"/>\n",
              "  </svg>\n",
              "      </button>\n",
              "      \n",
              "  <style>\n",
              "    .colab-df-container {\n",
              "      display:flex;\n",
              "      flex-wrap:wrap;\n",
              "      gap: 12px;\n",
              "    }\n",
              "\n",
              "    .colab-df-convert {\n",
              "      background-color: #E8F0FE;\n",
              "      border: none;\n",
              "      border-radius: 50%;\n",
              "      cursor: pointer;\n",
              "      display: none;\n",
              "      fill: #1967D2;\n",
              "      height: 32px;\n",
              "      padding: 0 0 0 0;\n",
              "      width: 32px;\n",
              "    }\n",
              "\n",
              "    .colab-df-convert:hover {\n",
              "      background-color: #E2EBFA;\n",
              "      box-shadow: 0px 1px 2px rgba(60, 64, 67, 0.3), 0px 1px 3px 1px rgba(60, 64, 67, 0.15);\n",
              "      fill: #174EA6;\n",
              "    }\n",
              "\n",
              "    [theme=dark] .colab-df-convert {\n",
              "      background-color: #3B4455;\n",
              "      fill: #D2E3FC;\n",
              "    }\n",
              "\n",
              "    [theme=dark] .colab-df-convert:hover {\n",
              "      background-color: #434B5C;\n",
              "      box-shadow: 0px 1px 3px 1px rgba(0, 0, 0, 0.15);\n",
              "      filter: drop-shadow(0px 1px 2px rgba(0, 0, 0, 0.3));\n",
              "      fill: #FFFFFF;\n",
              "    }\n",
              "  </style>\n",
              "\n",
              "      <script>\n",
              "        const buttonEl =\n",
              "          document.querySelector('#df-ff043482-db2e-4223-a5ce-324a362a0b6a button.colab-df-convert');\n",
              "        buttonEl.style.display =\n",
              "          google.colab.kernel.accessAllowed ? 'block' : 'none';\n",
              "\n",
              "        async function convertToInteractive(key) {\n",
              "          const element = document.querySelector('#df-ff043482-db2e-4223-a5ce-324a362a0b6a');\n",
              "          const dataTable =\n",
              "            await google.colab.kernel.invokeFunction('convertToInteractive',\n",
              "                                                     [key], {});\n",
              "          if (!dataTable) return;\n",
              "\n",
              "          const docLinkHtml = 'Like what you see? Visit the ' +\n",
              "            '<a target=\"_blank\" href=https://colab.research.google.com/notebooks/data_table.ipynb>data table notebook</a>'\n",
              "            + ' to learn more about interactive tables.';\n",
              "          element.innerHTML = '';\n",
              "          dataTable['output_type'] = 'display_data';\n",
              "          await google.colab.output.renderOutput(dataTable, element);\n",
              "          const docLink = document.createElement('div');\n",
              "          docLink.innerHTML = docLinkHtml;\n",
              "          element.appendChild(docLink);\n",
              "        }\n",
              "      </script>\n",
              "    </div>\n",
              "  </div>\n",
              "  "
            ]
          },
          "metadata": {},
          "execution_count": 118
        }
      ]
    },
    {
      "cell_type": "code",
      "source": [
        "plot_results(results_fine,'param_n_estimators')"
      ],
      "metadata": {
        "colab": {
          "base_uri": "https://localhost:8080/",
          "height": 335
        },
        "id": "tLF1ocl2lK06",
        "outputId": "431b325d-f3c4-460b-e60c-1c24cb926057"
      },
      "execution_count": 124,
      "outputs": [
        {
          "output_type": "display_data",
          "data": {
            "text/plain": [
              "<Figure size 576x360 with 1 Axes>"
            ],
            "image/png": "[encoded data removed]"
          },
          "metadata": {
            "needs_background": "light"
          }
        }
      ]
    },
    {
      "cell_type": "code",
      "source": [
        "plot_results(results_fine,'param_max_depth')"
      ],
      "metadata": {
        "colab": {
          "base_uri": "https://localhost:8080/",
          "height": 335
        },
        "id": "Dr68uqrwlu1H",
        "outputId": "72ff5c55-468b-4fa4-f46c-26fd37356bc4"
      },
      "execution_count": 126,
      "outputs": [
        {
          "output_type": "display_data",
          "data": {
            "text/plain": [
              "<Figure size 576x360 with 1 Axes>"
            ],
            "image/png": "[encoded data removed]"
          },
          "metadata": {
            "needs_background": "light"
          }
        }
      ]
    },
    {
      "cell_type": "code",
      "source": [
        "plot_results(results_fine,'param_loss')"
      ],
      "metadata": {
        "colab": {
          "base_uri": "https://localhost:8080/",
          "height": 335
        },
        "id": "nUNcTS1MlUlq",
        "outputId": "1d1433dc-5486-455d-c8bc-d1a18cb117eb"
      },
      "execution_count": 125,
      "outputs": [
        {
          "output_type": "display_data",
          "data": {
            "text/plain": [
              "<Figure size 576x360 with 1 Axes>"
            ],
            "image/png": "[encoded data removed]"
          },
          "metadata": {
            "needs_background": "light"
          }
        }
      ]
    },
    {
      "cell_type": "code",
      "source": [
        "search_fine.best_params_"
      ],
      "metadata": {
        "colab": {
          "base_uri": "https://localhost:8080/"
        },
        "id": "VeWqszc6lsXz",
        "outputId": "3a9640fd-1075-45bb-f3cb-ab23461c492f"
      },
      "execution_count": 127,
      "outputs": [
        {
          "output_type": "execute_result",
          "data": {
            "text/plain": [
              "{'loss': 'deviance', 'max_depth': 2, 'n_estimators': 120}"
            ]
          },
          "metadata": {},
          "execution_count": 127
        }
      ]
    }
  ]
}