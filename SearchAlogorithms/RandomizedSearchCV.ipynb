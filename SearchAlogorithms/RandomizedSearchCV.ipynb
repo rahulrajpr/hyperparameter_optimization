{
  "nbformat": 4,
  "nbformat_minor": 0,
  "metadata": {
    "colab": {
      "provenance": [],
      "authorship_tag": "ABX9TyN4Y2BC3BssUMXx7tf97Tu2",
      "include_colab_link": true
    },
    "kernelspec": {
      "name": "python3",
      "display_name": "Python 3"
    },
    "language_info": {
      "name": "python"
    }
  },
  "cells": [
    {
      "cell_type": "markdown",
      "metadata": {
        "id": "view-in-github",
        "colab_type": "text"
      },
      "source": [
        "<a href=\"https://colab.research.google.com/github/rahulrajpr/AdvancedHyperParameterOptimisation/blob/SearchAlgorithms/RandomisedSearchCV.ipynb\" target=\"_parent\"><img src=\"https://colab.research.google.com/assets/colab-badge.svg\" alt=\"Open In Colab\"/></a>"
      ]
    },
    {
      "cell_type": "code",
      "execution_count": 43,
      "metadata": {
        "id": "NFF_b8WMYV4o"
      },
      "outputs": [],
      "source": [
        "import pandas as pd\n",
        "import numpy as np\n",
        "import matplotlib.pyplot as plt\n",
        "import seaborn as sns"
      ]
    },
    {
      "cell_type": "code",
      "source": [
        "from sklearn.datasets import load_breast_cancer"
      ],
      "metadata": {
        "id": "BZAn7RbqYnDk"
      },
      "execution_count": 44,
      "outputs": []
    },
    {
      "cell_type": "code",
      "source": [
        "dataset = load_breast_cancer()\n",
        "data = dataset.data\n",
        "target = dataset.target\n",
        "columns = dataset.feature_names"
      ],
      "metadata": {
        "id": "TpxFknwcYzsn"
      },
      "execution_count": 45,
      "outputs": []
    },
    {
      "cell_type": "code",
      "source": [
        "df = pd.DataFrame(data = data, columns = columns)\n",
        "df['target'] = target"
      ],
      "metadata": {
        "id": "Y9CjmepuZGcX"
      },
      "execution_count": 46,
      "outputs": []
    },
    {
      "cell_type": "code",
      "source": [
        "df.info()"
      ],
      "metadata": {
        "colab": {
          "base_uri": "https://localhost:8080/"
        },
        "id": "2H6Zw02oZQi0",
        "outputId": "59bcf12e-98e8-462d-b167-f195b7a75a75"
      },
      "execution_count": 47,
      "outputs": [
        {
          "output_type": "stream",
          "name": "stdout",
          "text": [
            "<class 'pandas.core.frame.DataFrame'>\n",
            "RangeIndex: 569 entries, 0 to 568\n",
            "Data columns (total 31 columns):\n",
            " #   Column                   Non-Null Count  Dtype  \n",
            "---  ------                   --------------  -----  \n",
            " 0   mean radius              569 non-null    float64\n",
            " 1   mean texture             569 non-null    float64\n",
            " 2   mean perimeter           569 non-null    float64\n",
            " 3   mean area                569 non-null    float64\n",
            " 4   mean smoothness          569 non-null    float64\n",
            " 5   mean compactness         569 non-null    float64\n",
            " 6   mean concavity           569 non-null    float64\n",
            " 7   mean concave points      569 non-null    float64\n",
            " 8   mean symmetry            569 non-null    float64\n",
            " 9   mean fractal dimension   569 non-null    float64\n",
            " 10  radius error             569 non-null    float64\n",
            " 11  texture error            569 non-null    float64\n",
            " 12  perimeter error          569 non-null    float64\n",
            " 13  area error               569 non-null    float64\n",
            " 14  smoothness error         569 non-null    float64\n",
            " 15  compactness error        569 non-null    float64\n",
            " 16  concavity error          569 non-null    float64\n",
            " 17  concave points error     569 non-null    float64\n",
            " 18  symmetry error           569 non-null    float64\n",
            " 19  fractal dimension error  569 non-null    float64\n",
            " 20  worst radius             569 non-null    float64\n",
            " 21  worst texture            569 non-null    float64\n",
            " 22  worst perimeter          569 non-null    float64\n",
            " 23  worst area               569 non-null    float64\n",
            " 24  worst smoothness         569 non-null    float64\n",
            " 25  worst compactness        569 non-null    float64\n",
            " 26  worst concavity          569 non-null    float64\n",
            " 27  worst concave points     569 non-null    float64\n",
            " 28  worst symmetry           569 non-null    float64\n",
            " 29  worst fractal dimension  569 non-null    float64\n",
            " 30  target                   569 non-null    int64  \n",
            "dtypes: float64(30), int64(1)\n",
            "memory usage: 137.9 KB\n"
          ]
        }
      ]
    },
    {
      "cell_type": "code",
      "source": [
        "X = df.drop('target', axis =1)\n",
        "y = df['target']"
      ],
      "metadata": {
        "id": "U5_gz7oXZR81"
      },
      "execution_count": 48,
      "outputs": []
    },
    {
      "cell_type": "code",
      "source": [
        "from sklearn.model_selection import train_test_split"
      ],
      "metadata": {
        "id": "Og8gY01oZeJx"
      },
      "execution_count": 49,
      "outputs": []
    },
    {
      "cell_type": "code",
      "source": [
        "X_train,X_test,y_train,y_test = train_test_split(X,y,train_size = 0.7, random_state = 100, stratify = y)"
      ],
      "metadata": {
        "id": "B-fRBBw1ZlCe"
      },
      "execution_count": 50,
      "outputs": []
    },
    {
      "cell_type": "code",
      "source": [
        "from sklearn.ensemble import GradientBoostingClassifier"
      ],
      "metadata": {
        "id": "3Keq3H9eZz5H"
      },
      "execution_count": 51,
      "outputs": []
    },
    {
      "cell_type": "markdown",
      "source": [
        "creating the model object form gradient boosting classifier"
      ],
      "metadata": {
        "id": "1rHDHDQLcP1E"
      }
    },
    {
      "cell_type": "code",
      "source": [
        "gbc = GradientBoostingClassifier(random_state = 100)"
      ],
      "metadata": {
        "id": "NHVFYkEvZ8ne"
      },
      "execution_count": 52,
      "outputs": []
    },
    {
      "cell_type": "markdown",
      "source": [
        "Introducing scipy for generating distribitons"
      ],
      "metadata": {
        "id": "GcLCfVODcCMb"
      }
    },
    {
      "cell_type": "code",
      "source": [
        "from scipy import stats"
      ],
      "metadata": {
        "id": "ULUe-KkTaJ7f"
      },
      "execution_count": 53,
      "outputs": []
    },
    {
      "cell_type": "code",
      "source": [
        "for i in range(10):\n",
        "  print(stats.randint(10,120).rvs()) # return random integers within the given range"
      ],
      "metadata": {
        "colab": {
          "base_uri": "https://localhost:8080/"
        },
        "id": "Ut79Mmd_aE0E",
        "outputId": "3273c7f1-acd1-4843-f854-a40e6eb2136f"
      },
      "execution_count": 54,
      "outputs": [
        {
          "output_type": "stream",
          "name": "stdout",
          "text": [
            "114\n",
            "10\n",
            "43\n",
            "109\n",
            "15\n",
            "25\n",
            "110\n",
            "96\n",
            "10\n",
            "32\n"
          ]
        }
      ]
    },
    {
      "cell_type": "code",
      "source": [
        "# retuns the distribition object of values\n",
        "stats.randint(10,120)"
      ],
      "metadata": {
        "colab": {
          "base_uri": "https://localhost:8080/"
        },
        "id": "e-QrJpKAaHLQ",
        "outputId": "4ec40ae0-0730-41e2-e302-e3028ac939e5"
      },
      "execution_count": 55,
      "outputs": [
        {
          "output_type": "execute_result",
          "data": {
            "text/plain": [
              "<scipy.stats._distn_infrastructure.rv_frozen at 0x7efddbd07ac0>"
            ]
          },
          "metadata": {},
          "execution_count": 55
        }
      ]
    },
    {
      "cell_type": "code",
      "source": [
        "for i in range(10):\n",
        "  print(stats.uniform(0,1).rvs()) # return random floats within the given range"
      ],
      "metadata": {
        "colab": {
          "base_uri": "https://localhost:8080/"
        },
        "id": "Rt6Qd5pVaHIu",
        "outputId": "c0e7cdc0-96f5-4b7d-d24d-6b88b533679f"
      },
      "execution_count": 56,
      "outputs": [
        {
          "output_type": "stream",
          "name": "stdout",
          "text": [
            "0.8101432618334691\n",
            "0.26103948112081365\n",
            "0.2325491951839852\n",
            "0.6838567819963124\n",
            "0.21803443072858708\n",
            "0.9698195422624776\n",
            "0.6186036500783063\n",
            "0.9747400145515474\n",
            "0.820953316810915\n",
            "0.6085939305771998\n"
          ]
        }
      ]
    },
    {
      "cell_type": "code",
      "source": [
        "# retuns the distribition object of values within the given range\n",
        "stats.uniform(0,1)"
      ],
      "metadata": {
        "colab": {
          "base_uri": "https://localhost:8080/"
        },
        "id": "gupzy4lyaHGp",
        "outputId": "abc78d08-363c-4da6-e0c0-e16e936c9767"
      },
      "execution_count": 57,
      "outputs": [
        {
          "output_type": "execute_result",
          "data": {
            "text/plain": [
              "<scipy.stats._distn_infrastructure.rv_frozen at 0x7efddd2f4250>"
            ]
          },
          "metadata": {},
          "execution_count": 57
        }
      ]
    },
    {
      "cell_type": "markdown",
      "source": [
        "creating the hyperparametes Space"
      ],
      "metadata": {
        "id": "LhEuhFkmcKIV"
      }
    },
    {
      "cell_type": "code",
      "source": [
        "params_dist = { 'n_estimators' : stats.randint(10,120),\n",
        "          'min_samples_split' : stats.uniform(0,1),\n",
        "          'max_depth' : stats.randint(1,5),\n",
        "          'loss':['exponential','deviance']}"
      ],
      "metadata": {
        "id": "7dsifPMFaHEi"
      },
      "execution_count": 58,
      "outputs": []
    },
    {
      "cell_type": "markdown",
      "source": [
        "creating the randomised cv object"
      ],
      "metadata": {
        "id": "5Tpl6F1jc6QW"
      }
    },
    {
      "cell_type": "code",
      "source": [
        "from sklearn.model_selection import RandomizedSearchCV"
      ],
      "metadata": {
        "id": "jK9nYUKBc4bd"
      },
      "execution_count": 59,
      "outputs": []
    },
    {
      "cell_type": "code",
      "source": [
        "search = RandomizedSearchCV(estimator = gbc,\n",
        "                            param_distributions= params_dist,\n",
        "                            scoring = 'roc_auc',\n",
        "                            n_iter = 60, # according to studies, 60 is the best iterations for random searches\n",
        "                            cv = 5,\n",
        "                            verbose = 1,\n",
        "                            n_jobs = -1,)"
      ],
      "metadata": {
        "id": "qLw8we_jdEGU"
      },
      "execution_count": 60,
      "outputs": []
    },
    {
      "cell_type": "code",
      "source": [
        "search.fit(X_train,y_train)\n",
        "%time"
      ],
      "metadata": {
        "colab": {
          "base_uri": "https://localhost:8080/"
        },
        "id": "ORCnBl0vd0W6",
        "outputId": "2a374c26-6cd3-43cd-f381-2dc277fad731"
      },
      "execution_count": 61,
      "outputs": [
        {
          "output_type": "stream",
          "name": "stdout",
          "text": [
            "Fitting 5 folds for each of 60 candidates, totalling 300 fits\n",
            "CPU times: user 3 µs, sys: 0 ns, total: 3 µs\n",
            "Wall time: 6.2 µs\n"
          ]
        }
      ]
    },
    {
      "cell_type": "markdown",
      "source": [
        "Extract the bets model and the parameters"
      ],
      "metadata": {
        "id": "hIYnsqIWfIeO"
      }
    },
    {
      "cell_type": "code",
      "source": [
        "search.best_params_"
      ],
      "metadata": {
        "colab": {
          "base_uri": "https://localhost:8080/"
        },
        "id": "3GJM4o_EfG5j",
        "outputId": "89bff47f-956a-4aca-9aa1-770e6ef933e0"
      },
      "execution_count": 65,
      "outputs": [
        {
          "output_type": "execute_result",
          "data": {
            "text/plain": [
              "{'loss': 'exponential',\n",
              " 'max_depth': 3,\n",
              " 'min_samples_split': 0.6970128297599016,\n",
              " 'n_estimators': 112}"
            ]
          },
          "metadata": {},
          "execution_count": 65
        }
      ]
    },
    {
      "cell_type": "code",
      "source": [
        "best_estimator = search.best_estimator_"
      ],
      "metadata": {
        "id": "1IP70fOweQP1"
      },
      "execution_count": 66,
      "outputs": []
    },
    {
      "cell_type": "markdown",
      "source": [
        "Evaluating the Model"
      ],
      "metadata": {
        "id": "OF952AKcedZt"
      }
    },
    {
      "cell_type": "code",
      "source": [
        "from sklearn.metrics import roc_auc_score"
      ],
      "metadata": {
        "id": "PX0dwpZMeRV-"
      },
      "execution_count": 62,
      "outputs": []
    },
    {
      "cell_type": "code",
      "source": [
        "print('roc auc in train set : ',roc_auc_score(y_train, best_estimator.predict(X_train)))\n",
        "print('roc auc in test set : ',roc_auc_score(y_test, best_estimator.predict(X_test)))"
      ],
      "metadata": {
        "colab": {
          "base_uri": "https://localhost:8080/"
        },
        "id": "xhYS5Rv7ectA",
        "outputId": "1ff58b4d-d326-48b5-c664-7b97ba3bcbe2"
      },
      "execution_count": 67,
      "outputs": [
        {
          "output_type": "stream",
          "name": "stdout",
          "text": [
            "roc auc in train set :  0.9966216216216216\n",
            "roc auc in test set :  0.9594042056074766\n"
          ]
        }
      ]
    },
    {
      "cell_type": "markdown",
      "source": [
        "Lets explore the best models returned by the randomised search cv"
      ],
      "metadata": {
        "id": "AdzlBJJXfm1t"
      }
    },
    {
      "cell_type": "code",
      "source": [
        "res = pd.DataFrame(search.cv_results_)"
      ],
      "metadata": {
        "id": "T9je7wcefiu6"
      },
      "execution_count": 71,
      "outputs": []
    },
    {
      "cell_type": "code",
      "source": [
        "sel_cols = ['rank_test_score','mean_test_score','std_test_score', 'param_loss','param_n_estimators','param_min_samples_split','param_max_depth']"
      ],
      "metadata": {
        "id": "gxNy42LngLm_"
      },
      "execution_count": 78,
      "outputs": []
    },
    {
      "cell_type": "code",
      "source": [
        "res = res.sort_values(by = 'mean_test_score', ascending = False)[sel_cols].set_index('rank_test_score')"
      ],
      "metadata": {
        "id": "kAwhGAG-gFXI"
      },
      "execution_count": 80,
      "outputs": []
    },
    {
      "cell_type": "code",
      "source": [
        "res.head(10)"
      ],
      "metadata": {
        "colab": {
          "base_uri": "https://localhost:8080/",
          "height": 394
        },
        "id": "qmedxsN4hKmY",
        "outputId": "ab460a98-d665-4a0c-860d-a3d17fe76525"
      },
      "execution_count": 83,
      "outputs": [
        {
          "output_type": "execute_result",
          "data": {
            "text/plain": [
              "                 mean_test_score  std_test_score   param_loss  \\\n",
              "rank_test_score                                                 \n",
              "1                       0.987090        0.008871  exponential   \n",
              "2                       0.986485        0.009718  exponential   \n",
              "3                       0.986182        0.008877     deviance   \n",
              "4                       0.986147        0.009558  exponential   \n",
              "5                       0.985894        0.011847     deviance   \n",
              "5                       0.985894        0.012408  exponential   \n",
              "7                       0.985779        0.011924  exponential   \n",
              "8                       0.985770        0.008262  exponential   \n",
              "9                       0.985756        0.012037  exponential   \n",
              "10                      0.985747        0.012970     deviance   \n",
              "\n",
              "                param_n_estimators param_min_samples_split param_max_depth  \n",
              "rank_test_score                                                             \n",
              "1                              112                0.697013               3  \n",
              "2                              100                0.637062               3  \n",
              "3                               42                0.020075               3  \n",
              "4                               62                0.510598               4  \n",
              "5                              102                0.470415               3  \n",
              "5                               84                0.066351               2  \n",
              "7                               72                0.471985               4  \n",
              "8                               64                0.712625               4  \n",
              "9                              109                0.357618               3  \n",
              "10                              62                0.376082               4  "
            ],
            "text/html": [
              "\n",
              "  <div id=\"df-0a1c4b1a-97da-4110-afc9-ca00f9bd7b00\">\n",
              "    <div class=\"colab-df-container\">\n",
              "      <div>\n",
              "<style scoped>\n",
              "    .dataframe tbody tr th:only-of-type {\n",
              "        vertical-align: middle;\n",
              "    }\n",
              "\n",
              "    .dataframe tbody tr th {\n",
              "        vertical-align: top;\n",
              "    }\n",
              "\n",
              "    .dataframe thead th {\n",
              "        text-align: right;\n",
              "    }\n",
              "</style>\n",
              "<table border=\"1\" class=\"dataframe\">\n",
              "  <thead>\n",
              "    <tr style=\"text-align: right;\">\n",
              "      <th></th>\n",
              "      <th>mean_test_score</th>\n",
              "      <th>std_test_score</th>\n",
              "      <th>param_loss</th>\n",
              "      <th>param_n_estimators</th>\n",
              "      <th>param_min_samples_split</th>\n",
              "      <th>param_max_depth</th>\n",
              "    </tr>\n",
              "    <tr>\n",
              "      <th>rank_test_score</th>\n",
              "      <th></th>\n",
              "      <th></th>\n",
              "      <th></th>\n",
              "      <th></th>\n",
              "      <th></th>\n",
              "      <th></th>\n",
              "    </tr>\n",
              "  </thead>\n",
              "  <tbody>\n",
              "    <tr>\n",
              "      <th>1</th>\n",
              "      <td>0.987090</td>\n",
              "      <td>0.008871</td>\n",
              "      <td>exponential</td>\n",
              "      <td>112</td>\n",
              "      <td>0.697013</td>\n",
              "      <td>3</td>\n",
              "    </tr>\n",
              "    <tr>\n",
              "      <th>2</th>\n",
              "      <td>0.986485</td>\n",
              "      <td>0.009718</td>\n",
              "      <td>exponential</td>\n",
              "      <td>100</td>\n",
              "      <td>0.637062</td>\n",
              "      <td>3</td>\n",
              "    </tr>\n",
              "    <tr>\n",
              "      <th>3</th>\n",
              "      <td>0.986182</td>\n",
              "      <td>0.008877</td>\n",
              "      <td>deviance</td>\n",
              "      <td>42</td>\n",
              "      <td>0.020075</td>\n",
              "      <td>3</td>\n",
              "    </tr>\n",
              "    <tr>\n",
              "      <th>4</th>\n",
              "      <td>0.986147</td>\n",
              "      <td>0.009558</td>\n",
              "      <td>exponential</td>\n",
              "      <td>62</td>\n",
              "      <td>0.510598</td>\n",
              "      <td>4</td>\n",
              "    </tr>\n",
              "    <tr>\n",
              "      <th>5</th>\n",
              "      <td>0.985894</td>\n",
              "      <td>0.011847</td>\n",
              "      <td>deviance</td>\n",
              "      <td>102</td>\n",
              "      <td>0.470415</td>\n",
              "      <td>3</td>\n",
              "    </tr>\n",
              "    <tr>\n",
              "      <th>5</th>\n",
              "      <td>0.985894</td>\n",
              "      <td>0.012408</td>\n",
              "      <td>exponential</td>\n",
              "      <td>84</td>\n",
              "      <td>0.066351</td>\n",
              "      <td>2</td>\n",
              "    </tr>\n",
              "    <tr>\n",
              "      <th>7</th>\n",
              "      <td>0.985779</td>\n",
              "      <td>0.011924</td>\n",
              "      <td>exponential</td>\n",
              "      <td>72</td>\n",
              "      <td>0.471985</td>\n",
              "      <td>4</td>\n",
              "    </tr>\n",
              "    <tr>\n",
              "      <th>8</th>\n",
              "      <td>0.985770</td>\n",
              "      <td>0.008262</td>\n",
              "      <td>exponential</td>\n",
              "      <td>64</td>\n",
              "      <td>0.712625</td>\n",
              "      <td>4</td>\n",
              "    </tr>\n",
              "    <tr>\n",
              "      <th>9</th>\n",
              "      <td>0.985756</td>\n",
              "      <td>0.012037</td>\n",
              "      <td>exponential</td>\n",
              "      <td>109</td>\n",
              "      <td>0.357618</td>\n",
              "      <td>3</td>\n",
              "    </tr>\n",
              "    <tr>\n",
              "      <th>10</th>\n",
              "      <td>0.985747</td>\n",
              "      <td>0.012970</td>\n",
              "      <td>deviance</td>\n",
              "      <td>62</td>\n",
              "      <td>0.376082</td>\n",
              "      <td>4</td>\n",
              "    </tr>\n",
              "  </tbody>\n",
              "</table>\n",
              "</div>\n",
              "      <button class=\"colab-df-convert\" onclick=\"convertToInteractive('df-0a1c4b1a-97da-4110-afc9-ca00f9bd7b00')\"\n",
              "              title=\"Convert this dataframe to an interactive table.\"\n",
              "              style=\"display:none;\">\n",
              "        \n",
              "  <svg xmlns=\"http://www.w3.org/2000/svg\" height=\"24px\"viewBox=\"0 0 24 24\"\n",
              "       width=\"24px\">\n",
              "    <path d=\"M0 0h24v24H0V0z\" fill=\"none\"/>\n",
              "    <path d=\"M18.56 5.44l.94 2.06.94-2.06 2.06-.94-2.06-.94-.94-2.06-.94 2.06-2.06.94zm-11 1L8.5 8.5l.94-2.06 2.06-.94-2.06-.94L8.5 2.5l-.94 2.06-2.06.94zm10 10l.94 2.06.94-2.06 2.06-.94-2.06-.94-.94-2.06-.94 2.06-2.06.94z\"/><path d=\"M17.41 7.96l-1.37-1.37c-.4-.4-.92-.59-1.43-.59-.52 0-1.04.2-1.43.59L10.3 9.45l-7.72 7.72c-.78.78-.78 2.05 0 2.83L4 21.41c.39.39.9.59 1.41.59.51 0 1.02-.2 1.41-.59l7.78-7.78 2.81-2.81c.8-.78.8-2.07 0-2.86zM5.41 20L4 18.59l7.72-7.72 1.47 1.35L5.41 20z\"/>\n",
              "  </svg>\n",
              "      </button>\n",
              "      \n",
              "  <style>\n",
              "    .colab-df-container {\n",
              "      display:flex;\n",
              "      flex-wrap:wrap;\n",
              "      gap: 12px;\n",
              "    }\n",
              "\n",
              "    .colab-df-convert {\n",
              "      background-color: #E8F0FE;\n",
              "      border: none;\n",
              "      border-radius: 50%;\n",
              "      cursor: pointer;\n",
              "      display: none;\n",
              "      fill: #1967D2;\n",
              "      height: 32px;\n",
              "      padding: 0 0 0 0;\n",
              "      width: 32px;\n",
              "    }\n",
              "\n",
              "    .colab-df-convert:hover {\n",
              "      background-color: #E2EBFA;\n",
              "      box-shadow: 0px 1px 2px rgba(60, 64, 67, 0.3), 0px 1px 3px 1px rgba(60, 64, 67, 0.15);\n",
              "      fill: #174EA6;\n",
              "    }\n",
              "\n",
              "    [theme=dark] .colab-df-convert {\n",
              "      background-color: #3B4455;\n",
              "      fill: #D2E3FC;\n",
              "    }\n",
              "\n",
              "    [theme=dark] .colab-df-convert:hover {\n",
              "      background-color: #434B5C;\n",
              "      box-shadow: 0px 1px 3px 1px rgba(0, 0, 0, 0.15);\n",
              "      filter: drop-shadow(0px 1px 2px rgba(0, 0, 0, 0.3));\n",
              "      fill: #FFFFFF;\n",
              "    }\n",
              "  </style>\n",
              "\n",
              "      <script>\n",
              "        const buttonEl =\n",
              "          document.querySelector('#df-0a1c4b1a-97da-4110-afc9-ca00f9bd7b00 button.colab-df-convert');\n",
              "        buttonEl.style.display =\n",
              "          google.colab.kernel.accessAllowed ? 'block' : 'none';\n",
              "\n",
              "        async function convertToInteractive(key) {\n",
              "          const element = document.querySelector('#df-0a1c4b1a-97da-4110-afc9-ca00f9bd7b00');\n",
              "          const dataTable =\n",
              "            await google.colab.kernel.invokeFunction('convertToInteractive',\n",
              "                                                     [key], {});\n",
              "          if (!dataTable) return;\n",
              "\n",
              "          const docLinkHtml = 'Like what you see? Visit the ' +\n",
              "            '<a target=\"_blank\" href=https://colab.research.google.com/notebooks/data_table.ipynb>data table notebook</a>'\n",
              "            + ' to learn more about interactive tables.';\n",
              "          element.innerHTML = '';\n",
              "          dataTable['output_type'] = 'display_data';\n",
              "          await google.colab.output.renderOutput(dataTable, element);\n",
              "          const docLink = document.createElement('div');\n",
              "          docLink.innerHTML = docLinkHtml;\n",
              "          element.appendChild(docLink);\n",
              "        }\n",
              "      </script>\n",
              "    </div>\n",
              "  </div>\n",
              "  "
            ]
          },
          "metadata": {},
          "execution_count": 83
        }
      ]
    },
    {
      "cell_type": "code",
      "source": [
        "def explore_parameter(parameter):\n",
        "  mean = res.groupby(parameter)['mean_test_score'].mean()\n",
        "  std = res.groupby(parameter)['mean_test_score'].std()\n",
        "  mean.plot(yerr = [std,std])\n",
        "  plt.show()"
      ],
      "metadata": {
        "id": "c5ZJbZh9gBXj"
      },
      "execution_count": 99,
      "outputs": []
    },
    {
      "cell_type": "code",
      "source": [
        "explore_parameter('param_min_samples_split')"
      ],
      "metadata": {
        "colab": {
          "base_uri": "https://localhost:8080/",
          "height": 280
        },
        "id": "NfmQeBwyigbI",
        "outputId": "6c566298-1557-43c6-896b-0dc4690933ff"
      },
      "execution_count": 101,
      "outputs": [
        {
          "output_type": "display_data",
          "data": {
            "text/plain": [
              "<Figure size 432x288 with 1 Axes>"
            ],
            "image/png": "[encoded data removed]"
          },
          "metadata": {
            "needs_background": "light"
          }
        }
      ]
    },
    {
      "cell_type": "code",
      "source": [
        "explore_parameter('param_n_estimators')"
      ],
      "metadata": {
        "colab": {
          "base_uri": "https://localhost:8080/",
          "height": 280
        },
        "id": "u9uDpsBnjGWW",
        "outputId": "76e46fa7-88a6-4098-f933-5badd63dc5fe"
      },
      "execution_count": 102,
      "outputs": [
        {
          "output_type": "display_data",
          "data": {
            "text/plain": [
              "<Figure size 432x288 with 1 Axes>"
            ],
            "image/png": "[encoded data removed]"
          },
          "metadata": {
            "needs_background": "light"
          }
        }
      ]
    },
    {
      "cell_type": "code",
      "source": [
        "explore_parameter('param_max_depth')"
      ],
      "metadata": {
        "colab": {
          "base_uri": "https://localhost:8080/",
          "height": 280
        },
        "id": "Hp0hBZ2tjGUS",
        "outputId": "27036b7a-22d1-4833-b54b-6fcf742cced3"
      },
      "execution_count": 103,
      "outputs": [
        {
          "output_type": "display_data",
          "data": {
            "text/plain": [
              "<Figure size 432x288 with 1 Axes>"
            ],
            "image/png": "[encoded data removed]"
          },
          "metadata": {
            "needs_background": "light"
          }
        }
      ]
    },
    {
      "cell_type": "code",
      "source": [
        "explore_parameter('param_loss')"
      ],
      "metadata": {
        "colab": {
          "base_uri": "https://localhost:8080/",
          "height": 280
        },
        "id": "DhEtSY27jGSc",
        "outputId": "e17fade5-e37b-4d6a-9d13-e5aa6dc71b2a"
      },
      "execution_count": 104,
      "outputs": [
        {
          "output_type": "display_data",
          "data": {
            "text/plain": [
              "<Figure size 432x288 with 1 Axes>"
            ],
            "image/png": "[encoded data removed]"
          },
          "metadata": {
            "needs_background": "light"
          }
        }
      ]
    },
    {
      "cell_type": "markdown",
      "source": [
        "End of the document"
      ],
      "metadata": {
        "id": "5bY_afw4jiAw"
      }
    }
  ]
}
