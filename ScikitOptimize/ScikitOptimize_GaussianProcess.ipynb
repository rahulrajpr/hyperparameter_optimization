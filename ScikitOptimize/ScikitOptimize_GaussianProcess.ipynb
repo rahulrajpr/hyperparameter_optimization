{
  "nbformat": 4,
  "nbformat_minor": 0,
  "metadata": {
    "colab": {
      "provenance": [],
      "authorship_tag": "ABX9TyPn9awRLDC2XrwjP7oRfwQp",
      "include_colab_link": true
    },
    "kernelspec": {
      "name": "python3",
      "display_name": "Python 3"
    },
    "language_info": {
      "name": "python"
    }
  },
  "cells": [
    {
      "cell_type": "markdown",
      "metadata": {
        "id": "view-in-github",
        "colab_type": "text"
      },
      "source": [
        "<a href=\"https://colab.research.google.com/github/rahulrajpr/AdvancedHyperParameterOptimisation/blob/ScikitOptimize/ScikitOptimize_GaussianProcess.ipynb\" target=\"_parent\"><img src=\"https://colab.research.google.com/assets/colab-badge.svg\" alt=\"Open In Colab\"/></a>"
      ]
    },
    {
      "cell_type": "markdown",
      "source": [
        "- Scikit Opt Guassian Process - Optimizes the hyperparamers from the distribution of hyperparameter combinations based on the metric choosen.\n",
        "- The guassian proces identify the local minima based on the number of iterations specified in the process\n",
        "\n",
        "- Steps\n",
        "\n",
        "1. define the model\n",
        "2. define parameter space\n",
        "3. define objective function\n",
        "4. run the search with dummy_minimize class"
      ],
      "metadata": {
        "id": "W7VKL16ICmMm"
      }
    },
    {
      "cell_type": "code",
      "execution_count": 1,
      "metadata": {
        "id": "6c4glcGlBhag"
      },
      "outputs": [],
      "source": [
        "import pandas as pd\n",
        "import numpy as np\n",
        "import matplotlib.pyplot as plt\n",
        "import seaborn as sns\n",
        "import warnings\n",
        "warnings.filterwarnings('ignore')"
      ]
    },
    {
      "cell_type": "code",
      "source": [
        "from sklearn.datasets import load_breast_cancer"
      ],
      "metadata": {
        "id": "L2UzsRBRB_bF"
      },
      "execution_count": 2,
      "outputs": []
    },
    {
      "cell_type": "code",
      "source": [
        "dataset = load_breast_cancer()\n",
        "data = dataset.data\n",
        "columns = dataset.feature_names\n",
        "df = pd.DataFrame(data = data, columns = columns)\n",
        "df['target'] = dataset.target\n",
        "df.info()"
      ],
      "metadata": {
        "colab": {
          "base_uri": "https://localhost:8080/"
        },
        "id": "x6GNqRY6CHaj",
        "outputId": "ecd6ee92-0f29-49e9-9e47-107a3f14ef93"
      },
      "execution_count": 3,
      "outputs": [
        {
          "output_type": "stream",
          "name": "stdout",
          "text": [
            "<class 'pandas.core.frame.DataFrame'>\n",
            "RangeIndex: 569 entries, 0 to 568\n",
            "Data columns (total 31 columns):\n",
            " #   Column                   Non-Null Count  Dtype  \n",
            "---  ------                   --------------  -----  \n",
            " 0   mean radius              569 non-null    float64\n",
            " 1   mean texture             569 non-null    float64\n",
            " 2   mean perimeter           569 non-null    float64\n",
            " 3   mean area                569 non-null    float64\n",
            " 4   mean smoothness          569 non-null    float64\n",
            " 5   mean compactness         569 non-null    float64\n",
            " 6   mean concavity           569 non-null    float64\n",
            " 7   mean concave points      569 non-null    float64\n",
            " 8   mean symmetry            569 non-null    float64\n",
            " 9   mean fractal dimension   569 non-null    float64\n",
            " 10  radius error             569 non-null    float64\n",
            " 11  texture error            569 non-null    float64\n",
            " 12  perimeter error          569 non-null    float64\n",
            " 13  area error               569 non-null    float64\n",
            " 14  smoothness error         569 non-null    float64\n",
            " 15  compactness error        569 non-null    float64\n",
            " 16  concavity error          569 non-null    float64\n",
            " 17  concave points error     569 non-null    float64\n",
            " 18  symmetry error           569 non-null    float64\n",
            " 19  fractal dimension error  569 non-null    float64\n",
            " 20  worst radius             569 non-null    float64\n",
            " 21  worst texture            569 non-null    float64\n",
            " 22  worst perimeter          569 non-null    float64\n",
            " 23  worst area               569 non-null    float64\n",
            " 24  worst smoothness         569 non-null    float64\n",
            " 25  worst compactness        569 non-null    float64\n",
            " 26  worst concavity          569 non-null    float64\n",
            " 27  worst concave points     569 non-null    float64\n",
            " 28  worst symmetry           569 non-null    float64\n",
            " 29  worst fractal dimension  569 non-null    float64\n",
            " 30  target                   569 non-null    int64  \n",
            "dtypes: float64(30), int64(1)\n",
            "memory usage: 137.9 KB\n"
          ]
        }
      ]
    },
    {
      "cell_type": "code",
      "source": [
        "X = df.drop('target', axis =1)\n",
        "y = df['target']"
      ],
      "metadata": {
        "id": "YL7MxyKuHDj6"
      },
      "execution_count": 4,
      "outputs": []
    },
    {
      "cell_type": "code",
      "source": [
        "from sklearn.model_selection import train_test_split"
      ],
      "metadata": {
        "id": "wzpxUYEeHDhj"
      },
      "execution_count": 5,
      "outputs": []
    },
    {
      "cell_type": "code",
      "source": [
        "X_train,X_test, y_train,y_test = train_test_split(X,y,train_size = 0.7, random_state = 100, stratify = y)"
      ],
      "metadata": {
        "id": "--N59A17HDfF"
      },
      "execution_count": 6,
      "outputs": []
    },
    {
      "cell_type": "markdown",
      "source": [
        "Define the model object"
      ],
      "metadata": {
        "id": "GYEjuYIODgWT"
      }
    },
    {
      "cell_type": "code",
      "source": [
        "from xgboost import XGBClassifier"
      ],
      "metadata": {
        "id": "62jmkg-LCeHI"
      },
      "execution_count": 7,
      "outputs": []
    },
    {
      "cell_type": "code",
      "source": [
        "# non-skleran model object\n",
        "xgb = XGBClassifier(random_state = 100)"
      ],
      "metadata": {
        "id": "WyKI5nhzDmvV"
      },
      "execution_count": 8,
      "outputs": []
    },
    {
      "cell_type": "markdown",
      "source": [
        "Parameter list --\n",
        "\n",
        "max_depth: int = 3, learning_rate: float = 0.1, n_estimators: int = 100, verbosity: int = 1, silent: Any | None = None, objective: str = \"binary:logistic\", booster: str = 'gbtree', n_jobs: int = 1, nthread: Any | None = None, gamma: int = 0, min_child_weight: int = 1, max_delta_step: int = 0, subsample: int = 1, colsample_bytree: int = 1, colsample_bylevel: int = 1, colsample_bynode: int = 1, reg_alpha: int = 0, reg_lambda: int = 1, scale_pos_weight: int = 1, base_score: float = 0.5, random_state: int = 0, seed: Any | None = None, missing: Any | None = None, **kwargs: Any) -> None\n",
        "Implementation of the scikit-learn API for XGBoost classification."
      ],
      "metadata": {
        "id": "Opzq7O84D6ow"
      }
    },
    {
      "cell_type": "markdown",
      "source": [
        "Define the parameter space"
      ],
      "metadata": {
        "id": "pw0XxA_gESKJ"
      }
    },
    {
      "cell_type": "code",
      "source": [
        "!pip install scikit-optimize"
      ],
      "metadata": {
        "colab": {
          "base_uri": "https://localhost:8080/"
        },
        "id": "C4CEzzwOD7fK",
        "outputId": "aae26cd0-70a6-4ed3-934e-2f8dd369bbe8"
      },
      "execution_count": 9,
      "outputs": [
        {
          "output_type": "stream",
          "name": "stdout",
          "text": [
            "Looking in indexes: https://pypi.org/simple, https://us-python.pkg.dev/colab-wheels/public/simple/\n",
            "Collecting scikit-optimize\n",
            "  Downloading scikit_optimize-0.9.0-py2.py3-none-any.whl (100 kB)\n",
            "\u001b[K     |████████████████████████████████| 100 kB 6.3 MB/s \n",
            "\u001b[?25hRequirement already satisfied: numpy>=1.13.3 in /usr/local/lib/python3.8/dist-packages (from scikit-optimize) (1.21.6)\n",
            "Requirement already satisfied: scipy>=0.19.1 in /usr/local/lib/python3.8/dist-packages (from scikit-optimize) (1.7.3)\n",
            "Requirement already satisfied: scikit-learn>=0.20.0 in /usr/local/lib/python3.8/dist-packages (from scikit-optimize) (1.0.2)\n",
            "Collecting pyaml>=16.9\n",
            "  Downloading pyaml-21.10.1-py2.py3-none-any.whl (24 kB)\n",
            "Requirement already satisfied: joblib>=0.11 in /usr/local/lib/python3.8/dist-packages (from scikit-optimize) (1.2.0)\n",
            "Requirement already satisfied: PyYAML in /usr/local/lib/python3.8/dist-packages (from pyaml>=16.9->scikit-optimize) (6.0)\n",
            "Requirement already satisfied: threadpoolctl>=2.0.0 in /usr/local/lib/python3.8/dist-packages (from scikit-learn>=0.20.0->scikit-optimize) (3.1.0)\n",
            "Installing collected packages: pyaml, scikit-optimize\n",
            "Successfully installed pyaml-21.10.1 scikit-optimize-0.9.0\n"
          ]
        }
      ]
    },
    {
      "cell_type": "code",
      "source": [
        "from skopt.space import Integer,Real,Categorical"
      ],
      "metadata": {
        "id": "nWiBPR4BEaht"
      },
      "execution_count": 10,
      "outputs": []
    },
    {
      "cell_type": "code",
      "source": [
        "params_grid = [Integer(low = 10, high = 120, prior = 'uniform', name = 'n_estimators'),\n",
        "          Integer(low = 1, high = 8, prior = 'uniform', name = 'max_depth'),\n",
        "          Real(low = 0.001, high = 0.1, prior = 'log-uniform', name = 'learning_rate'),\n",
        "          Real(low = 0.001, high = 0.999, prior = 'log-uniform', name = 'min_samples_splits'),\n",
        "          Categorical(['exponential','deviance'], name = 'loss')]"
      ],
      "metadata": {
        "id": "pMktX5zcEiv0"
      },
      "execution_count": 11,
      "outputs": []
    },
    {
      "cell_type": "markdown",
      "source": [
        "create the objective function"
      ],
      "metadata": {
        "id": "W-rKM-HQF4o5"
      }
    },
    {
      "cell_type": "code",
      "source": [
        "from skopt.utils import use_named_args"
      ],
      "metadata": {
        "id": "T2ext7WJFvEe"
      },
      "execution_count": 12,
      "outputs": []
    },
    {
      "cell_type": "code",
      "source": [
        "from sklearn.model_selection import cross_val_score"
      ],
      "metadata": {
        "id": "1D6akv4AGy2q"
      },
      "execution_count": 13,
      "outputs": []
    },
    {
      "cell_type": "code",
      "source": [
        "@use_named_args(params_grid)\n",
        "def objective(**params):\n",
        "\n",
        "  xgb.set_params(**params)\n",
        "\n",
        "  scores = cross_val_score(estimator = xgb,\n",
        "                           X = X_train,\n",
        "                           y = y_train,\n",
        "                           scoring = 'accuracy',\n",
        "                           cv = 5,\n",
        "                           n_jobs = -1)\n",
        "  \n",
        "  mean_score = np.mean(scores)\n",
        "  return -mean_score"
      ],
      "metadata": {
        "id": "vewzkyEQGAxB"
      },
      "execution_count": 14,
      "outputs": []
    },
    {
      "cell_type": "markdown",
      "source": [
        "Run the search using the dummy_minimize"
      ],
      "metadata": {
        "id": "xcCyjDavH9T5"
      }
    },
    {
      "cell_type": "code",
      "source": [
        "# class for the guassian process\n",
        "from skopt import gp_minimize"
      ],
      "metadata": {
        "id": "roXJN-PVd786"
      },
      "execution_count": 16,
      "outputs": []
    },
    {
      "cell_type": "code",
      "source": [
        "gp_ = gp_minimize(func = objective,\n",
        "                  dimensions = params_grid,\n",
        "                  n_calls = 50,\n",
        "                  n_initial_points = 5,\n",
        "                  acq_func = 'EI',\n",
        "                  verbose = 1,\n",
        "                  random_state = 100)"
      ],
      "metadata": {
        "colab": {
          "base_uri": "https://localhost:8080/"
        },
        "id": "e5063rMtex9K",
        "outputId": "fd6c6607-1f7c-404e-9ac9-daccce9c4b0a"
      },
      "execution_count": 17,
      "outputs": [
        {
          "output_type": "stream",
          "name": "stdout",
          "text": [
            "Iteration No: 1 started. Evaluating function at random point.\n",
            "Iteration No: 1 ended. Evaluation done at random point.\n",
            "Time taken: 1.9750\n",
            "Function value obtained: -0.9471\n",
            "Current minimum: -0.9471\n",
            "Iteration No: 2 started. Evaluating function at random point.\n",
            "Iteration No: 2 ended. Evaluation done at random point.\n",
            "Time taken: 0.1206\n",
            "Function value obtained: -0.9297\n",
            "Current minimum: -0.9471\n",
            "Iteration No: 3 started. Evaluating function at random point.\n",
            "Iteration No: 3 ended. Evaluation done at random point.\n",
            "Time taken: 0.4141\n",
            "Function value obtained: -0.9497\n",
            "Current minimum: -0.9497\n",
            "Iteration No: 4 started. Evaluating function at random point.\n",
            "Iteration No: 4 ended. Evaluation done at random point.\n",
            "Time taken: 0.3086\n",
            "Function value obtained: -0.9246\n",
            "Current minimum: -0.9497\n",
            "Iteration No: 5 started. Evaluating function at random point.\n",
            "Iteration No: 5 ended. Evaluation done at random point.\n",
            "Time taken: 0.7121\n",
            "Function value obtained: -0.9597\n",
            "Current minimum: -0.9597\n",
            "Iteration No: 6 started. Searching for the next optimal point.\n",
            "Iteration No: 6 ended. Search finished for the next optimal point.\n",
            "Time taken: 0.7558\n",
            "Function value obtained: -0.9572\n",
            "Current minimum: -0.9597\n",
            "Iteration No: 7 started. Searching for the next optimal point.\n",
            "Iteration No: 7 ended. Search finished for the next optimal point.\n",
            "Time taken: 0.7909\n",
            "Function value obtained: -0.9597\n",
            "Current minimum: -0.9597\n",
            "Iteration No: 8 started. Searching for the next optimal point.\n",
            "Iteration No: 8 ended. Search finished for the next optimal point.\n",
            "Time taken: 0.5605\n",
            "Function value obtained: -0.9396\n",
            "Current minimum: -0.9597\n",
            "Iteration No: 9 started. Searching for the next optimal point.\n",
            "Iteration No: 9 ended. Search finished for the next optimal point.\n",
            "Time taken: 1.6274\n",
            "Function value obtained: -0.9371\n",
            "Current minimum: -0.9597\n",
            "Iteration No: 10 started. Searching for the next optimal point.\n",
            "Iteration No: 10 ended. Search finished for the next optimal point.\n",
            "Time taken: 1.4241\n",
            "Function value obtained: -0.9572\n",
            "Current minimum: -0.9597\n",
            "Iteration No: 11 started. Searching for the next optimal point.\n",
            "Iteration No: 11 ended. Search finished for the next optimal point.\n",
            "Time taken: 0.5737\n",
            "Function value obtained: -0.9622\n",
            "Current minimum: -0.9622\n",
            "Iteration No: 12 started. Searching for the next optimal point.\n",
            "Iteration No: 12 ended. Search finished for the next optimal point.\n",
            "Time taken: 0.5891\n",
            "Function value obtained: -0.9497\n",
            "Current minimum: -0.9622\n",
            "Iteration No: 13 started. Searching for the next optimal point.\n",
            "Iteration No: 13 ended. Search finished for the next optimal point.\n",
            "Time taken: 0.8391\n",
            "Function value obtained: -0.9522\n",
            "Current minimum: -0.9622\n",
            "Iteration No: 14 started. Searching for the next optimal point.\n",
            "Iteration No: 14 ended. Search finished for the next optimal point.\n",
            "Time taken: 0.5212\n",
            "Function value obtained: -0.9396\n",
            "Current minimum: -0.9622\n",
            "Iteration No: 15 started. Searching for the next optimal point.\n",
            "Iteration No: 15 ended. Search finished for the next optimal point.\n",
            "Time taken: 1.0230\n",
            "Function value obtained: -0.9547\n",
            "Current minimum: -0.9622\n",
            "Iteration No: 16 started. Searching for the next optimal point.\n",
            "Iteration No: 16 ended. Search finished for the next optimal point.\n",
            "Time taken: 0.6355\n",
            "Function value obtained: -0.9497\n",
            "Current minimum: -0.9622\n",
            "Iteration No: 17 started. Searching for the next optimal point.\n",
            "Iteration No: 17 ended. Search finished for the next optimal point.\n",
            "Time taken: 0.5860\n",
            "Function value obtained: -0.9321\n",
            "Current minimum: -0.9622\n",
            "Iteration No: 18 started. Searching for the next optimal point.\n",
            "Iteration No: 18 ended. Search finished for the next optimal point.\n",
            "Time taken: 1.0161\n",
            "Function value obtained: -0.9522\n",
            "Current minimum: -0.9622\n",
            "Iteration No: 19 started. Searching for the next optimal point.\n",
            "Iteration No: 19 ended. Search finished for the next optimal point.\n",
            "Time taken: 0.8671\n",
            "Function value obtained: -0.9572\n",
            "Current minimum: -0.9622\n",
            "Iteration No: 20 started. Searching for the next optimal point.\n",
            "Iteration No: 20 ended. Search finished for the next optimal point.\n",
            "Time taken: 0.5530\n",
            "Function value obtained: -0.9522\n",
            "Current minimum: -0.9622\n",
            "Iteration No: 21 started. Searching for the next optimal point.\n",
            "Iteration No: 21 ended. Search finished for the next optimal point.\n",
            "Time taken: 0.5842\n",
            "Function value obtained: -0.9497\n",
            "Current minimum: -0.9622\n",
            "Iteration No: 22 started. Searching for the next optimal point.\n",
            "Iteration No: 22 ended. Search finished for the next optimal point.\n",
            "Time taken: 0.6003\n",
            "Function value obtained: -0.9573\n",
            "Current minimum: -0.9622\n",
            "Iteration No: 23 started. Searching for the next optimal point.\n",
            "Iteration No: 23 ended. Search finished for the next optimal point.\n",
            "Time taken: 0.8157\n",
            "Function value obtained: -0.9371\n",
            "Current minimum: -0.9622\n",
            "Iteration No: 24 started. Searching for the next optimal point.\n",
            "Iteration No: 24 ended. Search finished for the next optimal point.\n",
            "Time taken: 0.7027\n",
            "Function value obtained: -0.9522\n",
            "Current minimum: -0.9622\n",
            "Iteration No: 25 started. Searching for the next optimal point.\n",
            "Iteration No: 25 ended. Search finished for the next optimal point.\n",
            "Time taken: 0.5327\n",
            "Function value obtained: -0.9346\n",
            "Current minimum: -0.9622\n",
            "Iteration No: 26 started. Searching for the next optimal point.\n",
            "Iteration No: 26 ended. Search finished for the next optimal point.\n",
            "Time taken: 0.4919\n",
            "Function value obtained: -0.9422\n",
            "Current minimum: -0.9622\n",
            "Iteration No: 27 started. Searching for the next optimal point.\n",
            "Iteration No: 27 ended. Search finished for the next optimal point.\n",
            "Time taken: 0.7140\n",
            "Function value obtained: -0.9597\n",
            "Current minimum: -0.9622\n",
            "Iteration No: 28 started. Searching for the next optimal point.\n",
            "Iteration No: 28 ended. Search finished for the next optimal point.\n",
            "Time taken: 0.6410\n",
            "Function value obtained: -0.9572\n",
            "Current minimum: -0.9622\n",
            "Iteration No: 29 started. Searching for the next optimal point.\n",
            "Iteration No: 29 ended. Search finished for the next optimal point.\n",
            "Time taken: 0.8094\n",
            "Function value obtained: -0.9597\n",
            "Current minimum: -0.9622\n",
            "Iteration No: 30 started. Searching for the next optimal point.\n",
            "Iteration No: 30 ended. Search finished for the next optimal point.\n",
            "Time taken: 0.8341\n",
            "Function value obtained: -0.9497\n",
            "Current minimum: -0.9622\n",
            "Iteration No: 31 started. Searching for the next optimal point.\n",
            "Iteration No: 31 ended. Search finished for the next optimal point.\n",
            "Time taken: 0.5893\n",
            "Function value obtained: -0.9572\n",
            "Current minimum: -0.9622\n",
            "Iteration No: 32 started. Searching for the next optimal point.\n",
            "Iteration No: 32 ended. Search finished for the next optimal point.\n",
            "Time taken: 0.6094\n",
            "Function value obtained: -0.8945\n",
            "Current minimum: -0.9622\n",
            "Iteration No: 33 started. Searching for the next optimal point.\n",
            "Iteration No: 33 ended. Search finished for the next optimal point.\n",
            "Time taken: 1.0533\n",
            "Function value obtained: -0.9397\n",
            "Current minimum: -0.9622\n",
            "Iteration No: 34 started. Searching for the next optimal point.\n",
            "Iteration No: 34 ended. Search finished for the next optimal point.\n",
            "Time taken: 0.5808\n",
            "Function value obtained: -0.9321\n",
            "Current minimum: -0.9622\n",
            "Iteration No: 35 started. Searching for the next optimal point.\n",
            "Iteration No: 35 ended. Search finished for the next optimal point.\n",
            "Time taken: 0.8159\n",
            "Function value obtained: -0.9597\n",
            "Current minimum: -0.9622\n",
            "Iteration No: 36 started. Searching for the next optimal point.\n",
            "Iteration No: 36 ended. Search finished for the next optimal point.\n",
            "Time taken: 0.8854\n",
            "Function value obtained: -0.9647\n",
            "Current minimum: -0.9647\n",
            "Iteration No: 37 started. Searching for the next optimal point.\n",
            "Iteration No: 37 ended. Search finished for the next optimal point.\n",
            "Time taken: 0.7591\n",
            "Function value obtained: -0.9572\n",
            "Current minimum: -0.9647\n",
            "Iteration No: 38 started. Searching for the next optimal point.\n",
            "Iteration No: 38 ended. Search finished for the next optimal point.\n",
            "Time taken: 0.7469\n",
            "Function value obtained: -0.9472\n",
            "Current minimum: -0.9647\n",
            "Iteration No: 39 started. Searching for the next optimal point.\n",
            "Iteration No: 39 ended. Search finished for the next optimal point.\n",
            "Time taken: 1.0947\n",
            "Function value obtained: -0.9547\n",
            "Current minimum: -0.9647\n",
            "Iteration No: 40 started. Searching for the next optimal point.\n",
            "Iteration No: 40 ended. Search finished for the next optimal point.\n",
            "Time taken: 0.6673\n",
            "Function value obtained: -0.9321\n",
            "Current minimum: -0.9647\n",
            "Iteration No: 41 started. Searching for the next optimal point.\n",
            "Iteration No: 41 ended. Search finished for the next optimal point.\n",
            "Time taken: 1.2545\n",
            "Function value obtained: -0.9396\n",
            "Current minimum: -0.9647\n",
            "Iteration No: 42 started. Searching for the next optimal point.\n",
            "Iteration No: 42 ended. Search finished for the next optimal point.\n",
            "Time taken: 1.0725\n",
            "Function value obtained: -0.9572\n",
            "Current minimum: -0.9647\n",
            "Iteration No: 43 started. Searching for the next optimal point.\n",
            "Iteration No: 43 ended. Search finished for the next optimal point.\n",
            "Time taken: 0.8935\n",
            "Function value obtained: -0.9597\n",
            "Current minimum: -0.9647\n",
            "Iteration No: 44 started. Searching for the next optimal point.\n",
            "Iteration No: 44 ended. Search finished for the next optimal point.\n",
            "Time taken: 0.6737\n",
            "Function value obtained: -0.9321\n",
            "Current minimum: -0.9647\n",
            "Iteration No: 45 started. Searching for the next optimal point.\n",
            "Iteration No: 45 ended. Search finished for the next optimal point.\n",
            "Time taken: 1.0113\n",
            "Function value obtained: -0.9622\n",
            "Current minimum: -0.9647\n",
            "Iteration No: 46 started. Searching for the next optimal point.\n",
            "Iteration No: 46 ended. Search finished for the next optimal point.\n",
            "Time taken: 1.0745\n",
            "Function value obtained: -0.9647\n",
            "Current minimum: -0.9647\n",
            "Iteration No: 47 started. Searching for the next optimal point.\n",
            "Iteration No: 47 ended. Search finished for the next optimal point.\n",
            "Time taken: 0.9007\n",
            "Function value obtained: -0.9597\n",
            "Current minimum: -0.9647\n",
            "Iteration No: 48 started. Searching for the next optimal point.\n",
            "Iteration No: 48 ended. Search finished for the next optimal point.\n",
            "Time taken: 0.8897\n",
            "Function value obtained: -0.9647\n",
            "Current minimum: -0.9647\n",
            "Iteration No: 49 started. Searching for the next optimal point.\n",
            "Iteration No: 49 ended. Search finished for the next optimal point.\n",
            "Time taken: 0.8170\n",
            "Function value obtained: -0.9572\n",
            "Current minimum: -0.9647\n",
            "Iteration No: 50 started. Searching for the next optimal point.\n",
            "Iteration No: 50 ended. Search finished for the next optimal point.\n",
            "Time taken: 0.8790\n",
            "Function value obtained: -0.9622\n",
            "Current minimum: -0.9647\n"
          ]
        }
      ]
    },
    {
      "cell_type": "markdown",
      "source": [
        "Explore the search results"
      ],
      "metadata": {
        "id": "TUz1ziu_MzUm"
      }
    },
    {
      "cell_type": "code",
      "source": [
        "# accuracy\n",
        "gp_.fun"
      ],
      "metadata": {
        "colab": {
          "base_uri": "https://localhost:8080/"
        },
        "id": "KusvZs7AJf8H",
        "outputId": "59be7b27-2b29-4d1b-a6d6-3c062ed4b3b5"
      },
      "execution_count": 18,
      "outputs": [
        {
          "output_type": "execute_result",
          "data": {
            "text/plain": [
              "-0.9647468354430379"
            ]
          },
          "metadata": {},
          "execution_count": 18
        }
      ]
    },
    {
      "cell_type": "code",
      "source": [
        "# best parameters\n",
        "gp_.x"
      ],
      "metadata": {
        "colab": {
          "base_uri": "https://localhost:8080/"
        },
        "id": "ejnAdPZAKp0n",
        "outputId": "e84a7688-a064-47ba-f1ad-864d9695ea70"
      },
      "execution_count": 19,
      "outputs": [
        {
          "output_type": "execute_result",
          "data": {
            "text/plain": [
              "[117, 5, 0.09970685814209147, 0.16308873455452608, 'deviance']"
            ]
          },
          "metadata": {},
          "execution_count": 19
        }
      ]
    },
    {
      "cell_type": "code",
      "source": [
        "hyper_parameters = ['n_estimators','max_depth','learning_rate','min_samples_split','loss']"
      ],
      "metadata": {
        "id": "tQnoyYoVMU1D"
      },
      "execution_count": 20,
      "outputs": []
    },
    {
      "cell_type": "code",
      "source": [
        "# hyperparameter combinations\n",
        "gp_.x_iters"
      ],
      "metadata": {
        "colab": {
          "base_uri": "https://localhost:8080/"
        },
        "id": "aYVYzUqTK6Yg",
        "outputId": "2fbe0c23-7181-4afe-c3b7-7431bbe6226a"
      },
      "execution_count": 21,
      "outputs": [
        {
          "output_type": "execute_result",
          "data": {
            "text/plain": [
              "[[84, 4, 0.011291845699197304, 0.002790936462956933, 'deviance'],\n",
              " [31, 2, 0.008044143431784013, 0.40742701240106943, 'deviance'],\n",
              " [79, 5, 0.01332270861350273, 0.0010409959663509579, 'deviance'],\n",
              " [115, 2, 0.001438718226215246, 0.008588634395496206, 'exponential'],\n",
              " [87, 5, 0.06919067352488607, 0.007879509735508678, 'exponential'],\n",
              " [83, 8, 0.1, 0.1881837214906911, 'exponential'],\n",
              " [120, 8, 0.1, 0.001, 'deviance'],\n",
              " [10, 2, 0.1, 0.001, 'deviance'],\n",
              " [114, 8, 0.001, 0.0030323734696283355, 'deviance'],\n",
              " [117, 6, 0.09673132224070567, 0.1585312133731427, 'exponential'],\n",
              " [120, 1, 0.1, 0.001, 'deviance'],\n",
              " [120, 1, 0.034892818430218915, 0.2544071397656853, 'deviance'],\n",
              " [89, 2, 0.09833523410638079, 0.0014466128759298396, 'deviance'],\n",
              " [10, 2, 0.1, 0.001, 'exponential'],\n",
              " [104, 8, 0.030019917948000758, 0.001, 'exponential'],\n",
              " [32, 8, 0.09931988653028045, 0.0011504354262370509, 'exponential'],\n",
              " [17, 8, 0.0011632619460824442, 0.002288721253994334, 'deviance'],\n",
              " [120, 8, 0.02446805125623416, 0.34960881159037516, 'exponential'],\n",
              " [119, 4, 0.04480027755280517, 0.001809162840433592, 'exponential'],\n",
              " [11, 5, 0.08872685470435894, 0.952474897054992, 'exponential'],\n",
              " [37, 8, 0.04069470365831773, 0.999, 'exponential'],\n",
              " [84, 1, 0.09648965797259502, 0.9933508213636146, 'deviance'],\n",
              " [76, 8, 0.0010081824853444572, 0.9068838017443355, 'deviance'],\n",
              " [117, 2, 0.09895110351950534, 0.764589950158254, 'deviance'],\n",
              " [10, 8, 0.017680839995276938, 0.007745603536110373, 'deviance'],\n",
              " [41, 1, 0.09026161446181209, 0.576083644096234, 'exponential'],\n",
              " [81, 8, 0.09587437257244719, 0.0017267543450584038, 'deviance'],\n",
              " [60, 8, 0.09769248242147995, 0.716993716136473, 'deviance'],\n",
              " [115, 8, 0.09979776468930805, 0.0031103893849852003, 'deviance'],\n",
              " [78, 8, 0.02088042425077811, 0.9721223696191018, 'exponential'],\n",
              " [116, 1, 0.09882503501941031, 0.0016214607801414097, 'exponential'],\n",
              " [17, 1, 0.001071264815876873, 0.0016794649069897748, 'exponential'],\n",
              " [119, 5, 0.0011112331643589879, 0.9595321939636561, 'deviance'],\n",
              " [12, 5, 0.0010588076325213991, 0.015691050012699645, 'exponential'],\n",
              " [80, 4, 0.09931182145081692, 0.9708380226288509, 'deviance'],\n",
              " [117, 5, 0.09970685814209147, 0.16308873455452608, 'deviance'],\n",
              " [61, 7, 0.09932773610501416, 0.2659485259058736, 'deviance'],\n",
              " [21, 6, 0.09833630347547564, 0.002232807373644583, 'deviance'],\n",
              " [118, 7, 0.03355296369696065, 0.002899728798003655, 'deviance'],\n",
              " [11, 4, 0.023345513567859025, 0.3048497078391373, 'exponential'],\n",
              " [117, 6, 0.004397992969490246, 0.04979732873951274, 'exponential'],\n",
              " [119, 5, 0.036029660241379324, 0.005677043039503103, 'deviance'],\n",
              " [112, 3, 0.09717863747510287, 0.48337575733558863, 'deviance'],\n",
              " [16, 7, 0.0010077346039783174, 0.16472142416386992, 'deviance'],\n",
              " [119, 6, 0.09919706311154447, 0.36780273388123286, 'exponential'],\n",
              " [119, 4, 0.09904276762175183, 0.04343185572745986, 'deviance'],\n",
              " [119, 6, 0.0998291641410175, 0.13594772904531982, 'exponential'],\n",
              " [120, 4, 0.09282239218850528, 0.143111682472682, 'deviance'],\n",
              " [79, 5, 0.09853942844939637, 0.0017283924263125547, 'deviance'],\n",
              " [119, 4, 0.09745436221113885, 0.36957198184613527, 'exponential']]"
            ]
          },
          "metadata": {},
          "execution_count": 21
        }
      ]
    },
    {
      "cell_type": "code",
      "source": [
        "# accuracy (metric) in each iterations\n",
        "gp_.func_vals"
      ],
      "metadata": {
        "colab": {
          "base_uri": "https://localhost:8080/"
        },
        "id": "K-Bik5jXL1a3",
        "outputId": "2c6d0d40-6c05-4563-acf9-7d64beef04db"
      },
      "execution_count": 22,
      "outputs": [
        {
          "output_type": "execute_result",
          "data": {
            "text/plain": [
              "array([-0.94712025, -0.9296519 , -0.9496519 , -0.92462025, -0.95974684,\n",
              "       -0.95721519, -0.95971519, -0.93962025, -0.93712025, -0.95718354,\n",
              "       -0.96224684, -0.94971519, -0.9521519 , -0.93962025, -0.95471519,\n",
              "       -0.94968354, -0.93212025, -0.95218354, -0.95718354, -0.95218354,\n",
              "       -0.9496519 , -0.95727848, -0.93712025, -0.95218354, -0.93462025,\n",
              "       -0.9421519 , -0.95971519, -0.95721519, -0.95968354, -0.9496519 ,\n",
              "       -0.95721519, -0.89449367, -0.9396519 , -0.93212025, -0.95974684,\n",
              "       -0.96474684, -0.95718354, -0.9471519 , -0.95471519, -0.93208861,\n",
              "       -0.93962025, -0.95718354, -0.95971519, -0.93212025, -0.96221519,\n",
              "       -0.96471519, -0.95968354, -0.96471519, -0.95718354, -0.96224684])"
            ]
          },
          "metadata": {},
          "execution_count": 22
        }
      ]
    },
    {
      "cell_type": "code",
      "source": [
        "hyper_combo = pd.DataFrame(gp_.x_iters)\n",
        "metric = pd.DataFrame(abs(gp_.func_vals))\n",
        "tmp = pd.concat([hyper_combo,metric], axis = 1)\n",
        "tmp.columns = hyper_parameters + ['metric']\n",
        "tmp.sort_values(by = 'metric', ascending = False, inplace = True)\n",
        "tmp.head()"
      ],
      "metadata": {
        "colab": {
          "base_uri": "https://localhost:8080/",
          "height": 206
        },
        "id": "TXbGHnOlMBTz",
        "outputId": "64e4e970-7286-40af-d72e-3378e37ee5d5"
      },
      "execution_count": 23,
      "outputs": [
        {
          "output_type": "execute_result",
          "data": {
            "text/plain": [
              "    n_estimators  max_depth  learning_rate  min_samples_split         loss  \\\n",
              "35           117          5       0.099707           0.163089     deviance   \n",
              "47           120          4       0.092822           0.143112     deviance   \n",
              "45           119          4       0.099043           0.043432     deviance   \n",
              "10           120          1       0.100000           0.001000     deviance   \n",
              "49           119          4       0.097454           0.369572  exponential   \n",
              "\n",
              "      metric  \n",
              "35  0.964747  \n",
              "47  0.964715  \n",
              "45  0.964715  \n",
              "10  0.962247  \n",
              "49  0.962247  "
            ],
            "text/html": [
              "\n",
              "  <div id=\"df-8a5bea13-a71f-4225-b91a-eb57d223077e\">\n",
              "    <div class=\"colab-df-container\">\n",
              "      <div>\n",
              "<style scoped>\n",
              "    .dataframe tbody tr th:only-of-type {\n",
              "        vertical-align: middle;\n",
              "    }\n",
              "\n",
              "    .dataframe tbody tr th {\n",
              "        vertical-align: top;\n",
              "    }\n",
              "\n",
              "    .dataframe thead th {\n",
              "        text-align: right;\n",
              "    }\n",
              "</style>\n",
              "<table border=\"1\" class=\"dataframe\">\n",
              "  <thead>\n",
              "    <tr style=\"text-align: right;\">\n",
              "      <th></th>\n",
              "      <th>n_estimators</th>\n",
              "      <th>max_depth</th>\n",
              "      <th>learning_rate</th>\n",
              "      <th>min_samples_split</th>\n",
              "      <th>loss</th>\n",
              "      <th>metric</th>\n",
              "    </tr>\n",
              "  </thead>\n",
              "  <tbody>\n",
              "    <tr>\n",
              "      <th>35</th>\n",
              "      <td>117</td>\n",
              "      <td>5</td>\n",
              "      <td>0.099707</td>\n",
              "      <td>0.163089</td>\n",
              "      <td>deviance</td>\n",
              "      <td>0.964747</td>\n",
              "    </tr>\n",
              "    <tr>\n",
              "      <th>47</th>\n",
              "      <td>120</td>\n",
              "      <td>4</td>\n",
              "      <td>0.092822</td>\n",
              "      <td>0.143112</td>\n",
              "      <td>deviance</td>\n",
              "      <td>0.964715</td>\n",
              "    </tr>\n",
              "    <tr>\n",
              "      <th>45</th>\n",
              "      <td>119</td>\n",
              "      <td>4</td>\n",
              "      <td>0.099043</td>\n",
              "      <td>0.043432</td>\n",
              "      <td>deviance</td>\n",
              "      <td>0.964715</td>\n",
              "    </tr>\n",
              "    <tr>\n",
              "      <th>10</th>\n",
              "      <td>120</td>\n",
              "      <td>1</td>\n",
              "      <td>0.100000</td>\n",
              "      <td>0.001000</td>\n",
              "      <td>deviance</td>\n",
              "      <td>0.962247</td>\n",
              "    </tr>\n",
              "    <tr>\n",
              "      <th>49</th>\n",
              "      <td>119</td>\n",
              "      <td>4</td>\n",
              "      <td>0.097454</td>\n",
              "      <td>0.369572</td>\n",
              "      <td>exponential</td>\n",
              "      <td>0.962247</td>\n",
              "    </tr>\n",
              "  </tbody>\n",
              "</table>\n",
              "</div>\n",
              "      <button class=\"colab-df-convert\" onclick=\"convertToInteractive('df-8a5bea13-a71f-4225-b91a-eb57d223077e')\"\n",
              "              title=\"Convert this dataframe to an interactive table.\"\n",
              "              style=\"display:none;\">\n",
              "        \n",
              "  <svg xmlns=\"http://www.w3.org/2000/svg\" height=\"24px\"viewBox=\"0 0 24 24\"\n",
              "       width=\"24px\">\n",
              "    <path d=\"M0 0h24v24H0V0z\" fill=\"none\"/>\n",
              "    <path d=\"M18.56 5.44l.94 2.06.94-2.06 2.06-.94-2.06-.94-.94-2.06-.94 2.06-2.06.94zm-11 1L8.5 8.5l.94-2.06 2.06-.94-2.06-.94L8.5 2.5l-.94 2.06-2.06.94zm10 10l.94 2.06.94-2.06 2.06-.94-2.06-.94-.94-2.06-.94 2.06-2.06.94z\"/><path d=\"M17.41 7.96l-1.37-1.37c-.4-.4-.92-.59-1.43-.59-.52 0-1.04.2-1.43.59L10.3 9.45l-7.72 7.72c-.78.78-.78 2.05 0 2.83L4 21.41c.39.39.9.59 1.41.59.51 0 1.02-.2 1.41-.59l7.78-7.78 2.81-2.81c.8-.78.8-2.07 0-2.86zM5.41 20L4 18.59l7.72-7.72 1.47 1.35L5.41 20z\"/>\n",
              "  </svg>\n",
              "      </button>\n",
              "      \n",
              "  <style>\n",
              "    .colab-df-container {\n",
              "      display:flex;\n",
              "      flex-wrap:wrap;\n",
              "      gap: 12px;\n",
              "    }\n",
              "\n",
              "    .colab-df-convert {\n",
              "      background-color: #E8F0FE;\n",
              "      border: none;\n",
              "      border-radius: 50%;\n",
              "      cursor: pointer;\n",
              "      display: none;\n",
              "      fill: #1967D2;\n",
              "      height: 32px;\n",
              "      padding: 0 0 0 0;\n",
              "      width: 32px;\n",
              "    }\n",
              "\n",
              "    .colab-df-convert:hover {\n",
              "      background-color: #E2EBFA;\n",
              "      box-shadow: 0px 1px 2px rgba(60, 64, 67, 0.3), 0px 1px 3px 1px rgba(60, 64, 67, 0.15);\n",
              "      fill: #174EA6;\n",
              "    }\n",
              "\n",
              "    [theme=dark] .colab-df-convert {\n",
              "      background-color: #3B4455;\n",
              "      fill: #D2E3FC;\n",
              "    }\n",
              "\n",
              "    [theme=dark] .colab-df-convert:hover {\n",
              "      background-color: #434B5C;\n",
              "      box-shadow: 0px 1px 3px 1px rgba(0, 0, 0, 0.15);\n",
              "      filter: drop-shadow(0px 1px 2px rgba(0, 0, 0, 0.3));\n",
              "      fill: #FFFFFF;\n",
              "    }\n",
              "  </style>\n",
              "\n",
              "      <script>\n",
              "        const buttonEl =\n",
              "          document.querySelector('#df-8a5bea13-a71f-4225-b91a-eb57d223077e button.colab-df-convert');\n",
              "        buttonEl.style.display =\n",
              "          google.colab.kernel.accessAllowed ? 'block' : 'none';\n",
              "\n",
              "        async function convertToInteractive(key) {\n",
              "          const element = document.querySelector('#df-8a5bea13-a71f-4225-b91a-eb57d223077e');\n",
              "          const dataTable =\n",
              "            await google.colab.kernel.invokeFunction('convertToInteractive',\n",
              "                                                     [key], {});\n",
              "          if (!dataTable) return;\n",
              "\n",
              "          const docLinkHtml = 'Like what you see? Visit the ' +\n",
              "            '<a target=\"_blank\" href=https://colab.research.google.com/notebooks/data_table.ipynb>data table notebook</a>'\n",
              "            + ' to learn more about interactive tables.';\n",
              "          element.innerHTML = '';\n",
              "          dataTable['output_type'] = 'display_data';\n",
              "          await google.colab.output.renderOutput(dataTable, element);\n",
              "          const docLink = document.createElement('div');\n",
              "          docLink.innerHTML = docLinkHtml;\n",
              "          element.appendChild(docLink);\n",
              "        }\n",
              "      </script>\n",
              "    </div>\n",
              "  </div>\n",
              "  "
            ]
          },
          "metadata": {},
          "execution_count": 23
        }
      ]
    },
    {
      "cell_type": "code",
      "source": [
        "best_params = tmp.drop('metric', axis = 1).iloc[0,:].to_dict()\n",
        "best_params"
      ],
      "metadata": {
        "colab": {
          "base_uri": "https://localhost:8080/"
        },
        "id": "5qcVBFXFOtzT",
        "outputId": "a269825e-e3be-4629-827f-b04af0da854a"
      },
      "execution_count": 24,
      "outputs": [
        {
          "output_type": "execute_result",
          "data": {
            "text/plain": [
              "{'n_estimators': 117,\n",
              " 'max_depth': 5,\n",
              " 'learning_rate': 0.09970685814209147,\n",
              " 'min_samples_split': 0.16308873455452608,\n",
              " 'loss': 'deviance'}"
            ]
          },
          "metadata": {},
          "execution_count": 24
        }
      ]
    },
    {
      "cell_type": "markdown",
      "source": [
        "Lets Explor the convergence, evalations plots"
      ],
      "metadata": {
        "id": "V8gTAyRGPmBZ"
      }
    },
    {
      "cell_type": "code",
      "source": [
        "from skopt.plots import plot_convergence,plot_evaluations,plot_objective"
      ],
      "metadata": {
        "id": "dXG-VN7sPTgv"
      },
      "execution_count": 27,
      "outputs": []
    },
    {
      "cell_type": "code",
      "source": [
        "plot_convergence(gp_)\n",
        "plt.show()"
      ],
      "metadata": {
        "colab": {
          "base_uri": "https://localhost:8080/",
          "height": 297
        },
        "id": "ZZ0lyJ8gPx8l",
        "outputId": "f465fa12-d068-417d-f5b9-87fc2a2a206a"
      },
      "execution_count": 26,
      "outputs": [
        {
          "output_type": "display_data",
          "data": {
            "text/plain": [
              "<Figure size 432x288 with 1 Axes>"
            ],
            "image/png": "[encoded data removed]"
          },
          "metadata": {
            "needs_background": "light"
          }
        }
      ]
    },
    {
      "cell_type": "code",
      "source": [
        "plot_evaluations(gp_)\n",
        "plt.show()"
      ],
      "metadata": {
        "colab": {
          "base_uri": "https://localhost:8080/",
          "height": 757
        },
        "id": "sMJt0jKPP2_K",
        "outputId": "eab5f218-a147-4bbf-ae16-65cd37e2f726"
      },
      "execution_count": 28,
      "outputs": [
        {
          "output_type": "display_data",
          "data": {
            "text/plain": [
              "<Figure size 720x720 with 25 Axes>"
            ],
            "image/png": "[encoded data removed]"
          },
          "metadata": {
            "needs_background": "light"
          }
        }
      ]
    },
    {
      "cell_type": "code",
      "source": [
        "plot_objective(gp_)\n",
        "plt.show()"
      ],
      "metadata": {
        "colab": {
          "base_uri": "https://localhost:8080/",
          "height": 757
        },
        "id": "KtB1cXwvf7KA",
        "outputId": "7c91899f-de8f-405c-a2b3-3bedca1ec362"
      },
      "execution_count": 30,
      "outputs": [
        {
          "output_type": "display_data",
          "data": {
            "text/plain": [
              "<Figure size 720x720 with 25 Axes>"
            ],
            "image/png": "[encoded data removed]"
          },
          "metadata": {
            "needs_background": "light"
          }
        }
      ]
    },
    {
      "cell_type": "markdown",
      "source": [
        "Generate the final model"
      ],
      "metadata": {
        "id": "Dke4gPEkQTMR"
      }
    },
    {
      "cell_type": "code",
      "source": [
        "model = XGBClassifier(n_estimators = best_params['n_estimators'],\n",
        "                      max_depth = best_params['max_depth'],\n",
        "                      min_samples_split = best_params['min_samples_split'],\n",
        "                      learning_rate = best_params['learning_rate'],\n",
        "                      loss = best_params['loss'])"
      ],
      "metadata": {
        "id": "yPEwryKDQIrJ"
      },
      "execution_count": 31,
      "outputs": []
    },
    {
      "cell_type": "code",
      "source": [
        "model.get_xgb_params"
      ],
      "metadata": {
        "colab": {
          "base_uri": "https://localhost:8080/"
        },
        "id": "S2EQxGDwQkZ8",
        "outputId": "51c559d6-c458-411b-d39c-31ce57e13a13"
      },
      "execution_count": 32,
      "outputs": [
        {
          "output_type": "execute_result",
          "data": {
            "text/plain": [
              "<bound method XGBModel.get_xgb_params of XGBClassifier(learning_rate=0.09970685814209147, loss='deviance', max_depth=5,\n",
              "              min_samples_split=0.16308873455452608, n_estimators=117)>"
            ]
          },
          "metadata": {},
          "execution_count": 32
        }
      ]
    },
    {
      "cell_type": "code",
      "source": [
        "model.fit(X_train,y_train)"
      ],
      "metadata": {
        "colab": {
          "base_uri": "https://localhost:8080/"
        },
        "id": "u72MKYnnQtod",
        "outputId": "6f4fd2f6-cc1c-4ab3-c0bb-47e4eb316943"
      },
      "execution_count": 33,
      "outputs": [
        {
          "output_type": "execute_result",
          "data": {
            "text/plain": [
              "XGBClassifier(learning_rate=0.09970685814209147, loss='deviance', max_depth=5,\n",
              "              min_samples_split=0.16308873455452608, n_estimators=117)"
            ]
          },
          "metadata": {},
          "execution_count": 33
        }
      ]
    },
    {
      "cell_type": "markdown",
      "source": [
        "Evaluate the final model"
      ],
      "metadata": {
        "id": "r1B37M4IbcPq"
      }
    },
    {
      "cell_type": "code",
      "source": [
        "from sklearn.metrics import accuracy_score"
      ],
      "metadata": {
        "id": "RXKUw1JGb25S"
      },
      "execution_count": 34,
      "outputs": []
    },
    {
      "cell_type": "code",
      "source": [
        "print('train accuracy : ',accuracy_score(y_train,model.predict(X_train)))\n",
        "print('test accuracy : ',accuracy_score(y_test,model.predict(X_test)))"
      ],
      "metadata": {
        "colab": {
          "base_uri": "https://localhost:8080/"
        },
        "id": "r3-vlSPDQzuV",
        "outputId": "aae61282-6ed1-4e8c-92f6-7f7e8d870913"
      },
      "execution_count": 35,
      "outputs": [
        {
          "output_type": "stream",
          "name": "stdout",
          "text": [
            "train accuracy :  1.0\n",
            "test accuracy :  0.9824561403508771\n"
          ]
        }
      ]
    }
  ]
}