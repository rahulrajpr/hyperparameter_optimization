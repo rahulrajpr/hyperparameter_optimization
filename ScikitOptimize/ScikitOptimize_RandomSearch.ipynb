{
  "nbformat": 4,
  "nbformat_minor": 0,
  "metadata": {
    "colab": {
      "provenance": [],
      "authorship_tag": "ABX9TyMa/G4dcM8s25hiATdwzKqN",
      "include_colab_link": true
    },
    "kernelspec": {
      "name": "python3",
      "display_name": "Python 3"
    },
    "language_info": {
      "name": "python"
    }
  },
  "cells": [
    {
      "cell_type": "markdown",
      "metadata": {
        "id": "view-in-github",
        "colab_type": "text"
      },
      "source": [
        "<a href=\"https://colab.research.google.com/github/rahulrajpr/AdvancedHyperParameterOptimisation/blob/ScikitOptimize/ScikitOptimize_RandomSearch.ipynb\" target=\"_parent\"><img src=\"https://colab.research.google.com/assets/colab-badge.svg\" alt=\"Open In Colab\"/></a>"
      ]
    },
    {
      "cell_type": "markdown",
      "source": [
        "- The Random Search in Scikit Optimise is randomly picking the hyperparameter combinations and evaluate it aginst the metrics provided with within the number of iterations specified, the distribution of the hyperparameter combinations are irrelevent in this case\n",
        "- Scikit Optmise method has more compatibility with non-sklearn machine learning models like xgboost, nueral networks etc\n",
        "\n",
        "- Steps\n",
        "\n",
        "1. define the model\n",
        "2. define parameter space\n",
        "3. define objective function\n",
        "4. run the search with dummy_minimize class"
      ],
      "metadata": {
        "id": "W7VKL16ICmMm"
      }
    },
    {
      "cell_type": "code",
      "execution_count": null,
      "metadata": {
        "id": "6c4glcGlBhag"
      },
      "outputs": [],
      "source": [
        "import pandas as pd\n",
        "import numpy as np\n",
        "import matplotlib.pyplot as plt\n",
        "import seaborn as sns\n",
        "import warnings\n",
        "warnings.filterwarnings('ignore')"
      ]
    },
    {
      "cell_type": "code",
      "source": [
        "from sklearn.datasets import load_breast_cancer"
      ],
      "metadata": {
        "id": "L2UzsRBRB_bF"
      },
      "execution_count": null,
      "outputs": []
    },
    {
      "cell_type": "code",
      "source": [
        "dataset = load_breast_cancer()\n",
        "data = dataset.data\n",
        "columns = dataset.feature_names\n",
        "df = pd.DataFrame(data = data, columns = columns)\n",
        "df['target'] = dataset.target\n",
        "df.info()"
      ],
      "metadata": {
        "colab": {
          "base_uri": "https://localhost:8080/"
        },
        "id": "x6GNqRY6CHaj",
        "outputId": "b5a97198-0846-4da0-8748-e64d04bb339f"
      },
      "execution_count": null,
      "outputs": [
        {
          "output_type": "stream",
          "name": "stdout",
          "text": [
            "<class 'pandas.core.frame.DataFrame'>\n",
            "RangeIndex: 569 entries, 0 to 568\n",
            "Data columns (total 31 columns):\n",
            " #   Column                   Non-Null Count  Dtype  \n",
            "---  ------                   --------------  -----  \n",
            " 0   mean radius              569 non-null    float64\n",
            " 1   mean texture             569 non-null    float64\n",
            " 2   mean perimeter           569 non-null    float64\n",
            " 3   mean area                569 non-null    float64\n",
            " 4   mean smoothness          569 non-null    float64\n",
            " 5   mean compactness         569 non-null    float64\n",
            " 6   mean concavity           569 non-null    float64\n",
            " 7   mean concave points      569 non-null    float64\n",
            " 8   mean symmetry            569 non-null    float64\n",
            " 9   mean fractal dimension   569 non-null    float64\n",
            " 10  radius error             569 non-null    float64\n",
            " 11  texture error            569 non-null    float64\n",
            " 12  perimeter error          569 non-null    float64\n",
            " 13  area error               569 non-null    float64\n",
            " 14  smoothness error         569 non-null    float64\n",
            " 15  compactness error        569 non-null    float64\n",
            " 16  concavity error          569 non-null    float64\n",
            " 17  concave points error     569 non-null    float64\n",
            " 18  symmetry error           569 non-null    float64\n",
            " 19  fractal dimension error  569 non-null    float64\n",
            " 20  worst radius             569 non-null    float64\n",
            " 21  worst texture            569 non-null    float64\n",
            " 22  worst perimeter          569 non-null    float64\n",
            " 23  worst area               569 non-null    float64\n",
            " 24  worst smoothness         569 non-null    float64\n",
            " 25  worst compactness        569 non-null    float64\n",
            " 26  worst concavity          569 non-null    float64\n",
            " 27  worst concave points     569 non-null    float64\n",
            " 28  worst symmetry           569 non-null    float64\n",
            " 29  worst fractal dimension  569 non-null    float64\n",
            " 30  target                   569 non-null    int64  \n",
            "dtypes: float64(30), int64(1)\n",
            "memory usage: 137.9 KB\n"
          ]
        }
      ]
    },
    {
      "cell_type": "code",
      "source": [
        "X = df.drop('target', axis =1)\n",
        "y = df['target']"
      ],
      "metadata": {
        "id": "YL7MxyKuHDj6"
      },
      "execution_count": null,
      "outputs": []
    },
    {
      "cell_type": "code",
      "source": [
        "from sklearn.model_selection import train_test_split"
      ],
      "metadata": {
        "id": "wzpxUYEeHDhj"
      },
      "execution_count": null,
      "outputs": []
    },
    {
      "cell_type": "code",
      "source": [
        "X_train,X_test, y_train,y_test = train_test_split(X,y,train_size = 0.7, random_state = 100, stratify = y)"
      ],
      "metadata": {
        "id": "--N59A17HDfF"
      },
      "execution_count": null,
      "outputs": []
    },
    {
      "cell_type": "markdown",
      "source": [
        "Define the model object"
      ],
      "metadata": {
        "id": "GYEjuYIODgWT"
      }
    },
    {
      "cell_type": "code",
      "source": [
        "from xgboost import XGBClassifier"
      ],
      "metadata": {
        "id": "62jmkg-LCeHI"
      },
      "execution_count": null,
      "outputs": []
    },
    {
      "cell_type": "code",
      "source": [
        "# non-skleran model object\n",
        "xgb = XGBClassifier(random_state = 100)"
      ],
      "metadata": {
        "id": "WyKI5nhzDmvV"
      },
      "execution_count": null,
      "outputs": []
    },
    {
      "cell_type": "markdown",
      "source": [
        "Parameter list --\n",
        "\n",
        "max_depth: int = 3, learning_rate: float = 0.1, n_estimators: int = 100, verbosity: int = 1, silent: Any | None = None, objective: str = \"binary:logistic\", booster: str = 'gbtree', n_jobs: int = 1, nthread: Any | None = None, gamma: int = 0, min_child_weight: int = 1, max_delta_step: int = 0, subsample: int = 1, colsample_bytree: int = 1, colsample_bylevel: int = 1, colsample_bynode: int = 1, reg_alpha: int = 0, reg_lambda: int = 1, scale_pos_weight: int = 1, base_score: float = 0.5, random_state: int = 0, seed: Any | None = None, missing: Any | None = None, **kwargs: Any) -> None\n",
        "Implementation of the scikit-learn API for XGBoost classification."
      ],
      "metadata": {
        "id": "Opzq7O84D6ow"
      }
    },
    {
      "cell_type": "markdown",
      "source": [
        "Define the parameter space"
      ],
      "metadata": {
        "id": "pw0XxA_gESKJ"
      }
    },
    {
      "cell_type": "code",
      "source": [
        "!pip install scikit-optimize"
      ],
      "metadata": {
        "colab": {
          "base_uri": "https://localhost:8080/"
        },
        "id": "C4CEzzwOD7fK",
        "outputId": "17d03e29-1a04-4d85-df0c-dc943f413a6d"
      },
      "execution_count": null,
      "outputs": [
        {
          "output_type": "stream",
          "name": "stdout",
          "text": [
            "Looking in indexes: https://pypi.org/simple, https://us-python.pkg.dev/colab-wheels/public/simple/\n",
            "Collecting scikit-optimize\n",
            "  Downloading scikit_optimize-0.9.0-py2.py3-none-any.whl (100 kB)\n",
            "\u001b[K     |████████████████████████████████| 100 kB 6.0 MB/s \n",
            "\u001b[?25hRequirement already satisfied: numpy>=1.13.3 in /usr/local/lib/python3.8/dist-packages (from scikit-optimize) (1.21.6)\n",
            "Requirement already satisfied: scikit-learn>=0.20.0 in /usr/local/lib/python3.8/dist-packages (from scikit-optimize) (1.0.2)\n",
            "Requirement already satisfied: joblib>=0.11 in /usr/local/lib/python3.8/dist-packages (from scikit-optimize) (1.2.0)\n",
            "Requirement already satisfied: scipy>=0.19.1 in /usr/local/lib/python3.8/dist-packages (from scikit-optimize) (1.7.3)\n",
            "Collecting pyaml>=16.9\n",
            "  Downloading pyaml-21.10.1-py2.py3-none-any.whl (24 kB)\n",
            "Requirement already satisfied: PyYAML in /usr/local/lib/python3.8/dist-packages (from pyaml>=16.9->scikit-optimize) (6.0)\n",
            "Requirement already satisfied: threadpoolctl>=2.0.0 in /usr/local/lib/python3.8/dist-packages (from scikit-learn>=0.20.0->scikit-optimize) (3.1.0)\n",
            "Installing collected packages: pyaml, scikit-optimize\n",
            "Successfully installed pyaml-21.10.1 scikit-optimize-0.9.0\n"
          ]
        }
      ]
    },
    {
      "cell_type": "code",
      "source": [
        "from skopt.space import Integer,Real,Categorical"
      ],
      "metadata": {
        "id": "nWiBPR4BEaht"
      },
      "execution_count": null,
      "outputs": []
    },
    {
      "cell_type": "code",
      "source": [
        "params_grid = [Integer(low = 10, high = 120, prior = 'uniform', name = 'n_estimators'),\n",
        "          Integer(low = 1, high = 8, prior = 'uniform', name = 'max_depth'),\n",
        "          Real(low = 0.001, high = 0.1, prior = 'log-uniform', name = 'learning_rate'),\n",
        "          Real(low = 0.001, high = 0.999, prior = 'log-uniform', name = 'min_samples_splits'),\n",
        "          Categorical(['exponential','deviance'], name = 'loss')]"
      ],
      "metadata": {
        "id": "pMktX5zcEiv0"
      },
      "execution_count": null,
      "outputs": []
    },
    {
      "cell_type": "markdown",
      "source": [
        "create the objective function"
      ],
      "metadata": {
        "id": "W-rKM-HQF4o5"
      }
    },
    {
      "cell_type": "code",
      "source": [
        "from skopt.utils import use_named_args"
      ],
      "metadata": {
        "id": "T2ext7WJFvEe"
      },
      "execution_count": null,
      "outputs": []
    },
    {
      "cell_type": "code",
      "source": [
        "from sklearn.model_selection import cross_val_score"
      ],
      "metadata": {
        "id": "1D6akv4AGy2q"
      },
      "execution_count": null,
      "outputs": []
    },
    {
      "cell_type": "code",
      "source": [
        "@use_named_args(params_grid)\n",
        "def objective(**params):\n",
        "\n",
        "  xgb.set_params(**params)\n",
        "\n",
        "  scores = cross_val_score(estimator = xgb,\n",
        "                           X = X_train,\n",
        "                           y = y_train,\n",
        "                           scoring = 'accuracy',\n",
        "                           cv = 5,\n",
        "                           n_jobs = -1)\n",
        "  \n",
        "  mean_score = np.mean(scores)\n",
        "  return -mean_score"
      ],
      "metadata": {
        "id": "vewzkyEQGAxB"
      },
      "execution_count": null,
      "outputs": []
    },
    {
      "cell_type": "markdown",
      "source": [
        "Run the search using the dummy_minimize"
      ],
      "metadata": {
        "id": "xcCyjDavH9T5"
      }
    },
    {
      "cell_type": "code",
      "source": [
        "from skopt import dummy_minimize"
      ],
      "metadata": {
        "id": "PrzgLaBhH7xl"
      },
      "execution_count": null,
      "outputs": []
    },
    {
      "cell_type": "code",
      "source": [
        "search = dummy_minimize(func = objective,\n",
        "                        dimensions = params_grid,\n",
        "                        n_calls = 50,\n",
        "                        verbose = 1,\n",
        "                        random_state = 100)"
      ],
      "metadata": {
        "id": "WGEAXwHTIHVs"
      },
      "execution_count": null,
      "outputs": []
    },
    {
      "cell_type": "markdown",
      "source": [
        "Explore the search results"
      ],
      "metadata": {
        "id": "TUz1ziu_MzUm"
      }
    },
    {
      "cell_type": "code",
      "source": [
        "# accuracy\n",
        "search.fun"
      ],
      "metadata": {
        "colab": {
          "base_uri": "https://localhost:8080/"
        },
        "id": "KusvZs7AJf8H",
        "outputId": "e5fe262c-0510-41d3-d238-f9c9020dc398"
      },
      "execution_count": null,
      "outputs": [
        {
          "output_type": "execute_result",
          "data": {
            "text/plain": [
              "-0.959746835443038"
            ]
          },
          "metadata": {},
          "execution_count": 26
        }
      ]
    },
    {
      "cell_type": "code",
      "source": [
        "# best parameters\n",
        "search.x"
      ],
      "metadata": {
        "colab": {
          "base_uri": "https://localhost:8080/"
        },
        "id": "ejnAdPZAKp0n",
        "outputId": "8a089809-2369-4a4a-9177-fb64ddac33f0"
      },
      "execution_count": null,
      "outputs": [
        {
          "output_type": "execute_result",
          "data": {
            "text/plain": [
              "[66, 3, 0.06040764283363223, 0.05375932755132062, 'deviance']"
            ]
          },
          "metadata": {},
          "execution_count": 27
        }
      ]
    },
    {
      "cell_type": "code",
      "source": [
        "hyper_parameters = ['n_estimators','max_depth','learning_rate','min_samples_split','loss']"
      ],
      "metadata": {
        "id": "tQnoyYoVMU1D"
      },
      "execution_count": null,
      "outputs": []
    },
    {
      "cell_type": "code",
      "source": [
        "# hyperparameter combinations\n",
        "search.x_iters"
      ],
      "metadata": {
        "colab": {
          "base_uri": "https://localhost:8080/"
        },
        "id": "aYVYzUqTK6Yg",
        "outputId": "c54a10e3-7ed7-481e-864d-9d5c5029184f"
      },
      "execution_count": null,
      "outputs": [
        {
          "output_type": "execute_result",
          "data": {
            "text/plain": [
              "[[34, 4, 0.00666949262740574, 0.03792439690094259, 'exponential'],\n",
              " [62, 3, 0.00236012152786367, 0.004268073925417127, 'exponential'],\n",
              " [34, 8, 0.06062390517439188, 0.0042414608781566, 'exponential'],\n",
              " [19, 6, 0.0027503944643483894, 0.8618786655442375, 'deviance'],\n",
              " [11, 6, 0.042899230036160536, 0.0066389921151654525, 'exponential'],\n",
              " [77, 8, 0.043181602726587484, 0.01019036654521055, 'exponential'],\n",
              " [81, 4, 0.0010265426899287893, 0.0057170156110338596, 'deviance'],\n",
              " [108, 8, 0.01576473786980733, 0.06473680431215785, 'exponential'],\n",
              " [58, 8, 0.001182911116654211, 0.4686491093666666, 'deviance'],\n",
              " [66, 3, 0.06040764283363223, 0.05375932755132062, 'deviance'],\n",
              " [40, 2, 0.014577544800671383, 0.0011516181874113563, 'exponential'],\n",
              " [93, 6, 0.034532684610371685, 0.005649067412703542, 'exponential'],\n",
              " [13, 7, 0.08912775906459897, 0.45099881554924215, 'exponential'],\n",
              " [70, 4, 0.06339079558098618, 0.24226512221132998, 'deviance'],\n",
              " [81, 7, 0.017764746827571926, 0.002731865444488027, 'deviance'],\n",
              " [119, 8, 0.001928415568134817, 0.632583898458421, 'deviance'],\n",
              " [10, 3, 0.005963930319352304, 0.012285878125798516, 'exponential'],\n",
              " [60, 5, 0.003112230556637175, 0.0033170236690881474, 'deviance'],\n",
              " [31, 2, 0.015701725065112332, 0.15616528581829836, 'exponential'],\n",
              " [68, 8, 0.008452711336053376, 0.03356414928489171, 'exponential'],\n",
              " [34, 8, 0.009010902819362718, 0.00520899652338475, 'deviance'],\n",
              " [45, 1, 0.0022072708307666177, 0.032280844311237775, 'exponential'],\n",
              " [102, 8, 0.0716848115061382, 0.014441794846019713, 'exponential'],\n",
              " [22, 6, 0.0016898229427311621, 0.01273740279593879, 'exponential'],\n",
              " [67, 8, 0.0035406588122031293, 0.004716783666124213, 'deviance'],\n",
              " [26, 6, 0.028860699209123885, 0.0012532077876631356, 'deviance'],\n",
              " [64, 6, 0.05238534096408028, 0.020851988390113468, 'deviance'],\n",
              " [50, 1, 0.0015066507546114747, 0.1271037537295196, 'exponential'],\n",
              " [104, 3, 0.001264543404639402, 0.0201848800070297, 'deviance'],\n",
              " [100, 3, 0.012677657185699026, 0.08492391225952514, 'exponential'],\n",
              " [38, 6, 0.025639826293092187, 0.14489788252921537, 'exponential'],\n",
              " [35, 3, 0.010028330511091988, 0.021643946512149917, 'exponential'],\n",
              " [48, 5, 0.07708221670939883, 0.0012012195451889297, 'exponential'],\n",
              " [63, 2, 0.025132986720617253, 0.29029011779362174, 'exponential'],\n",
              " [61, 7, 0.08930373901931182, 0.019081596028693044, 'exponential'],\n",
              " [47, 1, 0.01259047754524285, 0.9263698576928896, 'exponential'],\n",
              " [109, 2, 0.0016774982339719685, 0.024392879255308912, 'deviance'],\n",
              " [58, 2, 0.012367207441983625, 0.7199950242143514, 'exponential'],\n",
              " [21, 2, 0.030534424141246908, 0.34982578728595537, 'deviance'],\n",
              " [62, 5, 0.07890388836119684, 0.006464824155775066, 'deviance'],\n",
              " [78, 4, 0.004869440577816467, 0.09221912506139505, 'deviance'],\n",
              " [52, 6, 0.007817681830740955, 0.003744399640446379, 'deviance'],\n",
              " [63, 6, 0.0026592524898062125, 0.06717113468481946, 'deviance'],\n",
              " [114, 4, 0.004426290349918188, 0.05827309217271306, 'exponential'],\n",
              " [76, 6, 0.0031177559340850943, 0.05476270090821046, 'deviance'],\n",
              " [97, 4, 0.0037162748790214545, 0.0016760044173339359, 'deviance'],\n",
              " [49, 7, 0.01400326848263349, 0.0025488032070894555, 'exponential'],\n",
              " [49, 8, 0.01246200753618911, 0.003924865407414215, 'exponential'],\n",
              " [43, 8, 0.07105903566743486, 0.5003479631494657, 'exponential'],\n",
              " [18, 1, 0.03717086190294271, 0.0035291353641260692, 'deviance']]"
            ]
          },
          "metadata": {},
          "execution_count": 32
        }
      ]
    },
    {
      "cell_type": "code",
      "source": [
        "# accuracy (metric) in each iterations\n",
        "search.func_vals"
      ],
      "metadata": {
        "colab": {
          "base_uri": "https://localhost:8080/"
        },
        "id": "K-Bik5jXL1a3",
        "outputId": "73ec5f67-c62d-4a55-df70-72e8ed1795af"
      },
      "execution_count": null,
      "outputs": [
        {
          "output_type": "execute_result",
          "data": {
            "text/plain": [
              "array([-0.93462025, -0.92968354, -0.9496519 , -0.93712025, -0.93958861,\n",
              "       -0.95471519, -0.93462025, -0.95218354, -0.93712025, -0.95974684,\n",
              "       -0.92958861, -0.95724684, -0.9471519 , -0.95718354, -0.9521519 ,\n",
              "       -0.9371519 , -0.9171519 , -0.93208861, -0.93462025, -0.9421519 ,\n",
              "       -0.9421519 , -0.89449367, -0.95974684, -0.93712025, -0.9396519 ,\n",
              "       -0.9471519 , -0.95721519, -0.89449367, -0.9271519 , -0.9496519 ,\n",
              "       -0.9496519 , -0.9471519 , -0.95974684, -0.9521519 , -0.95718354,\n",
              "       -0.91199367, -0.92462025, -0.92958861, -0.93208861, -0.95468354,\n",
              "       -0.9396519 , -0.9421519 , -0.93462025, -0.9496519 , -0.9396519 ,\n",
              "       -0.9396519 , -0.9471519 , -0.94718354, -0.95724684, -0.90949367])"
            ]
          },
          "metadata": {},
          "execution_count": 34
        }
      ]
    },
    {
      "cell_type": "code",
      "source": [
        "hyper_combo = pd.DataFrame(search.x_iters)\n",
        "metric = pd.DataFrame(abs(search.func_vals))\n",
        "tmp = pd.concat([hyper_combo,metric], axis = 1)\n",
        "tmp.columns = hyper_parameters + ['metric']\n",
        "tmp.sort_values(by = 'metric', ascending = False, inplace = True)\n",
        "tmp.head()"
      ],
      "metadata": {
        "colab": {
          "base_uri": "https://localhost:8080/",
          "height": 206
        },
        "id": "TXbGHnOlMBTz",
        "outputId": "3fb7cc3a-2de2-408b-f9a5-cec40bc8b100"
      },
      "execution_count": null,
      "outputs": [
        {
          "output_type": "execute_result",
          "data": {
            "text/plain": [
              "    n_estimators  max_depth  learning_rate  min_samples_split         loss  \\\n",
              "9             66          3       0.060408           0.053759     deviance   \n",
              "32            48          5       0.077082           0.001201  exponential   \n",
              "22           102          8       0.071685           0.014442  exponential   \n",
              "48            43          8       0.071059           0.500348  exponential   \n",
              "11            93          6       0.034533           0.005649  exponential   \n",
              "\n",
              "      metric  \n",
              "9   0.959747  \n",
              "32  0.959747  \n",
              "22  0.959747  \n",
              "48  0.957247  \n",
              "11  0.957247  "
            ],
            "text/html": [
              "\n",
              "  <div id=\"df-d5d86673-aeb2-4841-b93e-843443aac3be\">\n",
              "    <div class=\"colab-df-container\">\n",
              "      <div>\n",
              "<style scoped>\n",
              "    .dataframe tbody tr th:only-of-type {\n",
              "        vertical-align: middle;\n",
              "    }\n",
              "\n",
              "    .dataframe tbody tr th {\n",
              "        vertical-align: top;\n",
              "    }\n",
              "\n",
              "    .dataframe thead th {\n",
              "        text-align: right;\n",
              "    }\n",
              "</style>\n",
              "<table border=\"1\" class=\"dataframe\">\n",
              "  <thead>\n",
              "    <tr style=\"text-align: right;\">\n",
              "      <th></th>\n",
              "      <th>n_estimators</th>\n",
              "      <th>max_depth</th>\n",
              "      <th>learning_rate</th>\n",
              "      <th>min_samples_split</th>\n",
              "      <th>loss</th>\n",
              "      <th>metric</th>\n",
              "    </tr>\n",
              "  </thead>\n",
              "  <tbody>\n",
              "    <tr>\n",
              "      <th>9</th>\n",
              "      <td>66</td>\n",
              "      <td>3</td>\n",
              "      <td>0.060408</td>\n",
              "      <td>0.053759</td>\n",
              "      <td>deviance</td>\n",
              "      <td>0.959747</td>\n",
              "    </tr>\n",
              "    <tr>\n",
              "      <th>32</th>\n",
              "      <td>48</td>\n",
              "      <td>5</td>\n",
              "      <td>0.077082</td>\n",
              "      <td>0.001201</td>\n",
              "      <td>exponential</td>\n",
              "      <td>0.959747</td>\n",
              "    </tr>\n",
              "    <tr>\n",
              "      <th>22</th>\n",
              "      <td>102</td>\n",
              "      <td>8</td>\n",
              "      <td>0.071685</td>\n",
              "      <td>0.014442</td>\n",
              "      <td>exponential</td>\n",
              "      <td>0.959747</td>\n",
              "    </tr>\n",
              "    <tr>\n",
              "      <th>48</th>\n",
              "      <td>43</td>\n",
              "      <td>8</td>\n",
              "      <td>0.071059</td>\n",
              "      <td>0.500348</td>\n",
              "      <td>exponential</td>\n",
              "      <td>0.957247</td>\n",
              "    </tr>\n",
              "    <tr>\n",
              "      <th>11</th>\n",
              "      <td>93</td>\n",
              "      <td>6</td>\n",
              "      <td>0.034533</td>\n",
              "      <td>0.005649</td>\n",
              "      <td>exponential</td>\n",
              "      <td>0.957247</td>\n",
              "    </tr>\n",
              "  </tbody>\n",
              "</table>\n",
              "</div>\n",
              "      <button class=\"colab-df-convert\" onclick=\"convertToInteractive('df-d5d86673-aeb2-4841-b93e-843443aac3be')\"\n",
              "              title=\"Convert this dataframe to an interactive table.\"\n",
              "              style=\"display:none;\">\n",
              "        \n",
              "  <svg xmlns=\"http://www.w3.org/2000/svg\" height=\"24px\"viewBox=\"0 0 24 24\"\n",
              "       width=\"24px\">\n",
              "    <path d=\"M0 0h24v24H0V0z\" fill=\"none\"/>\n",
              "    <path d=\"M18.56 5.44l.94 2.06.94-2.06 2.06-.94-2.06-.94-.94-2.06-.94 2.06-2.06.94zm-11 1L8.5 8.5l.94-2.06 2.06-.94-2.06-.94L8.5 2.5l-.94 2.06-2.06.94zm10 10l.94 2.06.94-2.06 2.06-.94-2.06-.94-.94-2.06-.94 2.06-2.06.94z\"/><path d=\"M17.41 7.96l-1.37-1.37c-.4-.4-.92-.59-1.43-.59-.52 0-1.04.2-1.43.59L10.3 9.45l-7.72 7.72c-.78.78-.78 2.05 0 2.83L4 21.41c.39.39.9.59 1.41.59.51 0 1.02-.2 1.41-.59l7.78-7.78 2.81-2.81c.8-.78.8-2.07 0-2.86zM5.41 20L4 18.59l7.72-7.72 1.47 1.35L5.41 20z\"/>\n",
              "  </svg>\n",
              "      </button>\n",
              "      \n",
              "  <style>\n",
              "    .colab-df-container {\n",
              "      display:flex;\n",
              "      flex-wrap:wrap;\n",
              "      gap: 12px;\n",
              "    }\n",
              "\n",
              "    .colab-df-convert {\n",
              "      background-color: #E8F0FE;\n",
              "      border: none;\n",
              "      border-radius: 50%;\n",
              "      cursor: pointer;\n",
              "      display: none;\n",
              "      fill: #1967D2;\n",
              "      height: 32px;\n",
              "      padding: 0 0 0 0;\n",
              "      width: 32px;\n",
              "    }\n",
              "\n",
              "    .colab-df-convert:hover {\n",
              "      background-color: #E2EBFA;\n",
              "      box-shadow: 0px 1px 2px rgba(60, 64, 67, 0.3), 0px 1px 3px 1px rgba(60, 64, 67, 0.15);\n",
              "      fill: #174EA6;\n",
              "    }\n",
              "\n",
              "    [theme=dark] .colab-df-convert {\n",
              "      background-color: #3B4455;\n",
              "      fill: #D2E3FC;\n",
              "    }\n",
              "\n",
              "    [theme=dark] .colab-df-convert:hover {\n",
              "      background-color: #434B5C;\n",
              "      box-shadow: 0px 1px 3px 1px rgba(0, 0, 0, 0.15);\n",
              "      filter: drop-shadow(0px 1px 2px rgba(0, 0, 0, 0.3));\n",
              "      fill: #FFFFFF;\n",
              "    }\n",
              "  </style>\n",
              "\n",
              "      <script>\n",
              "        const buttonEl =\n",
              "          document.querySelector('#df-d5d86673-aeb2-4841-b93e-843443aac3be button.colab-df-convert');\n",
              "        buttonEl.style.display =\n",
              "          google.colab.kernel.accessAllowed ? 'block' : 'none';\n",
              "\n",
              "        async function convertToInteractive(key) {\n",
              "          const element = document.querySelector('#df-d5d86673-aeb2-4841-b93e-843443aac3be');\n",
              "          const dataTable =\n",
              "            await google.colab.kernel.invokeFunction('convertToInteractive',\n",
              "                                                     [key], {});\n",
              "          if (!dataTable) return;\n",
              "\n",
              "          const docLinkHtml = 'Like what you see? Visit the ' +\n",
              "            '<a target=\"_blank\" href=https://colab.research.google.com/notebooks/data_table.ipynb>data table notebook</a>'\n",
              "            + ' to learn more about interactive tables.';\n",
              "          element.innerHTML = '';\n",
              "          dataTable['output_type'] = 'display_data';\n",
              "          await google.colab.output.renderOutput(dataTable, element);\n",
              "          const docLink = document.createElement('div');\n",
              "          docLink.innerHTML = docLinkHtml;\n",
              "          element.appendChild(docLink);\n",
              "        }\n",
              "      </script>\n",
              "    </div>\n",
              "  </div>\n",
              "  "
            ]
          },
          "metadata": {},
          "execution_count": 55
        }
      ]
    },
    {
      "cell_type": "code",
      "source": [
        "best_params = tmp.drop('metric', axis = 1).iloc[0,:].to_dict()\n",
        "best_params"
      ],
      "metadata": {
        "colab": {
          "base_uri": "https://localhost:8080/"
        },
        "id": "5qcVBFXFOtzT",
        "outputId": "d798ab9c-b2ce-4cd8-b817-1a166fb4ff9e"
      },
      "execution_count": null,
      "outputs": [
        {
          "output_type": "execute_result",
          "data": {
            "text/plain": [
              "{'n_estimators': 66,\n",
              " 'max_depth': 3,\n",
              " 'learning_rate': 0.06040764283363223,\n",
              " 'min_samples_split': 0.05375932755132062,\n",
              " 'loss': 'deviance'}"
            ]
          },
          "metadata": {},
          "execution_count": 69
        }
      ]
    },
    {
      "cell_type": "markdown",
      "source": [
        "Lets Explor the convergence, evalations plots"
      ],
      "metadata": {
        "id": "V8gTAyRGPmBZ"
      }
    },
    {
      "cell_type": "code",
      "source": [
        "from skopt.plots import plot_convergence,plot_evaluations"
      ],
      "metadata": {
        "id": "dXG-VN7sPTgv"
      },
      "execution_count": null,
      "outputs": []
    },
    {
      "cell_type": "code",
      "source": [
        "plot_convergence(search)\n",
        "plt.show()"
      ],
      "metadata": {
        "colab": {
          "base_uri": "https://localhost:8080/",
          "height": 297
        },
        "id": "ZZ0lyJ8gPx8l",
        "outputId": "6edc3fdb-2674-4195-a021-253f28600c24"
      },
      "execution_count": null,
      "outputs": [
        {
          "output_type": "display_data",
          "data": {
            "text/plain": [
              "<Figure size 432x288 with 1 Axes>"
            ],
            "image/png": "[encoded data removed]"
          },
          "metadata": {
            "needs_background": "light"
          }
        }
      ]
    },
    {
      "cell_type": "code",
      "source": [
        "plot_evaluations(search)\n",
        "plt.show()"
      ],
      "metadata": {
        "colab": {
          "base_uri": "https://localhost:8080/",
          "height": 757
        },
        "id": "sMJt0jKPP2_K",
        "outputId": "0869ed11-5070-44c4-f125-50142eea0f1a"
      },
      "execution_count": null,
      "outputs": [
        {
          "output_type": "display_data",
          "data": {
            "text/plain": [
              "<Figure size 720x720 with 25 Axes>"
            ],
            "image/png": "[encoded data removed]"
          },
          "metadata": {
            "needs_background": "light"
          }
        }
      ]
    },
    {
      "cell_type": "markdown",
      "source": [
        "Generate the final model"
      ],
      "metadata": {
        "id": "Dke4gPEkQTMR"
      }
    },
    {
      "cell_type": "code",
      "source": [
        "model = XGBClassifier(n_estimators = best_params['n_estimators'],\n",
        "                      max_depth = best_params['max_depth'],\n",
        "                      min_samples_split = best_params['min_samples_split'],\n",
        "                      learning_rate = best_params['learning_rate'],\n",
        "                      loss = best_params['loss'])"
      ],
      "metadata": {
        "id": "yPEwryKDQIrJ"
      },
      "execution_count": null,
      "outputs": []
    },
    {
      "cell_type": "code",
      "source": [
        "model.get_xgb_params"
      ],
      "metadata": {
        "colab": {
          "base_uri": "https://localhost:8080/"
        },
        "id": "S2EQxGDwQkZ8",
        "outputId": "ab1c749b-c33c-43ab-ecf6-7c47fa63a08b"
      },
      "execution_count": null,
      "outputs": [
        {
          "output_type": "execute_result",
          "data": {
            "text/plain": [
              "<bound method XGBModel.get_xgb_params of XGBClassifier(learning_rate=0.06040764283363223, loss='deviance',\n",
              "              min_samples_split=0.05375932755132062, n_estimators=66)>"
            ]
          },
          "metadata": {},
          "execution_count": 72
        }
      ]
    },
    {
      "cell_type": "code",
      "source": [
        "model.fit(X_train,y_train)"
      ],
      "metadata": {
        "colab": {
          "base_uri": "https://localhost:8080/"
        },
        "id": "u72MKYnnQtod",
        "outputId": "3297cc1c-7f99-408d-fcf8-12705da41802"
      },
      "execution_count": null,
      "outputs": [
        {
          "output_type": "execute_result",
          "data": {
            "text/plain": [
              "XGBClassifier(learning_rate=0.06040764283363223, loss='deviance',\n",
              "              min_samples_split=0.05375932755132062, n_estimators=66)"
            ]
          },
          "metadata": {},
          "execution_count": 73
        }
      ]
    },
    {
      "cell_type": "markdown",
      "source": [
        "Evaluate the final model"
      ],
      "metadata": {
        "id": "r1B37M4IbcPq"
      }
    },
    {
      "cell_type": "code",
      "source": [
        "from sklearn.metrics import accuracy_score"
      ],
      "metadata": {
        "id": "RXKUw1JGb25S"
      },
      "execution_count": null,
      "outputs": []
    },
    {
      "cell_type": "code",
      "source": [
        "print('train accuracy : ',accuracy_score(y_train,model.predict(X_train)))\n",
        "print('test accuracy : ',accuracy_score(y_test,model.predict(X_test)))"
      ],
      "metadata": {
        "colab": {
          "base_uri": "https://localhost:8080/"
        },
        "id": "r3-vlSPDQzuV",
        "outputId": "c7e09e18-bc32-4ce1-bc6b-c8d7b4b3469d"
      },
      "execution_count": null,
      "outputs": [
        {
          "output_type": "stream",
          "name": "stdout",
          "text": [
            "train accuracy :  0.992462311557789\n",
            "test accuracy :  0.9707602339181286\n"
          ]
        }
      ]
    }
  ]
}