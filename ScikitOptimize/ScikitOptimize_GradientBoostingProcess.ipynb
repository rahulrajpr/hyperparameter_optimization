{
  "nbformat": 4,
  "nbformat_minor": 0,
  "metadata": {
    "colab": {
      "provenance": [],
      "authorship_tag": "ABX9TyO4S0D5qrX2Sbo6CIdSNYqp",
      "include_colab_link": true
    },
    "kernelspec": {
      "name": "python3",
      "display_name": "Python 3"
    },
    "language_info": {
      "name": "python"
    }
  },
  "cells": [
    {
      "cell_type": "markdown",
      "metadata": {
        "id": "view-in-github",
        "colab_type": "text"
      },
      "source": [
        "<a href=\"https://colab.research.google.com/github/rahulrajpr/AdvancedHyperParameterOptimisation/blob/ScikitOptimize/ScikitOptimize_GradientBoostingProcess.ipynb\" target=\"_parent\"><img src=\"https://colab.research.google.com/assets/colab-badge.svg\" alt=\"Open In Colab\"/></a>"
      ]
    },
    {
      "cell_type": "markdown",
      "source": [
        "- Scikit Opt Gradient Boosting Process - Optimizes the hyperparamers from the distribution of hyperparameter combinations based on the metric choosen using a Gradient Boosting Regressor\n",
        "\n",
        "- Steps\n",
        "\n",
        "1. define the model\n",
        "2. define parameter space\n",
        "3. define objective function\n",
        "4. run the search with dummy_minimize class"
      ],
      "metadata": {
        "id": "W7VKL16ICmMm"
      }
    },
    {
      "cell_type": "code",
      "execution_count": 1,
      "metadata": {
        "id": "6c4glcGlBhag"
      },
      "outputs": [],
      "source": [
        "import pandas as pd\n",
        "import numpy as np\n",
        "import matplotlib.pyplot as plt\n",
        "import seaborn as sns\n",
        "import warnings\n",
        "warnings.filterwarnings('ignore')"
      ]
    },
    {
      "cell_type": "code",
      "source": [
        "from sklearn.datasets import load_breast_cancer"
      ],
      "metadata": {
        "id": "L2UzsRBRB_bF"
      },
      "execution_count": 2,
      "outputs": []
    },
    {
      "cell_type": "code",
      "source": [
        "dataset = load_breast_cancer()\n",
        "data = dataset.data\n",
        "columns = dataset.feature_names\n",
        "df = pd.DataFrame(data = data, columns = columns)\n",
        "df['target'] = dataset.target\n",
        "df.info()"
      ],
      "metadata": {
        "colab": {
          "base_uri": "https://localhost:8080/"
        },
        "id": "x6GNqRY6CHaj",
        "outputId": "1fd82065-06f1-417b-ac2f-f56897482460"
      },
      "execution_count": 3,
      "outputs": [
        {
          "output_type": "stream",
          "name": "stdout",
          "text": [
            "<class 'pandas.core.frame.DataFrame'>\n",
            "RangeIndex: 569 entries, 0 to 568\n",
            "Data columns (total 31 columns):\n",
            " #   Column                   Non-Null Count  Dtype  \n",
            "---  ------                   --------------  -----  \n",
            " 0   mean radius              569 non-null    float64\n",
            " 1   mean texture             569 non-null    float64\n",
            " 2   mean perimeter           569 non-null    float64\n",
            " 3   mean area                569 non-null    float64\n",
            " 4   mean smoothness          569 non-null    float64\n",
            " 5   mean compactness         569 non-null    float64\n",
            " 6   mean concavity           569 non-null    float64\n",
            " 7   mean concave points      569 non-null    float64\n",
            " 8   mean symmetry            569 non-null    float64\n",
            " 9   mean fractal dimension   569 non-null    float64\n",
            " 10  radius error             569 non-null    float64\n",
            " 11  texture error            569 non-null    float64\n",
            " 12  perimeter error          569 non-null    float64\n",
            " 13  area error               569 non-null    float64\n",
            " 14  smoothness error         569 non-null    float64\n",
            " 15  compactness error        569 non-null    float64\n",
            " 16  concavity error          569 non-null    float64\n",
            " 17  concave points error     569 non-null    float64\n",
            " 18  symmetry error           569 non-null    float64\n",
            " 19  fractal dimension error  569 non-null    float64\n",
            " 20  worst radius             569 non-null    float64\n",
            " 21  worst texture            569 non-null    float64\n",
            " 22  worst perimeter          569 non-null    float64\n",
            " 23  worst area               569 non-null    float64\n",
            " 24  worst smoothness         569 non-null    float64\n",
            " 25  worst compactness        569 non-null    float64\n",
            " 26  worst concavity          569 non-null    float64\n",
            " 27  worst concave points     569 non-null    float64\n",
            " 28  worst symmetry           569 non-null    float64\n",
            " 29  worst fractal dimension  569 non-null    float64\n",
            " 30  target                   569 non-null    int64  \n",
            "dtypes: float64(30), int64(1)\n",
            "memory usage: 137.9 KB\n"
          ]
        }
      ]
    },
    {
      "cell_type": "code",
      "source": [
        "X = df.drop('target', axis =1)\n",
        "y = df['target']"
      ],
      "metadata": {
        "id": "YL7MxyKuHDj6"
      },
      "execution_count": 4,
      "outputs": []
    },
    {
      "cell_type": "code",
      "source": [
        "from sklearn.model_selection import train_test_split"
      ],
      "metadata": {
        "id": "wzpxUYEeHDhj"
      },
      "execution_count": 5,
      "outputs": []
    },
    {
      "cell_type": "code",
      "source": [
        "X_train,X_test, y_train,y_test = train_test_split(X,y,train_size = 0.7, random_state = 100, stratify = y)"
      ],
      "metadata": {
        "id": "--N59A17HDfF"
      },
      "execution_count": 6,
      "outputs": []
    },
    {
      "cell_type": "markdown",
      "source": [
        "Define the model object"
      ],
      "metadata": {
        "id": "GYEjuYIODgWT"
      }
    },
    {
      "cell_type": "code",
      "source": [
        "from xgboost import XGBClassifier"
      ],
      "metadata": {
        "id": "62jmkg-LCeHI"
      },
      "execution_count": 7,
      "outputs": []
    },
    {
      "cell_type": "code",
      "source": [
        "# non-skleran model object\n",
        "xgb = XGBClassifier(random_state = 100)"
      ],
      "metadata": {
        "id": "WyKI5nhzDmvV"
      },
      "execution_count": 8,
      "outputs": []
    },
    {
      "cell_type": "markdown",
      "source": [
        "Parameter list --\n",
        "\n",
        "max_depth: int = 3, learning_rate: float = 0.1, n_estimators: int = 100, verbosity: int = 1, silent: Any | None = None, objective: str = \"binary:logistic\", booster: str = 'gbtree', n_jobs: int = 1, nthread: Any | None = None, gamma: int = 0, min_child_weight: int = 1, max_delta_step: int = 0, subsample: int = 1, colsample_bytree: int = 1, colsample_bylevel: int = 1, colsample_bynode: int = 1, reg_alpha: int = 0, reg_lambda: int = 1, scale_pos_weight: int = 1, base_score: float = 0.5, random_state: int = 0, seed: Any | None = None, missing: Any | None = None, **kwargs: Any) -> None\n",
        "Implementation of the scikit-learn API for XGBoost classification."
      ],
      "metadata": {
        "id": "Opzq7O84D6ow"
      }
    },
    {
      "cell_type": "markdown",
      "source": [
        "Define the parameter space"
      ],
      "metadata": {
        "id": "pw0XxA_gESKJ"
      }
    },
    {
      "cell_type": "code",
      "source": [
        "!pip install scikit-optimize"
      ],
      "metadata": {
        "colab": {
          "base_uri": "https://localhost:8080/"
        },
        "id": "C4CEzzwOD7fK",
        "outputId": "aa8e52d4-df1b-40aa-8570-9b4f3a050de5"
      },
      "execution_count": 9,
      "outputs": [
        {
          "output_type": "stream",
          "name": "stdout",
          "text": [
            "Looking in indexes: https://pypi.org/simple, https://us-python.pkg.dev/colab-wheels/public/simple/\n",
            "Collecting scikit-optimize\n",
            "  Downloading scikit_optimize-0.9.0-py2.py3-none-any.whl (100 kB)\n",
            "\u001b[K     |████████████████████████████████| 100 kB 3.0 MB/s \n",
            "\u001b[?25hRequirement already satisfied: joblib>=0.11 in /usr/local/lib/python3.8/dist-packages (from scikit-optimize) (1.2.0)\n",
            "Requirement already satisfied: scipy>=0.19.1 in /usr/local/lib/python3.8/dist-packages (from scikit-optimize) (1.7.3)\n",
            "Requirement already satisfied: numpy>=1.13.3 in /usr/local/lib/python3.8/dist-packages (from scikit-optimize) (1.21.6)\n",
            "Collecting pyaml>=16.9\n",
            "  Downloading pyaml-21.10.1-py2.py3-none-any.whl (24 kB)\n",
            "Requirement already satisfied: scikit-learn>=0.20.0 in /usr/local/lib/python3.8/dist-packages (from scikit-optimize) (1.0.2)\n",
            "Requirement already satisfied: PyYAML in /usr/local/lib/python3.8/dist-packages (from pyaml>=16.9->scikit-optimize) (6.0)\n",
            "Requirement already satisfied: threadpoolctl>=2.0.0 in /usr/local/lib/python3.8/dist-packages (from scikit-learn>=0.20.0->scikit-optimize) (3.1.0)\n",
            "Installing collected packages: pyaml, scikit-optimize\n",
            "Successfully installed pyaml-21.10.1 scikit-optimize-0.9.0\n"
          ]
        }
      ]
    },
    {
      "cell_type": "code",
      "source": [
        "from skopt.space import Integer,Real,Categorical"
      ],
      "metadata": {
        "id": "nWiBPR4BEaht"
      },
      "execution_count": 10,
      "outputs": []
    },
    {
      "cell_type": "code",
      "source": [
        "params_grid = [Integer(low = 10, high = 120, prior = 'uniform', name = 'n_estimators'),\n",
        "          Integer(low = 1, high = 8, prior = 'uniform', name = 'max_depth'),\n",
        "          Real(low = 0.001, high = 0.1, prior = 'log-uniform', name = 'learning_rate'),\n",
        "          Real(low = 0.001, high = 0.999, prior = 'log-uniform', name = 'min_samples_splits'),\n",
        "          Categorical(['exponential','deviance'], name = 'loss')]"
      ],
      "metadata": {
        "id": "pMktX5zcEiv0"
      },
      "execution_count": 11,
      "outputs": []
    },
    {
      "cell_type": "markdown",
      "source": [
        "create the objective function"
      ],
      "metadata": {
        "id": "W-rKM-HQF4o5"
      }
    },
    {
      "cell_type": "code",
      "source": [
        "from skopt.utils import use_named_args"
      ],
      "metadata": {
        "id": "T2ext7WJFvEe"
      },
      "execution_count": 12,
      "outputs": []
    },
    {
      "cell_type": "code",
      "source": [
        "from sklearn.model_selection import cross_val_score"
      ],
      "metadata": {
        "id": "1D6akv4AGy2q"
      },
      "execution_count": 13,
      "outputs": []
    },
    {
      "cell_type": "code",
      "source": [
        "@use_named_args(params_grid)\n",
        "def objective(**params):\n",
        "\n",
        "  xgb.set_params(**params)\n",
        "\n",
        "  scores = cross_val_score(estimator = xgb,\n",
        "                           X = X_train,\n",
        "                           y = y_train,\n",
        "                           scoring = 'accuracy',\n",
        "                           cv = 5,\n",
        "                           n_jobs = -1)\n",
        "  \n",
        "  mean_score = np.mean(scores)\n",
        "  return -mean_score"
      ],
      "metadata": {
        "id": "vewzkyEQGAxB"
      },
      "execution_count": 14,
      "outputs": []
    },
    {
      "cell_type": "markdown",
      "source": [
        "Run the search using the gbrt_minimize"
      ],
      "metadata": {
        "id": "xcCyjDavH9T5"
      }
    },
    {
      "cell_type": "code",
      "source": [
        "from skopt import gbrt_minimize"
      ],
      "metadata": {
        "id": "imHOthM1l7Ei"
      },
      "execution_count": 15,
      "outputs": []
    },
    {
      "cell_type": "code",
      "source": [
        "gbrt_ = gbrt_minimize(func = objective,\n",
        "                      dimensions = params_grid,\n",
        "                      n_calls = 50,\n",
        "                      n_initial_points = 5,\n",
        "                      acq_func = 'EI',\n",
        "                      verbose = 1,\n",
        "                      random_state = 100)"
      ],
      "metadata": {
        "colab": {
          "base_uri": "https://localhost:8080/"
        },
        "id": "aclDi26Fl7B2",
        "outputId": "7b95a5df-06be-4764-a859-93c123163f0f"
      },
      "execution_count": 16,
      "outputs": [
        {
          "output_type": "stream",
          "name": "stdout",
          "text": [
            "Iteration No: 1 started. Evaluating function at random point.\n",
            "Iteration No: 1 ended. Evaluation done at random point.\n",
            "Time taken: 1.8456\n",
            "Function value obtained: -0.8945\n",
            "Current minimum: -0.8945\n",
            "Iteration No: 2 started. Evaluating function at random point.\n",
            "Iteration No: 2 ended. Evaluation done at random point.\n",
            "Time taken: 0.5311\n",
            "Function value obtained: -0.9296\n",
            "Current minimum: -0.9296\n",
            "Iteration No: 3 started. Evaluating function at random point.\n",
            "Iteration No: 3 ended. Evaluation done at random point.\n",
            "Time taken: 0.2028\n",
            "Function value obtained: -0.9497\n",
            "Current minimum: -0.9497\n",
            "Iteration No: 4 started. Evaluating function at random point.\n",
            "Iteration No: 4 ended. Evaluation done at random point.\n",
            "Time taken: 0.1476\n",
            "Function value obtained: -0.9371\n",
            "Current minimum: -0.9497\n",
            "Iteration No: 5 started. Evaluating function at random point.\n",
            "Iteration No: 5 ended. Evaluation done at random point.\n",
            "Time taken: 0.2499\n",
            "Function value obtained: -0.9396\n",
            "Current minimum: -0.9497\n",
            "Iteration No: 6 started. Searching for the next optimal point.\n",
            "Iteration No: 6 ended. Search finished for the next optimal point.\n",
            "Time taken: 0.2236\n",
            "Function value obtained: -0.9421\n",
            "Current minimum: -0.9497\n",
            "Iteration No: 7 started. Searching for the next optimal point.\n",
            "Iteration No: 7 ended. Search finished for the next optimal point.\n",
            "Time taken: 0.2255\n",
            "Function value obtained: -0.9170\n",
            "Current minimum: -0.9497\n",
            "Iteration No: 8 started. Searching for the next optimal point.\n",
            "Iteration No: 8 ended. Search finished for the next optimal point.\n",
            "Time taken: 0.2200\n",
            "Function value obtained: -0.8945\n",
            "Current minimum: -0.9497\n",
            "Iteration No: 9 started. Searching for the next optimal point.\n",
            "Iteration No: 9 ended. Search finished for the next optimal point.\n",
            "Time taken: 0.4564\n",
            "Function value obtained: -0.9547\n",
            "Current minimum: -0.9547\n",
            "Iteration No: 10 started. Searching for the next optimal point.\n",
            "Iteration No: 10 ended. Search finished for the next optimal point.\n",
            "Time taken: 0.4785\n",
            "Function value obtained: -0.9447\n",
            "Current minimum: -0.9547\n",
            "Iteration No: 11 started. Searching for the next optimal point.\n",
            "Iteration No: 11 ended. Search finished for the next optimal point.\n",
            "Time taken: 0.4785\n",
            "Function value obtained: -0.9597\n",
            "Current minimum: -0.9597\n",
            "Iteration No: 12 started. Searching for the next optimal point.\n",
            "Iteration No: 12 ended. Search finished for the next optimal point.\n",
            "Time taken: 0.5503\n",
            "Function value obtained: -0.9622\n",
            "Current minimum: -0.9622\n",
            "Iteration No: 13 started. Searching for the next optimal point.\n",
            "Iteration No: 13 ended. Search finished for the next optimal point.\n",
            "Time taken: 0.4976\n",
            "Function value obtained: -0.9597\n",
            "Current minimum: -0.9622\n",
            "Iteration No: 14 started. Searching for the next optimal point.\n",
            "Iteration No: 14 ended. Search finished for the next optimal point.\n",
            "Time taken: 0.3600\n",
            "Function value obtained: -0.9045\n",
            "Current minimum: -0.9622\n",
            "Iteration No: 15 started. Searching for the next optimal point.\n",
            "Iteration No: 15 ended. Search finished for the next optimal point.\n",
            "Time taken: 0.5145\n",
            "Function value obtained: -0.9623\n",
            "Current minimum: -0.9623\n",
            "Iteration No: 16 started. Searching for the next optimal point.\n",
            "Iteration No: 16 ended. Search finished for the next optimal point.\n",
            "Time taken: 0.5667\n",
            "Function value obtained: -0.9597\n",
            "Current minimum: -0.9623\n",
            "Iteration No: 17 started. Searching for the next optimal point.\n",
            "Iteration No: 17 ended. Search finished for the next optimal point.\n",
            "Time taken: 0.5085\n",
            "Function value obtained: -0.9622\n",
            "Current minimum: -0.9623\n",
            "Iteration No: 18 started. Searching for the next optimal point.\n",
            "Iteration No: 18 ended. Search finished for the next optimal point.\n",
            "Time taken: 0.2508\n",
            "Function value obtained: -0.9095\n",
            "Current minimum: -0.9623\n",
            "Iteration No: 19 started. Searching for the next optimal point.\n",
            "Iteration No: 19 ended. Search finished for the next optimal point.\n",
            "Time taken: 0.5280\n",
            "Function value obtained: -0.9497\n",
            "Current minimum: -0.9623\n",
            "Iteration No: 20 started. Searching for the next optimal point.\n",
            "Iteration No: 20 ended. Search finished for the next optimal point.\n",
            "Time taken: 0.6079\n",
            "Function value obtained: -0.9622\n",
            "Current minimum: -0.9623\n",
            "Iteration No: 21 started. Searching for the next optimal point.\n",
            "Iteration No: 21 ended. Search finished for the next optimal point.\n",
            "Time taken: 0.5747\n",
            "Function value obtained: -0.9572\n",
            "Current minimum: -0.9623\n",
            "Iteration No: 22 started. Searching for the next optimal point.\n",
            "Iteration No: 22 ended. Search finished for the next optimal point.\n",
            "Time taken: 0.7244\n",
            "Function value obtained: -0.9622\n",
            "Current minimum: -0.9623\n",
            "Iteration No: 23 started. Searching for the next optimal point.\n",
            "Iteration No: 23 ended. Search finished for the next optimal point.\n",
            "Time taken: 0.3142\n",
            "Function value obtained: -0.9472\n",
            "Current minimum: -0.9623\n",
            "Iteration No: 24 started. Searching for the next optimal point.\n",
            "Iteration No: 24 ended. Search finished for the next optimal point.\n",
            "Time taken: 0.5404\n",
            "Function value obtained: -0.9572\n",
            "Current minimum: -0.9623\n",
            "Iteration No: 25 started. Searching for the next optimal point.\n",
            "Iteration No: 25 ended. Search finished for the next optimal point.\n",
            "Time taken: 0.5878\n",
            "Function value obtained: -0.9648\n",
            "Current minimum: -0.9648\n",
            "Iteration No: 26 started. Searching for the next optimal point.\n",
            "Iteration No: 26 ended. Search finished for the next optimal point.\n",
            "Time taken: 0.5339\n",
            "Function value obtained: -0.9622\n",
            "Current minimum: -0.9648\n",
            "Iteration No: 27 started. Searching for the next optimal point.\n",
            "Iteration No: 27 ended. Search finished for the next optimal point.\n",
            "Time taken: 0.2673\n",
            "Function value obtained: -0.8945\n",
            "Current minimum: -0.9648\n",
            "Iteration No: 28 started. Searching for the next optimal point.\n",
            "Iteration No: 28 ended. Search finished for the next optimal point.\n",
            "Time taken: 0.2545\n",
            "Function value obtained: -0.8945\n",
            "Current minimum: -0.9648\n",
            "Iteration No: 29 started. Searching for the next optimal point.\n",
            "Iteration No: 29 ended. Search finished for the next optimal point.\n",
            "Time taken: 0.5640\n",
            "Function value obtained: -0.9622\n",
            "Current minimum: -0.9648\n",
            "Iteration No: 30 started. Searching for the next optimal point.\n",
            "Iteration No: 30 ended. Search finished for the next optimal point.\n",
            "Time taken: 0.5558\n",
            "Function value obtained: -0.9572\n",
            "Current minimum: -0.9648\n",
            "Iteration No: 31 started. Searching for the next optimal point.\n",
            "Iteration No: 31 ended. Search finished for the next optimal point.\n",
            "Time taken: 0.5076\n",
            "Function value obtained: -0.9598\n",
            "Current minimum: -0.9648\n",
            "Iteration No: 32 started. Searching for the next optimal point.\n",
            "Iteration No: 32 ended. Search finished for the next optimal point.\n",
            "Time taken: 0.4061\n",
            "Function value obtained: -0.9170\n",
            "Current minimum: -0.9648\n",
            "Iteration No: 33 started. Searching for the next optimal point.\n",
            "Iteration No: 33 ended. Search finished for the next optimal point.\n",
            "Time taken: 0.3889\n",
            "Function value obtained: -0.9547\n",
            "Current minimum: -0.9648\n",
            "Iteration No: 34 started. Searching for the next optimal point.\n",
            "Iteration No: 34 ended. Search finished for the next optimal point.\n",
            "Time taken: 0.5750\n",
            "Function value obtained: -0.9597\n",
            "Current minimum: -0.9648\n",
            "Iteration No: 35 started. Searching for the next optimal point.\n",
            "Iteration No: 35 ended. Search finished for the next optimal point.\n",
            "Time taken: 0.4149\n",
            "Function value obtained: -0.9572\n",
            "Current minimum: -0.9648\n",
            "Iteration No: 36 started. Searching for the next optimal point.\n",
            "Iteration No: 36 ended. Search finished for the next optimal point.\n",
            "Time taken: 0.3231\n",
            "Function value obtained: -0.9497\n",
            "Current minimum: -0.9648\n",
            "Iteration No: 37 started. Searching for the next optimal point.\n",
            "Iteration No: 37 ended. Search finished for the next optimal point.\n",
            "Time taken: 0.3524\n",
            "Function value obtained: -0.9321\n",
            "Current minimum: -0.9648\n",
            "Iteration No: 38 started. Searching for the next optimal point.\n",
            "Iteration No: 38 ended. Search finished for the next optimal point.\n",
            "Time taken: 0.3262\n",
            "Function value obtained: -0.8945\n",
            "Current minimum: -0.9648\n",
            "Iteration No: 39 started. Searching for the next optimal point.\n",
            "Iteration No: 39 ended. Search finished for the next optimal point.\n",
            "Time taken: 0.2958\n",
            "Function value obtained: -0.9270\n",
            "Current minimum: -0.9648\n",
            "Iteration No: 40 started. Searching for the next optimal point.\n",
            "Iteration No: 40 ended. Search finished for the next optimal point.\n",
            "Time taken: 0.5053\n",
            "Function value obtained: -0.9598\n",
            "Current minimum: -0.9648\n",
            "Iteration No: 41 started. Searching for the next optimal point.\n",
            "Iteration No: 41 ended. Search finished for the next optimal point.\n",
            "Time taken: 0.7913\n",
            "Function value obtained: -0.9522\n",
            "Current minimum: -0.9648\n",
            "Iteration No: 42 started. Searching for the next optimal point.\n",
            "Iteration No: 42 ended. Search finished for the next optimal point.\n",
            "Time taken: 0.7982\n",
            "Function value obtained: -0.9371\n",
            "Current minimum: -0.9648\n",
            "Iteration No: 43 started. Searching for the next optimal point.\n",
            "Iteration No: 43 ended. Search finished for the next optimal point.\n",
            "Time taken: 0.4245\n",
            "Function value obtained: -0.9598\n",
            "Current minimum: -0.9648\n",
            "Iteration No: 44 started. Searching for the next optimal point.\n",
            "Iteration No: 44 ended. Search finished for the next optimal point.\n",
            "Time taken: 0.3149\n",
            "Function value obtained: -0.9246\n",
            "Current minimum: -0.9648\n",
            "Iteration No: 45 started. Searching for the next optimal point.\n",
            "Iteration No: 45 ended. Search finished for the next optimal point.\n",
            "Time taken: 0.4122\n",
            "Function value obtained: -0.9598\n",
            "Current minimum: -0.9648\n",
            "Iteration No: 46 started. Searching for the next optimal point.\n",
            "Iteration No: 46 ended. Search finished for the next optimal point.\n",
            "Time taken: 0.4117\n",
            "Function value obtained: -0.9246\n",
            "Current minimum: -0.9648\n",
            "Iteration No: 47 started. Searching for the next optimal point.\n",
            "Iteration No: 47 ended. Search finished for the next optimal point.\n",
            "Time taken: 0.3597\n",
            "Function value obtained: -0.9497\n",
            "Current minimum: -0.9648\n",
            "Iteration No: 48 started. Searching for the next optimal point.\n",
            "Iteration No: 48 ended. Search finished for the next optimal point.\n",
            "Time taken: 0.3874\n",
            "Function value obtained: -0.9045\n",
            "Current minimum: -0.9648\n",
            "Iteration No: 49 started. Searching for the next optimal point.\n",
            "Iteration No: 49 ended. Search finished for the next optimal point.\n",
            "Time taken: 0.3174\n",
            "Function value obtained: -0.9472\n",
            "Current minimum: -0.9648\n",
            "Iteration No: 50 started. Searching for the next optimal point.\n",
            "Iteration No: 50 ended. Search finished for the next optimal point.\n",
            "Time taken: 0.5195\n",
            "Function value obtained: -0.9120\n",
            "Current minimum: -0.9648\n"
          ]
        }
      ]
    },
    {
      "cell_type": "markdown",
      "source": [
        "Explore the search results"
      ],
      "metadata": {
        "id": "TUz1ziu_MzUm"
      }
    },
    {
      "cell_type": "code",
      "source": [
        "# accuracy\n",
        "gbrt_.fun"
      ],
      "metadata": {
        "colab": {
          "base_uri": "https://localhost:8080/"
        },
        "id": "KusvZs7AJf8H",
        "outputId": "85ba8d57-3465-4925-b374-9b9efd86b57a"
      },
      "execution_count": 17,
      "outputs": [
        {
          "output_type": "execute_result",
          "data": {
            "text/plain": [
              "-0.9647784810126583"
            ]
          },
          "metadata": {},
          "execution_count": 17
        }
      ]
    },
    {
      "cell_type": "code",
      "source": [
        "# best parameters\n",
        "gbrt_.x"
      ],
      "metadata": {
        "colab": {
          "base_uri": "https://localhost:8080/"
        },
        "id": "ejnAdPZAKp0n",
        "outputId": "d4bc5405-3dc0-4014-8222-80104ea76026"
      },
      "execution_count": 18,
      "outputs": [
        {
          "output_type": "execute_result",
          "data": {
            "text/plain": [
              "[91, 7, 0.08093276735058283, 0.001061958896590194, 'exponential']"
            ]
          },
          "metadata": {},
          "execution_count": 18
        }
      ]
    },
    {
      "cell_type": "code",
      "source": [
        "hyper_parameters = ['n_estimators','max_depth','learning_rate','min_samples_split','loss']"
      ],
      "metadata": {
        "id": "tQnoyYoVMU1D"
      },
      "execution_count": 19,
      "outputs": []
    },
    {
      "cell_type": "code",
      "source": [
        "# hyperparameter combinations\n",
        "gbrt_.x_iters"
      ],
      "metadata": {
        "colab": {
          "base_uri": "https://localhost:8080/"
        },
        "id": "aYVYzUqTK6Yg",
        "outputId": "ae4138fb-5b30-4653-c52d-7e73cc4fd626"
      },
      "execution_count": 20,
      "outputs": [
        {
          "output_type": "execute_result",
          "data": {
            "text/plain": [
              "[[18, 1, 0.0036036181878858747, 0.018765853187758735, 'deviance'],\n",
              " [104, 5, 0.001750403776179903, 0.10279116915922727, 'deviance'],\n",
              " [34, 8, 0.06062390517439188, 0.0042414608781566, 'exponential'],\n",
              " [19, 6, 0.0027503944643483894, 0.8618786655442375, 'deviance'],\n",
              " [11, 6, 0.042899230036160536, 0.0066389921151654525, 'exponential'],\n",
              " [11, 2, 0.0992106766639873, 0.0013991985621780029, 'exponential'],\n",
              " [14, 1, 0.09210611171966027, 0.002079657085072974, 'exponential'],\n",
              " [12, 1, 0.0045306389559153235, 0.02723334789566428, 'deviance'],\n",
              " [63, 8, 0.08499121596020912, 0.0017729016060427367, 'exponential'],\n",
              " [52, 8, 0.05436851134417421, 0.0017846014652793014, 'exponential'],\n",
              " [63, 8, 0.08154132237655261, 0.001037665199966924, 'exponential'],\n",
              " [81, 7, 0.07140014314593612, 0.0010245223743556274, 'exponential'],\n",
              " [45, 8, 0.07823346124440209, 0.0010359299669159073, 'deviance'],\n",
              " [105, 1, 0.0014285041360669094, 0.001006367863693363, 'deviance'],\n",
              " [78, 8, 0.08075868244471138, 0.001130776605470219, 'exponential'],\n",
              " [91, 7, 0.06840844916106402, 0.0011032299992195583, 'exponential'],\n",
              " [80, 7, 0.08270276858262189, 0.001254387825004467, 'exponential'],\n",
              " [11, 1, 0.01699019509998487, 0.3694786614362703, 'exponential'],\n",
              " [80, 7, 0.08946474849193273, 0.0012330980355423488, 'exponential'],\n",
              " [111, 7, 0.07927285839089346, 0.0010841522112401687, 'deviance'],\n",
              " [95, 7, 0.08241146910218604, 0.001178535027330333, 'exponential'],\n",
              " [118, 7, 0.08001925012272629, 0.030415750208738237, 'deviance'],\n",
              " [11, 7, 0.07586373675641532, 0.0011015590271016777, 'deviance'],\n",
              " [71, 8, 0.07996674880641061, 0.0011424559368530607, 'exponential'],\n",
              " [91, 7, 0.08093276735058283, 0.001061958896590194, 'exponential'],\n",
              " [77, 8, 0.07931614662750679, 0.0010845782510829631, 'deviance'],\n",
              " [12, 1, 0.008450121737385607, 0.027457022480197796, 'exponential'],\n",
              " [12, 1, 0.002526292585105148, 0.03404858626005922, 'exponential'],\n",
              " [85, 7, 0.07483281319488688, 0.0010105694244730591, 'deviance'],\n",
              " [84, 8, 0.07572077830374757, 0.0010438416512334858, 'exponential'],\n",
              " [116, 1, 0.08181054387869324, 0.17276581736967683, 'exponential'],\n",
              " [119, 1, 0.010036238425177096, 0.7177636919166046, 'deviance'],\n",
              " [113, 1, 0.0810754698552131, 0.8430727576449917, 'exponential'],\n",
              " [101, 7, 0.08089736499778809, 0.0010204748856121647, 'deviance'],\n",
              " [118, 1, 0.09523234889510715, 0.06860147354511914, 'deviance'],\n",
              " [44, 1, 0.09260575390777932, 0.2498927197825281, 'deviance'],\n",
              " [18, 7, 0.0014622088697003924, 0.057455920596203615, 'exponential'],\n",
              " [40, 1, 0.0034626154724534627, 0.006766113061514295, 'deviance'],\n",
              " [22, 1, 0.07789650557548614, 0.04665123551852398, 'deviance'],\n",
              " [119, 1, 0.08039924673222576, 0.002640902687962104, 'exponential'],\n",
              " [116, 7, 0.02542989565156589, 0.0010588950502979993, 'deviance'],\n",
              " [109, 8, 0.004283569695811542, 0.0011656921492578206, 'deviance'],\n",
              " [120, 1, 0.0791428347884196, 0.002666570405783035, 'exponential'],\n",
              " [15, 1, 0.09892449077374149, 0.414058143063704, 'deviance'],\n",
              " [115, 1, 0.077618408440285, 0.176216298778421, 'deviance'],\n",
              " [57, 2, 0.002124105037778461, 0.0010817932263087564, 'deviance'],\n",
              " [14, 8, 0.09442957171221968, 0.0014003082254423138, 'exponential'],\n",
              " [87, 1, 0.0022671139199259317, 0.28488086848743494, 'deviance'],\n",
              " [45, 1, 0.09555277068115614, 0.0010124744037193082, 'exponential'],\n",
              " [116, 1, 0.00549309529298773, 0.0237404323034675, 'exponential']]"
            ]
          },
          "metadata": {},
          "execution_count": 20
        }
      ]
    },
    {
      "cell_type": "code",
      "source": [
        "# accuracy (metric) in each iterations\n",
        "gbrt_.func_vals"
      ],
      "metadata": {
        "colab": {
          "base_uri": "https://localhost:8080/"
        },
        "id": "K-Bik5jXL1a3",
        "outputId": "5ec6959e-7c1f-4573-9287-f738f41ad4fc"
      },
      "execution_count": 21,
      "outputs": [
        {
          "output_type": "execute_result",
          "data": {
            "text/plain": [
              "array([-0.89449367, -0.92955696, -0.9496519 , -0.93712025, -0.93958861,\n",
              "       -0.94212025, -0.91699367, -0.89449367, -0.95471519, -0.9446519 ,\n",
              "       -0.95974684, -0.96224684, -0.95974684, -0.90446203, -0.96227848,\n",
              "       -0.95971519, -0.96224684, -0.90946203, -0.9496519 , -0.96224684,\n",
              "       -0.95721519, -0.96221519, -0.9471519 , -0.95721519, -0.96477848,\n",
              "       -0.96224684, -0.89449367, -0.89449367, -0.96224684, -0.95718354,\n",
              "       -0.95977848, -0.91702532, -0.95474684, -0.95971519, -0.95721519,\n",
              "       -0.94971519, -0.93212025, -0.89446203, -0.92702532, -0.95977848,\n",
              "       -0.95221519, -0.93712025, -0.95977848, -0.92455696, -0.95977848,\n",
              "       -0.92458861, -0.9496519 , -0.90446203, -0.94721519, -0.91199367])"
            ]
          },
          "metadata": {},
          "execution_count": 21
        }
      ]
    },
    {
      "cell_type": "code",
      "source": [
        "hyper_combo = pd.DataFrame(gbrt_.x_iters)\n",
        "metric = pd.DataFrame(abs(gbrt_.func_vals))\n",
        "tmp = pd.concat([hyper_combo,metric], axis = 1)\n",
        "tmp.columns = hyper_parameters + ['metric']\n",
        "tmp.sort_values(by = 'metric', ascending = False, inplace = True)\n",
        "tmp.head()"
      ],
      "metadata": {
        "colab": {
          "base_uri": "https://localhost:8080/",
          "height": 206
        },
        "id": "TXbGHnOlMBTz",
        "outputId": "d091f15c-cd39-4d9e-f87a-13c1daa73ad4"
      },
      "execution_count": 22,
      "outputs": [
        {
          "output_type": "execute_result",
          "data": {
            "text/plain": [
              "    n_estimators  max_depth  learning_rate  min_samples_split         loss  \\\n",
              "24            91          7       0.080933           0.001062  exponential   \n",
              "14            78          8       0.080759           0.001131  exponential   \n",
              "19           111          7       0.079273           0.001084     deviance   \n",
              "16            80          7       0.082703           0.001254  exponential   \n",
              "11            81          7       0.071400           0.001025  exponential   \n",
              "\n",
              "      metric  \n",
              "24  0.964778  \n",
              "14  0.962278  \n",
              "19  0.962247  \n",
              "16  0.962247  \n",
              "11  0.962247  "
            ],
            "text/html": [
              "\n",
              "  <div id=\"df-16d6a5cf-ca42-4f31-90a1-3a860450d78b\">\n",
              "    <div class=\"colab-df-container\">\n",
              "      <div>\n",
              "<style scoped>\n",
              "    .dataframe tbody tr th:only-of-type {\n",
              "        vertical-align: middle;\n",
              "    }\n",
              "\n",
              "    .dataframe tbody tr th {\n",
              "        vertical-align: top;\n",
              "    }\n",
              "\n",
              "    .dataframe thead th {\n",
              "        text-align: right;\n",
              "    }\n",
              "</style>\n",
              "<table border=\"1\" class=\"dataframe\">\n",
              "  <thead>\n",
              "    <tr style=\"text-align: right;\">\n",
              "      <th></th>\n",
              "      <th>n_estimators</th>\n",
              "      <th>max_depth</th>\n",
              "      <th>learning_rate</th>\n",
              "      <th>min_samples_split</th>\n",
              "      <th>loss</th>\n",
              "      <th>metric</th>\n",
              "    </tr>\n",
              "  </thead>\n",
              "  <tbody>\n",
              "    <tr>\n",
              "      <th>24</th>\n",
              "      <td>91</td>\n",
              "      <td>7</td>\n",
              "      <td>0.080933</td>\n",
              "      <td>0.001062</td>\n",
              "      <td>exponential</td>\n",
              "      <td>0.964778</td>\n",
              "    </tr>\n",
              "    <tr>\n",
              "      <th>14</th>\n",
              "      <td>78</td>\n",
              "      <td>8</td>\n",
              "      <td>0.080759</td>\n",
              "      <td>0.001131</td>\n",
              "      <td>exponential</td>\n",
              "      <td>0.962278</td>\n",
              "    </tr>\n",
              "    <tr>\n",
              "      <th>19</th>\n",
              "      <td>111</td>\n",
              "      <td>7</td>\n",
              "      <td>0.079273</td>\n",
              "      <td>0.001084</td>\n",
              "      <td>deviance</td>\n",
              "      <td>0.962247</td>\n",
              "    </tr>\n",
              "    <tr>\n",
              "      <th>16</th>\n",
              "      <td>80</td>\n",
              "      <td>7</td>\n",
              "      <td>0.082703</td>\n",
              "      <td>0.001254</td>\n",
              "      <td>exponential</td>\n",
              "      <td>0.962247</td>\n",
              "    </tr>\n",
              "    <tr>\n",
              "      <th>11</th>\n",
              "      <td>81</td>\n",
              "      <td>7</td>\n",
              "      <td>0.071400</td>\n",
              "      <td>0.001025</td>\n",
              "      <td>exponential</td>\n",
              "      <td>0.962247</td>\n",
              "    </tr>\n",
              "  </tbody>\n",
              "</table>\n",
              "</div>\n",
              "      <button class=\"colab-df-convert\" onclick=\"convertToInteractive('df-16d6a5cf-ca42-4f31-90a1-3a860450d78b')\"\n",
              "              title=\"Convert this dataframe to an interactive table.\"\n",
              "              style=\"display:none;\">\n",
              "        \n",
              "  <svg xmlns=\"http://www.w3.org/2000/svg\" height=\"24px\"viewBox=\"0 0 24 24\"\n",
              "       width=\"24px\">\n",
              "    <path d=\"M0 0h24v24H0V0z\" fill=\"none\"/>\n",
              "    <path d=\"M18.56 5.44l.94 2.06.94-2.06 2.06-.94-2.06-.94-.94-2.06-.94 2.06-2.06.94zm-11 1L8.5 8.5l.94-2.06 2.06-.94-2.06-.94L8.5 2.5l-.94 2.06-2.06.94zm10 10l.94 2.06.94-2.06 2.06-.94-2.06-.94-.94-2.06-.94 2.06-2.06.94z\"/><path d=\"M17.41 7.96l-1.37-1.37c-.4-.4-.92-.59-1.43-.59-.52 0-1.04.2-1.43.59L10.3 9.45l-7.72 7.72c-.78.78-.78 2.05 0 2.83L4 21.41c.39.39.9.59 1.41.59.51 0 1.02-.2 1.41-.59l7.78-7.78 2.81-2.81c.8-.78.8-2.07 0-2.86zM5.41 20L4 18.59l7.72-7.72 1.47 1.35L5.41 20z\"/>\n",
              "  </svg>\n",
              "      </button>\n",
              "      \n",
              "  <style>\n",
              "    .colab-df-container {\n",
              "      display:flex;\n",
              "      flex-wrap:wrap;\n",
              "      gap: 12px;\n",
              "    }\n",
              "\n",
              "    .colab-df-convert {\n",
              "      background-color: #E8F0FE;\n",
              "      border: none;\n",
              "      border-radius: 50%;\n",
              "      cursor: pointer;\n",
              "      display: none;\n",
              "      fill: #1967D2;\n",
              "      height: 32px;\n",
              "      padding: 0 0 0 0;\n",
              "      width: 32px;\n",
              "    }\n",
              "\n",
              "    .colab-df-convert:hover {\n",
              "      background-color: #E2EBFA;\n",
              "      box-shadow: 0px 1px 2px rgba(60, 64, 67, 0.3), 0px 1px 3px 1px rgba(60, 64, 67, 0.15);\n",
              "      fill: #174EA6;\n",
              "    }\n",
              "\n",
              "    [theme=dark] .colab-df-convert {\n",
              "      background-color: #3B4455;\n",
              "      fill: #D2E3FC;\n",
              "    }\n",
              "\n",
              "    [theme=dark] .colab-df-convert:hover {\n",
              "      background-color: #434B5C;\n",
              "      box-shadow: 0px 1px 3px 1px rgba(0, 0, 0, 0.15);\n",
              "      filter: drop-shadow(0px 1px 2px rgba(0, 0, 0, 0.3));\n",
              "      fill: #FFFFFF;\n",
              "    }\n",
              "  </style>\n",
              "\n",
              "      <script>\n",
              "        const buttonEl =\n",
              "          document.querySelector('#df-16d6a5cf-ca42-4f31-90a1-3a860450d78b button.colab-df-convert');\n",
              "        buttonEl.style.display =\n",
              "          google.colab.kernel.accessAllowed ? 'block' : 'none';\n",
              "\n",
              "        async function convertToInteractive(key) {\n",
              "          const element = document.querySelector('#df-16d6a5cf-ca42-4f31-90a1-3a860450d78b');\n",
              "          const dataTable =\n",
              "            await google.colab.kernel.invokeFunction('convertToInteractive',\n",
              "                                                     [key], {});\n",
              "          if (!dataTable) return;\n",
              "\n",
              "          const docLinkHtml = 'Like what you see? Visit the ' +\n",
              "            '<a target=\"_blank\" href=https://colab.research.google.com/notebooks/data_table.ipynb>data table notebook</a>'\n",
              "            + ' to learn more about interactive tables.';\n",
              "          element.innerHTML = '';\n",
              "          dataTable['output_type'] = 'display_data';\n",
              "          await google.colab.output.renderOutput(dataTable, element);\n",
              "          const docLink = document.createElement('div');\n",
              "          docLink.innerHTML = docLinkHtml;\n",
              "          element.appendChild(docLink);\n",
              "        }\n",
              "      </script>\n",
              "    </div>\n",
              "  </div>\n",
              "  "
            ]
          },
          "metadata": {},
          "execution_count": 22
        }
      ]
    },
    {
      "cell_type": "code",
      "source": [
        "best_params = tmp.drop('metric', axis = 1).iloc[0,:].to_dict()\n",
        "best_params"
      ],
      "metadata": {
        "colab": {
          "base_uri": "https://localhost:8080/"
        },
        "id": "5qcVBFXFOtzT",
        "outputId": "78caebad-08d6-401f-d779-04c4ec1cdb62"
      },
      "execution_count": 23,
      "outputs": [
        {
          "output_type": "execute_result",
          "data": {
            "text/plain": [
              "{'n_estimators': 91,\n",
              " 'max_depth': 7,\n",
              " 'learning_rate': 0.08093276735058283,\n",
              " 'min_samples_split': 0.001061958896590194,\n",
              " 'loss': 'exponential'}"
            ]
          },
          "metadata": {},
          "execution_count": 23
        }
      ]
    },
    {
      "cell_type": "markdown",
      "source": [
        "Lets Explor the convergence, evalations plots"
      ],
      "metadata": {
        "id": "V8gTAyRGPmBZ"
      }
    },
    {
      "cell_type": "code",
      "source": [
        "from skopt.plots import plot_convergence,plot_evaluations,plot_objective"
      ],
      "metadata": {
        "id": "dXG-VN7sPTgv"
      },
      "execution_count": 24,
      "outputs": []
    },
    {
      "cell_type": "code",
      "source": [
        "plot_convergence(gbrt_)\n",
        "plt.show()"
      ],
      "metadata": {
        "colab": {
          "base_uri": "https://localhost:8080/",
          "height": 297
        },
        "id": "ZZ0lyJ8gPx8l",
        "outputId": "ebfa563b-4314-4020-8576-95a7a2492ba9"
      },
      "execution_count": 25,
      "outputs": [
        {
          "output_type": "display_data",
          "data": {
            "text/plain": [
              "<Figure size 432x288 with 1 Axes>"
            ],
            "image/png": "[encoded data removed]"
          },
          "metadata": {
            "needs_background": "light"
          }
        }
      ]
    },
    {
      "cell_type": "code",
      "source": [
        "plot_evaluations(gbrt_)\n",
        "plt.show()"
      ],
      "metadata": {
        "colab": {
          "base_uri": "https://localhost:8080/",
          "height": 757
        },
        "id": "sMJt0jKPP2_K",
        "outputId": "ed25fafb-8400-479e-b1e2-45687f21e3ec"
      },
      "execution_count": 26,
      "outputs": [
        {
          "output_type": "display_data",
          "data": {
            "text/plain": [
              "<Figure size 720x720 with 25 Axes>"
            ],
            "image/png": "[encoded data removed]"
          },
          "metadata": {
            "needs_background": "light"
          }
        }
      ]
    },
    {
      "cell_type": "code",
      "source": [
        "plot_objective(gbrt_)\n",
        "plt.show()"
      ],
      "metadata": {
        "colab": {
          "base_uri": "https://localhost:8080/",
          "height": 757
        },
        "id": "KtB1cXwvf7KA",
        "outputId": "59373f7b-954f-47f6-aad3-ca11939cbd0b"
      },
      "execution_count": 27,
      "outputs": [
        {
          "output_type": "display_data",
          "data": {
            "text/plain": [
              "<Figure size 720x720 with 25 Axes>"
            ],
            "image/png": "[encoded data removed]"
          },
          "metadata": {
            "needs_background": "light"
          }
        }
      ]
    },
    {
      "cell_type": "markdown",
      "source": [
        "Generate the final model"
      ],
      "metadata": {
        "id": "Dke4gPEkQTMR"
      }
    },
    {
      "cell_type": "code",
      "source": [
        "model = XGBClassifier(n_estimators = best_params['n_estimators'],\n",
        "                      max_depth = best_params['max_depth'],\n",
        "                      min_samples_split = best_params['min_samples_split'],\n",
        "                      learning_rate = best_params['learning_rate'],\n",
        "                      loss = best_params['loss'])"
      ],
      "metadata": {
        "id": "yPEwryKDQIrJ"
      },
      "execution_count": 28,
      "outputs": []
    },
    {
      "cell_type": "code",
      "source": [
        "model.get_xgb_params"
      ],
      "metadata": {
        "colab": {
          "base_uri": "https://localhost:8080/"
        },
        "id": "S2EQxGDwQkZ8",
        "outputId": "caae491f-476c-47f7-ac36-06fed0593986"
      },
      "execution_count": 29,
      "outputs": [
        {
          "output_type": "execute_result",
          "data": {
            "text/plain": [
              "<bound method XGBModel.get_xgb_params of XGBClassifier(learning_rate=0.08093276735058283, loss='exponential',\n",
              "              max_depth=7, min_samples_split=0.001061958896590194,\n",
              "              n_estimators=91)>"
            ]
          },
          "metadata": {},
          "execution_count": 29
        }
      ]
    },
    {
      "cell_type": "code",
      "source": [
        "model.fit(X_train,y_train)"
      ],
      "metadata": {
        "colab": {
          "base_uri": "https://localhost:8080/"
        },
        "id": "u72MKYnnQtod",
        "outputId": "26fb9914-257e-41ab-be93-915d9027fa55"
      },
      "execution_count": 30,
      "outputs": [
        {
          "output_type": "execute_result",
          "data": {
            "text/plain": [
              "XGBClassifier(learning_rate=0.08093276735058283, loss='exponential',\n",
              "              max_depth=7, min_samples_split=0.001061958896590194,\n",
              "              n_estimators=91)"
            ]
          },
          "metadata": {},
          "execution_count": 30
        }
      ]
    },
    {
      "cell_type": "markdown",
      "source": [
        "Evaluate the final model"
      ],
      "metadata": {
        "id": "r1B37M4IbcPq"
      }
    },
    {
      "cell_type": "code",
      "source": [
        "from sklearn.metrics import accuracy_score"
      ],
      "metadata": {
        "id": "RXKUw1JGb25S"
      },
      "execution_count": 31,
      "outputs": []
    },
    {
      "cell_type": "code",
      "source": [
        "print('train accuracy : ',accuracy_score(y_train,model.predict(X_train)))\n",
        "print('test accuracy : ',accuracy_score(y_test,model.predict(X_test)))"
      ],
      "metadata": {
        "colab": {
          "base_uri": "https://localhost:8080/"
        },
        "id": "r3-vlSPDQzuV",
        "outputId": "2559c08a-f6fa-434b-c6cb-dafc1ca780a6"
      },
      "execution_count": 32,
      "outputs": [
        {
          "output_type": "stream",
          "name": "stdout",
          "text": [
            "train accuracy :  1.0\n",
            "test accuracy :  0.9766081871345029\n"
          ]
        }
      ]
    }
  ]
}