{
  "nbformat": 4,
  "nbformat_minor": 0,
  "metadata": {
    "colab": {
      "provenance": [],
      "authorship_tag": "ABX9TyNIkYJXF4TYkWHId7PO+6Nf",
      "include_colab_link": true
    },
    "kernelspec": {
      "name": "python3",
      "display_name": "Python 3"
    },
    "language_info": {
      "name": "python"
    }
  },
  "cells": [
    {
      "cell_type": "markdown",
      "metadata": {
        "id": "view-in-github",
        "colab_type": "text"
      },
      "source": [
        "<a href=\"https://colab.research.google.com/github/rahulrajpr/AdvancedHyperParameterOptimisation/blob/HyperOpt/HyperOpt_MultiModel_Search.ipynb\" target=\"_parent\"><img src=\"https://colab.research.google.com/assets/colab-badge.svg\" alt=\"Open In Colab\"/></a>"
      ]
    },
    {
      "cell_type": "markdown",
      "source": [
        "**Hyperopt MultiModel Optimization**\n",
        "\n",
        " - Optimizing mutiple models with thier own hyperparameter spaces in a seach using the customisability of the hyperopt library\n",
        "\n",
        " - The hyper parameter space design includes the follwing\n",
        "\n",
        " 1. The Model\n",
        " 2. The Model - Hyperparameters\n",
        "\n",
        " 3. The Search finds the best model as well as the best hyperprameters for the model"
      ],
      "metadata": {
        "id": "8vSkC4tdBwlc"
      }
    },
    {
      "cell_type": "code",
      "execution_count": 1,
      "metadata": {
        "id": "JKtLfAqoBeLK"
      },
      "outputs": [],
      "source": [
        "import pandas as pd\n",
        "import numpy as np\n",
        "import matplotlib.pyplot as plt\n",
        "import seaborn as sns\n",
        "import warnings\n",
        "warnings.filterwarnings('ignore')"
      ]
    },
    {
      "cell_type": "code",
      "source": [
        "from sklearn.datasets import load_breast_cancer"
      ],
      "metadata": {
        "id": "vzr0wB2xBvuu"
      },
      "execution_count": 2,
      "outputs": []
    },
    {
      "cell_type": "code",
      "source": [
        "dataset = load_breast_cancer()\n",
        "data = dataset.data\n",
        "target = dataset.target\n",
        "columns = dataset.feature_names\n",
        "df = pd.DataFrame(data = data, columns = columns)\n",
        "df['target'] = target\n",
        "df.info()"
      ],
      "metadata": {
        "colab": {
          "base_uri": "https://localhost:8080/"
        },
        "id": "4ZS2JySkC3Q1",
        "outputId": "c2e86cbb-09e8-42ac-ed6d-c20b185f5693"
      },
      "execution_count": 3,
      "outputs": [
        {
          "output_type": "stream",
          "name": "stdout",
          "text": [
            "<class 'pandas.core.frame.DataFrame'>\n",
            "RangeIndex: 569 entries, 0 to 568\n",
            "Data columns (total 31 columns):\n",
            " #   Column                   Non-Null Count  Dtype  \n",
            "---  ------                   --------------  -----  \n",
            " 0   mean radius              569 non-null    float64\n",
            " 1   mean texture             569 non-null    float64\n",
            " 2   mean perimeter           569 non-null    float64\n",
            " 3   mean area                569 non-null    float64\n",
            " 4   mean smoothness          569 non-null    float64\n",
            " 5   mean compactness         569 non-null    float64\n",
            " 6   mean concavity           569 non-null    float64\n",
            " 7   mean concave points      569 non-null    float64\n",
            " 8   mean symmetry            569 non-null    float64\n",
            " 9   mean fractal dimension   569 non-null    float64\n",
            " 10  radius error             569 non-null    float64\n",
            " 11  texture error            569 non-null    float64\n",
            " 12  perimeter error          569 non-null    float64\n",
            " 13  area error               569 non-null    float64\n",
            " 14  smoothness error         569 non-null    float64\n",
            " 15  compactness error        569 non-null    float64\n",
            " 16  concavity error          569 non-null    float64\n",
            " 17  concave points error     569 non-null    float64\n",
            " 18  symmetry error           569 non-null    float64\n",
            " 19  fractal dimension error  569 non-null    float64\n",
            " 20  worst radius             569 non-null    float64\n",
            " 21  worst texture            569 non-null    float64\n",
            " 22  worst perimeter          569 non-null    float64\n",
            " 23  worst area               569 non-null    float64\n",
            " 24  worst smoothness         569 non-null    float64\n",
            " 25  worst compactness        569 non-null    float64\n",
            " 26  worst concavity          569 non-null    float64\n",
            " 27  worst concave points     569 non-null    float64\n",
            " 28  worst symmetry           569 non-null    float64\n",
            " 29  worst fractal dimension  569 non-null    float64\n",
            " 30  target                   569 non-null    int64  \n",
            "dtypes: float64(30), int64(1)\n",
            "memory usage: 137.9 KB\n"
          ]
        }
      ]
    },
    {
      "cell_type": "code",
      "source": [
        "X = df.drop('target', axis =1)\n",
        "y = df['target']"
      ],
      "metadata": {
        "id": "F6R2vf12DMS8"
      },
      "execution_count": 4,
      "outputs": []
    },
    {
      "cell_type": "code",
      "source": [
        "from sklearn.model_selection import train_test_split"
      ],
      "metadata": {
        "id": "IOkn7tQ7DU1f"
      },
      "execution_count": 5,
      "outputs": []
    },
    {
      "cell_type": "code",
      "source": [
        "X_train,X_test,y_train,y_test = train_test_split(X,y,train_size = 0.7, random_state = 100, stratify = y)"
      ],
      "metadata": {
        "id": "0a58gnZNDaJz"
      },
      "execution_count": 6,
      "outputs": []
    },
    {
      "cell_type": "markdown",
      "source": [
        "Define the parameter space"
      ],
      "metadata": {
        "id": "FfNk_Y-hESD-"
      }
    },
    {
      "cell_type": "code",
      "source": [
        "from hyperopt import hp"
      ],
      "metadata": {
        "id": "FCVYua4iEG8Z"
      },
      "execution_count": 7,
      "outputs": []
    },
    {
      "cell_type": "code",
      "source": [
        "from sklearn.linear_model import LogisticRegression\n",
        "from sklearn.ensemble import RandomForestClassifier\n",
        "from sklearn.ensemble import GradientBoostingClassifier"
      ],
      "metadata": {
        "id": "KhaXztKAiSjg"
      },
      "execution_count": 28,
      "outputs": []
    },
    {
      "cell_type": "markdown",
      "source": [
        "Lets Define the hyperparameter space with optinal model and their hyperparameters"
      ],
      "metadata": {
        "id": "cJHop6lIla8S"
      }
    },
    {
      "cell_type": "code",
      "source": [
        "param_grid = hp.choice('classifier', [\n",
        "    \n",
        "    # algo 1\n",
        "    {'model': LogisticRegression,\n",
        "    'params': {\n",
        "        'penalty': hp.choice('penalty', ['l1','l2']),\n",
        "        'C' : hp.uniform('C', 0.001, 10),\n",
        "        'solver': 'saga', # the only solver that works with both penalties\n",
        "    }},\n",
        "    \n",
        "    # algo 2\n",
        "    {'model': RandomForestClassifier,\n",
        "    'params': {\n",
        "        'n_estimators': hp.quniform('n_estimators_rf', 50, 1500, 50),\n",
        "        'max_depth': hp.quniform('max_depth_rf', 1, 5, 1),\n",
        "        'criterion': hp.choice('criterion_rf', ['gini', 'entropy']),\n",
        "    }},\n",
        "    \n",
        "    # algo 3\n",
        "    {'model': GradientBoostingClassifier,\n",
        "    'params': {\n",
        "        'n_estimators': hp.quniform('n_estimators_gbm', 50, 1500, 50),\n",
        "        'max_depth': hp.quniform('max_depth_gbm', 1, 5, 1),\n",
        "        'criterion': hp.choice('criterion_gbm', ['friedman_mse', 'mse']),\n",
        "    }},\n",
        "])"
      ],
      "metadata": {
        "id": "dXbpEsY0hrEi"
      },
      "execution_count": 32,
      "outputs": []
    },
    {
      "cell_type": "markdown",
      "source": [
        "Define the objective Function"
      ],
      "metadata": {
        "id": "WHwpnXKwJEzq"
      }
    },
    {
      "cell_type": "code",
      "source": [
        "from sklearn.model_selection import cross_val_score"
      ],
      "metadata": {
        "id": "BMrjjd-TKwvc"
      },
      "execution_count": 13,
      "outputs": []
    },
    {
      "cell_type": "code",
      "source": [
        "def objective(params):\n",
        "\n",
        "  model = params['model']()\n",
        "  param_space = params['params']\n",
        "\n",
        "  try:\n",
        "\n",
        "    param_space['n_estimators'] = int(param_space['n_estimators'])\n",
        "    param_space['max_depth'] = int(param_space['max_depth'])\n",
        "\n",
        "  except:\n",
        "    pass\n",
        "\n",
        "  model.set_params(**param_space)\n",
        "\n",
        "  scores = cross_val_score(estimator = model,\n",
        "                           X = X_train,\n",
        "                           y = y_train,\n",
        "                           scoring = 'accuracy',\n",
        "                           cv = 5,\n",
        "                           n_jobs = -1)\n",
        "  \n",
        "  mean = np.mean(scores)\n",
        "\n",
        "  return -mean"
      ],
      "metadata": {
        "id": "ra0OPNNLlp2h"
      },
      "execution_count": 33,
      "outputs": []
    },
    {
      "cell_type": "markdown",
      "source": [
        "Define and run the search"
      ],
      "metadata": {
        "id": "3DeIkhg5La0a"
      }
    },
    {
      "cell_type": "code",
      "source": [
        "from hyperopt import fmin\n",
        "from hyperopt import anneal\n",
        "from hyperopt import Trials"
      ],
      "metadata": {
        "id": "ydXyvFHpJAMl"
      },
      "execution_count": 16,
      "outputs": []
    },
    {
      "cell_type": "code",
      "source": [
        "trials = Trials()\n",
        "search = fmin(fn = objective,\n",
        "              space = param_grid,\n",
        "              algo = anneal.suggest,\n",
        "              max_evals = 50,\n",
        "              rstate = np.random.RandomState(100),\n",
        "              trials = trials)\n",
        "%time"
      ],
      "metadata": {
        "colab": {
          "base_uri": "https://localhost:8080/"
        },
        "id": "fsyG6NNCn-AI",
        "outputId": "d0bee9bc-f951-4a84-89c4-8baf171d2cdd"
      },
      "execution_count": 34,
      "outputs": [
        {
          "output_type": "stream",
          "name": "stdout",
          "text": [
            "100%|██████████| 50/50 [05:08<00:00,  6.17s/it, best loss: -0.9597151898734178]\n",
            "CPU times: user 6 µs, sys: 1 µs, total: 7 µs\n",
            "Wall time: 10.7 µs\n"
          ]
        }
      ]
    },
    {
      "cell_type": "markdown",
      "source": [
        "Explore the search results"
      ],
      "metadata": {
        "id": "j9u_-fbqurER"
      }
    },
    {
      "cell_type": "code",
      "source": [
        "search"
      ],
      "metadata": {
        "colab": {
          "base_uri": "https://localhost:8080/"
        },
        "id": "yj94rDSzsl3Z",
        "outputId": "05d0959c-e44d-4231-de00-444d725e462e"
      },
      "execution_count": 35,
      "outputs": [
        {
          "output_type": "execute_result",
          "data": {
            "text/plain": [
              "{'classifier': 2,\n",
              " 'criterion_gbm': 1,\n",
              " 'max_depth_gbm': 1.0,\n",
              " 'n_estimators_gbm': 1300.0}"
            ]
          },
          "metadata": {},
          "execution_count": 35
        }
      ]
    },
    {
      "cell_type": "code",
      "source": [
        "# best parameters\n",
        "trials.argmin"
      ],
      "metadata": {
        "colab": {
          "base_uri": "https://localhost:8080/"
        },
        "id": "LiRIjC6hu3gq",
        "outputId": "8c6a3ca2-4d34-4e73-b965-0937f30c5954"
      },
      "execution_count": 42,
      "outputs": [
        {
          "output_type": "execute_result",
          "data": {
            "text/plain": [
              "{'classifier': 2,\n",
              " 'criterion_gbm': 1,\n",
              " 'max_depth_gbm': 1.0,\n",
              " 'n_estimators_gbm': 1300.0}"
            ]
          },
          "metadata": {},
          "execution_count": 42
        }
      ]
    },
    {
      "cell_type": "code",
      "source": [
        "# best accuracy\n",
        "trials.average_best_error()"
      ],
      "metadata": {
        "colab": {
          "base_uri": "https://localhost:8080/"
        },
        "id": "yZqN-wDdvBbr",
        "outputId": "77ce676f-d2a1-43d9-af4e-740a901fb8c8"
      },
      "execution_count": 44,
      "outputs": [
        {
          "output_type": "execute_result",
          "data": {
            "text/plain": [
              "-0.9597151898734178"
            ]
          },
          "metadata": {},
          "execution_count": 44
        }
      ]
    },
    {
      "cell_type": "code",
      "source": [
        "trials.best_trial"
      ],
      "metadata": {
        "colab": {
          "base_uri": "https://localhost:8080/"
        },
        "id": "2_QdwJKnvOCA",
        "outputId": "109af284-c36e-4513-98f9-7c5bf8fd75c2"
      },
      "execution_count": 45,
      "outputs": [
        {
          "output_type": "execute_result",
          "data": {
            "text/plain": [
              "{'state': 2,\n",
              " 'tid': 35,\n",
              " 'spec': None,\n",
              " 'result': {'loss': -0.9597151898734178, 'status': 'ok'},\n",
              " 'misc': {'tid': 35,\n",
              "  'cmd': ('domain_attachment', 'FMinIter_Domain'),\n",
              "  'workdir': None,\n",
              "  'idxs': {'C': [],\n",
              "   'classifier': [35],\n",
              "   'criterion_gbm': [35],\n",
              "   'criterion_rf': [],\n",
              "   'max_depth_gbm': [35],\n",
              "   'max_depth_rf': [],\n",
              "   'n_estimators_gbm': [35],\n",
              "   'n_estimators_rf': [],\n",
              "   'penalty': []},\n",
              "  'vals': {'C': [],\n",
              "   'classifier': [2],\n",
              "   'criterion_gbm': [1],\n",
              "   'criterion_rf': [],\n",
              "   'max_depth_gbm': [1.0],\n",
              "   'max_depth_rf': [],\n",
              "   'n_estimators_gbm': [1300.0],\n",
              "   'n_estimators_rf': [],\n",
              "   'penalty': []}},\n",
              " 'exp_key': None,\n",
              " 'owner': None,\n",
              " 'version': 0,\n",
              " 'book_time': datetime.datetime(2023, 1, 3, 17, 37, 12, 998000),\n",
              " 'refresh_time': datetime.datetime(2023, 1, 3, 17, 37, 20, 284000)}"
            ]
          },
          "metadata": {},
          "execution_count": 45
        }
      ]
    },
    {
      "cell_type": "markdown",
      "source": [
        "Lets Train the model - final"
      ],
      "metadata": {
        "id": "NgMnHj2MveYW"
      }
    },
    {
      "cell_type": "code",
      "source": [
        "# best algorithm is Gradient boosting classifier\n",
        "best_params = {'n_estimators' : 1300,\n",
        "               'max_depth' : 1,\n",
        "               'criterion':'friedman_mse'}"
      ],
      "metadata": {
        "id": "tUN0n6PIt0Zh"
      },
      "execution_count": 39,
      "outputs": []
    },
    {
      "cell_type": "code",
      "source": [
        "best_model = GradientBoostingClassifier(**best_params)"
      ],
      "metadata": {
        "id": "RR_Wgf5UuVKn"
      },
      "execution_count": 37,
      "outputs": []
    },
    {
      "cell_type": "code",
      "source": [
        "best_model.fit(X_train,y_train)"
      ],
      "metadata": {
        "colab": {
          "base_uri": "https://localhost:8080/"
        },
        "id": "1HX2AjoCuchP",
        "outputId": "696e31cc-c345-4e68-8425-139827b1e8d9"
      },
      "execution_count": 38,
      "outputs": [
        {
          "output_type": "execute_result",
          "data": {
            "text/plain": [
              "GradientBoostingClassifier(max_depth=1, n_estimators=1300)"
            ]
          },
          "metadata": {},
          "execution_count": 38
        }
      ]
    },
    {
      "cell_type": "markdown",
      "source": [
        "Lets Evaluate the model"
      ],
      "metadata": {
        "id": "h803lG4ovhT9"
      }
    },
    {
      "cell_type": "code",
      "source": [
        "from sklearn.metrics import accuracy_score"
      ],
      "metadata": {
        "id": "X5u2EdZzvljv"
      },
      "execution_count": 46,
      "outputs": []
    },
    {
      "cell_type": "code",
      "source": [
        "print('accuracy of train set : ', accuracy_score(y_train, best_model.predict(X_train)))\n",
        "print('accuracy of test set : ', accuracy_score(y_test, best_model.predict(X_test)))"
      ],
      "metadata": {
        "colab": {
          "base_uri": "https://localhost:8080/"
        },
        "id": "FjsCsZe0ugCM",
        "outputId": "751735d4-203f-4b57-a5cc-6febe3f976fe"
      },
      "execution_count": 47,
      "outputs": [
        {
          "output_type": "stream",
          "name": "stdout",
          "text": [
            "accuracy of train set :  1.0\n",
            "accuracy of test set :  0.9824561403508771\n"
          ]
        }
      ]
    }
  ]
}