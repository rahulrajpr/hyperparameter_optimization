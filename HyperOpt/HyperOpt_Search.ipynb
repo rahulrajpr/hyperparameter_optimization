{
  "nbformat": 4,
  "nbformat_minor": 0,
  "metadata": {
    "colab": {
      "provenance": [],
      "authorship_tag": "ABX9TyOP6zY+0qn8nCR0nhrGrz/g",
      "include_colab_link": true
    },
    "kernelspec": {
      "name": "python3",
      "display_name": "Python 3"
    },
    "language_info": {
      "name": "python"
    }
  },
  "cells": [
    {
      "cell_type": "markdown",
      "metadata": {
        "id": "view-in-github",
        "colab_type": "text"
      },
      "source": [
        "<a href=\"https://colab.research.google.com/github/rahulrajpr/AdvancedHyperParameterOptimisation/blob/HyperOpt/HyperOpt_Search.ipynb\" target=\"_parent\"><img src=\"https://colab.research.google.com/assets/colab-badge.svg\" alt=\"Open In Colab\"/></a>"
      ]
    },
    {
      "cell_type": "markdown",
      "source": [
        "**Hyperopt Optimization**\n",
        "\n",
        "There are 3 Techniques\n",
        "\n",
        "- Random Search - random.suggest\n",
        "- Anneling - anneal.suggest\n",
        "- Tree Structured Parzen Estimators - tpe.suggest\n",
        "\n",
        "Steps\n",
        "\n",
        "  1.Define the model\n",
        "\n",
        "  2.Define the hyperparameter space\n",
        "  \n",
        "  3.Define Objective Function\n",
        "  \n",
        "  4.Run the minimization"
      ],
      "metadata": {
        "id": "8vSkC4tdBwlc"
      }
    },
    {
      "cell_type": "code",
      "execution_count": 1,
      "metadata": {
        "id": "JKtLfAqoBeLK"
      },
      "outputs": [],
      "source": [
        "import pandas as pd\n",
        "import numpy as np\n",
        "import matplotlib.pyplot as plt\n",
        "import seaborn as sns\n",
        "import warnings\n",
        "warnings.filterwarnings('ignore')"
      ]
    },
    {
      "cell_type": "code",
      "source": [
        "from sklearn.datasets import load_breast_cancer"
      ],
      "metadata": {
        "id": "vzr0wB2xBvuu"
      },
      "execution_count": 2,
      "outputs": []
    },
    {
      "cell_type": "code",
      "source": [
        "dataset = load_breast_cancer()\n",
        "data = dataset.data\n",
        "target = dataset.target\n",
        "columns = dataset.feature_names\n",
        "df = pd.DataFrame(data = data, columns = columns)\n",
        "df['target'] = target\n",
        "df.info()"
      ],
      "metadata": {
        "colab": {
          "base_uri": "https://localhost:8080/"
        },
        "id": "4ZS2JySkC3Q1",
        "outputId": "143b70d1-5048-4b32-f282-f7428e62f24f"
      },
      "execution_count": 3,
      "outputs": [
        {
          "output_type": "stream",
          "name": "stdout",
          "text": [
            "<class 'pandas.core.frame.DataFrame'>\n",
            "RangeIndex: 569 entries, 0 to 568\n",
            "Data columns (total 31 columns):\n",
            " #   Column                   Non-Null Count  Dtype  \n",
            "---  ------                   --------------  -----  \n",
            " 0   mean radius              569 non-null    float64\n",
            " 1   mean texture             569 non-null    float64\n",
            " 2   mean perimeter           569 non-null    float64\n",
            " 3   mean area                569 non-null    float64\n",
            " 4   mean smoothness          569 non-null    float64\n",
            " 5   mean compactness         569 non-null    float64\n",
            " 6   mean concavity           569 non-null    float64\n",
            " 7   mean concave points      569 non-null    float64\n",
            " 8   mean symmetry            569 non-null    float64\n",
            " 9   mean fractal dimension   569 non-null    float64\n",
            " 10  radius error             569 non-null    float64\n",
            " 11  texture error            569 non-null    float64\n",
            " 12  perimeter error          569 non-null    float64\n",
            " 13  area error               569 non-null    float64\n",
            " 14  smoothness error         569 non-null    float64\n",
            " 15  compactness error        569 non-null    float64\n",
            " 16  concavity error          569 non-null    float64\n",
            " 17  concave points error     569 non-null    float64\n",
            " 18  symmetry error           569 non-null    float64\n",
            " 19  fractal dimension error  569 non-null    float64\n",
            " 20  worst radius             569 non-null    float64\n",
            " 21  worst texture            569 non-null    float64\n",
            " 22  worst perimeter          569 non-null    float64\n",
            " 23  worst area               569 non-null    float64\n",
            " 24  worst smoothness         569 non-null    float64\n",
            " 25  worst compactness        569 non-null    float64\n",
            " 26  worst concavity          569 non-null    float64\n",
            " 27  worst concave points     569 non-null    float64\n",
            " 28  worst symmetry           569 non-null    float64\n",
            " 29  worst fractal dimension  569 non-null    float64\n",
            " 30  target                   569 non-null    int64  \n",
            "dtypes: float64(30), int64(1)\n",
            "memory usage: 137.9 KB\n"
          ]
        }
      ]
    },
    {
      "cell_type": "code",
      "source": [
        "X = df.drop('target', axis =1)\n",
        "y = df['target']"
      ],
      "metadata": {
        "id": "F6R2vf12DMS8"
      },
      "execution_count": 4,
      "outputs": []
    },
    {
      "cell_type": "code",
      "source": [
        "from sklearn.model_selection import train_test_split"
      ],
      "metadata": {
        "id": "IOkn7tQ7DU1f"
      },
      "execution_count": 6,
      "outputs": []
    },
    {
      "cell_type": "code",
      "source": [
        "X_train,X_test,y_train,y_test = train_test_split(X,y,train_size = 0.7, random_state = 100, stratify = y)"
      ],
      "metadata": {
        "id": "0a58gnZNDaJz"
      },
      "execution_count": 7,
      "outputs": []
    },
    {
      "cell_type": "markdown",
      "source": [
        "Parameters\n",
        "\n",
        "(max_depth: int = 3, learning_rate: float = 0.1, n_estimators: int = 100, verbosity: int = 1, silent: Any | None = None, objective: str = \"binary:logistic\", booster: str = 'gbtree', n_jobs: int = 1, nthread: Any | None = None, gamma: int = 0, min_child_weight: int = 1, max_delta_step: int = 0, subsample: int = 1, colsample_bytree: int = 1, colsample_bylevel: int = 1, colsample_bynode: int = 1, reg_alpha: int = 0, reg_lambda: int = 1, scale_pos_weight: int = 1, base_score: float = 0.5, random_state: int = 0, seed: Any | None = None, missing: Any | None = None, **kwargs: Any) -> None"
      ],
      "metadata": {
        "id": "z54yaJhlEHpz"
      }
    },
    {
      "cell_type": "markdown",
      "source": [
        "Define the parameter space"
      ],
      "metadata": {
        "id": "FfNk_Y-hESD-"
      }
    },
    {
      "cell_type": "code",
      "source": [
        "from hyperopt import hp"
      ],
      "metadata": {
        "id": "FCVYua4iEG8Z"
      },
      "execution_count": 12,
      "outputs": []
    },
    {
      "cell_type": "code",
      "source": [
        "param_grid = {\n",
        "              'n_estimators' : hp.quniform('n_estimators',200,2500,100),\n",
        "              'max_depth' : hp.quniform('max_depth',1,10,1),\n",
        "              'learning_rate':hp.loguniform('learning_rate',np.log(0.01), np.log(1)),\n",
        "              'booster': hp.choice('booster',['gbtree','dart']),\n",
        "              'gamma':hp.loguniform('gamma', np.log(0.1), np.log(10)),\n",
        "              'colsample_bytree': hp.uniform('colsample_bytree', 0.50, 0.99),\n",
        "              'colsample_bylevel': hp.uniform('colsample_bylevel', 0.50, 0.99),\n",
        "              'colsample_bynode': hp.uniform('colsample_bynode', 0.50, 0.99),\n",
        "              'reg_lambda': hp.uniform('reg_lambda', 1, 20)\n",
        "              }"
      ],
      "metadata": {
        "id": "CIfMQhdEEaF8"
      },
      "execution_count": 14,
      "outputs": []
    },
    {
      "cell_type": "markdown",
      "source": [
        "Define the objective Function"
      ],
      "metadata": {
        "id": "WHwpnXKwJEzq"
      }
    },
    {
      "cell_type": "code",
      "source": [
        "from sklearn.model_selection import cross_val_score"
      ],
      "metadata": {
        "id": "BMrjjd-TKwvc"
      },
      "execution_count": 15,
      "outputs": []
    },
    {
      "cell_type": "code",
      "source": [
        "from xgboost import XGBClassifier"
      ],
      "metadata": {
        "id": "cNMjw3bEDpRG"
      },
      "execution_count": 8,
      "outputs": []
    },
    {
      "cell_type": "code",
      "source": [
        "def objective(params):\n",
        "\n",
        "  param_dict = {\n",
        "              'n_estimators' : int(params['n_estimators']),\n",
        "              'max_depth' : int(params['max_depth']),\n",
        "              'learning_rate':params['learning_rate'],\n",
        "              'booster': params['booster'],\n",
        "              'gamma': params['gamma'],\n",
        "              'colsample_bytree': params['colsample_bytree'],\n",
        "              'colsample_bylevel': params['colsample_bylevel'],\n",
        "              'colsample_bynode': params['colsample_bynode'],\n",
        "              'reg_lambda': params['reg_lambda'],\n",
        "              'random_state' : 100\n",
        "              }\n",
        "\n",
        "  xgb = XGBClassifier(**param_dict)\n",
        "\n",
        "  scores = cross_val_score(estimator = xgb,\n",
        "                           X = X_train,\n",
        "                           y = y_train,\n",
        "                           cv = 5,\n",
        "                           n_jobs = -1,\n",
        "                           scoring = 'accuracy'\n",
        "                           )\n",
        "  mean = np.mean(scores)\n",
        "\n",
        "  return -mean"
      ],
      "metadata": {
        "id": "Pd3S6ysHJAO4"
      },
      "execution_count": 16,
      "outputs": []
    },
    {
      "cell_type": "markdown",
      "source": [
        "Define and run the search"
      ],
      "metadata": {
        "id": "3DeIkhg5La0a"
      }
    },
    {
      "cell_type": "markdown",
      "source": [
        "Random Search"
      ],
      "metadata": {
        "id": "hT_OhrGYLd3p"
      }
    },
    {
      "cell_type": "code",
      "source": [
        "from hyperopt import fmin\n",
        "from hyperopt import rand"
      ],
      "metadata": {
        "id": "ydXyvFHpJAMl"
      },
      "execution_count": 18,
      "outputs": []
    },
    {
      "cell_type": "code",
      "source": [
        "random_search = fmin(fn = objective,\n",
        "                     space = param_grid,\n",
        "                     algo = rand.suggest,\n",
        "                     max_evals = 50,\n",
        "                     rstate = np.random.RandomState(100))\n",
        "\n",
        "%time"
      ],
      "metadata": {
        "colab": {
          "base_uri": "https://localhost:8080/"
        },
        "id": "NgymMFUBJAKY",
        "outputId": "1c9624a1-60f3-4d59-d30f-992a97273aa7"
      },
      "execution_count": 19,
      "outputs": [
        {
          "output_type": "stream",
          "name": "stdout",
          "text": [
            "100%|██████████| 50/50 [06:25<00:00,  7.72s/it, best loss: -0.9622784810126582]\n",
            "CPU times: user 2 µs, sys: 0 ns, total: 2 µs\n",
            "Wall time: 5.48 µs\n"
          ]
        }
      ]
    },
    {
      "cell_type": "code",
      "source": [
        "type(random_search)"
      ],
      "metadata": {
        "colab": {
          "base_uri": "https://localhost:8080/"
        },
        "id": "serM1KGCJAH3",
        "outputId": "9257bf18-d897-4018-b311-75c11ec9010c"
      },
      "execution_count": 21,
      "outputs": [
        {
          "output_type": "execute_result",
          "data": {
            "text/plain": [
              "dict"
            ]
          },
          "metadata": {},
          "execution_count": 21
        }
      ]
    },
    {
      "cell_type": "code",
      "source": [
        "# best hyperparameter\n",
        "random_search"
      ],
      "metadata": {
        "colab": {
          "base_uri": "https://localhost:8080/"
        },
        "id": "-xDIS5uEJAFv",
        "outputId": "1fdd49a9-c90b-471a-aa49-b9c4bde348fe"
      },
      "execution_count": 23,
      "outputs": [
        {
          "output_type": "execute_result",
          "data": {
            "text/plain": [
              "{'booster': 1,\n",
              " 'colsample_bylevel': 0.6680605602400378,\n",
              " 'colsample_bynode': 0.62489342402988,\n",
              " 'colsample_bytree': 0.8119135935808236,\n",
              " 'gamma': 0.1305315787332366,\n",
              " 'learning_rate': 0.33155426774231894,\n",
              " 'max_depth': 6.0,\n",
              " 'n_estimators': 1100.0,\n",
              " 'reg_lambda': 5.105515888845169}"
            ]
          },
          "metadata": {},
          "execution_count": 23
        }
      ]
    },
    {
      "cell_type": "markdown",
      "source": [
        "Define a function to rearrange the hyperparameter dict"
      ],
      "metadata": {
        "id": "CsFuRNfSU739"
      }
    },
    {
      "cell_type": "code",
      "source": [
        "def rearrange(search,best_booster):\n",
        "\n",
        "  search['booster'] = best_booster\n",
        "  search['n_estimators'] = int(search['n_estimators'])\n",
        "  search['max_depth'] = int(search['max_depth'])"
      ],
      "metadata": {
        "id": "q7bh-7aZJADR"
      },
      "execution_count": 34,
      "outputs": []
    },
    {
      "cell_type": "code",
      "source": [
        "rearrange(random_search,'dart')\n",
        "random_search"
      ],
      "metadata": {
        "colab": {
          "base_uri": "https://localhost:8080/"
        },
        "id": "5_8teN4OV4YI",
        "outputId": "078f1d32-dc55-4057-e76f-2504104f42c5"
      },
      "execution_count": 48,
      "outputs": [
        {
          "output_type": "execute_result",
          "data": {
            "text/plain": [
              "{'booster': 'dart',\n",
              " 'colsample_bylevel': 0.6680605602400378,\n",
              " 'colsample_bynode': 0.62489342402988,\n",
              " 'colsample_bytree': 0.8119135935808236,\n",
              " 'gamma': 0.1305315787332366,\n",
              " 'learning_rate': 0.33155426774231894,\n",
              " 'max_depth': 6,\n",
              " 'n_estimators': 1100,\n",
              " 'reg_lambda': 5.105515888845169}"
            ]
          },
          "metadata": {},
          "execution_count": 48
        }
      ]
    },
    {
      "cell_type": "markdown",
      "source": [
        "lets train the model on the best hyperparameters by random search"
      ],
      "metadata": {
        "id": "gSY1SlRoUHz2"
      }
    },
    {
      "cell_type": "code",
      "source": [
        "xgb_random = XGBClassifier(**random_search)"
      ],
      "metadata": {
        "id": "c5WuOLjpUHiN"
      },
      "execution_count": 49,
      "outputs": []
    },
    {
      "cell_type": "code",
      "source": [
        "xgb_random.fit(X_train,y_train)"
      ],
      "metadata": {
        "colab": {
          "base_uri": "https://localhost:8080/"
        },
        "id": "218tBTqsUXGg",
        "outputId": "d96c9f10-0b9f-495a-e014-473ed3267cc0"
      },
      "execution_count": 50,
      "outputs": [
        {
          "output_type": "execute_result",
          "data": {
            "text/plain": [
              "XGBClassifier(booster='dart', colsample_bylevel=0.6680605602400378,\n",
              "              colsample_bynode=0.62489342402988,\n",
              "              colsample_bytree=0.8119135935808236, gamma=0.1305315787332366,\n",
              "              learning_rate=0.33155426774231894, max_depth=6, n_estimators=1100,\n",
              "              reg_lambda=5.105515888845169)"
            ]
          },
          "metadata": {},
          "execution_count": 50
        }
      ]
    },
    {
      "cell_type": "markdown",
      "source": [
        "lets evaluate the model"
      ],
      "metadata": {
        "id": "cMeZ5ordWO2l"
      }
    },
    {
      "cell_type": "code",
      "source": [
        "from sklearn.metrics import accuracy_score\n",
        "\n",
        "def show_metric(model):\n",
        "  print('accuracy for train set : ', accuracy_score(y_train,model.predict(X_train)))\n",
        "  print('accuracy for test set : ', accuracy_score(y_test,model.predict(X_test)))"
      ],
      "metadata": {
        "id": "mV1ljBPrWUl8"
      },
      "execution_count": 51,
      "outputs": []
    },
    {
      "cell_type": "code",
      "source": [
        "show_metric(xgb_random)"
      ],
      "metadata": {
        "colab": {
          "base_uri": "https://localhost:8080/"
        },
        "id": "n_zTNMUJW7j6",
        "outputId": "9e83bcdb-3be6-45ba-b4dd-1a5dda88fdf0"
      },
      "execution_count": 52,
      "outputs": [
        {
          "output_type": "stream",
          "name": "stdout",
          "text": [
            "accuracy for train set :  1.0\n",
            "accuracy for test set :  0.9766081871345029\n"
          ]
        }
      ]
    },
    {
      "cell_type": "markdown",
      "source": [
        "Annealing Search"
      ],
      "metadata": {
        "id": "ATPgmfADXCkI"
      }
    },
    {
      "cell_type": "code",
      "source": [
        "from hyperopt import anneal"
      ],
      "metadata": {
        "id": "R2F-lV8bW-73"
      },
      "execution_count": 43,
      "outputs": []
    },
    {
      "cell_type": "code",
      "source": [
        "search_anneal = fmin(fn = objective,\n",
        "                     space = param_grid,\n",
        "                     algo = anneal.suggest,\n",
        "                     max_evals = 50,\n",
        "                     rstate = np.random.RandomState(100),\n",
        "                     verbose = 1)"
      ],
      "metadata": {
        "colab": {
          "base_uri": "https://localhost:8080/"
        },
        "id": "geZI75QJXIT4",
        "outputId": "cd326762-8531-447f-cfc7-95013d6e4f67"
      },
      "execution_count": 46,
      "outputs": [
        {
          "output_type": "stream",
          "name": "stdout",
          "text": [
            "100%|██████████| 50/50 [05:01<00:00,  6.03s/it, best loss: -0.9623101265822784]\n"
          ]
        }
      ]
    },
    {
      "cell_type": "code",
      "source": [
        "search_anneal"
      ],
      "metadata": {
        "colab": {
          "base_uri": "https://localhost:8080/"
        },
        "id": "AObCZFXrXuZj",
        "outputId": "abd11726-d585-448a-ec1c-964d3dcc127c"
      },
      "execution_count": 47,
      "outputs": [
        {
          "output_type": "execute_result",
          "data": {
            "text/plain": [
              "{'booster': 0,\n",
              " 'colsample_bylevel': 0.8997506945402796,\n",
              " 'colsample_bynode': 0.6685251117042704,\n",
              " 'colsample_bytree': 0.8749904784962741,\n",
              " 'gamma': 1.915214351334952,\n",
              " 'learning_rate': 0.31326773019698684,\n",
              " 'max_depth': 8.0,\n",
              " 'n_estimators': 1000.0,\n",
              " 'reg_lambda': 12.803041540679398}"
            ]
          },
          "metadata": {},
          "execution_count": 47
        }
      ]
    },
    {
      "cell_type": "code",
      "source": [
        "rearrange(search_anneal,'gbtree')\n",
        "search_anneal"
      ],
      "metadata": {
        "colab": {
          "base_uri": "https://localhost:8080/"
        },
        "id": "FgMHmL-IZEmw",
        "outputId": "14d2c9e0-6272-4371-c909-9cfd4ef4566b"
      },
      "execution_count": 54,
      "outputs": [
        {
          "output_type": "execute_result",
          "data": {
            "text/plain": [
              "{'booster': 'gbtree',\n",
              " 'colsample_bylevel': 0.8997506945402796,\n",
              " 'colsample_bynode': 0.6685251117042704,\n",
              " 'colsample_bytree': 0.8749904784962741,\n",
              " 'gamma': 1.915214351334952,\n",
              " 'learning_rate': 0.31326773019698684,\n",
              " 'max_depth': 8,\n",
              " 'n_estimators': 1000,\n",
              " 'reg_lambda': 12.803041540679398}"
            ]
          },
          "metadata": {},
          "execution_count": 54
        }
      ]
    },
    {
      "cell_type": "code",
      "source": [
        "xgb_anneal = XGBClassifier(**search_anneal)"
      ],
      "metadata": {
        "id": "UPbdnNeZZVU7"
      },
      "execution_count": 55,
      "outputs": []
    },
    {
      "cell_type": "code",
      "source": [
        "xgb_anneal.fit(X_train,y_train)"
      ],
      "metadata": {
        "colab": {
          "base_uri": "https://localhost:8080/"
        },
        "id": "blTT3Ux9ZoeV",
        "outputId": "3779dc2f-3aa6-4d36-eb91-be88e4b4f036"
      },
      "execution_count": 56,
      "outputs": [
        {
          "output_type": "execute_result",
          "data": {
            "text/plain": [
              "XGBClassifier(colsample_bylevel=0.8997506945402796,\n",
              "              colsample_bynode=0.6685251117042704,\n",
              "              colsample_bytree=0.8749904784962741, gamma=1.915214351334952,\n",
              "              learning_rate=0.31326773019698684, max_depth=8, n_estimators=1000,\n",
              "              reg_lambda=12.803041540679398)"
            ]
          },
          "metadata": {},
          "execution_count": 56
        }
      ]
    },
    {
      "cell_type": "code",
      "source": [
        "show_metric(xgb_anneal)"
      ],
      "metadata": {
        "colab": {
          "base_uri": "https://localhost:8080/"
        },
        "id": "Ao7R2abgZsjf",
        "outputId": "43f82b4c-0bca-45ba-e11f-742a0f02d019"
      },
      "execution_count": 57,
      "outputs": [
        {
          "output_type": "stream",
          "name": "stdout",
          "text": [
            "accuracy for train set :  0.992462311557789\n",
            "accuracy for test set :  0.9707602339181286\n"
          ]
        }
      ]
    },
    {
      "cell_type": "markdown",
      "source": [
        "Tree Structured Parzen Estimators"
      ],
      "metadata": {
        "id": "fh-9nUAuZ0g2"
      }
    },
    {
      "cell_type": "code",
      "source": [
        "from hyperopt import tpe"
      ],
      "metadata": {
        "id": "zO7ezlM-Zy9u"
      },
      "execution_count": 58,
      "outputs": []
    },
    {
      "cell_type": "code",
      "source": [
        "search_tpe = fmin(fn = objective, \n",
        "                  space = param_grid,\n",
        "                  algo = tpe.suggest,\n",
        "                  max_evals = 50,\n",
        "                  verbose = 1)\n",
        "%time"
      ],
      "metadata": {
        "colab": {
          "base_uri": "https://localhost:8080/"
        },
        "id": "Xln1OstEaE9P",
        "outputId": "23ce5ff6-87a4-47c5-96c9-a22bdfb52691"
      },
      "execution_count": 59,
      "outputs": [
        {
          "output_type": "stream",
          "name": "stdout",
          "text": [
            "100%|██████████| 50/50 [07:53<00:00,  9.46s/it, best loss: -0.9673101265822783]\n",
            "CPU times: user 3 µs, sys: 0 ns, total: 3 µs\n",
            "Wall time: 6.44 µs\n"
          ]
        }
      ]
    },
    {
      "cell_type": "code",
      "source": [
        "search_tpe"
      ],
      "metadata": {
        "colab": {
          "base_uri": "https://localhost:8080/"
        },
        "id": "tgLlWXhsacyn",
        "outputId": "df222079-6ddf-4047-a6ce-ff7e0d54bb08"
      },
      "execution_count": 60,
      "outputs": [
        {
          "output_type": "execute_result",
          "data": {
            "text/plain": [
              "{'booster': 1,\n",
              " 'colsample_bylevel': 0.867223424087598,\n",
              " 'colsample_bynode': 0.6395182152431079,\n",
              " 'colsample_bytree': 0.7221110949340002,\n",
              " 'gamma': 2.0341073029020844,\n",
              " 'learning_rate': 0.31746861989549885,\n",
              " 'max_depth': 3.0,\n",
              " 'n_estimators': 700.0,\n",
              " 'reg_lambda': 3.0458324371626797}"
            ]
          },
          "metadata": {},
          "execution_count": 60
        }
      ]
    },
    {
      "cell_type": "code",
      "source": [
        "rearrange(search_tpe,'dart')\n",
        "search_tpe"
      ],
      "metadata": {
        "colab": {
          "base_uri": "https://localhost:8080/"
        },
        "id": "mi_et6doap0m",
        "outputId": "06de5c9d-f5f6-43cc-f153-abb41c70d4e8"
      },
      "execution_count": 61,
      "outputs": [
        {
          "output_type": "execute_result",
          "data": {
            "text/plain": [
              "{'booster': 'dart',\n",
              " 'colsample_bylevel': 0.867223424087598,\n",
              " 'colsample_bynode': 0.6395182152431079,\n",
              " 'colsample_bytree': 0.7221110949340002,\n",
              " 'gamma': 2.0341073029020844,\n",
              " 'learning_rate': 0.31746861989549885,\n",
              " 'max_depth': 3,\n",
              " 'n_estimators': 700,\n",
              " 'reg_lambda': 3.0458324371626797}"
            ]
          },
          "metadata": {},
          "execution_count": 61
        }
      ]
    },
    {
      "cell_type": "code",
      "source": [
        "xgb_tpe = XGBClassifier(**search_tpe)"
      ],
      "metadata": {
        "id": "XH1H6uieavUF"
      },
      "execution_count": 63,
      "outputs": []
    },
    {
      "cell_type": "code",
      "source": [
        "xgb_tpe.fit(X_train,y_train)"
      ],
      "metadata": {
        "colab": {
          "base_uri": "https://localhost:8080/"
        },
        "id": "DYB-TQn6bCdp",
        "outputId": "d699a1f2-a6c5-418b-d2c2-44bb5396aaf2"
      },
      "execution_count": 64,
      "outputs": [
        {
          "output_type": "execute_result",
          "data": {
            "text/plain": [
              "XGBClassifier(booster='dart', colsample_bylevel=0.867223424087598,\n",
              "              colsample_bynode=0.6395182152431079,\n",
              "              colsample_bytree=0.7221110949340002, gamma=2.0341073029020844,\n",
              "              learning_rate=0.31746861989549885, n_estimators=700,\n",
              "              reg_lambda=3.0458324371626797)"
            ]
          },
          "metadata": {},
          "execution_count": 64
        }
      ]
    },
    {
      "cell_type": "code",
      "source": [
        "show_metric(xgb_tpe)"
      ],
      "metadata": {
        "colab": {
          "base_uri": "https://localhost:8080/"
        },
        "id": "EbhdT8PFbGv9",
        "outputId": "c9bd947e-a340-4ad0-9abc-97d2493390b2"
      },
      "execution_count": 65,
      "outputs": [
        {
          "output_type": "stream",
          "name": "stdout",
          "text": [
            "accuracy for train set :  0.992462311557789\n",
            "accuracy for test set :  0.9707602339181286\n"
          ]
        }
      ]
    }
  ]
}