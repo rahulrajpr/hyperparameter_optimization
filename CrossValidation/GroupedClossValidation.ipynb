{
  "nbformat": 4,
  "nbformat_minor": 0,
  "metadata": {
    "colab": {
      "provenance": [],
      "authorship_tag": "ABX9TyPlEVEjkY+44WY9S7gVuiKB",
      "include_colab_link": true
    },
    "kernelspec": {
      "name": "python3",
      "display_name": "Python 3"
    },
    "language_info": {
      "name": "python"
    }
  },
  "cells": [
    {
      "cell_type": "markdown",
      "metadata": {
        "id": "view-in-github",
        "colab_type": "text"
      },
      "source": [
        "<a href=\"https://colab.research.google.com/github/rahulrajpr/AdvancedHyperParameterOptimisation/blob/CrossValidation/GroupedClossValidation.ipynb\" target=\"_parent\"><img src=\"https://colab.research.google.com/assets/colab-badge.svg\" alt=\"Open In Colab\"/></a>"
      ]
    },
    {
      "cell_type": "markdown",
      "source": [
        "Grouped Cross Validation are used when the data in the following states\n",
        "\n",
        "1. Time Series\n",
        "2. Samples came from the same/same group of objects\n",
        "3. when the data is not iid."
      ],
      "metadata": {
        "id": "xGLr70FQRqUi"
      }
    },
    {
      "cell_type": "markdown",
      "source": [
        "There are three ways in sklearn\n",
        "\n",
        "1. Grouped K Fold\n",
        "2. Leave one group out\n",
        "3. Leave p Group out"
      ],
      "metadata": {
        "id": "s6Q84R3QNQu1"
      }
    },
    {
      "cell_type": "code",
      "execution_count": 1,
      "metadata": {
        "id": "CywHmZfqHUbB"
      },
      "outputs": [],
      "source": [
        "import pandas as pd\n",
        "import numpy as np\n",
        "import matplotlib.pyplot as plt\n",
        "import seaborn as sns\n",
        "import warnings\n",
        "warnings.filterwarnings('ignore')"
      ]
    },
    {
      "cell_type": "code",
      "source": [
        "from sklearn.datasets import load_breast_cancer"
      ],
      "metadata": {
        "id": "YkX9gLJhHpsF"
      },
      "execution_count": 2,
      "outputs": []
    },
    {
      "cell_type": "code",
      "source": [
        "data = load_breast_cancer()"
      ],
      "metadata": {
        "id": "bTOf84LIHxph"
      },
      "execution_count": 3,
      "outputs": []
    },
    {
      "cell_type": "code",
      "source": [
        "df = pd.DataFrame(data.data, columns = data.feature_names)"
      ],
      "metadata": {
        "id": "nQ6qOOIHH2SD"
      },
      "execution_count": 4,
      "outputs": []
    },
    {
      "cell_type": "code",
      "source": [
        "df['target'] = data.target"
      ],
      "metadata": {
        "id": "HZqlf2kGJh4g"
      },
      "execution_count": 5,
      "outputs": []
    },
    {
      "cell_type": "code",
      "source": [
        "df.info()"
      ],
      "metadata": {
        "colab": {
          "base_uri": "https://localhost:8080/"
        },
        "id": "V0XOKmK0H4FC",
        "outputId": "5f9b62ee-4aff-415b-9d94-67b5453b83c5"
      },
      "execution_count": 6,
      "outputs": [
        {
          "output_type": "stream",
          "name": "stdout",
          "text": [
            "<class 'pandas.core.frame.DataFrame'>\n",
            "RangeIndex: 569 entries, 0 to 568\n",
            "Data columns (total 31 columns):\n",
            " #   Column                   Non-Null Count  Dtype  \n",
            "---  ------                   --------------  -----  \n",
            " 0   mean radius              569 non-null    float64\n",
            " 1   mean texture             569 non-null    float64\n",
            " 2   mean perimeter           569 non-null    float64\n",
            " 3   mean area                569 non-null    float64\n",
            " 4   mean smoothness          569 non-null    float64\n",
            " 5   mean compactness         569 non-null    float64\n",
            " 6   mean concavity           569 non-null    float64\n",
            " 7   mean concave points      569 non-null    float64\n",
            " 8   mean symmetry            569 non-null    float64\n",
            " 9   mean fractal dimension   569 non-null    float64\n",
            " 10  radius error             569 non-null    float64\n",
            " 11  texture error            569 non-null    float64\n",
            " 12  perimeter error          569 non-null    float64\n",
            " 13  area error               569 non-null    float64\n",
            " 14  smoothness error         569 non-null    float64\n",
            " 15  compactness error        569 non-null    float64\n",
            " 16  concavity error          569 non-null    float64\n",
            " 17  concave points error     569 non-null    float64\n",
            " 18  symmetry error           569 non-null    float64\n",
            " 19  fractal dimension error  569 non-null    float64\n",
            " 20  worst radius             569 non-null    float64\n",
            " 21  worst texture            569 non-null    float64\n",
            " 22  worst perimeter          569 non-null    float64\n",
            " 23  worst area               569 non-null    float64\n",
            " 24  worst smoothness         569 non-null    float64\n",
            " 25  worst compactness        569 non-null    float64\n",
            " 26  worst concavity          569 non-null    float64\n",
            " 27  worst concave points     569 non-null    float64\n",
            " 28  worst symmetry           569 non-null    float64\n",
            " 29  worst fractal dimension  569 non-null    float64\n",
            " 30  target                   569 non-null    int64  \n",
            "dtypes: float64(30), int64(1)\n",
            "memory usage: 137.9 KB\n"
          ]
        }
      ]
    },
    {
      "cell_type": "markdown",
      "source": [
        "For the demosnstration pupose, we are creating the a patient list randomly"
      ],
      "metadata": {
        "id": "8qerzHFSJqAg"
      }
    },
    {
      "cell_type": "code",
      "source": [
        "# creating a list of id's from zero to 9\n",
        "patient_list = [a for a in range(0,10)]\n",
        "patient_list"
      ],
      "metadata": {
        "colab": {
          "base_uri": "https://localhost:8080/"
        },
        "id": "J0T-WgAFJxUO",
        "outputId": "43fbb7a0-73a6-4e9f-def6-3271401717a3"
      },
      "execution_count": 9,
      "outputs": [
        {
          "output_type": "execute_result",
          "data": {
            "text/plain": [
              "[0, 1, 2, 3, 4, 5, 6, 7, 8, 9]"
            ]
          },
          "metadata": {},
          "execution_count": 9
        }
      ]
    },
    {
      "cell_type": "code",
      "source": [
        "np.random.choice(patient_list, len(df))"
      ],
      "metadata": {
        "colab": {
          "base_uri": "https://localhost:8080/"
        },
        "id": "2h73OYqeJ4vd",
        "outputId": "049c27b6-1099-45e4-c7dc-42140ff04b89"
      },
      "execution_count": 12,
      "outputs": [
        {
          "output_type": "execute_result",
          "data": {
            "text/plain": [
              "array([8, 4, 9, 1, 1, 1, 6, 1, 7, 5, 6, 0, 5, 8, 0, 3, 0, 0, 0, 3, 4, 7,\n",
              "       1, 9, 2, 3, 1, 5, 1, 4, 6, 3, 9, 9, 0, 9, 9, 3, 3, 9, 8, 3, 9, 7,\n",
              "       0, 7, 0, 6, 5, 2, 6, 1, 1, 5, 7, 1, 8, 3, 4, 4, 9, 3, 9, 3, 8, 4,\n",
              "       7, 1, 3, 7, 6, 8, 9, 3, 1, 2, 8, 8, 1, 8, 4, 2, 4, 6, 3, 7, 7, 9,\n",
              "       9, 9, 2, 4, 6, 9, 7, 3, 2, 2, 6, 0, 0, 3, 2, 5, 7, 8, 1, 0, 8, 0,\n",
              "       9, 4, 1, 6, 0, 0, 2, 9, 5, 6, 6, 7, 7, 7, 8, 0, 0, 8, 7, 6, 0, 2,\n",
              "       0, 1, 6, 9, 1, 1, 5, 3, 2, 7, 5, 4, 2, 7, 6, 4, 7, 4, 2, 8, 6, 0,\n",
              "       8, 6, 1, 3, 4, 2, 6, 1, 1, 3, 3, 9, 0, 9, 3, 4, 4, 5, 7, 8, 2, 6,\n",
              "       8, 4, 9, 9, 2, 3, 5, 5, 1, 3, 9, 2, 8, 4, 9, 5, 7, 3, 3, 2, 2, 0,\n",
              "       4, 2, 8, 3, 2, 6, 1, 0, 6, 0, 8, 6, 3, 7, 8, 2, 9, 8, 5, 2, 2, 8,\n",
              "       3, 3, 2, 9, 2, 9, 7, 3, 2, 6, 3, 2, 7, 7, 0, 7, 1, 0, 3, 9, 2, 6,\n",
              "       0, 3, 4, 4, 2, 2, 6, 0, 8, 7, 7, 6, 7, 2, 4, 8, 9, 7, 4, 2, 4, 0,\n",
              "       1, 9, 1, 3, 1, 7, 3, 2, 6, 3, 8, 2, 8, 0, 0, 3, 7, 6, 3, 3, 5, 3,\n",
              "       9, 0, 2, 7, 9, 2, 2, 5, 2, 4, 5, 3, 9, 2, 7, 8, 3, 4, 9, 6, 4, 6,\n",
              "       1, 6, 8, 5, 4, 7, 9, 6, 7, 3, 4, 8, 3, 1, 5, 2, 8, 6, 0, 6, 7, 5,\n",
              "       7, 5, 3, 1, 5, 4, 7, 1, 3, 2, 0, 0, 9, 7, 5, 7, 8, 0, 8, 0, 6, 2,\n",
              "       9, 8, 1, 2, 7, 1, 1, 8, 0, 5, 0, 3, 5, 3, 1, 9, 0, 1, 8, 2, 0, 1,\n",
              "       2, 4, 7, 5, 0, 3, 0, 9, 9, 1, 0, 7, 9, 7, 9, 9, 7, 4, 2, 5, 7, 4,\n",
              "       4, 6, 1, 7, 9, 5, 3, 1, 4, 9, 2, 7, 7, 7, 6, 1, 1, 8, 9, 8, 6, 0,\n",
              "       9, 0, 8, 7, 6, 4, 4, 0, 2, 2, 4, 1, 8, 5, 6, 5, 0, 9, 7, 5, 4, 7,\n",
              "       1, 7, 6, 0, 7, 2, 7, 9, 7, 4, 7, 3, 4, 5, 1, 6, 5, 3, 5, 0, 8, 1,\n",
              "       6, 3, 0, 7, 5, 6, 8, 9, 1, 1, 4, 0, 8, 5, 5, 9, 8, 6, 0, 1, 0, 9,\n",
              "       1, 2, 9, 8, 9, 2, 3, 5, 6, 8, 3, 6, 5, 3, 0, 1, 1, 9, 3, 9, 7, 6,\n",
              "       4, 3, 5, 3, 6, 9, 1, 7, 3, 1, 2, 7, 5, 8, 3, 1, 9, 3, 5, 4, 6, 8,\n",
              "       4, 6, 0, 9, 4, 8, 4, 6, 8, 9, 3, 1, 2, 3, 4, 3, 0, 6, 8, 1, 0, 7,\n",
              "       5, 9, 4, 1, 9, 1, 7, 1, 4, 3, 7, 6, 4, 6, 5, 1, 8, 7, 1])"
            ]
          },
          "metadata": {},
          "execution_count": 12
        }
      ]
    },
    {
      "cell_type": "code",
      "source": [
        "df['patient'] = np.random.choice(patient_list, len(df))"
      ],
      "metadata": {
        "id": "zJhqMMosKRVG"
      },
      "execution_count": 13,
      "outputs": []
    },
    {
      "cell_type": "code",
      "source": [
        "df.isnull().sum()"
      ],
      "metadata": {
        "colab": {
          "base_uri": "https://localhost:8080/"
        },
        "id": "XCfx4-OgIfpO",
        "outputId": "98ea1193-e13a-4c11-f10d-4e5cb49f2d3f"
      },
      "execution_count": 14,
      "outputs": [
        {
          "output_type": "execute_result",
          "data": {
            "text/plain": [
              "mean radius                0\n",
              "mean texture               0\n",
              "mean perimeter             0\n",
              "mean area                  0\n",
              "mean smoothness            0\n",
              "mean compactness           0\n",
              "mean concavity             0\n",
              "mean concave points        0\n",
              "mean symmetry              0\n",
              "mean fractal dimension     0\n",
              "radius error               0\n",
              "texture error              0\n",
              "perimeter error            0\n",
              "area error                 0\n",
              "smoothness error           0\n",
              "compactness error          0\n",
              "concavity error            0\n",
              "concave points error       0\n",
              "symmetry error             0\n",
              "fractal dimension error    0\n",
              "worst radius               0\n",
              "worst texture              0\n",
              "worst perimeter            0\n",
              "worst area                 0\n",
              "worst smoothness           0\n",
              "worst compactness          0\n",
              "worst concavity            0\n",
              "worst concave points       0\n",
              "worst symmetry             0\n",
              "worst fractal dimension    0\n",
              "target                     0\n",
              "patient                    0\n",
              "dtype: int64"
            ]
          },
          "metadata": {},
          "execution_count": 14
        }
      ]
    },
    {
      "cell_type": "code",
      "source": [
        "sns.countplot(df['patient'])\n",
        "plt.show()"
      ],
      "metadata": {
        "colab": {
          "base_uri": "https://localhost:8080/",
          "height": 279
        },
        "id": "huHSzzpwKZGo",
        "outputId": "1c07439f-5d30-4a22-b766-cf2efa9f286b"
      },
      "execution_count": 16,
      "outputs": [
        {
          "output_type": "display_data",
          "data": {
            "text/plain": [
              "<Figure size 432x288 with 1 Axes>"
            ],
            "image/png": "[encoded data removed]"
          },
          "metadata": {
            "needs_background": "light"
          }
        }
      ]
    },
    {
      "cell_type": "code",
      "source": [
        "df['target'].value_counts(normalize = True)"
      ],
      "metadata": {
        "colab": {
          "base_uri": "https://localhost:8080/"
        },
        "id": "DsE8VrZNIldN",
        "outputId": "d584e7ca-b4f1-4773-c3dc-33bb6a2dcb60"
      },
      "execution_count": 17,
      "outputs": [
        {
          "output_type": "execute_result",
          "data": {
            "text/plain": [
              "1    0.627417\n",
              "0    0.372583\n",
              "Name: target, dtype: float64"
            ]
          },
          "metadata": {},
          "execution_count": 17
        }
      ]
    },
    {
      "cell_type": "code",
      "source": [
        "X = df.drop('target', axis = 1)\n",
        "y = df['target']"
      ],
      "metadata": {
        "id": "PfZmdM68IxgH"
      },
      "execution_count": 18,
      "outputs": []
    },
    {
      "cell_type": "code",
      "source": [
        "from sklearn.model_selection import train_test_split"
      ],
      "metadata": {
        "id": "a2VLUkIbI-ht"
      },
      "execution_count": 19,
      "outputs": []
    },
    {
      "cell_type": "code",
      "source": [
        "X_train,X_test,y_train,y_test = train_test_split(X,y,train_size = 0.7, random_state = 100, stratify = y)"
      ],
      "metadata": {
        "id": "abjJxAczJEwP"
      },
      "execution_count": 20,
      "outputs": []
    },
    {
      "cell_type": "code",
      "source": [
        "from sklearn.linear_model import LogisticRegression"
      ],
      "metadata": {
        "id": "nYDw5FSQR6B7"
      },
      "execution_count": 21,
      "outputs": []
    },
    {
      "cell_type": "markdown",
      "source": [
        "### Using the GridSearch CV - GroupdKFold Cross Validation"
      ],
      "metadata": {
        "id": "XPtjN6QrKgso"
      }
    },
    {
      "cell_type": "code",
      "source": [
        "from sklearn.model_selection import GridSearchCV"
      ],
      "metadata": {
        "id": "9dORODTGiKpg"
      },
      "execution_count": 22,
      "outputs": []
    },
    {
      "cell_type": "code",
      "source": [
        "logit = LogisticRegression(max_iter = 10000,random_state =100, solver='liblinear')"
      ],
      "metadata": {
        "id": "Ecz66dbWiaI-"
      },
      "execution_count": 24,
      "outputs": []
    },
    {
      "cell_type": "code",
      "source": [
        "from sklearn.model_selection import GroupKFold"
      ],
      "metadata": {
        "id": "dU_bo5DHKtXf"
      },
      "execution_count": 23,
      "outputs": []
    },
    {
      "cell_type": "code",
      "source": [
        "gkd = GroupKFold(n_splits = 5)"
      ],
      "metadata": {
        "id": "fsYUzlAZK3n6"
      },
      "execution_count": 25,
      "outputs": []
    },
    {
      "cell_type": "code",
      "source": [
        "params = {'penalty' : ['l1','l2'], # penalty startegy\n",
        "          'C':[0.1,1,10]} # aplpha for penalty"
      ],
      "metadata": {
        "id": "-mmIzGNti0n2"
      },
      "execution_count": 27,
      "outputs": []
    },
    {
      "cell_type": "code",
      "source": [
        "search = GridSearchCV(estimator = logit,\n",
        "                      param_grid = params,\n",
        "                      cv = gkd.split(X_train.drop('patient',axis =1), y_train,groups = X_train['patient']),\n",
        "                      n_jobs = -1,\n",
        "                      scoring = 'accuracy',\n",
        "                      verbose = 1,\n",
        "                      return_train_score= True)"
      ],
      "metadata": {
        "id": "ZPI3Pf2FkGCF"
      },
      "execution_count": 30,
      "outputs": []
    },
    {
      "cell_type": "code",
      "source": [
        "search.fit(X_train.drop('patient', axis = 1),y_train)"
      ],
      "metadata": {
        "colab": {
          "base_uri": "https://localhost:8080/"
        },
        "id": "7Fwo-uxzk8Pt",
        "outputId": "17ae3dc5-2966-466d-bd6c-ce92958b17bb"
      },
      "execution_count": 31,
      "outputs": [
        {
          "output_type": "stream",
          "name": "stdout",
          "text": [
            "Fitting 5 folds for each of 6 candidates, totalling 30 fits\n"
          ]
        },
        {
          "output_type": "execute_result",
          "data": {
            "text/plain": [
              "GridSearchCV(cv=<generator object _BaseKFold.split at 0x7f87a6493ba0>,\n",
              "             estimator=LogisticRegression(max_iter=10000, random_state=100,\n",
              "                                          solver='liblinear'),\n",
              "             n_jobs=-1, param_grid={'C': [0.1, 1, 10], 'penalty': ['l1', 'l2']},\n",
              "             return_train_score=True, scoring='accuracy', verbose=1)"
            ]
          },
          "metadata": {},
          "execution_count": 31
        }
      ]
    },
    {
      "cell_type": "code",
      "source": [
        "search.best_params_"
      ],
      "metadata": {
        "colab": {
          "base_uri": "https://localhost:8080/"
        },
        "id": "eDUsA_eKlFUc",
        "outputId": "1751a4b5-a943-4a88-9825-244b186b632b"
      },
      "execution_count": 32,
      "outputs": [
        {
          "output_type": "execute_result",
          "data": {
            "text/plain": [
              "{'C': 10, 'penalty': 'l1'}"
            ]
          },
          "metadata": {},
          "execution_count": 32
        }
      ]
    },
    {
      "cell_type": "code",
      "source": [
        "best_model = search.best_estimator_\n",
        "best_model"
      ],
      "metadata": {
        "colab": {
          "base_uri": "https://localhost:8080/"
        },
        "id": "CVKmwKLnlaA4",
        "outputId": "410e014b-5707-45d8-c7b1-fd065aa3087e"
      },
      "execution_count": 34,
      "outputs": [
        {
          "output_type": "execute_result",
          "data": {
            "text/plain": [
              "LogisticRegression(C=10, max_iter=10000, penalty='l1', random_state=100,\n",
              "                   solver='liblinear')"
            ]
          },
          "metadata": {},
          "execution_count": 34
        }
      ]
    },
    {
      "cell_type": "code",
      "source": [
        "pd.DataFrame(search.cv_results_).info()"
      ],
      "metadata": {
        "colab": {
          "base_uri": "https://localhost:8080/"
        },
        "id": "9Wrn7lPkldNs",
        "outputId": "06f5fec2-0f93-4f47-ddb5-ef72bde8ffb3"
      },
      "execution_count": 35,
      "outputs": [
        {
          "output_type": "stream",
          "name": "stdout",
          "text": [
            "<class 'pandas.core.frame.DataFrame'>\n",
            "RangeIndex: 6 entries, 0 to 5\n",
            "Data columns (total 22 columns):\n",
            " #   Column              Non-Null Count  Dtype  \n",
            "---  ------              --------------  -----  \n",
            " 0   mean_fit_time       6 non-null      float64\n",
            " 1   std_fit_time        6 non-null      float64\n",
            " 2   mean_score_time     6 non-null      float64\n",
            " 3   std_score_time      6 non-null      float64\n",
            " 4   param_C             6 non-null      object \n",
            " 5   param_penalty       6 non-null      object \n",
            " 6   params              6 non-null      object \n",
            " 7   split0_test_score   6 non-null      float64\n",
            " 8   split1_test_score   6 non-null      float64\n",
            " 9   split2_test_score   6 non-null      float64\n",
            " 10  split3_test_score   6 non-null      float64\n",
            " 11  split4_test_score   6 non-null      float64\n",
            " 12  mean_test_score     6 non-null      float64\n",
            " 13  std_test_score      6 non-null      float64\n",
            " 14  rank_test_score     6 non-null      int32  \n",
            " 15  split0_train_score  6 non-null      float64\n",
            " 16  split1_train_score  6 non-null      float64\n",
            " 17  split2_train_score  6 non-null      float64\n",
            " 18  split3_train_score  6 non-null      float64\n",
            " 19  split4_train_score  6 non-null      float64\n",
            " 20  mean_train_score    6 non-null      float64\n",
            " 21  std_train_score     6 non-null      float64\n",
            "dtypes: float64(18), int32(1), object(3)\n",
            "memory usage: 1.1+ KB\n"
          ]
        }
      ]
    },
    {
      "cell_type": "code",
      "source": [
        "result_cols = ['rank_test_score','params','mean_test_score','std_test_score']"
      ],
      "metadata": {
        "id": "6AalCeZUlim6"
      },
      "execution_count": 36,
      "outputs": []
    },
    {
      "cell_type": "code",
      "source": [
        "results = pd.DataFrame(search.cv_results_)[result_cols].sort_values(by = 'rank_test_score', ascending = True).set_index('rank_test_score')"
      ],
      "metadata": {
        "id": "O6neH08smCyA"
      },
      "execution_count": 37,
      "outputs": []
    },
    {
      "cell_type": "code",
      "source": [
        "results"
      ],
      "metadata": {
        "colab": {
          "base_uri": "https://localhost:8080/",
          "height": 269
        },
        "id": "Kul8fM7Ep9iW",
        "outputId": "12378369-0a62-41e0-815c-0b2d6ce2076a"
      },
      "execution_count": 38,
      "outputs": [
        {
          "output_type": "execute_result",
          "data": {
            "text/plain": [
              "                                      params  mean_test_score  std_test_score\n",
              "rank_test_score                                                              \n",
              "1                 {'C': 10, 'penalty': 'l1'}         0.959622        0.020993\n",
              "2                  {'C': 1, 'penalty': 'l1'}         0.954936        0.012181\n",
              "3                 {'C': 10, 'penalty': 'l2'}         0.952371        0.018437\n",
              "4                  {'C': 1, 'penalty': 'l2'}         0.947243        0.009387\n",
              "5                {'C': 0.1, 'penalty': 'l2'}         0.937171        0.013839\n",
              "6                {'C': 0.1, 'penalty': 'l1'}         0.929352        0.018368"
            ],
            "text/html": [
              "\n",
              "  <div id=\"df-59f81e0a-ff14-4307-bf5f-535895382a9f\">\n",
              "    <div class=\"colab-df-container\">\n",
              "      <div>\n",
              "<style scoped>\n",
              "    .dataframe tbody tr th:only-of-type {\n",
              "        vertical-align: middle;\n",
              "    }\n",
              "\n",
              "    .dataframe tbody tr th {\n",
              "        vertical-align: top;\n",
              "    }\n",
              "\n",
              "    .dataframe thead th {\n",
              "        text-align: right;\n",
              "    }\n",
              "</style>\n",
              "<table border=\"1\" class=\"dataframe\">\n",
              "  <thead>\n",
              "    <tr style=\"text-align: right;\">\n",
              "      <th></th>\n",
              "      <th>params</th>\n",
              "      <th>mean_test_score</th>\n",
              "      <th>std_test_score</th>\n",
              "    </tr>\n",
              "    <tr>\n",
              "      <th>rank_test_score</th>\n",
              "      <th></th>\n",
              "      <th></th>\n",
              "      <th></th>\n",
              "    </tr>\n",
              "  </thead>\n",
              "  <tbody>\n",
              "    <tr>\n",
              "      <th>1</th>\n",
              "      <td>{'C': 10, 'penalty': 'l1'}</td>\n",
              "      <td>0.959622</td>\n",
              "      <td>0.020993</td>\n",
              "    </tr>\n",
              "    <tr>\n",
              "      <th>2</th>\n",
              "      <td>{'C': 1, 'penalty': 'l1'}</td>\n",
              "      <td>0.954936</td>\n",
              "      <td>0.012181</td>\n",
              "    </tr>\n",
              "    <tr>\n",
              "      <th>3</th>\n",
              "      <td>{'C': 10, 'penalty': 'l2'}</td>\n",
              "      <td>0.952371</td>\n",
              "      <td>0.018437</td>\n",
              "    </tr>\n",
              "    <tr>\n",
              "      <th>4</th>\n",
              "      <td>{'C': 1, 'penalty': 'l2'}</td>\n",
              "      <td>0.947243</td>\n",
              "      <td>0.009387</td>\n",
              "    </tr>\n",
              "    <tr>\n",
              "      <th>5</th>\n",
              "      <td>{'C': 0.1, 'penalty': 'l2'}</td>\n",
              "      <td>0.937171</td>\n",
              "      <td>0.013839</td>\n",
              "    </tr>\n",
              "    <tr>\n",
              "      <th>6</th>\n",
              "      <td>{'C': 0.1, 'penalty': 'l1'}</td>\n",
              "      <td>0.929352</td>\n",
              "      <td>0.018368</td>\n",
              "    </tr>\n",
              "  </tbody>\n",
              "</table>\n",
              "</div>\n",
              "      <button class=\"colab-df-convert\" onclick=\"convertToInteractive('df-59f81e0a-ff14-4307-bf5f-535895382a9f')\"\n",
              "              title=\"Convert this dataframe to an interactive table.\"\n",
              "              style=\"display:none;\">\n",
              "        \n",
              "  <svg xmlns=\"http://www.w3.org/2000/svg\" height=\"24px\"viewBox=\"0 0 24 24\"\n",
              "       width=\"24px\">\n",
              "    <path d=\"M0 0h24v24H0V0z\" fill=\"none\"/>\n",
              "    <path d=\"M18.56 5.44l.94 2.06.94-2.06 2.06-.94-2.06-.94-.94-2.06-.94 2.06-2.06.94zm-11 1L8.5 8.5l.94-2.06 2.06-.94-2.06-.94L8.5 2.5l-.94 2.06-2.06.94zm10 10l.94 2.06.94-2.06 2.06-.94-2.06-.94-.94-2.06-.94 2.06-2.06.94z\"/><path d=\"M17.41 7.96l-1.37-1.37c-.4-.4-.92-.59-1.43-.59-.52 0-1.04.2-1.43.59L10.3 9.45l-7.72 7.72c-.78.78-.78 2.05 0 2.83L4 21.41c.39.39.9.59 1.41.59.51 0 1.02-.2 1.41-.59l7.78-7.78 2.81-2.81c.8-.78.8-2.07 0-2.86zM5.41 20L4 18.59l7.72-7.72 1.47 1.35L5.41 20z\"/>\n",
              "  </svg>\n",
              "      </button>\n",
              "      \n",
              "  <style>\n",
              "    .colab-df-container {\n",
              "      display:flex;\n",
              "      flex-wrap:wrap;\n",
              "      gap: 12px;\n",
              "    }\n",
              "\n",
              "    .colab-df-convert {\n",
              "      background-color: #E8F0FE;\n",
              "      border: none;\n",
              "      border-radius: 50%;\n",
              "      cursor: pointer;\n",
              "      display: none;\n",
              "      fill: #1967D2;\n",
              "      height: 32px;\n",
              "      padding: 0 0 0 0;\n",
              "      width: 32px;\n",
              "    }\n",
              "\n",
              "    .colab-df-convert:hover {\n",
              "      background-color: #E2EBFA;\n",
              "      box-shadow: 0px 1px 2px rgba(60, 64, 67, 0.3), 0px 1px 3px 1px rgba(60, 64, 67, 0.15);\n",
              "      fill: #174EA6;\n",
              "    }\n",
              "\n",
              "    [theme=dark] .colab-df-convert {\n",
              "      background-color: #3B4455;\n",
              "      fill: #D2E3FC;\n",
              "    }\n",
              "\n",
              "    [theme=dark] .colab-df-convert:hover {\n",
              "      background-color: #434B5C;\n",
              "      box-shadow: 0px 1px 3px 1px rgba(0, 0, 0, 0.15);\n",
              "      filter: drop-shadow(0px 1px 2px rgba(0, 0, 0, 0.3));\n",
              "      fill: #FFFFFF;\n",
              "    }\n",
              "  </style>\n",
              "\n",
              "      <script>\n",
              "        const buttonEl =\n",
              "          document.querySelector('#df-59f81e0a-ff14-4307-bf5f-535895382a9f button.colab-df-convert');\n",
              "        buttonEl.style.display =\n",
              "          google.colab.kernel.accessAllowed ? 'block' : 'none';\n",
              "\n",
              "        async function convertToInteractive(key) {\n",
              "          const element = document.querySelector('#df-59f81e0a-ff14-4307-bf5f-535895382a9f');\n",
              "          const dataTable =\n",
              "            await google.colab.kernel.invokeFunction('convertToInteractive',\n",
              "                                                     [key], {});\n",
              "          if (!dataTable) return;\n",
              "\n",
              "          const docLinkHtml = 'Like what you see? Visit the ' +\n",
              "            '<a target=\"_blank\" href=https://colab.research.google.com/notebooks/data_table.ipynb>data table notebook</a>'\n",
              "            + ' to learn more about interactive tables.';\n",
              "          element.innerHTML = '';\n",
              "          dataTable['output_type'] = 'display_data';\n",
              "          await google.colab.output.renderOutput(dataTable, element);\n",
              "          const docLink = document.createElement('div');\n",
              "          docLink.innerHTML = docLinkHtml;\n",
              "          element.appendChild(docLink);\n",
              "        }\n",
              "      </script>\n",
              "    </div>\n",
              "  </div>\n",
              "  "
            ]
          },
          "metadata": {},
          "execution_count": 38
        }
      ]
    },
    {
      "cell_type": "code",
      "source": [
        "results['mean_test_score'].plot(yerr = [results['std_test_score']])\n",
        "plt.show()"
      ],
      "metadata": {
        "colab": {
          "base_uri": "https://localhost:8080/",
          "height": 280
        },
        "id": "fVvWftILpskH",
        "outputId": "89a1fb55-3972-41b1-843b-1f8a044e9654"
      },
      "execution_count": 41,
      "outputs": [
        {
          "output_type": "display_data",
          "data": {
            "text/plain": [
              "<Figure size 432x288 with 1 Axes>"
            ],
            "image/png": "[encoded data removed]"
          },
          "metadata": {
            "needs_background": "light"
          }
        }
      ]
    },
    {
      "cell_type": "code",
      "source": [
        "best_model.predict(X_train.drop('patient', axis = 1))"
      ],
      "metadata": {
        "colab": {
          "base_uri": "https://localhost:8080/"
        },
        "id": "nip2YED_mJ4k",
        "outputId": "32c7c58d-d430-401f-b0ad-fd781157671c"
      },
      "execution_count": 48,
      "outputs": [
        {
          "output_type": "execute_result",
          "data": {
            "text/plain": [
              "array([0, 0, 0, 0, 1, 0, 1, 0, 1, 1, 1, 1, 1, 1, 0, 1, 1, 1, 1, 1, 1, 1,\n",
              "       0, 1, 1, 0, 1, 1, 1, 1, 0, 1, 1, 1, 0, 1, 1, 1, 1, 0, 0, 0, 1, 0,\n",
              "       1, 0, 1, 1, 0, 1, 1, 1, 1, 0, 1, 1, 1, 1, 0, 1, 0, 0, 1, 1, 0, 0,\n",
              "       1, 0, 1, 0, 1, 0, 1, 1, 0, 0, 0, 0, 1, 0, 1, 0, 1, 1, 1, 0, 1, 1,\n",
              "       1, 1, 0, 1, 1, 1, 1, 1, 0, 1, 1, 1, 0, 1, 1, 0, 1, 0, 1, 1, 1, 0,\n",
              "       1, 0, 1, 1, 1, 1, 1, 1, 1, 1, 1, 1, 1, 1, 0, 1, 1, 1, 0, 1, 0, 1,\n",
              "       0, 1, 1, 0, 1, 0, 1, 0, 1, 1, 1, 0, 1, 1, 0, 1, 0, 1, 1, 1, 1, 1,\n",
              "       1, 1, 0, 0, 1, 0, 1, 1, 0, 1, 1, 0, 1, 1, 1, 0, 1, 0, 0, 0, 1, 0,\n",
              "       1, 1, 1, 0, 0, 1, 0, 1, 1, 1, 0, 1, 0, 1, 1, 1, 1, 1, 1, 1, 0, 1,\n",
              "       1, 0, 0, 1, 0, 1, 1, 1, 1, 1, 0, 1, 1, 1, 0, 0, 1, 0, 1, 1, 1, 0,\n",
              "       1, 0, 0, 0, 0, 1, 1, 0, 0, 1, 1, 0, 0, 1, 0, 1, 0, 1, 1, 1, 1, 1,\n",
              "       1, 1, 1, 1, 1, 0, 1, 1, 1, 1, 1, 0, 0, 1, 0, 1, 1, 1, 0, 1, 0, 0,\n",
              "       1, 1, 1, 1, 0, 0, 0, 1, 1, 1, 0, 1, 1, 1, 0, 0, 0, 0, 1, 1, 1, 0,\n",
              "       1, 1, 1, 1, 1, 0, 1, 0, 0, 1, 0, 1, 0, 1, 0, 1, 1, 0, 1, 1, 0, 1,\n",
              "       1, 0, 1, 1, 1, 1, 1, 1, 1, 0, 1, 1, 0, 0, 1, 1, 0, 0, 0, 1, 1, 0,\n",
              "       0, 1, 1, 0, 0, 0, 0, 1, 1, 1, 0, 0, 1, 0, 0, 1, 1, 1, 1, 0, 1, 1,\n",
              "       1, 0, 1, 1, 1, 0, 1, 1, 1, 1, 1, 0, 1, 1, 0, 1, 0, 1, 0, 1, 1, 0,\n",
              "       1, 0, 1, 1, 1, 0, 0, 1, 1, 1, 0, 0, 0, 0, 1, 0, 1, 0, 0, 1, 0, 0,\n",
              "       0, 1])"
            ]
          },
          "metadata": {},
          "execution_count": 48
        }
      ]
    },
    {
      "cell_type": "code",
      "source": [
        "best_model.predict(X_test.drop('patient', axis = 1))"
      ],
      "metadata": {
        "colab": {
          "base_uri": "https://localhost:8080/"
        },
        "id": "zC2WlLSImzVL",
        "outputId": "a5efabfa-b803-44c6-ac91-004ba2f25846"
      },
      "execution_count": 49,
      "outputs": [
        {
          "output_type": "execute_result",
          "data": {
            "text/plain": [
              "array([1, 1, 0, 1, 1, 1, 0, 0, 1, 1, 1, 1, 1, 1, 0, 1, 1, 1, 1, 1, 1, 0,\n",
              "       1, 1, 1, 0, 1, 0, 0, 1, 0, 0, 1, 1, 0, 0, 0, 0, 0, 0, 1, 1, 1, 1,\n",
              "       1, 0, 0, 0, 0, 1, 1, 0, 0, 0, 1, 1, 0, 0, 1, 1, 1, 1, 1, 1, 1, 1,\n",
              "       1, 1, 1, 1, 0, 1, 1, 1, 0, 1, 1, 0, 0, 1, 1, 0, 1, 0, 1, 1, 0, 1,\n",
              "       0, 1, 0, 1, 1, 1, 1, 0, 1, 1, 1, 1, 1, 0, 1, 1, 1, 1, 0, 1, 1, 1,\n",
              "       1, 0, 1, 0, 1, 1, 1, 1, 0, 1, 1, 1, 0, 1, 1, 1, 1, 1, 0, 0, 0, 1,\n",
              "       1, 1, 1, 0, 0, 0, 1, 0, 0, 0, 0, 0, 1, 1, 1, 1, 0, 1, 0, 0, 1, 1,\n",
              "       0, 1, 0, 1, 1, 1, 0, 1, 0, 1, 0, 0, 1, 1, 0, 1, 0])"
            ]
          },
          "metadata": {},
          "execution_count": 49
        }
      ]
    },
    {
      "cell_type": "code",
      "source": [
        "from sklearn.metrics import accuracy_score"
      ],
      "metadata": {
        "id": "pmafD1G8nKUP"
      },
      "execution_count": 50,
      "outputs": []
    },
    {
      "cell_type": "code",
      "source": [
        "print('accuracy_train :',accuracy_score(y_train,best_model.predict(X_train.drop('patient', axis = 1))))\n",
        "print('accuracy_test :',accuracy_score(y_test,best_model.predict(X_test.drop('patient', axis = 1))))"
      ],
      "metadata": {
        "colab": {
          "base_uri": "https://localhost:8080/"
        },
        "id": "sJg_uRfYnPvp",
        "outputId": "a506057a-6765-4069-88ff-08f1739ed5f5"
      },
      "execution_count": 51,
      "outputs": [
        {
          "output_type": "stream",
          "name": "stdout",
          "text": [
            "accuracy_train : 0.9849246231155779\n",
            "accuracy_test : 0.9473684210526315\n"
          ]
        }
      ]
    },
    {
      "cell_type": "markdown",
      "source": [
        "Approach is very similat to \n",
        "\n",
        "1. Leave one group out cross validation\n",
        "2. Leave P group out cross validation"
      ],
      "metadata": {
        "id": "nehXH6L4Ntan"
      }
    }
  ]
}