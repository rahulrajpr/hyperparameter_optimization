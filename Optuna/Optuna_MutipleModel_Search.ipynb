{
  "nbformat": 4,
  "nbformat_minor": 0,
  "metadata": {
    "colab": {
      "provenance": [],
      "authorship_tag": "ABX9TyPGQf+2o+qlfSFsVMVbEwB9",
      "include_colab_link": true
    },
    "kernelspec": {
      "name": "python3",
      "display_name": "Python 3"
    },
    "language_info": {
      "name": "python"
    },
    "widgets": {
      "application/vnd.jupyter.widget-state+json": {
        "14b61244d08444baa88e57f226a55da7": {
          "model_module": "@jupyter-widgets/controls",
          "model_name": "HBoxModel",
          "model_module_version": "1.5.0",
          "state": {
            "_dom_classes": [],
            "_model_module": "@jupyter-widgets/controls",
            "_model_module_version": "1.5.0",
            "_model_name": "HBoxModel",
            "_view_count": null,
            "_view_module": "@jupyter-widgets/controls",
            "_view_module_version": "1.5.0",
            "_view_name": "HBoxView",
            "box_style": "",
            "children": [
              "IPY_MODEL_1e41926bced14993b14e2bd8a9b8a887",
              "IPY_MODEL_e7f22099905145cb9fec9916c55922be",
              "IPY_MODEL_f94f002f62234dcd98e35e16ad505d98"
            ],
            "layout": "IPY_MODEL_f9b1fa37de3141edb9e676496f10e119"
          }
        },
        "1e41926bced14993b14e2bd8a9b8a887": {
          "model_module": "@jupyter-widgets/controls",
          "model_name": "HTMLModel",
          "model_module_version": "1.5.0",
          "state": {
            "_dom_classes": [],
            "_model_module": "@jupyter-widgets/controls",
            "_model_module_version": "1.5.0",
            "_model_name": "HTMLModel",
            "_view_count": null,
            "_view_module": "@jupyter-widgets/controls",
            "_view_module_version": "1.5.0",
            "_view_name": "HTMLView",
            "description": "",
            "description_tooltip": null,
            "layout": "IPY_MODEL_e09bad1473cd4b749385a2235bd74ef8",
            "placeholder": "​",
            "style": "IPY_MODEL_68ccdaa5a2344e268d8165ae1c764613",
            "value": "100%"
          }
        },
        "e7f22099905145cb9fec9916c55922be": {
          "model_module": "@jupyter-widgets/controls",
          "model_name": "FloatProgressModel",
          "model_module_version": "1.5.0",
          "state": {
            "_dom_classes": [],
            "_model_module": "@jupyter-widgets/controls",
            "_model_module_version": "1.5.0",
            "_model_name": "FloatProgressModel",
            "_view_count": null,
            "_view_module": "@jupyter-widgets/controls",
            "_view_module_version": "1.5.0",
            "_view_name": "ProgressView",
            "bar_style": "success",
            "description": "",
            "description_tooltip": null,
            "layout": "IPY_MODEL_31bc437e65b849ef9f5b8d037221821e",
            "max": 100,
            "min": 0,
            "orientation": "horizontal",
            "style": "IPY_MODEL_8893104e0b2b4e6286141356ae8dd230",
            "value": 100
          }
        },
        "f94f002f62234dcd98e35e16ad505d98": {
          "model_module": "@jupyter-widgets/controls",
          "model_name": "HTMLModel",
          "model_module_version": "1.5.0",
          "state": {
            "_dom_classes": [],
            "_model_module": "@jupyter-widgets/controls",
            "_model_module_version": "1.5.0",
            "_model_name": "HTMLModel",
            "_view_count": null,
            "_view_module": "@jupyter-widgets/controls",
            "_view_module_version": "1.5.0",
            "_view_name": "HTMLView",
            "description": "",
            "description_tooltip": null,
            "layout": "IPY_MODEL_d70b9bc2abb54752bdcd6b39ddee2157",
            "placeholder": "​",
            "style": "IPY_MODEL_02daa236d0ef42d7b151e9b0e99fd4ae",
            "value": " 100/100 [02:56&lt;00:00,  1.53s/it]"
          }
        },
        "f9b1fa37de3141edb9e676496f10e119": {
          "model_module": "@jupyter-widgets/base",
          "model_name": "LayoutModel",
          "model_module_version": "1.2.0",
          "state": {
            "_model_module": "@jupyter-widgets/base",
            "_model_module_version": "1.2.0",
            "_model_name": "LayoutModel",
            "_view_count": null,
            "_view_module": "@jupyter-widgets/base",
            "_view_module_version": "1.2.0",
            "_view_name": "LayoutView",
            "align_content": null,
            "align_items": null,
            "align_self": null,
            "border": null,
            "bottom": null,
            "display": null,
            "flex": null,
            "flex_flow": null,
            "grid_area": null,
            "grid_auto_columns": null,
            "grid_auto_flow": null,
            "grid_auto_rows": null,
            "grid_column": null,
            "grid_gap": null,
            "grid_row": null,
            "grid_template_areas": null,
            "grid_template_columns": null,
            "grid_template_rows": null,
            "height": null,
            "justify_content": null,
            "justify_items": null,
            "left": null,
            "margin": null,
            "max_height": null,
            "max_width": null,
            "min_height": null,
            "min_width": null,
            "object_fit": null,
            "object_position": null,
            "order": null,
            "overflow": null,
            "overflow_x": null,
            "overflow_y": null,
            "padding": null,
            "right": null,
            "top": null,
            "visibility": null,
            "width": null
          }
        },
        "e09bad1473cd4b749385a2235bd74ef8": {
          "model_module": "@jupyter-widgets/base",
          "model_name": "LayoutModel",
          "model_module_version": "1.2.0",
          "state": {
            "_model_module": "@jupyter-widgets/base",
            "_model_module_version": "1.2.0",
            "_model_name": "LayoutModel",
            "_view_count": null,
            "_view_module": "@jupyter-widgets/base",
            "_view_module_version": "1.2.0",
            "_view_name": "LayoutView",
            "align_content": null,
            "align_items": null,
            "align_self": null,
            "border": null,
            "bottom": null,
            "display": null,
            "flex": null,
            "flex_flow": null,
            "grid_area": null,
            "grid_auto_columns": null,
            "grid_auto_flow": null,
            "grid_auto_rows": null,
            "grid_column": null,
            "grid_gap": null,
            "grid_row": null,
            "grid_template_areas": null,
            "grid_template_columns": null,
            "grid_template_rows": null,
            "height": null,
            "justify_content": null,
            "justify_items": null,
            "left": null,
            "margin": null,
            "max_height": null,
            "max_width": null,
            "min_height": null,
            "min_width": null,
            "object_fit": null,
            "object_position": null,
            "order": null,
            "overflow": null,
            "overflow_x": null,
            "overflow_y": null,
            "padding": null,
            "right": null,
            "top": null,
            "visibility": null,
            "width": null
          }
        },
        "68ccdaa5a2344e268d8165ae1c764613": {
          "model_module": "@jupyter-widgets/controls",
          "model_name": "DescriptionStyleModel",
          "model_module_version": "1.5.0",
          "state": {
            "_model_module": "@jupyter-widgets/controls",
            "_model_module_version": "1.5.0",
            "_model_name": "DescriptionStyleModel",
            "_view_count": null,
            "_view_module": "@jupyter-widgets/base",
            "_view_module_version": "1.2.0",
            "_view_name": "StyleView",
            "description_width": ""
          }
        },
        "31bc437e65b849ef9f5b8d037221821e": {
          "model_module": "@jupyter-widgets/base",
          "model_name": "LayoutModel",
          "model_module_version": "1.2.0",
          "state": {
            "_model_module": "@jupyter-widgets/base",
            "_model_module_version": "1.2.0",
            "_model_name": "LayoutModel",
            "_view_count": null,
            "_view_module": "@jupyter-widgets/base",
            "_view_module_version": "1.2.0",
            "_view_name": "LayoutView",
            "align_content": null,
            "align_items": null,
            "align_self": null,
            "border": null,
            "bottom": null,
            "display": null,
            "flex": null,
            "flex_flow": null,
            "grid_area": null,
            "grid_auto_columns": null,
            "grid_auto_flow": null,
            "grid_auto_rows": null,
            "grid_column": null,
            "grid_gap": null,
            "grid_row": null,
            "grid_template_areas": null,
            "grid_template_columns": null,
            "grid_template_rows": null,
            "height": null,
            "justify_content": null,
            "justify_items": null,
            "left": null,
            "margin": null,
            "max_height": null,
            "max_width": null,
            "min_height": null,
            "min_width": null,
            "object_fit": null,
            "object_position": null,
            "order": null,
            "overflow": null,
            "overflow_x": null,
            "overflow_y": null,
            "padding": null,
            "right": null,
            "top": null,
            "visibility": null,
            "width": null
          }
        },
        "8893104e0b2b4e6286141356ae8dd230": {
          "model_module": "@jupyter-widgets/controls",
          "model_name": "ProgressStyleModel",
          "model_module_version": "1.5.0",
          "state": {
            "_model_module": "@jupyter-widgets/controls",
            "_model_module_version": "1.5.0",
            "_model_name": "ProgressStyleModel",
            "_view_count": null,
            "_view_module": "@jupyter-widgets/base",
            "_view_module_version": "1.2.0",
            "_view_name": "StyleView",
            "bar_color": null,
            "description_width": ""
          }
        },
        "d70b9bc2abb54752bdcd6b39ddee2157": {
          "model_module": "@jupyter-widgets/base",
          "model_name": "LayoutModel",
          "model_module_version": "1.2.0",
          "state": {
            "_model_module": "@jupyter-widgets/base",
            "_model_module_version": "1.2.0",
            "_model_name": "LayoutModel",
            "_view_count": null,
            "_view_module": "@jupyter-widgets/base",
            "_view_module_version": "1.2.0",
            "_view_name": "LayoutView",
            "align_content": null,
            "align_items": null,
            "align_self": null,
            "border": null,
            "bottom": null,
            "display": null,
            "flex": null,
            "flex_flow": null,
            "grid_area": null,
            "grid_auto_columns": null,
            "grid_auto_flow": null,
            "grid_auto_rows": null,
            "grid_column": null,
            "grid_gap": null,
            "grid_row": null,
            "grid_template_areas": null,
            "grid_template_columns": null,
            "grid_template_rows": null,
            "height": null,
            "justify_content": null,
            "justify_items": null,
            "left": null,
            "margin": null,
            "max_height": null,
            "max_width": null,
            "min_height": null,
            "min_width": null,
            "object_fit": null,
            "object_position": null,
            "order": null,
            "overflow": null,
            "overflow_x": null,
            "overflow_y": null,
            "padding": null,
            "right": null,
            "top": null,
            "visibility": null,
            "width": null
          }
        },
        "02daa236d0ef42d7b151e9b0e99fd4ae": {
          "model_module": "@jupyter-widgets/controls",
          "model_name": "DescriptionStyleModel",
          "model_module_version": "1.5.0",
          "state": {
            "_model_module": "@jupyter-widgets/controls",
            "_model_module_version": "1.5.0",
            "_model_name": "DescriptionStyleModel",
            "_view_count": null,
            "_view_module": "@jupyter-widgets/base",
            "_view_module_version": "1.2.0",
            "_view_name": "StyleView",
            "description_width": ""
          }
        }
      }
    }
  },
  "cells": [
    {
      "cell_type": "markdown",
      "metadata": {
        "id": "view-in-github",
        "colab_type": "text"
      },
      "source": [
        "<a href=\"https://colab.research.google.com/github/rahulrajpr/AdvancedHyperParameterOptimisation/blob/Optuna/Optuna_MutipleModel_Search.ipynb\" target=\"_parent\"><img src=\"https://colab.research.google.com/assets/colab-badge.svg\" alt=\"Open In Colab\"/></a>"
      ]
    },
    {
      "cell_type": "markdown",
      "source": [
        "**Optuna Multi Model Search**\n",
        "\n",
        "You can perform muti-model - multi hyperparameter seacched with optune inside ithe objective function with ease"
      ],
      "metadata": {
        "id": "WBxmj8WyMRSk"
      }
    },
    {
      "cell_type": "code",
      "execution_count": 1,
      "metadata": {
        "id": "RT3xw2AfLGP0"
      },
      "outputs": [],
      "source": [
        "import pandas as pd\n",
        "import numpy as np\n",
        "import matplotlib.pyplot as plt\n",
        "import seaborn as sns\n",
        "import warnings\n",
        "warnings.filterwarnings('ignore')"
      ]
    },
    {
      "cell_type": "code",
      "source": [
        "from sklearn.datasets import load_breast_cancer"
      ],
      "metadata": {
        "id": "YTEw1eiTLb-E"
      },
      "execution_count": 2,
      "outputs": []
    },
    {
      "cell_type": "code",
      "source": [
        "dataset = load_breast_cancer()\n",
        "data = dataset.data\n",
        "target = dataset.target\n",
        "columns = dataset.feature_names\n",
        "df = pd.DataFrame(data = data, columns = columns)\n",
        "df['target'] = target\n",
        "df.info()"
      ],
      "metadata": {
        "colab": {
          "base_uri": "https://localhost:8080/"
        },
        "id": "KhcVF1fiLgXt",
        "outputId": "770bde05-ef86-4db3-cae5-fd8622f34c00"
      },
      "execution_count": 3,
      "outputs": [
        {
          "output_type": "stream",
          "name": "stdout",
          "text": [
            "<class 'pandas.core.frame.DataFrame'>\n",
            "RangeIndex: 569 entries, 0 to 568\n",
            "Data columns (total 31 columns):\n",
            " #   Column                   Non-Null Count  Dtype  \n",
            "---  ------                   --------------  -----  \n",
            " 0   mean radius              569 non-null    float64\n",
            " 1   mean texture             569 non-null    float64\n",
            " 2   mean perimeter           569 non-null    float64\n",
            " 3   mean area                569 non-null    float64\n",
            " 4   mean smoothness          569 non-null    float64\n",
            " 5   mean compactness         569 non-null    float64\n",
            " 6   mean concavity           569 non-null    float64\n",
            " 7   mean concave points      569 non-null    float64\n",
            " 8   mean symmetry            569 non-null    float64\n",
            " 9   mean fractal dimension   569 non-null    float64\n",
            " 10  radius error             569 non-null    float64\n",
            " 11  texture error            569 non-null    float64\n",
            " 12  perimeter error          569 non-null    float64\n",
            " 13  area error               569 non-null    float64\n",
            " 14  smoothness error         569 non-null    float64\n",
            " 15  compactness error        569 non-null    float64\n",
            " 16  concavity error          569 non-null    float64\n",
            " 17  concave points error     569 non-null    float64\n",
            " 18  symmetry error           569 non-null    float64\n",
            " 19  fractal dimension error  569 non-null    float64\n",
            " 20  worst radius             569 non-null    float64\n",
            " 21  worst texture            569 non-null    float64\n",
            " 22  worst perimeter          569 non-null    float64\n",
            " 23  worst area               569 non-null    float64\n",
            " 24  worst smoothness         569 non-null    float64\n",
            " 25  worst compactness        569 non-null    float64\n",
            " 26  worst concavity          569 non-null    float64\n",
            " 27  worst concave points     569 non-null    float64\n",
            " 28  worst symmetry           569 non-null    float64\n",
            " 29  worst fractal dimension  569 non-null    float64\n",
            " 30  target                   569 non-null    int64  \n",
            "dtypes: float64(30), int64(1)\n",
            "memory usage: 137.9 KB\n"
          ]
        }
      ]
    },
    {
      "cell_type": "code",
      "source": [
        "X = df.drop('target', axis =1)\n",
        "y = df['target']"
      ],
      "metadata": {
        "id": "sVf23fZlL1um"
      },
      "execution_count": 4,
      "outputs": []
    },
    {
      "cell_type": "code",
      "source": [
        "from sklearn.model_selection import train_test_split"
      ],
      "metadata": {
        "id": "xNUIU9sjL8kP"
      },
      "execution_count": 5,
      "outputs": []
    },
    {
      "cell_type": "code",
      "source": [
        "X_train,X_test,y_train, y_test = train_test_split(X,y,train_size = 0.7, random_state = 100, stratify = y)"
      ],
      "metadata": {
        "id": "hoYy5QKoMB2R"
      },
      "execution_count": 6,
      "outputs": []
    },
    {
      "cell_type": "markdown",
      "source": [
        "Define the objective function"
      ],
      "metadata": {
        "id": "5ZdvDKA6M9D_"
      }
    },
    {
      "cell_type": "code",
      "source": [
        "from sklearn.linear_model import LogisticRegression\n",
        "from sklearn.ensemble import RandomForestClassifier\n",
        "from sklearn.ensemble import GradientBoostingClassifier"
      ],
      "metadata": {
        "id": "ZS7WHfWlNKqj"
      },
      "execution_count": 10,
      "outputs": []
    },
    {
      "cell_type": "code",
      "source": [
        "from sklearn.model_selection import cross_val_score"
      ],
      "metadata": {
        "id": "xlYsemysOyoX"
      },
      "execution_count": 11,
      "outputs": []
    },
    {
      "cell_type": "code",
      "source": [
        "model_list = ['Logit','RF','GBC']"
      ],
      "metadata": {
        "id": "WopIE2FvinnD"
      },
      "execution_count": 12,
      "outputs": []
    },
    {
      "cell_type": "code",
      "source": [
        "def objective(trial):\n",
        "    \n",
        "    classifier_name = trial.suggest_categorical(\"classifier\", [\"logit\", \"RF\", 'GBM'])\n",
        "    \n",
        "    if classifier_name == \"logit\":\n",
        "        \n",
        "        logit_penalty = trial.suggest_categorical('logit_penalty', ['l1','l2'])\n",
        "        logit_c = trial.suggest_float('logit_c', 0.001, 10)\n",
        "        logit_solver = 'saga'\n",
        "        \n",
        "        model = LogisticRegression(\n",
        "            penalty=logit_penalty,\n",
        "            C=logit_c,\n",
        "            solver=logit_solver,\n",
        "        )\n",
        "        \n",
        "    elif classifier_name ==\"RF\":\n",
        "        \n",
        "        rf_n_estimators = trial.suggest_int(\"rf_n_estimators\", 100, 1000)\n",
        "        rf_criterion = trial.suggest_categorical(\"rf_criterion\", ['gini', 'entropy'])\n",
        "        rf_max_depth = trial.suggest_int(\"rf_max_depth\", 1, 4)\n",
        "        rf_min_samples_split = trial.suggest_float(\"rf_min_samples_split\", 0.01, 1)\n",
        "\n",
        "        model = RandomForestClassifier(\n",
        "            n_estimators=rf_n_estimators,\n",
        "            criterion=rf_criterion,\n",
        "            max_depth=rf_max_depth,\n",
        "            min_samples_split=rf_min_samples_split,\n",
        "        )\n",
        "        \n",
        "    else:\n",
        "        \n",
        "        gbm_n_estimators = trial.suggest_int(\"gbm_n_estimators\", 100, 1000)\n",
        "        gbm_criterion = trial.suggest_categorical(\"gbm_criterion\", ['mse', 'friedman_mse'])\n",
        "        gbm_max_depth = trial.suggest_int(\"gbm_max_depth\", 1, 4)\n",
        "        gbm_min_samples_split = trial.suggest_float(\"gbm_min_samples_split\", 0.01, 1)\n",
        "\n",
        "        model = GradientBoostingClassifier(\n",
        "            n_estimators=gbm_n_estimators,\n",
        "            criterion=gbm_criterion,\n",
        "            max_depth=gbm_max_depth,\n",
        "            min_samples_split=gbm_min_samples_split,\n",
        "        )\n",
        "\n",
        "    \n",
        "    score = cross_val_score(model, X_train, y_train, cv=3)\n",
        "    accuracy = score.mean()\n",
        "    \n",
        "    return accuracy"
      ],
      "metadata": {
        "id": "DfNEUSGqinku"
      },
      "execution_count": 30,
      "outputs": []
    },
    {
      "cell_type": "markdown",
      "source": [
        "**Random Search**"
      ],
      "metadata": {
        "id": "8btZZmWBMt1L"
      }
    },
    {
      "cell_type": "code",
      "source": [
        "from IPython.core.display import clear_output\n",
        "!pip install optuna\n",
        "clear_output()"
      ],
      "metadata": {
        "id": "V9HbUmtCQKO6"
      },
      "execution_count": 15,
      "outputs": []
    },
    {
      "cell_type": "code",
      "source": [
        "import optuna"
      ],
      "metadata": {
        "id": "KZZ_4vN0P_O9"
      },
      "execution_count": 16,
      "outputs": []
    },
    {
      "cell_type": "code",
      "source": [
        "study = optuna.create_study(direction = 'maximize',\n",
        "                            sampler = optuna.samplers.TPESampler())"
      ],
      "metadata": {
        "colab": {
          "base_uri": "https://localhost:8080/"
        },
        "id": "6cbTt4OPnHmW",
        "outputId": "db310b7f-39da-4e51-ccb3-6bbc8c6fb04d"
      },
      "execution_count": 31,
      "outputs": [
        {
          "output_type": "stream",
          "name": "stderr",
          "text": [
            "\u001b[32m[I 2023-01-04 07:18:16,276]\u001b[0m A new study created in memory with name: no-name-3dc455cf-761d-4751-9e58-66fc362f4018\u001b[0m\n"
          ]
        }
      ]
    },
    {
      "cell_type": "code",
      "source": [
        "study.optimize(func = objective,\n",
        "               n_trials = 100,\n",
        "               n_jobs = -1, \n",
        "               show_progress_bar = True)\n",
        "\n",
        "%time"
      ],
      "metadata": {
        "colab": {
          "base_uri": "https://localhost:8080/",
          "height": 1000,
          "referenced_widgets": [
            "14b61244d08444baa88e57f226a55da7",
            "1e41926bced14993b14e2bd8a9b8a887",
            "e7f22099905145cb9fec9916c55922be",
            "f94f002f62234dcd98e35e16ad505d98",
            "f9b1fa37de3141edb9e676496f10e119",
            "e09bad1473cd4b749385a2235bd74ef8",
            "68ccdaa5a2344e268d8165ae1c764613",
            "31bc437e65b849ef9f5b8d037221821e",
            "8893104e0b2b4e6286141356ae8dd230",
            "d70b9bc2abb54752bdcd6b39ddee2157",
            "02daa236d0ef42d7b151e9b0e99fd4ae"
          ]
        },
        "id": "iEm7vjtHnIKK",
        "outputId": "68e01df6-8696-4e43-aa5b-6dcf0d0ab7f2"
      },
      "execution_count": 32,
      "outputs": [
        {
          "output_type": "display_data",
          "data": {
            "text/plain": [
              "  0%|          | 0/100 [00:00<?, ?it/s]"
            ],
            "application/vnd.jupyter.widget-view+json": {
              "version_major": 2,
              "version_minor": 0,
              "model_id": "14b61244d08444baa88e57f226a55da7"
            }
          },
          "metadata": {}
        },
        {
          "output_type": "stream",
          "name": "stdout",
          "text": [
            "\u001b[32m[I 2023-01-04 07:18:19,830]\u001b[0m Trial 0 finished with value: 0.9045150755677072 and parameters: {'classifier': 'logit', 'logit_penalty': 'l2', 'logit_c': 2.169858972762116}. Best is trial 0 with value: 0.9045150755677072.\u001b[0m\n",
            "\u001b[32m[I 2023-01-04 07:18:19,838]\u001b[0m Trial 1 finished with value: 0.9045150755677072 and parameters: {'classifier': 'logit', 'logit_penalty': 'l2', 'logit_c': 8.398176026600044}. Best is trial 0 with value: 0.9045150755677072.\u001b[0m\n",
            "\u001b[32m[I 2023-01-04 07:18:20,042]\u001b[0m Trial 3 finished with value: 0.9045150755677072 and parameters: {'classifier': 'logit', 'logit_penalty': 'l1', 'logit_c': 0.06717505827657361}. Best is trial 0 with value: 0.9045150755677072.\u001b[0m\n",
            "\u001b[32m[I 2023-01-04 07:18:26,314]\u001b[0m Trial 2 finished with value: 0.9371534897850687 and parameters: {'classifier': 'RF', 'rf_n_estimators': 839, 'rf_criterion': 'gini', 'rf_max_depth': 2, 'rf_min_samples_split': 0.012027421383948056}. Best is trial 2 with value: 0.9371534897850687.\u001b[0m\n",
            "\u001b[32m[I 2023-01-04 07:18:28,434]\u001b[0m Trial 4 finished with value: 0.9396977291714134 and parameters: {'classifier': 'GBM', 'gbm_n_estimators': 861, 'gbm_criterion': 'friedman_mse', 'gbm_max_depth': 3, 'gbm_min_samples_split': 0.19526531994520094}. Best is trial 4 with value: 0.9396977291714134.\u001b[0m\n",
            "\u001b[32m[I 2023-01-04 07:18:31,999]\u001b[0m Trial 5 finished with value: 0.9572605756816284 and parameters: {'classifier': 'GBM', 'gbm_n_estimators': 507, 'gbm_criterion': 'mse', 'gbm_max_depth': 3, 'gbm_min_samples_split': 0.9443392032549396}. Best is trial 5 with value: 0.9572605756816284.\u001b[0m\n",
            "\u001b[32m[I 2023-01-04 07:18:33,320]\u001b[0m Trial 6 finished with value: 0.6281423255107467 and parameters: {'classifier': 'RF', 'rf_n_estimators': 777, 'rf_criterion': 'gini', 'rf_max_depth': 2, 'rf_min_samples_split': 0.6759350408665087}. Best is trial 5 with value: 0.9572605756816284.\u001b[0m\n",
            "\u001b[32m[I 2023-01-04 07:18:33,455]\u001b[0m Trial 8 finished with value: 0.9045150755677072 and parameters: {'classifier': 'logit', 'logit_penalty': 'l1', 'logit_c': 7.773617054618592}. Best is trial 5 with value: 0.9572605756816284.\u001b[0m\n",
            "\u001b[32m[I 2023-01-04 07:18:33,555]\u001b[0m Trial 9 finished with value: 0.9045150755677072 and parameters: {'classifier': 'logit', 'logit_penalty': 'l2', 'logit_c': 8.157043869153048}. Best is trial 5 with value: 0.9572605756816284.\u001b[0m\n",
            "\u001b[32m[I 2023-01-04 07:18:38,379]\u001b[0m Trial 7 finished with value: 0.9597858282068809 and parameters: {'classifier': 'GBM', 'gbm_n_estimators': 587, 'gbm_criterion': 'friedman_mse', 'gbm_max_depth': 3, 'gbm_min_samples_split': 0.9205812886315381}. Best is trial 7 with value: 0.9597858282068809.\u001b[0m\n",
            "\u001b[32m[I 2023-01-04 07:18:39,754]\u001b[0m Trial 11 finished with value: 0.9547732968785599 and parameters: {'classifier': 'GBM', 'gbm_n_estimators': 188, 'gbm_criterion': 'friedman_mse', 'gbm_max_depth': 1, 'gbm_min_samples_split': 0.9815976367507768}. Best is trial 7 with value: 0.9597858282068809.\u001b[0m\n",
            "\u001b[32m[I 2023-01-04 07:18:39,968]\u001b[0m Trial 10 finished with value: 0.949741778689147 and parameters: {'classifier': 'RF', 'rf_n_estimators': 734, 'rf_criterion': 'entropy', 'rf_max_depth': 4, 'rf_min_samples_split': 0.04936695707919695}. Best is trial 7 with value: 0.9597858282068809.\u001b[0m\n",
            "\u001b[32m[I 2023-01-04 07:18:44,432]\u001b[0m Trial 12 finished with value: 0.9597858282068809 and parameters: {'classifier': 'GBM', 'gbm_n_estimators': 546, 'gbm_criterion': 'mse', 'gbm_max_depth': 4, 'gbm_min_samples_split': 0.9891531069862898}. Best is trial 7 with value: 0.9597858282068809.\u001b[0m\n",
            "\u001b[32m[I 2023-01-04 07:18:44,913]\u001b[0m Trial 13 finished with value: 0.9597858282068809 and parameters: {'classifier': 'GBM', 'gbm_n_estimators': 548, 'gbm_criterion': 'mse', 'gbm_max_depth': 4, 'gbm_min_samples_split': 0.9738013542133345}. Best is trial 7 with value: 0.9597858282068809.\u001b[0m\n",
            "\u001b[32m[I 2023-01-04 07:18:50,430]\u001b[0m Trial 14 finished with value: 0.9647983595352017 and parameters: {'classifier': 'GBM', 'gbm_n_estimators': 557, 'gbm_criterion': 'mse', 'gbm_max_depth': 4, 'gbm_min_samples_split': 0.7226020165103426}. Best is trial 14 with value: 0.9647983595352017.\u001b[0m\n",
            "\u001b[32m[I 2023-01-04 07:18:52,372]\u001b[0m Trial 15 finished with value: 0.954754310017468 and parameters: {'classifier': 'GBM', 'gbm_n_estimators': 710, 'gbm_criterion': 'friedman_mse', 'gbm_max_depth': 4, 'gbm_min_samples_split': 0.6189859817414023}. Best is trial 14 with value: 0.9647983595352017.\u001b[0m\n",
            "\u001b[32m[I 2023-01-04 07:18:54,694]\u001b[0m Trial 17 finished with value: 0.9547353231563758 and parameters: {'classifier': 'GBM', 'gbm_n_estimators': 333, 'gbm_criterion': 'friedman_mse', 'gbm_max_depth': 2, 'gbm_min_samples_split': 0.6436185129660672}. Best is trial 14 with value: 0.9647983595352017.\u001b[0m\n",
            "\u001b[32m[I 2023-01-04 07:18:56,279]\u001b[0m Trial 16 finished with value: 0.954754310017468 and parameters: {'classifier': 'GBM', 'gbm_n_estimators': 797, 'gbm_criterion': 'friedman_mse', 'gbm_max_depth': 2, 'gbm_min_samples_split': 0.5823343409736677}. Best is trial 14 with value: 0.9647983595352017.\u001b[0m\n",
            "\u001b[32m[I 2023-01-04 07:18:57,820]\u001b[0m Trial 18 finished with value: 0.9622920938710413 and parameters: {'classifier': 'GBM', 'gbm_n_estimators': 388, 'gbm_criterion': 'mse', 'gbm_max_depth': 4, 'gbm_min_samples_split': 0.7181529337847862}. Best is trial 14 with value: 0.9647983595352017.\u001b[0m\n",
            "\u001b[32m[I 2023-01-04 07:18:59,368]\u001b[0m Trial 19 finished with value: 0.9597858282068809 and parameters: {'classifier': 'GBM', 'gbm_n_estimators': 397, 'gbm_criterion': 'mse', 'gbm_max_depth': 4, 'gbm_min_samples_split': 0.7702747680427576}. Best is trial 14 with value: 0.9647983595352017.\u001b[0m\n",
            "\u001b[32m[I 2023-01-04 07:19:00,413]\u001b[0m Trial 21 finished with value: 0.6281423255107467 and parameters: {'classifier': 'RF', 'rf_n_estimators': 159, 'rf_criterion': 'entropy', 'rf_max_depth': 4, 'rf_min_samples_split': 0.9480141606271275}. Best is trial 14 with value: 0.9647983595352017.\u001b[0m\n",
            "\u001b[32m[I 2023-01-04 07:19:01,210]\u001b[0m Trial 20 finished with value: 0.9572795625427205 and parameters: {'classifier': 'GBM', 'gbm_n_estimators': 338, 'gbm_criterion': 'mse', 'gbm_max_depth': 4, 'gbm_min_samples_split': 0.7498883171583485}. Best is trial 14 with value: 0.9647983595352017.\u001b[0m\n",
            "\u001b[32m[I 2023-01-04 07:19:05,311]\u001b[0m Trial 22 finished with value: 0.9547353231563758 and parameters: {'classifier': 'GBM', 'gbm_n_estimators': 679, 'gbm_criterion': 'mse', 'gbm_max_depth': 3, 'gbm_min_samples_split': 0.7833839461289436}. Best is trial 14 with value: 0.9647983595352017.\u001b[0m\n",
            "\u001b[32m[I 2023-01-04 07:19:05,839]\u001b[0m Trial 23 finished with value: 0.9371724766461608 and parameters: {'classifier': 'GBM', 'gbm_n_estimators': 387, 'gbm_criterion': 'mse', 'gbm_max_depth': 4, 'gbm_min_samples_split': 0.39174313689457946}. Best is trial 14 with value: 0.9647983595352017.\u001b[0m\n",
            "\u001b[32m[I 2023-01-04 07:19:07,395]\u001b[0m Trial 25 finished with value: 0.9522480443533073 and parameters: {'classifier': 'GBM', 'gbm_n_estimators': 209, 'gbm_criterion': 'mse', 'gbm_max_depth': 4, 'gbm_min_samples_split': 0.7840810596584367}. Best is trial 14 with value: 0.9647983595352017.\u001b[0m\n",
            "\u001b[32m[I 2023-01-04 07:19:09,701]\u001b[0m Trial 24 finished with value: 0.942222981696666 and parameters: {'classifier': 'GBM', 'gbm_n_estimators': 364, 'gbm_criterion': 'mse', 'gbm_max_depth': 4, 'gbm_min_samples_split': 0.4017792173779454}. Best is trial 14 with value: 0.9647983595352017.\u001b[0m\n",
            "\u001b[32m[I 2023-01-04 07:19:12,557]\u001b[0m Trial 26 finished with value: 0.942222981696666 and parameters: {'classifier': 'GBM', 'gbm_n_estimators': 474, 'gbm_criterion': 'mse', 'gbm_max_depth': 4, 'gbm_min_samples_split': 0.41395902043287847}. Best is trial 14 with value: 0.9647983595352017.\u001b[0m\n",
            "\u001b[32m[I 2023-01-04 07:19:15,398]\u001b[0m Trial 27 finished with value: 0.949741778689147 and parameters: {'classifier': 'GBM', 'gbm_n_estimators': 484, 'gbm_criterion': 'mse', 'gbm_max_depth': 3, 'gbm_min_samples_split': 0.4796879751506674}. Best is trial 14 with value: 0.9647983595352017.\u001b[0m\n",
            "\u001b[32m[I 2023-01-04 07:19:18,265]\u001b[0m Trial 29 finished with value: 0.9220209614946456 and parameters: {'classifier': 'RF', 'rf_n_estimators': 290, 'rf_criterion': 'entropy', 'rf_max_depth': 3, 'rf_min_samples_split': 0.4240122939183411}. Best is trial 14 with value: 0.9647983595352017.\u001b[0m\n",
            "\u001b[32m[I 2023-01-04 07:19:19,114]\u001b[0m Trial 28 finished with value: 0.9572605756816284 and parameters: {'classifier': 'GBM', 'gbm_n_estimators': 639, 'gbm_criterion': 'mse', 'gbm_max_depth': 3, 'gbm_min_samples_split': 0.8519166408039414}. Best is trial 14 with value: 0.9647983595352017.\u001b[0m\n",
            "\u001b[32m[I 2023-01-04 07:19:19,242]\u001b[0m Trial 31 finished with value: 0.9045150755677072 and parameters: {'classifier': 'logit', 'logit_penalty': 'l1', 'logit_c': 4.707457934700378}. Best is trial 14 with value: 0.9647983595352017.\u001b[0m\n",
            "\u001b[32m[I 2023-01-04 07:19:22,515]\u001b[0m Trial 32 finished with value: 0.9622920938710413 and parameters: {'classifier': 'GBM', 'gbm_n_estimators': 430, 'gbm_criterion': 'friedman_mse', 'gbm_max_depth': 3, 'gbm_min_samples_split': 0.6920216326489491}. Best is trial 14 with value: 0.9647983595352017.\u001b[0m\n",
            "\u001b[32m[I 2023-01-04 07:19:24,635]\u001b[0m Trial 30 finished with value: 0.9597668413457887 and parameters: {'classifier': 'GBM', 'gbm_n_estimators': 979, 'gbm_criterion': 'mse', 'gbm_max_depth': 3, 'gbm_min_samples_split': 0.8642610485207322}. Best is trial 14 with value: 0.9647983595352017.\u001b[0m\n",
            "\u001b[32m[I 2023-01-04 07:19:25,987]\u001b[0m Trial 33 finished with value: 0.9622920938710413 and parameters: {'classifier': 'GBM', 'gbm_n_estimators': 422, 'gbm_criterion': 'mse', 'gbm_max_depth': 4, 'gbm_min_samples_split': 0.7031262354678725}. Best is trial 14 with value: 0.9647983595352017.\u001b[0m\n",
            "\u001b[32m[I 2023-01-04 07:19:27,760]\u001b[0m Trial 35 finished with value: 0.9597668413457887 and parameters: {'classifier': 'GBM', 'gbm_n_estimators': 259, 'gbm_criterion': 'friedman_mse', 'gbm_max_depth': 2, 'gbm_min_samples_split': 0.6903716493734156}. Best is trial 14 with value: 0.9647983595352017.\u001b[0m\n",
            "\u001b[32m[I 2023-01-04 07:19:27,870]\u001b[0m Trial 36 finished with value: 0.9045150755677072 and parameters: {'classifier': 'logit', 'logit_penalty': 'l2', 'logit_c': 5.013250081809129}. Best is trial 14 with value: 0.9647983595352017.\u001b[0m\n",
            "\u001b[32m[I 2023-01-04 07:19:28,171]\u001b[0m Trial 34 finished with value: 0.9622920938710413 and parameters: {'classifier': 'GBM', 'gbm_n_estimators': 425, 'gbm_criterion': 'friedman_mse', 'gbm_max_depth': 4, 'gbm_min_samples_split': 0.700244911432345}. Best is trial 14 with value: 0.9647983595352017.\u001b[0m\n",
            "\u001b[32m[I 2023-01-04 07:19:28,769]\u001b[0m Trial 38 finished with value: 0.9572795625427205 and parameters: {'classifier': 'GBM', 'gbm_n_estimators': 115, 'gbm_criterion': 'mse', 'gbm_max_depth': 1, 'gbm_min_samples_split': 0.5013605006008331}. Best is trial 14 with value: 0.9647983595352017.\u001b[0m\n",
            "\u001b[32m[I 2023-01-04 07:19:31,961]\u001b[0m Trial 39 finished with value: 0.911976911976912 and parameters: {'classifier': 'RF', 'rf_n_estimators': 458, 'rf_criterion': 'gini', 'rf_max_depth': 1, 'rf_min_samples_split': 0.39673184592235533}. Best is trial 14 with value: 0.9647983595352017.\u001b[0m\n",
            "\u001b[32m[I 2023-01-04 07:19:33,941]\u001b[0m Trial 37 finished with value: 0.949741778689147 and parameters: {'classifier': 'GBM', 'gbm_n_estimators': 434, 'gbm_criterion': 'mse', 'gbm_max_depth': 4, 'gbm_min_samples_split': 0.5704773828698393}. Best is trial 14 with value: 0.9647983595352017.\u001b[0m\n",
            "\u001b[32m[I 2023-01-04 07:19:34,072]\u001b[0m Trial 41 finished with value: 0.9045150755677072 and parameters: {'classifier': 'logit', 'logit_penalty': 'l1', 'logit_c': 9.982127197343376}. Best is trial 14 with value: 0.9647983595352017.\u001b[0m\n",
            "\u001b[32m[I 2023-01-04 07:19:35,138]\u001b[0m Trial 40 finished with value: 0.9497227918280551 and parameters: {'classifier': 'GBM', 'gbm_n_estimators': 300, 'gbm_criterion': 'friedman_mse', 'gbm_max_depth': 4, 'gbm_min_samples_split': 0.5552233347565256}. Best is trial 14 with value: 0.9647983595352017.\u001b[0m\n",
            "\u001b[32m[I 2023-01-04 07:19:37,575]\u001b[0m Trial 42 finished with value: 0.9647983595352017 and parameters: {'classifier': 'GBM', 'gbm_n_estimators': 432, 'gbm_criterion': 'friedman_mse', 'gbm_max_depth': 4, 'gbm_min_samples_split': 0.7121473851851166}. Best is trial 14 with value: 0.9647983595352017.\u001b[0m\n",
            "\u001b[32m[I 2023-01-04 07:19:38,750]\u001b[0m Trial 43 finished with value: 0.9597668413457887 and parameters: {'classifier': 'GBM', 'gbm_n_estimators': 435, 'gbm_criterion': 'friedman_mse', 'gbm_max_depth': 4, 'gbm_min_samples_split': 0.6883886922824599}. Best is trial 14 with value: 0.9647983595352017.\u001b[0m\n",
            "\u001b[32m[I 2023-01-04 07:19:41,410]\u001b[0m Trial 44 finished with value: 0.9572605756816284 and parameters: {'classifier': 'GBM', 'gbm_n_estimators': 462, 'gbm_criterion': 'friedman_mse', 'gbm_max_depth': 4, 'gbm_min_samples_split': 0.6913563454487597}. Best is trial 14 with value: 0.9647983595352017.\u001b[0m\n",
            "\u001b[32m[I 2023-01-04 07:19:43,007]\u001b[0m Trial 45 finished with value: 0.9572605756816284 and parameters: {'classifier': 'GBM', 'gbm_n_estimators': 612, 'gbm_criterion': 'friedman_mse', 'gbm_max_depth': 4, 'gbm_min_samples_split': 0.8313478494651588}. Best is trial 14 with value: 0.9647983595352017.\u001b[0m\n",
            "\u001b[32m[I 2023-01-04 07:19:48,911]\u001b[0m Trial 47 finished with value: 0.6281423255107467 and parameters: {'classifier': 'RF', 'rf_n_estimators': 970, 'rf_criterion': 'gini', 'rf_max_depth': 1, 'rf_min_samples_split': 0.9911621108396713}. Best is trial 14 with value: 0.9647983595352017.\u001b[0m\n",
            "\u001b[32m[I 2023-01-04 07:19:49,766]\u001b[0m Trial 46 finished with value: 0.9397357028935976 and parameters: {'classifier': 'GBM', 'gbm_n_estimators': 575, 'gbm_criterion': 'friedman_mse', 'gbm_max_depth': 4, 'gbm_min_samples_split': 0.05619685564229726}. Best is trial 14 with value: 0.9647983595352017.\u001b[0m\n",
            "\u001b[32m[I 2023-01-04 07:19:53,074]\u001b[0m Trial 48 finished with value: 0.9647983595352017 and parameters: {'classifier': 'GBM', 'gbm_n_estimators': 516, 'gbm_criterion': 'friedman_mse', 'gbm_max_depth': 4, 'gbm_min_samples_split': 0.7188971451775271}. Best is trial 14 with value: 0.9647983595352017.\u001b[0m\n",
            "\u001b[32m[I 2023-01-04 07:19:53,196]\u001b[0m Trial 50 finished with value: 0.9045150755677072 and parameters: {'classifier': 'logit', 'logit_penalty': 'l1', 'logit_c': 4.444489987412918}. Best is trial 14 with value: 0.9647983595352017.\u001b[0m\n",
            "\u001b[32m[I 2023-01-04 07:19:53,997]\u001b[0m Trial 49 finished with value: 0.9572605756816284 and parameters: {'classifier': 'GBM', 'gbm_n_estimators': 517, 'gbm_criterion': 'friedman_mse', 'gbm_max_depth': 3, 'gbm_min_samples_split': 0.6329845149068722}. Best is trial 14 with value: 0.9647983595352017.\u001b[0m\n",
            "\u001b[32m[I 2023-01-04 07:19:57,480]\u001b[0m Trial 51 finished with value: 0.9572605756816284 and parameters: {'classifier': 'GBM', 'gbm_n_estimators': 520, 'gbm_criterion': 'friedman_mse', 'gbm_max_depth': 3, 'gbm_min_samples_split': 0.6323832070013798}. Best is trial 14 with value: 0.9647983595352017.\u001b[0m\n",
            "\u001b[32m[I 2023-01-04 07:19:57,927]\u001b[0m Trial 52 finished with value: 0.9622731070099491 and parameters: {'classifier': 'GBM', 'gbm_n_estimators': 503, 'gbm_criterion': 'friedman_mse', 'gbm_max_depth': 4, 'gbm_min_samples_split': 0.7399114211485609}. Best is trial 14 with value: 0.9647983595352017.\u001b[0m\n",
            "\u001b[32m[I 2023-01-04 07:20:00,230]\u001b[0m Trial 53 finished with value: 0.9572795625427205 and parameters: {'classifier': 'GBM', 'gbm_n_estimators': 443, 'gbm_criterion': 'friedman_mse', 'gbm_max_depth': 4, 'gbm_min_samples_split': 0.903771099136863}. Best is trial 14 with value: 0.9647983595352017.\u001b[0m\n",
            "\u001b[32m[I 2023-01-04 07:20:00,286]\u001b[0m Trial 54 finished with value: 0.954754310017468 and parameters: {'classifier': 'GBM', 'gbm_n_estimators': 392, 'gbm_criterion': 'friedman_mse', 'gbm_max_depth': 3, 'gbm_min_samples_split': 0.9129896880375886}. Best is trial 14 with value: 0.9647983595352017.\u001b[0m\n",
            "\u001b[32m[I 2023-01-04 07:20:02,454]\u001b[0m Trial 56 finished with value: 0.9572795625427205 and parameters: {'classifier': 'GBM', 'gbm_n_estimators': 301, 'gbm_criterion': 'mse', 'gbm_max_depth': 4, 'gbm_min_samples_split': 0.8099207778339568}. Best is trial 14 with value: 0.9647983595352017.\u001b[0m\n",
            "\u001b[32m[I 2023-01-04 07:20:03,104]\u001b[0m Trial 55 finished with value: 0.9622920938710413 and parameters: {'classifier': 'GBM', 'gbm_n_estimators': 373, 'gbm_criterion': 'mse', 'gbm_max_depth': 3, 'gbm_min_samples_split': 0.7265453429040255}. Best is trial 14 with value: 0.9647983595352017.\u001b[0m\n",
            "\u001b[32m[I 2023-01-04 07:20:07,166]\u001b[0m Trial 57 finished with value: 0.9647983595352017 and parameters: {'classifier': 'GBM', 'gbm_n_estimators': 590, 'gbm_criterion': 'friedman_mse', 'gbm_max_depth': 4, 'gbm_min_samples_split': 0.715984090597592}. Best is trial 14 with value: 0.9647983595352017.\u001b[0m\n",
            "\u001b[32m[I 2023-01-04 07:20:07,499]\u001b[0m Trial 58 finished with value: 0.9597668413457887 and parameters: {'classifier': 'GBM', 'gbm_n_estimators': 566, 'gbm_criterion': 'mse', 'gbm_max_depth': 4, 'gbm_min_samples_split': 0.7351427746164007}. Best is trial 14 with value: 0.9647983595352017.\u001b[0m\n",
            "\u001b[32m[I 2023-01-04 07:20:10,679]\u001b[0m Trial 60 finished with value: 0.6281423255107467 and parameters: {'classifier': 'RF', 'rf_n_estimators': 514, 'rf_criterion': 'entropy', 'rf_max_depth': 3, 'rf_min_samples_split': 0.6807699865215358}. Best is trial 14 with value: 0.9647983595352017.\u001b[0m\n",
            "\u001b[32m[I 2023-01-04 07:20:14,483]\u001b[0m Trial 59 finished with value: 0.9547353231563758 and parameters: {'classifier': 'GBM', 'gbm_n_estimators': 763, 'gbm_criterion': 'friedman_mse', 'gbm_max_depth': 2, 'gbm_min_samples_split': 0.6628466836849405}. Best is trial 14 with value: 0.9647983595352017.\u001b[0m\n",
            "\u001b[32m[I 2023-01-04 07:20:15,799]\u001b[0m Trial 61 finished with value: 0.9522290574922154 and parameters: {'classifier': 'GBM', 'gbm_n_estimators': 719, 'gbm_criterion': 'friedman_mse', 'gbm_max_depth': 2, 'gbm_min_samples_split': 0.6022199012779577}. Best is trial 14 with value: 0.9647983595352017.\u001b[0m\n",
            "\u001b[32m[I 2023-01-04 07:20:20,236]\u001b[0m Trial 63 finished with value: 0.9572415888205361 and parameters: {'classifier': 'GBM', 'gbm_n_estimators': 598, 'gbm_criterion': 'friedman_mse', 'gbm_max_depth': 3, 'gbm_min_samples_split': 0.7435486328062774}. Best is trial 14 with value: 0.9647983595352017.\u001b[0m\n",
            "\u001b[32m[I 2023-01-04 07:20:20,329]\u001b[0m Trial 62 finished with value: 0.954754310017468 and parameters: {'classifier': 'GBM', 'gbm_n_estimators': 643, 'gbm_criterion': 'friedman_mse', 'gbm_max_depth': 4, 'gbm_min_samples_split': 0.6057151552447383}. Best is trial 14 with value: 0.9647983595352017.\u001b[0m\n",
            "\u001b[32m[I 2023-01-04 07:20:24,228]\u001b[0m Trial 65 finished with value: 0.9572605756816284 and parameters: {'classifier': 'GBM', 'gbm_n_estimators': 542, 'gbm_criterion': 'friedman_mse', 'gbm_max_depth': 4, 'gbm_min_samples_split': 0.8042816410956581}. Best is trial 14 with value: 0.9647983595352017.\u001b[0m\n",
            "\u001b[32m[I 2023-01-04 07:20:24,889]\u001b[0m Trial 64 finished with value: 0.9572795625427205 and parameters: {'classifier': 'GBM', 'gbm_n_estimators': 551, 'gbm_criterion': 'friedman_mse', 'gbm_max_depth': 4, 'gbm_min_samples_split': 0.6673322358597435}. Best is trial 14 with value: 0.9647983595352017.\u001b[0m\n",
            "\u001b[32m[I 2023-01-04 07:20:27,830]\u001b[0m Trial 66 finished with value: 0.9572795625427205 and parameters: {'classifier': 'GBM', 'gbm_n_estimators': 418, 'gbm_criterion': 'friedman_mse', 'gbm_max_depth': 4, 'gbm_min_samples_split': 0.6731255232586769}. Best is trial 14 with value: 0.9647983595352017.\u001b[0m\n",
            "\u001b[32m[I 2023-01-04 07:20:28,427]\u001b[0m Trial 67 finished with value: 0.9597668413457887 and parameters: {'classifier': 'GBM', 'gbm_n_estimators': 423, 'gbm_criterion': 'friedman_mse', 'gbm_max_depth': 4, 'gbm_min_samples_split': 0.6864798101235638}. Best is trial 14 with value: 0.9647983595352017.\u001b[0m\n",
            "\u001b[32m[I 2023-01-04 07:20:28,525]\u001b[0m Trial 69 finished with value: 0.9045150755677072 and parameters: {'classifier': 'logit', 'logit_penalty': 'l2', 'logit_c': 0.35270125165347643}. Best is trial 14 with value: 0.9647983595352017.\u001b[0m\n",
            "\u001b[32m[I 2023-01-04 07:20:31,420]\u001b[0m Trial 68 finished with value: 0.9472355130249867 and parameters: {'classifier': 'GBM', 'gbm_n_estimators': 341, 'gbm_criterion': 'mse', 'gbm_max_depth': 4, 'gbm_min_samples_split': 0.5366388803642144}. Best is trial 14 with value: 0.9647983595352017.\u001b[0m\n",
            "\u001b[32m[I 2023-01-04 07:20:32,130]\u001b[0m Trial 70 finished with value: 0.9472165261638946 and parameters: {'classifier': 'GBM', 'gbm_n_estimators': 342, 'gbm_criterion': 'friedman_mse', 'gbm_max_depth': 4, 'gbm_min_samples_split': 0.5301756736711711}. Best is trial 14 with value: 0.9647983595352017.\u001b[0m\n",
            "\u001b[32m[I 2023-01-04 07:20:34,621]\u001b[0m Trial 71 finished with value: 0.9572605756816284 and parameters: {'classifier': 'GBM', 'gbm_n_estimators': 494, 'gbm_criterion': 'friedman_mse', 'gbm_max_depth': 4, 'gbm_min_samples_split': 0.8641759775707949}. Best is trial 14 with value: 0.9647983595352017.\u001b[0m\n",
            "\u001b[32m[I 2023-01-04 07:20:35,658]\u001b[0m Trial 72 finished with value: 0.9597668413457887 and parameters: {'classifier': 'GBM', 'gbm_n_estimators': 473, 'gbm_criterion': 'mse', 'gbm_max_depth': 3, 'gbm_min_samples_split': 0.7241854573713472}. Best is trial 14 with value: 0.9647983595352017.\u001b[0m\n",
            "\u001b[32m[I 2023-01-04 07:20:37,572]\u001b[0m Trial 73 finished with value: 0.9622920938710413 and parameters: {'classifier': 'GBM', 'gbm_n_estimators': 372, 'gbm_criterion': 'mse', 'gbm_max_depth': 4, 'gbm_min_samples_split': 0.7313940445633328}. Best is trial 14 with value: 0.9647983595352017.\u001b[0m\n",
            "\u001b[32m[I 2023-01-04 07:20:38,435]\u001b[0m Trial 74 finished with value: 0.9547732968785599 and parameters: {'classifier': 'GBM', 'gbm_n_estimators': 368, 'gbm_criterion': 'mse', 'gbm_max_depth': 3, 'gbm_min_samples_split': 0.7751619301488952}. Best is trial 14 with value: 0.9647983595352017.\u001b[0m\n",
            "\u001b[32m[I 2023-01-04 07:20:39,742]\u001b[0m Trial 75 finished with value: 0.9572795625427205 and parameters: {'classifier': 'GBM', 'gbm_n_estimators': 294, 'gbm_criterion': 'mse', 'gbm_max_depth': 4, 'gbm_min_samples_split': 0.8079932556971319}. Best is trial 14 with value: 0.9647983595352017.\u001b[0m\n",
            "\u001b[32m[I 2023-01-04 07:20:40,563]\u001b[0m Trial 77 finished with value: 0.911976911976912 and parameters: {'classifier': 'RF', 'rf_n_estimators': 102, 'rf_criterion': 'entropy', 'rf_max_depth': 1, 'rf_min_samples_split': 0.2524581430573139}. Best is trial 14 with value: 0.9647983595352017.\u001b[0m\n",
            "\u001b[32m[I 2023-01-04 07:20:41,153]\u001b[0m Trial 76 finished with value: 0.9572795625427205 and parameters: {'classifier': 'GBM', 'gbm_n_estimators': 296, 'gbm_criterion': 'friedman_mse', 'gbm_max_depth': 4, 'gbm_min_samples_split': 0.7678537966730955}. Best is trial 14 with value: 0.9647983595352017.\u001b[0m\n",
            "\u001b[32m[I 2023-01-04 07:20:43,564]\u001b[0m Trial 78 finished with value: 0.9597858282068809 and parameters: {'classifier': 'GBM', 'gbm_n_estimators': 389, 'gbm_criterion': 'mse', 'gbm_max_depth': 4, 'gbm_min_samples_split': 0.7625144621401212}. Best is trial 14 with value: 0.9647983595352017.\u001b[0m\n",
            "\u001b[32m[I 2023-01-04 07:20:44,958]\u001b[0m Trial 79 finished with value: 0.954754310017468 and parameters: {'classifier': 'GBM', 'gbm_n_estimators': 461, 'gbm_criterion': 'friedman_mse', 'gbm_max_depth': 3, 'gbm_min_samples_split': 0.6510926263895896}. Best is trial 14 with value: 0.9647983595352017.\u001b[0m\n",
            "\u001b[32m[I 2023-01-04 07:20:45,062]\u001b[0m Trial 81 finished with value: 0.9045150755677072 and parameters: {'classifier': 'logit', 'logit_penalty': 'l2', 'logit_c': 2.991648050790004}. Best is trial 14 with value: 0.9647983595352017.\u001b[0m\n",
            "\u001b[32m[I 2023-01-04 07:20:48,376]\u001b[0m Trial 82 finished with value: 0.9597858282068809 and parameters: {'classifier': 'GBM', 'gbm_n_estimators': 417, 'gbm_criterion': 'mse', 'gbm_max_depth': 4, 'gbm_min_samples_split': 0.7094236796145568}. Best is trial 14 with value: 0.9647983595352017.\u001b[0m\n",
            "\u001b[32m[I 2023-01-04 07:20:48,566]\u001b[0m Trial 80 finished with value: 0.937191463507253 and parameters: {'classifier': 'GBM', 'gbm_n_estimators': 458, 'gbm_criterion': 'mse', 'gbm_max_depth': 3, 'gbm_min_samples_split': 0.25765841978448123}. Best is trial 14 with value: 0.9647983595352017.\u001b[0m\n",
            "\u001b[32m[I 2023-01-04 07:20:50,489]\u001b[0m Trial 83 finished with value: 0.9622920938710413 and parameters: {'classifier': 'GBM', 'gbm_n_estimators': 263, 'gbm_criterion': 'mse', 'gbm_max_depth': 4, 'gbm_min_samples_split': 0.7191779441692987}. Best is trial 14 with value: 0.9647983595352017.\u001b[0m\n",
            "\u001b[32m[I 2023-01-04 07:20:51,548]\u001b[0m Trial 84 finished with value: 0.9622920938710413 and parameters: {'classifier': 'GBM', 'gbm_n_estimators': 364, 'gbm_criterion': 'mse', 'gbm_max_depth': 4, 'gbm_min_samples_split': 0.711197501276289}. Best is trial 14 with value: 0.9647983595352017.\u001b[0m\n",
            "\u001b[32m[I 2023-01-04 07:20:52,286]\u001b[0m Trial 85 finished with value: 0.9572795625427205 and parameters: {'classifier': 'GBM', 'gbm_n_estimators': 224, 'gbm_criterion': 'mse', 'gbm_max_depth': 4, 'gbm_min_samples_split': 0.7301399532311087}. Best is trial 14 with value: 0.9647983595352017.\u001b[0m\n",
            "\u001b[32m[I 2023-01-04 07:20:53,320]\u001b[0m Trial 86 finished with value: 0.9572795625427205 and parameters: {'classifier': 'GBM', 'gbm_n_estimators': 222, 'gbm_criterion': 'mse', 'gbm_max_depth': 4, 'gbm_min_samples_split': 0.7292367865970817}. Best is trial 14 with value: 0.9647983595352017.\u001b[0m\n",
            "\u001b[32m[I 2023-01-04 07:20:57,880]\u001b[0m Trial 88 finished with value: 0.954754310017468 and parameters: {'classifier': 'GBM', 'gbm_n_estimators': 528, 'gbm_criterion': 'friedman_mse', 'gbm_max_depth': 4, 'gbm_min_samples_split': 0.6313737833115405}. Best is trial 14 with value: 0.9647983595352017.\u001b[0m\n",
            "\u001b[32m[I 2023-01-04 07:20:58,123]\u001b[0m Trial 87 finished with value: 0.9522480443533076 and parameters: {'classifier': 'GBM', 'gbm_n_estimators': 621, 'gbm_criterion': 'mse', 'gbm_max_depth': 4, 'gbm_min_samples_split': 0.588676326605677}. Best is trial 14 with value: 0.9647983595352017.\u001b[0m\n",
            "\u001b[32m[I 2023-01-04 07:21:00,542]\u001b[0m Trial 90 finished with value: 0.6281423255107467 and parameters: {'classifier': 'RF', 'rf_n_estimators': 362, 'rf_criterion': 'gini', 'rf_max_depth': 3, 'rf_min_samples_split': 0.7290946351620909}. Best is trial 14 with value: 0.9647983595352017.\u001b[0m\n",
            "\u001b[32m[I 2023-01-04 07:21:01,817]\u001b[0m Trial 91 finished with value: 0.9597858282068809 and parameters: {'classifier': 'GBM', 'gbm_n_estimators': 256, 'gbm_criterion': 'mse', 'gbm_max_depth': 1, 'gbm_min_samples_split': 0.8350884312515631}. Best is trial 14 with value: 0.9647983595352017.\u001b[0m\n",
            "\u001b[32m[I 2023-01-04 07:21:03,739]\u001b[0m Trial 89 finished with value: 0.9572605756816284 and parameters: {'classifier': 'GBM', 'gbm_n_estimators': 622, 'gbm_criterion': 'friedman_mse', 'gbm_max_depth': 4, 'gbm_min_samples_split': 0.8382416124627783}. Best is trial 14 with value: 0.9647983595352017.\u001b[0m\n",
            "\u001b[32m[I 2023-01-04 07:21:04,738]\u001b[0m Trial 93 finished with value: 0.9547732968785599 and parameters: {'classifier': 'GBM', 'gbm_n_estimators': 132, 'gbm_criterion': 'mse', 'gbm_max_depth': 4, 'gbm_min_samples_split': 0.7884123647612897}. Best is trial 14 with value: 0.9647983595352017.\u001b[0m\n",
            "\u001b[32m[I 2023-01-04 07:21:05,268]\u001b[0m Trial 92 finished with value: 0.9622920938710413 and parameters: {'classifier': 'GBM', 'gbm_n_estimators': 411, 'gbm_criterion': 'mse', 'gbm_max_depth': 4, 'gbm_min_samples_split': 0.6976841943202844}. Best is trial 14 with value: 0.9647983595352017.\u001b[0m\n",
            "\u001b[32m[I 2023-01-04 07:21:08,093]\u001b[0m Trial 94 finished with value: 0.9572605756816284 and parameters: {'classifier': 'GBM', 'gbm_n_estimators': 404, 'gbm_criterion': 'mse', 'gbm_max_depth': 4, 'gbm_min_samples_split': 0.6919522336757383}. Best is trial 14 with value: 0.9647983595352017.\u001b[0m\n",
            "\u001b[32m[I 2023-01-04 07:21:09,070]\u001b[0m Trial 95 finished with value: 0.9647983595352017 and parameters: {'classifier': 'GBM', 'gbm_n_estimators': 490, 'gbm_criterion': 'mse', 'gbm_max_depth': 4, 'gbm_min_samples_split': 0.7533001599808686}. Best is trial 14 with value: 0.9647983595352017.\u001b[0m\n",
            "\u001b[32m[I 2023-01-04 07:21:12,368]\u001b[0m Trial 96 finished with value: 0.9572795625427205 and parameters: {'classifier': 'GBM', 'gbm_n_estimators': 495, 'gbm_criterion': 'friedman_mse', 'gbm_max_depth': 4, 'gbm_min_samples_split': 0.6624986259674158}. Best is trial 14 with value: 0.9647983595352017.\u001b[0m\n",
            "\u001b[32m[I 2023-01-04 07:21:12,950]\u001b[0m Trial 97 finished with value: 0.9647983595352017 and parameters: {'classifier': 'GBM', 'gbm_n_estimators': 497, 'gbm_criterion': 'friedman_mse', 'gbm_max_depth': 4, 'gbm_min_samples_split': 0.7603588659303394}. Best is trial 14 with value: 0.9647983595352017.\u001b[0m\n",
            "\u001b[32m[I 2023-01-04 07:21:15,070]\u001b[0m Trial 98 finished with value: 0.954754310017468 and parameters: {'classifier': 'GBM', 'gbm_n_estimators': 446, 'gbm_criterion': 'friedman_mse', 'gbm_max_depth': 2, 'gbm_min_samples_split': 0.8850127045304672}. Best is trial 14 with value: 0.9647983595352017.\u001b[0m\n",
            "\u001b[32m[I 2023-01-04 07:21:16,102]\u001b[0m Trial 99 finished with value: 0.9572605756816284 and parameters: {'classifier': 'GBM', 'gbm_n_estimators': 575, 'gbm_criterion': 'friedman_mse', 'gbm_max_depth': 4, 'gbm_min_samples_split': 0.8901174810845283}. Best is trial 14 with value: 0.9647983595352017.\u001b[0m\n",
            "CPU times: user 5 µs, sys: 1e+03 ns, total: 6 µs\n",
            "Wall time: 8.11 µs\n"
          ]
        }
      ]
    },
    {
      "cell_type": "code",
      "source": [
        "study.best_value"
      ],
      "metadata": {
        "colab": {
          "base_uri": "https://localhost:8080/"
        },
        "id": "ZqM1YHzinIHb",
        "outputId": "0baa76e4-38fb-442a-bb8f-b3219df97115"
      },
      "execution_count": 33,
      "outputs": [
        {
          "output_type": "execute_result",
          "data": {
            "text/plain": [
              "0.9647983595352017"
            ]
          },
          "metadata": {},
          "execution_count": 33
        }
      ]
    },
    {
      "cell_type": "code",
      "source": [
        "best_params = study.best_params\n",
        "best_params"
      ],
      "metadata": {
        "colab": {
          "base_uri": "https://localhost:8080/"
        },
        "id": "QebjjTI5p_q3",
        "outputId": "4fc3a5de-8d94-4e31-b445-0c70a0bde3ec"
      },
      "execution_count": 36,
      "outputs": [
        {
          "output_type": "execute_result",
          "data": {
            "text/plain": [
              "{'classifier': 'GBM',\n",
              " 'gbm_n_estimators': 557,\n",
              " 'gbm_criterion': 'mse',\n",
              " 'gbm_max_depth': 4,\n",
              " 'gbm_min_samples_split': 0.7226020165103426}"
            ]
          },
          "metadata": {},
          "execution_count": 36
        }
      ]
    },
    {
      "cell_type": "code",
      "source": [
        "best_classifier = best_params.pop('classifier')\n",
        "best_classifier"
      ],
      "metadata": {
        "colab": {
          "base_uri": "https://localhost:8080/",
          "height": 36
        },
        "id": "a0JLp4CXp_oq",
        "outputId": "fd981853-f7b3-4a97-9116-9f63eb8fc6a5"
      },
      "execution_count": 41,
      "outputs": [
        {
          "output_type": "execute_result",
          "data": {
            "text/plain": [
              "'GBM'"
            ],
            "application/vnd.google.colaboratory.intrinsic+json": {
              "type": "string"
            }
          },
          "metadata": {},
          "execution_count": 41
        }
      ]
    },
    {
      "cell_type": "code",
      "source": [
        "best_params"
      ],
      "metadata": {
        "colab": {
          "base_uri": "https://localhost:8080/"
        },
        "id": "uMHtdI2crkdI",
        "outputId": "703bdda1-5ad3-48cf-d4fc-d94ca6b36492"
      },
      "execution_count": 51,
      "outputs": [
        {
          "output_type": "execute_result",
          "data": {
            "text/plain": [
              "{'gbm_n_estimators': 557,\n",
              " 'gbm_criterion': 'mse',\n",
              " 'gbm_max_depth': 4,\n",
              " 'gbm_min_samples_split': 0.7226020165103426}"
            ]
          },
          "metadata": {},
          "execution_count": 51
        }
      ]
    },
    {
      "cell_type": "code",
      "source": [
        "params_load = { ('_').join(x.split('_')[1:]):y for x,y in best_params.items()}\n",
        "params_load"
      ],
      "metadata": {
        "colab": {
          "base_uri": "https://localhost:8080/"
        },
        "id": "wAcT_M9zqv9h",
        "outputId": "415ae76f-a8e5-47e8-8a09-03876200cda4"
      },
      "execution_count": 52,
      "outputs": [
        {
          "output_type": "execute_result",
          "data": {
            "text/plain": [
              "{'n_estimators': 557,\n",
              " 'criterion': 'mse',\n",
              " 'max_depth': 4,\n",
              " 'min_samples_split': 0.7226020165103426}"
            ]
          },
          "metadata": {},
          "execution_count": 52
        }
      ]
    },
    {
      "cell_type": "code",
      "source": [
        "gbm = GradientBoostingClassifier(**params_load)\n",
        "gbm.fit(X_train,y_train)"
      ],
      "metadata": {
        "colab": {
          "base_uri": "https://localhost:8080/"
        },
        "id": "ekQuxcoyp_l9",
        "outputId": "11228952-5633-44f3-8c81-43a632e8682f"
      },
      "execution_count": 53,
      "outputs": [
        {
          "output_type": "execute_result",
          "data": {
            "text/plain": [
              "GradientBoostingClassifier(criterion='mse', max_depth=4,\n",
              "                           min_samples_split=0.7226020165103426,\n",
              "                           n_estimators=557)"
            ]
          },
          "metadata": {},
          "execution_count": 53
        }
      ]
    },
    {
      "cell_type": "code",
      "source": [
        "from sklearn.metrics import accuracy_score"
      ],
      "metadata": {
        "id": "PuS7UuPcUxzQ"
      },
      "execution_count": 54,
      "outputs": []
    },
    {
      "cell_type": "code",
      "source": [
        "def evaluate_model(model):\n",
        "  print('train accuracy : ',accuracy_score(y_train,model.predict(X_train)))\n",
        "  print('test accuracy : ',accuracy_score(y_test,model.predict(X_test)))"
      ],
      "metadata": {
        "id": "mLVv9WPzU7bp"
      },
      "execution_count": 55,
      "outputs": []
    },
    {
      "cell_type": "code",
      "source": [
        "evaluate_model(gbm)"
      ],
      "metadata": {
        "colab": {
          "base_uri": "https://localhost:8080/"
        },
        "id": "eZg1Sj9Er-xL",
        "outputId": "ccf22344-a5f9-4e89-ede9-c97ee4ac0df9"
      },
      "execution_count": 56,
      "outputs": [
        {
          "output_type": "stream",
          "name": "stdout",
          "text": [
            "train accuracy :  1.0\n",
            "test accuracy :  0.9649122807017544\n"
          ]
        }
      ]
    }
  ]
}