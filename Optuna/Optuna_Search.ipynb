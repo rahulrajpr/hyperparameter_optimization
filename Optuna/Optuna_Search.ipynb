{
  "nbformat": 4,
  "nbformat_minor": 0,
  "metadata": {
    "colab": {
      "provenance": [],
      "authorship_tag": "ABX9TyOjMa/4IfHVhFtc/yuthwVl",
      "include_colab_link": true
    },
    "kernelspec": {
      "name": "python3",
      "display_name": "Python 3"
    },
    "language_info": {
      "name": "python"
    },
    "widgets": {
      "application/vnd.jupyter.widget-state+json": {
        "e174c1c188a547a296ed99ab8f6aa3a1": {
          "model_module": "@jupyter-widgets/controls",
          "model_name": "HBoxModel",
          "model_module_version": "1.5.0",
          "state": {
            "_dom_classes": [],
            "_model_module": "@jupyter-widgets/controls",
            "_model_module_version": "1.5.0",
            "_model_name": "HBoxModel",
            "_view_count": null,
            "_view_module": "@jupyter-widgets/controls",
            "_view_module_version": "1.5.0",
            "_view_name": "HBoxView",
            "box_style": "",
            "children": [
              "IPY_MODEL_eeb5851aa85d449c800e169bc7bf5441",
              "IPY_MODEL_43b73f028b4446c2864d47f397c738b0",
              "IPY_MODEL_51d2278755cd4c7a9de6014864fdace0"
            ],
            "layout": "IPY_MODEL_005d28733bc844f8b27a47779ceaa489"
          }
        },
        "eeb5851aa85d449c800e169bc7bf5441": {
          "model_module": "@jupyter-widgets/controls",
          "model_name": "HTMLModel",
          "model_module_version": "1.5.0",
          "state": {
            "_dom_classes": [],
            "_model_module": "@jupyter-widgets/controls",
            "_model_module_version": "1.5.0",
            "_model_name": "HTMLModel",
            "_view_count": null,
            "_view_module": "@jupyter-widgets/controls",
            "_view_module_version": "1.5.0",
            "_view_name": "HTMLView",
            "description": "",
            "description_tooltip": null,
            "layout": "IPY_MODEL_3a3a3a8f165643b09e709825e3d7f129",
            "placeholder": "​",
            "style": "IPY_MODEL_8db7257bfc4f4a2e9434735c174662ca",
            "value": "100%"
          }
        },
        "43b73f028b4446c2864d47f397c738b0": {
          "model_module": "@jupyter-widgets/controls",
          "model_name": "FloatProgressModel",
          "model_module_version": "1.5.0",
          "state": {
            "_dom_classes": [],
            "_model_module": "@jupyter-widgets/controls",
            "_model_module_version": "1.5.0",
            "_model_name": "FloatProgressModel",
            "_view_count": null,
            "_view_module": "@jupyter-widgets/controls",
            "_view_module_version": "1.5.0",
            "_view_name": "ProgressView",
            "bar_style": "success",
            "description": "",
            "description_tooltip": null,
            "layout": "IPY_MODEL_7bf87b8179e2425ca6f9637cb22bf149",
            "max": 50,
            "min": 0,
            "orientation": "horizontal",
            "style": "IPY_MODEL_af3330798d4045f8bb287b92c268b852",
            "value": 50
          }
        },
        "51d2278755cd4c7a9de6014864fdace0": {
          "model_module": "@jupyter-widgets/controls",
          "model_name": "HTMLModel",
          "model_module_version": "1.5.0",
          "state": {
            "_dom_classes": [],
            "_model_module": "@jupyter-widgets/controls",
            "_model_module_version": "1.5.0",
            "_model_name": "HTMLModel",
            "_view_count": null,
            "_view_module": "@jupyter-widgets/controls",
            "_view_module_version": "1.5.0",
            "_view_name": "HTMLView",
            "description": "",
            "description_tooltip": null,
            "layout": "IPY_MODEL_e4016169049543d090d694f9212d7867",
            "placeholder": "​",
            "style": "IPY_MODEL_c8ce690b702541978ec4fa210f960c2e",
            "value": " 50/50 [03:14&lt;00:00,  3.60s/it]"
          }
        },
        "005d28733bc844f8b27a47779ceaa489": {
          "model_module": "@jupyter-widgets/base",
          "model_name": "LayoutModel",
          "model_module_version": "1.2.0",
          "state": {
            "_model_module": "@jupyter-widgets/base",
            "_model_module_version": "1.2.0",
            "_model_name": "LayoutModel",
            "_view_count": null,
            "_view_module": "@jupyter-widgets/base",
            "_view_module_version": "1.2.0",
            "_view_name": "LayoutView",
            "align_content": null,
            "align_items": null,
            "align_self": null,
            "border": null,
            "bottom": null,
            "display": null,
            "flex": null,
            "flex_flow": null,
            "grid_area": null,
            "grid_auto_columns": null,
            "grid_auto_flow": null,
            "grid_auto_rows": null,
            "grid_column": null,
            "grid_gap": null,
            "grid_row": null,
            "grid_template_areas": null,
            "grid_template_columns": null,
            "grid_template_rows": null,
            "height": null,
            "justify_content": null,
            "justify_items": null,
            "left": null,
            "margin": null,
            "max_height": null,
            "max_width": null,
            "min_height": null,
            "min_width": null,
            "object_fit": null,
            "object_position": null,
            "order": null,
            "overflow": null,
            "overflow_x": null,
            "overflow_y": null,
            "padding": null,
            "right": null,
            "top": null,
            "visibility": null,
            "width": null
          }
        },
        "3a3a3a8f165643b09e709825e3d7f129": {
          "model_module": "@jupyter-widgets/base",
          "model_name": "LayoutModel",
          "model_module_version": "1.2.0",
          "state": {
            "_model_module": "@jupyter-widgets/base",
            "_model_module_version": "1.2.0",
            "_model_name": "LayoutModel",
            "_view_count": null,
            "_view_module": "@jupyter-widgets/base",
            "_view_module_version": "1.2.0",
            "_view_name": "LayoutView",
            "align_content": null,
            "align_items": null,
            "align_self": null,
            "border": null,
            "bottom": null,
            "display": null,
            "flex": null,
            "flex_flow": null,
            "grid_area": null,
            "grid_auto_columns": null,
            "grid_auto_flow": null,
            "grid_auto_rows": null,
            "grid_column": null,
            "grid_gap": null,
            "grid_row": null,
            "grid_template_areas": null,
            "grid_template_columns": null,
            "grid_template_rows": null,
            "height": null,
            "justify_content": null,
            "justify_items": null,
            "left": null,
            "margin": null,
            "max_height": null,
            "max_width": null,
            "min_height": null,
            "min_width": null,
            "object_fit": null,
            "object_position": null,
            "order": null,
            "overflow": null,
            "overflow_x": null,
            "overflow_y": null,
            "padding": null,
            "right": null,
            "top": null,
            "visibility": null,
            "width": null
          }
        },
        "8db7257bfc4f4a2e9434735c174662ca": {
          "model_module": "@jupyter-widgets/controls",
          "model_name": "DescriptionStyleModel",
          "model_module_version": "1.5.0",
          "state": {
            "_model_module": "@jupyter-widgets/controls",
            "_model_module_version": "1.5.0",
            "_model_name": "DescriptionStyleModel",
            "_view_count": null,
            "_view_module": "@jupyter-widgets/base",
            "_view_module_version": "1.2.0",
            "_view_name": "StyleView",
            "description_width": ""
          }
        },
        "7bf87b8179e2425ca6f9637cb22bf149": {
          "model_module": "@jupyter-widgets/base",
          "model_name": "LayoutModel",
          "model_module_version": "1.2.0",
          "state": {
            "_model_module": "@jupyter-widgets/base",
            "_model_module_version": "1.2.0",
            "_model_name": "LayoutModel",
            "_view_count": null,
            "_view_module": "@jupyter-widgets/base",
            "_view_module_version": "1.2.0",
            "_view_name": "LayoutView",
            "align_content": null,
            "align_items": null,
            "align_self": null,
            "border": null,
            "bottom": null,
            "display": null,
            "flex": null,
            "flex_flow": null,
            "grid_area": null,
            "grid_auto_columns": null,
            "grid_auto_flow": null,
            "grid_auto_rows": null,
            "grid_column": null,
            "grid_gap": null,
            "grid_row": null,
            "grid_template_areas": null,
            "grid_template_columns": null,
            "grid_template_rows": null,
            "height": null,
            "justify_content": null,
            "justify_items": null,
            "left": null,
            "margin": null,
            "max_height": null,
            "max_width": null,
            "min_height": null,
            "min_width": null,
            "object_fit": null,
            "object_position": null,
            "order": null,
            "overflow": null,
            "overflow_x": null,
            "overflow_y": null,
            "padding": null,
            "right": null,
            "top": null,
            "visibility": null,
            "width": null
          }
        },
        "af3330798d4045f8bb287b92c268b852": {
          "model_module": "@jupyter-widgets/controls",
          "model_name": "ProgressStyleModel",
          "model_module_version": "1.5.0",
          "state": {
            "_model_module": "@jupyter-widgets/controls",
            "_model_module_version": "1.5.0",
            "_model_name": "ProgressStyleModel",
            "_view_count": null,
            "_view_module": "@jupyter-widgets/base",
            "_view_module_version": "1.2.0",
            "_view_name": "StyleView",
            "bar_color": null,
            "description_width": ""
          }
        },
        "e4016169049543d090d694f9212d7867": {
          "model_module": "@jupyter-widgets/base",
          "model_name": "LayoutModel",
          "model_module_version": "1.2.0",
          "state": {
            "_model_module": "@jupyter-widgets/base",
            "_model_module_version": "1.2.0",
            "_model_name": "LayoutModel",
            "_view_count": null,
            "_view_module": "@jupyter-widgets/base",
            "_view_module_version": "1.2.0",
            "_view_name": "LayoutView",
            "align_content": null,
            "align_items": null,
            "align_self": null,
            "border": null,
            "bottom": null,
            "display": null,
            "flex": null,
            "flex_flow": null,
            "grid_area": null,
            "grid_auto_columns": null,
            "grid_auto_flow": null,
            "grid_auto_rows": null,
            "grid_column": null,
            "grid_gap": null,
            "grid_row": null,
            "grid_template_areas": null,
            "grid_template_columns": null,
            "grid_template_rows": null,
            "height": null,
            "justify_content": null,
            "justify_items": null,
            "left": null,
            "margin": null,
            "max_height": null,
            "max_width": null,
            "min_height": null,
            "min_width": null,
            "object_fit": null,
            "object_position": null,
            "order": null,
            "overflow": null,
            "overflow_x": null,
            "overflow_y": null,
            "padding": null,
            "right": null,
            "top": null,
            "visibility": null,
            "width": null
          }
        },
        "c8ce690b702541978ec4fa210f960c2e": {
          "model_module": "@jupyter-widgets/controls",
          "model_name": "DescriptionStyleModel",
          "model_module_version": "1.5.0",
          "state": {
            "_model_module": "@jupyter-widgets/controls",
            "_model_module_version": "1.5.0",
            "_model_name": "DescriptionStyleModel",
            "_view_count": null,
            "_view_module": "@jupyter-widgets/base",
            "_view_module_version": "1.2.0",
            "_view_name": "StyleView",
            "description_width": ""
          }
        },
        "56dc6dc9e62d47ad916e7422276796b1": {
          "model_module": "@jupyter-widgets/controls",
          "model_name": "HBoxModel",
          "model_module_version": "1.5.0",
          "state": {
            "_dom_classes": [],
            "_model_module": "@jupyter-widgets/controls",
            "_model_module_version": "1.5.0",
            "_model_name": "HBoxModel",
            "_view_count": null,
            "_view_module": "@jupyter-widgets/controls",
            "_view_module_version": "1.5.0",
            "_view_name": "HBoxView",
            "box_style": "",
            "children": [
              "IPY_MODEL_551e31c527f44b67b4a9d45d5f4595dd",
              "IPY_MODEL_a1fa9afcdba24585b455490f2f803b3a",
              "IPY_MODEL_227697f449e14608bb39b65e2b148f24"
            ],
            "layout": "IPY_MODEL_61617934271b4e93a359e014c9fafcd4"
          }
        },
        "551e31c527f44b67b4a9d45d5f4595dd": {
          "model_module": "@jupyter-widgets/controls",
          "model_name": "HTMLModel",
          "model_module_version": "1.5.0",
          "state": {
            "_dom_classes": [],
            "_model_module": "@jupyter-widgets/controls",
            "_model_module_version": "1.5.0",
            "_model_name": "HTMLModel",
            "_view_count": null,
            "_view_module": "@jupyter-widgets/controls",
            "_view_module_version": "1.5.0",
            "_view_name": "HTMLView",
            "description": "",
            "description_tooltip": null,
            "layout": "IPY_MODEL_13905d420b564bd9875bb5ce85b49f3f",
            "placeholder": "​",
            "style": "IPY_MODEL_0a39023743ae4641a9ab43aee2b6dbef",
            "value": "100%"
          }
        },
        "a1fa9afcdba24585b455490f2f803b3a": {
          "model_module": "@jupyter-widgets/controls",
          "model_name": "FloatProgressModel",
          "model_module_version": "1.5.0",
          "state": {
            "_dom_classes": [],
            "_model_module": "@jupyter-widgets/controls",
            "_model_module_version": "1.5.0",
            "_model_name": "FloatProgressModel",
            "_view_count": null,
            "_view_module": "@jupyter-widgets/controls",
            "_view_module_version": "1.5.0",
            "_view_name": "ProgressView",
            "bar_style": "success",
            "description": "",
            "description_tooltip": null,
            "layout": "IPY_MODEL_b04c39d69b3642e79a032a1f6f5a1279",
            "max": 50,
            "min": 0,
            "orientation": "horizontal",
            "style": "IPY_MODEL_71c106212b3c46dd87ce0f668ba6f1d3",
            "value": 50
          }
        },
        "227697f449e14608bb39b65e2b148f24": {
          "model_module": "@jupyter-widgets/controls",
          "model_name": "HTMLModel",
          "model_module_version": "1.5.0",
          "state": {
            "_dom_classes": [],
            "_model_module": "@jupyter-widgets/controls",
            "_model_module_version": "1.5.0",
            "_model_name": "HTMLModel",
            "_view_count": null,
            "_view_module": "@jupyter-widgets/controls",
            "_view_module_version": "1.5.0",
            "_view_name": "HTMLView",
            "description": "",
            "description_tooltip": null,
            "layout": "IPY_MODEL_4b5793282e574b47a2bd3e5909834c6c",
            "placeholder": "​",
            "style": "IPY_MODEL_78c75c47d3834a0ab098832e8e754bf5",
            "value": " 50/50 [04:36&lt;00:00,  5.37s/it]"
          }
        },
        "61617934271b4e93a359e014c9fafcd4": {
          "model_module": "@jupyter-widgets/base",
          "model_name": "LayoutModel",
          "model_module_version": "1.2.0",
          "state": {
            "_model_module": "@jupyter-widgets/base",
            "_model_module_version": "1.2.0",
            "_model_name": "LayoutModel",
            "_view_count": null,
            "_view_module": "@jupyter-widgets/base",
            "_view_module_version": "1.2.0",
            "_view_name": "LayoutView",
            "align_content": null,
            "align_items": null,
            "align_self": null,
            "border": null,
            "bottom": null,
            "display": null,
            "flex": null,
            "flex_flow": null,
            "grid_area": null,
            "grid_auto_columns": null,
            "grid_auto_flow": null,
            "grid_auto_rows": null,
            "grid_column": null,
            "grid_gap": null,
            "grid_row": null,
            "grid_template_areas": null,
            "grid_template_columns": null,
            "grid_template_rows": null,
            "height": null,
            "justify_content": null,
            "justify_items": null,
            "left": null,
            "margin": null,
            "max_height": null,
            "max_width": null,
            "min_height": null,
            "min_width": null,
            "object_fit": null,
            "object_position": null,
            "order": null,
            "overflow": null,
            "overflow_x": null,
            "overflow_y": null,
            "padding": null,
            "right": null,
            "top": null,
            "visibility": null,
            "width": null
          }
        },
        "13905d420b564bd9875bb5ce85b49f3f": {
          "model_module": "@jupyter-widgets/base",
          "model_name": "LayoutModel",
          "model_module_version": "1.2.0",
          "state": {
            "_model_module": "@jupyter-widgets/base",
            "_model_module_version": "1.2.0",
            "_model_name": "LayoutModel",
            "_view_count": null,
            "_view_module": "@jupyter-widgets/base",
            "_view_module_version": "1.2.0",
            "_view_name": "LayoutView",
            "align_content": null,
            "align_items": null,
            "align_self": null,
            "border": null,
            "bottom": null,
            "display": null,
            "flex": null,
            "flex_flow": null,
            "grid_area": null,
            "grid_auto_columns": null,
            "grid_auto_flow": null,
            "grid_auto_rows": null,
            "grid_column": null,
            "grid_gap": null,
            "grid_row": null,
            "grid_template_areas": null,
            "grid_template_columns": null,
            "grid_template_rows": null,
            "height": null,
            "justify_content": null,
            "justify_items": null,
            "left": null,
            "margin": null,
            "max_height": null,
            "max_width": null,
            "min_height": null,
            "min_width": null,
            "object_fit": null,
            "object_position": null,
            "order": null,
            "overflow": null,
            "overflow_x": null,
            "overflow_y": null,
            "padding": null,
            "right": null,
            "top": null,
            "visibility": null,
            "width": null
          }
        },
        "0a39023743ae4641a9ab43aee2b6dbef": {
          "model_module": "@jupyter-widgets/controls",
          "model_name": "DescriptionStyleModel",
          "model_module_version": "1.5.0",
          "state": {
            "_model_module": "@jupyter-widgets/controls",
            "_model_module_version": "1.5.0",
            "_model_name": "DescriptionStyleModel",
            "_view_count": null,
            "_view_module": "@jupyter-widgets/base",
            "_view_module_version": "1.2.0",
            "_view_name": "StyleView",
            "description_width": ""
          }
        },
        "b04c39d69b3642e79a032a1f6f5a1279": {
          "model_module": "@jupyter-widgets/base",
          "model_name": "LayoutModel",
          "model_module_version": "1.2.0",
          "state": {
            "_model_module": "@jupyter-widgets/base",
            "_model_module_version": "1.2.0",
            "_model_name": "LayoutModel",
            "_view_count": null,
            "_view_module": "@jupyter-widgets/base",
            "_view_module_version": "1.2.0",
            "_view_name": "LayoutView",
            "align_content": null,
            "align_items": null,
            "align_self": null,
            "border": null,
            "bottom": null,
            "display": null,
            "flex": null,
            "flex_flow": null,
            "grid_area": null,
            "grid_auto_columns": null,
            "grid_auto_flow": null,
            "grid_auto_rows": null,
            "grid_column": null,
            "grid_gap": null,
            "grid_row": null,
            "grid_template_areas": null,
            "grid_template_columns": null,
            "grid_template_rows": null,
            "height": null,
            "justify_content": null,
            "justify_items": null,
            "left": null,
            "margin": null,
            "max_height": null,
            "max_width": null,
            "min_height": null,
            "min_width": null,
            "object_fit": null,
            "object_position": null,
            "order": null,
            "overflow": null,
            "overflow_x": null,
            "overflow_y": null,
            "padding": null,
            "right": null,
            "top": null,
            "visibility": null,
            "width": null
          }
        },
        "71c106212b3c46dd87ce0f668ba6f1d3": {
          "model_module": "@jupyter-widgets/controls",
          "model_name": "ProgressStyleModel",
          "model_module_version": "1.5.0",
          "state": {
            "_model_module": "@jupyter-widgets/controls",
            "_model_module_version": "1.5.0",
            "_model_name": "ProgressStyleModel",
            "_view_count": null,
            "_view_module": "@jupyter-widgets/base",
            "_view_module_version": "1.2.0",
            "_view_name": "StyleView",
            "bar_color": null,
            "description_width": ""
          }
        },
        "4b5793282e574b47a2bd3e5909834c6c": {
          "model_module": "@jupyter-widgets/base",
          "model_name": "LayoutModel",
          "model_module_version": "1.2.0",
          "state": {
            "_model_module": "@jupyter-widgets/base",
            "_model_module_version": "1.2.0",
            "_model_name": "LayoutModel",
            "_view_count": null,
            "_view_module": "@jupyter-widgets/base",
            "_view_module_version": "1.2.0",
            "_view_name": "LayoutView",
            "align_content": null,
            "align_items": null,
            "align_self": null,
            "border": null,
            "bottom": null,
            "display": null,
            "flex": null,
            "flex_flow": null,
            "grid_area": null,
            "grid_auto_columns": null,
            "grid_auto_flow": null,
            "grid_auto_rows": null,
            "grid_column": null,
            "grid_gap": null,
            "grid_row": null,
            "grid_template_areas": null,
            "grid_template_columns": null,
            "grid_template_rows": null,
            "height": null,
            "justify_content": null,
            "justify_items": null,
            "left": null,
            "margin": null,
            "max_height": null,
            "max_width": null,
            "min_height": null,
            "min_width": null,
            "object_fit": null,
            "object_position": null,
            "order": null,
            "overflow": null,
            "overflow_x": null,
            "overflow_y": null,
            "padding": null,
            "right": null,
            "top": null,
            "visibility": null,
            "width": null
          }
        },
        "78c75c47d3834a0ab098832e8e754bf5": {
          "model_module": "@jupyter-widgets/controls",
          "model_name": "DescriptionStyleModel",
          "model_module_version": "1.5.0",
          "state": {
            "_model_module": "@jupyter-widgets/controls",
            "_model_module_version": "1.5.0",
            "_model_name": "DescriptionStyleModel",
            "_view_count": null,
            "_view_module": "@jupyter-widgets/base",
            "_view_module_version": "1.2.0",
            "_view_name": "StyleView",
            "description_width": ""
          }
        },
        "cb45c7e8bf62478eb01133e98ef9c881": {
          "model_module": "@jupyter-widgets/controls",
          "model_name": "HBoxModel",
          "model_module_version": "1.5.0",
          "state": {
            "_dom_classes": [],
            "_model_module": "@jupyter-widgets/controls",
            "_model_module_version": "1.5.0",
            "_model_name": "HBoxModel",
            "_view_count": null,
            "_view_module": "@jupyter-widgets/controls",
            "_view_module_version": "1.5.0",
            "_view_name": "HBoxView",
            "box_style": "",
            "children": [
              "IPY_MODEL_93931e253cb54a22a02298d7117f94b4",
              "IPY_MODEL_09d5cc6f7d65423da1e74837430ba45c",
              "IPY_MODEL_e1ed796f012249699ad885ba5086fec5"
            ],
            "layout": "IPY_MODEL_aedae47d7504496d86266f8e71710f65"
          }
        },
        "93931e253cb54a22a02298d7117f94b4": {
          "model_module": "@jupyter-widgets/controls",
          "model_name": "HTMLModel",
          "model_module_version": "1.5.0",
          "state": {
            "_dom_classes": [],
            "_model_module": "@jupyter-widgets/controls",
            "_model_module_version": "1.5.0",
            "_model_name": "HTMLModel",
            "_view_count": null,
            "_view_module": "@jupyter-widgets/controls",
            "_view_module_version": "1.5.0",
            "_view_name": "HTMLView",
            "description": "",
            "description_tooltip": null,
            "layout": "IPY_MODEL_76caa5d6c7904904baed152a494bea3b",
            "placeholder": "​",
            "style": "IPY_MODEL_baf5df0d90734314806133e91a382c56",
            "value": "100%"
          }
        },
        "09d5cc6f7d65423da1e74837430ba45c": {
          "model_module": "@jupyter-widgets/controls",
          "model_name": "FloatProgressModel",
          "model_module_version": "1.5.0",
          "state": {
            "_dom_classes": [],
            "_model_module": "@jupyter-widgets/controls",
            "_model_module_version": "1.5.0",
            "_model_name": "FloatProgressModel",
            "_view_count": null,
            "_view_module": "@jupyter-widgets/controls",
            "_view_module_version": "1.5.0",
            "_view_name": "ProgressView",
            "bar_style": "success",
            "description": "",
            "description_tooltip": null,
            "layout": "IPY_MODEL_1ca2d479c6ad4130a1eec9d807dd7268",
            "max": 50,
            "min": 0,
            "orientation": "horizontal",
            "style": "IPY_MODEL_846782a415a042a8ae5ac5b4fdfc7959",
            "value": 50
          }
        },
        "e1ed796f012249699ad885ba5086fec5": {
          "model_module": "@jupyter-widgets/controls",
          "model_name": "HTMLModel",
          "model_module_version": "1.5.0",
          "state": {
            "_dom_classes": [],
            "_model_module": "@jupyter-widgets/controls",
            "_model_module_version": "1.5.0",
            "_model_name": "HTMLModel",
            "_view_count": null,
            "_view_module": "@jupyter-widgets/controls",
            "_view_module_version": "1.5.0",
            "_view_name": "HTMLView",
            "description": "",
            "description_tooltip": null,
            "layout": "IPY_MODEL_592cc50713044b339473db3a2c62d0e2",
            "placeholder": "​",
            "style": "IPY_MODEL_9224e5c5856e4b82b1dab602820cc1df",
            "value": " 50/50 [03:15&lt;00:00,  3.56s/it]"
          }
        },
        "aedae47d7504496d86266f8e71710f65": {
          "model_module": "@jupyter-widgets/base",
          "model_name": "LayoutModel",
          "model_module_version": "1.2.0",
          "state": {
            "_model_module": "@jupyter-widgets/base",
            "_model_module_version": "1.2.0",
            "_model_name": "LayoutModel",
            "_view_count": null,
            "_view_module": "@jupyter-widgets/base",
            "_view_module_version": "1.2.0",
            "_view_name": "LayoutView",
            "align_content": null,
            "align_items": null,
            "align_self": null,
            "border": null,
            "bottom": null,
            "display": null,
            "flex": null,
            "flex_flow": null,
            "grid_area": null,
            "grid_auto_columns": null,
            "grid_auto_flow": null,
            "grid_auto_rows": null,
            "grid_column": null,
            "grid_gap": null,
            "grid_row": null,
            "grid_template_areas": null,
            "grid_template_columns": null,
            "grid_template_rows": null,
            "height": null,
            "justify_content": null,
            "justify_items": null,
            "left": null,
            "margin": null,
            "max_height": null,
            "max_width": null,
            "min_height": null,
            "min_width": null,
            "object_fit": null,
            "object_position": null,
            "order": null,
            "overflow": null,
            "overflow_x": null,
            "overflow_y": null,
            "padding": null,
            "right": null,
            "top": null,
            "visibility": null,
            "width": null
          }
        },
        "76caa5d6c7904904baed152a494bea3b": {
          "model_module": "@jupyter-widgets/base",
          "model_name": "LayoutModel",
          "model_module_version": "1.2.0",
          "state": {
            "_model_module": "@jupyter-widgets/base",
            "_model_module_version": "1.2.0",
            "_model_name": "LayoutModel",
            "_view_count": null,
            "_view_module": "@jupyter-widgets/base",
            "_view_module_version": "1.2.0",
            "_view_name": "LayoutView",
            "align_content": null,
            "align_items": null,
            "align_self": null,
            "border": null,
            "bottom": null,
            "display": null,
            "flex": null,
            "flex_flow": null,
            "grid_area": null,
            "grid_auto_columns": null,
            "grid_auto_flow": null,
            "grid_auto_rows": null,
            "grid_column": null,
            "grid_gap": null,
            "grid_row": null,
            "grid_template_areas": null,
            "grid_template_columns": null,
            "grid_template_rows": null,
            "height": null,
            "justify_content": null,
            "justify_items": null,
            "left": null,
            "margin": null,
            "max_height": null,
            "max_width": null,
            "min_height": null,
            "min_width": null,
            "object_fit": null,
            "object_position": null,
            "order": null,
            "overflow": null,
            "overflow_x": null,
            "overflow_y": null,
            "padding": null,
            "right": null,
            "top": null,
            "visibility": null,
            "width": null
          }
        },
        "baf5df0d90734314806133e91a382c56": {
          "model_module": "@jupyter-widgets/controls",
          "model_name": "DescriptionStyleModel",
          "model_module_version": "1.5.0",
          "state": {
            "_model_module": "@jupyter-widgets/controls",
            "_model_module_version": "1.5.0",
            "_model_name": "DescriptionStyleModel",
            "_view_count": null,
            "_view_module": "@jupyter-widgets/base",
            "_view_module_version": "1.2.0",
            "_view_name": "StyleView",
            "description_width": ""
          }
        },
        "1ca2d479c6ad4130a1eec9d807dd7268": {
          "model_module": "@jupyter-widgets/base",
          "model_name": "LayoutModel",
          "model_module_version": "1.2.0",
          "state": {
            "_model_module": "@jupyter-widgets/base",
            "_model_module_version": "1.2.0",
            "_model_name": "LayoutModel",
            "_view_count": null,
            "_view_module": "@jupyter-widgets/base",
            "_view_module_version": "1.2.0",
            "_view_name": "LayoutView",
            "align_content": null,
            "align_items": null,
            "align_self": null,
            "border": null,
            "bottom": null,
            "display": null,
            "flex": null,
            "flex_flow": null,
            "grid_area": null,
            "grid_auto_columns": null,
            "grid_auto_flow": null,
            "grid_auto_rows": null,
            "grid_column": null,
            "grid_gap": null,
            "grid_row": null,
            "grid_template_areas": null,
            "grid_template_columns": null,
            "grid_template_rows": null,
            "height": null,
            "justify_content": null,
            "justify_items": null,
            "left": null,
            "margin": null,
            "max_height": null,
            "max_width": null,
            "min_height": null,
            "min_width": null,
            "object_fit": null,
            "object_position": null,
            "order": null,
            "overflow": null,
            "overflow_x": null,
            "overflow_y": null,
            "padding": null,
            "right": null,
            "top": null,
            "visibility": null,
            "width": null
          }
        },
        "846782a415a042a8ae5ac5b4fdfc7959": {
          "model_module": "@jupyter-widgets/controls",
          "model_name": "ProgressStyleModel",
          "model_module_version": "1.5.0",
          "state": {
            "_model_module": "@jupyter-widgets/controls",
            "_model_module_version": "1.5.0",
            "_model_name": "ProgressStyleModel",
            "_view_count": null,
            "_view_module": "@jupyter-widgets/base",
            "_view_module_version": "1.2.0",
            "_view_name": "StyleView",
            "bar_color": null,
            "description_width": ""
          }
        },
        "592cc50713044b339473db3a2c62d0e2": {
          "model_module": "@jupyter-widgets/base",
          "model_name": "LayoutModel",
          "model_module_version": "1.2.0",
          "state": {
            "_model_module": "@jupyter-widgets/base",
            "_model_module_version": "1.2.0",
            "_model_name": "LayoutModel",
            "_view_count": null,
            "_view_module": "@jupyter-widgets/base",
            "_view_module_version": "1.2.0",
            "_view_name": "LayoutView",
            "align_content": null,
            "align_items": null,
            "align_self": null,
            "border": null,
            "bottom": null,
            "display": null,
            "flex": null,
            "flex_flow": null,
            "grid_area": null,
            "grid_auto_columns": null,
            "grid_auto_flow": null,
            "grid_auto_rows": null,
            "grid_column": null,
            "grid_gap": null,
            "grid_row": null,
            "grid_template_areas": null,
            "grid_template_columns": null,
            "grid_template_rows": null,
            "height": null,
            "justify_content": null,
            "justify_items": null,
            "left": null,
            "margin": null,
            "max_height": null,
            "max_width": null,
            "min_height": null,
            "min_width": null,
            "object_fit": null,
            "object_position": null,
            "order": null,
            "overflow": null,
            "overflow_x": null,
            "overflow_y": null,
            "padding": null,
            "right": null,
            "top": null,
            "visibility": null,
            "width": null
          }
        },
        "9224e5c5856e4b82b1dab602820cc1df": {
          "model_module": "@jupyter-widgets/controls",
          "model_name": "DescriptionStyleModel",
          "model_module_version": "1.5.0",
          "state": {
            "_model_module": "@jupyter-widgets/controls",
            "_model_module_version": "1.5.0",
            "_model_name": "DescriptionStyleModel",
            "_view_count": null,
            "_view_module": "@jupyter-widgets/base",
            "_view_module_version": "1.2.0",
            "_view_name": "StyleView",
            "description_width": ""
          }
        }
      }
    }
  },
  "cells": [
    {
      "cell_type": "markdown",
      "metadata": {
        "id": "view-in-github",
        "colab_type": "text"
      },
      "source": [
        "<a href=\"https://colab.research.google.com/github/rahulrajpr/AdvancedHyperParameterOptimisation/blob/Optuna/Optuna_Search.ipynb\" target=\"_parent\"><img src=\"https://colab.research.google.com/assets/colab-badge.svg\" alt=\"Open In Colab\"/></a>"
      ]
    },
    {
      "cell_type": "markdown",
      "source": [
        "**Optuna Search**\n",
        "\n",
        "- Ransom Search\n",
        "- TPE Search\n",
        "- CM ES Search\n",
        "- Grid Search\n",
        "\n",
        "**Optuna is compateble for optimisig the hyperparmeters of all kind of machine learning packages like sklearn, keras, tensorflow, pytorch etc**\n",
        "\n",
        "In optuna, the hyperparameter space is defined inside the objective function"
      ],
      "metadata": {
        "id": "WBxmj8WyMRSk"
      }
    },
    {
      "cell_type": "code",
      "execution_count": 1,
      "metadata": {
        "id": "RT3xw2AfLGP0"
      },
      "outputs": [],
      "source": [
        "import pandas as pd\n",
        "import numpy as np\n",
        "import matplotlib.pyplot as plt\n",
        "import seaborn as sns\n",
        "import warnings\n",
        "warnings.filterwarnings('ignore')"
      ]
    },
    {
      "cell_type": "code",
      "source": [
        "from sklearn.datasets import load_breast_cancer"
      ],
      "metadata": {
        "id": "YTEw1eiTLb-E"
      },
      "execution_count": 2,
      "outputs": []
    },
    {
      "cell_type": "code",
      "source": [
        "dataset = load_breast_cancer()\n",
        "data = dataset.data\n",
        "target = dataset.target\n",
        "columns = dataset.feature_names\n",
        "df = pd.DataFrame(data = data, columns = columns)\n",
        "df['target'] = target\n",
        "df.info()"
      ],
      "metadata": {
        "colab": {
          "base_uri": "https://localhost:8080/"
        },
        "id": "KhcVF1fiLgXt",
        "outputId": "2e71f933-4dd6-423b-b7a8-4ce36df700fd"
      },
      "execution_count": 3,
      "outputs": [
        {
          "output_type": "stream",
          "name": "stdout",
          "text": [
            "<class 'pandas.core.frame.DataFrame'>\n",
            "RangeIndex: 569 entries, 0 to 568\n",
            "Data columns (total 31 columns):\n",
            " #   Column                   Non-Null Count  Dtype  \n",
            "---  ------                   --------------  -----  \n",
            " 0   mean radius              569 non-null    float64\n",
            " 1   mean texture             569 non-null    float64\n",
            " 2   mean perimeter           569 non-null    float64\n",
            " 3   mean area                569 non-null    float64\n",
            " 4   mean smoothness          569 non-null    float64\n",
            " 5   mean compactness         569 non-null    float64\n",
            " 6   mean concavity           569 non-null    float64\n",
            " 7   mean concave points      569 non-null    float64\n",
            " 8   mean symmetry            569 non-null    float64\n",
            " 9   mean fractal dimension   569 non-null    float64\n",
            " 10  radius error             569 non-null    float64\n",
            " 11  texture error            569 non-null    float64\n",
            " 12  perimeter error          569 non-null    float64\n",
            " 13  area error               569 non-null    float64\n",
            " 14  smoothness error         569 non-null    float64\n",
            " 15  compactness error        569 non-null    float64\n",
            " 16  concavity error          569 non-null    float64\n",
            " 17  concave points error     569 non-null    float64\n",
            " 18  symmetry error           569 non-null    float64\n",
            " 19  fractal dimension error  569 non-null    float64\n",
            " 20  worst radius             569 non-null    float64\n",
            " 21  worst texture            569 non-null    float64\n",
            " 22  worst perimeter          569 non-null    float64\n",
            " 23  worst area               569 non-null    float64\n",
            " 24  worst smoothness         569 non-null    float64\n",
            " 25  worst compactness        569 non-null    float64\n",
            " 26  worst concavity          569 non-null    float64\n",
            " 27  worst concave points     569 non-null    float64\n",
            " 28  worst symmetry           569 non-null    float64\n",
            " 29  worst fractal dimension  569 non-null    float64\n",
            " 30  target                   569 non-null    int64  \n",
            "dtypes: float64(30), int64(1)\n",
            "memory usage: 137.9 KB\n"
          ]
        }
      ]
    },
    {
      "cell_type": "code",
      "source": [
        "X = df.drop('target', axis =1)\n",
        "y = df['target']"
      ],
      "metadata": {
        "id": "sVf23fZlL1um"
      },
      "execution_count": 4,
      "outputs": []
    },
    {
      "cell_type": "code",
      "source": [
        "from sklearn.model_selection import train_test_split"
      ],
      "metadata": {
        "id": "xNUIU9sjL8kP"
      },
      "execution_count": 5,
      "outputs": []
    },
    {
      "cell_type": "code",
      "source": [
        "X_train,X_test,y_train, y_test = train_test_split(X,y,train_size = 0.7, random_state = 100, stratify = y)"
      ],
      "metadata": {
        "id": "hoYy5QKoMB2R"
      },
      "execution_count": 6,
      "outputs": []
    },
    {
      "cell_type": "markdown",
      "source": [
        "Define the objective function"
      ],
      "metadata": {
        "id": "5ZdvDKA6M9D_"
      }
    },
    {
      "cell_type": "code",
      "source": [
        "from sklearn.ensemble import RandomForestClassifier"
      ],
      "metadata": {
        "id": "ZS7WHfWlNKqj"
      },
      "execution_count": 7,
      "outputs": []
    },
    {
      "cell_type": "code",
      "source": [
        "from sklearn.model_selection import cross_val_score"
      ],
      "metadata": {
        "id": "xlYsemysOyoX"
      },
      "execution_count": 8,
      "outputs": []
    },
    {
      "cell_type": "code",
      "source": [
        "def objective(trial):\n",
        "\n",
        "  # defing the hyper parameter space inside the objective function, which is good thing in optuna\n",
        "\n",
        "  n_estimators = trial.suggest_int('n_estimators',100,1000)\n",
        "  criterion = trial.suggest_categorical('criterion',['gini','entropy'])\n",
        "  max_depth = trial.suggest_int('max_depth',1,5)\n",
        "  min_samples_split = trial.suggest_float('min_samples_split',0.01,1)\n",
        "\n",
        "  model = RandomForestClassifier(n_estimators = n_estimators,\n",
        "                                criterion = criterion,\n",
        "                                max_depth = max_depth,\n",
        "                                min_samples_split = min_samples_split)\n",
        "  \n",
        "  scores = cross_val_score(estimator = model,\n",
        "                          X = X_train,\n",
        "                          y = y_train,\n",
        "                          cv = 5,\n",
        "                          scoring = 'accuracy',\n",
        "                          n_jobs = -1)\n",
        "\n",
        "  mean_accuracy = np.mean(scores)\n",
        "\n",
        "  return mean_accuracy # in optuna, you can choose the direction of scoring while defining the study, you can retun the metric here as it is."
      ],
      "metadata": {
        "id": "Qn4cemxfMO4i"
      },
      "execution_count": 12,
      "outputs": []
    },
    {
      "cell_type": "markdown",
      "source": [
        "**Random Search**"
      ],
      "metadata": {
        "id": "8btZZmWBMt1L"
      }
    },
    {
      "cell_type": "code",
      "source": [
        "from IPython.core.display import clear_output\n",
        "!pip install optuna\n",
        "clear_output()"
      ],
      "metadata": {
        "id": "V9HbUmtCQKO6"
      },
      "execution_count": 17,
      "outputs": []
    },
    {
      "cell_type": "code",
      "source": [
        "import optuna"
      ],
      "metadata": {
        "id": "KZZ_4vN0P_O9"
      },
      "execution_count": 18,
      "outputs": []
    },
    {
      "cell_type": "code",
      "source": [
        "# creating the study object\n",
        "study = optuna.create_study(direction = 'maximize',\n",
        "                            sampler = optuna.samplers.RandomSampler())"
      ],
      "metadata": {
        "colab": {
          "base_uri": "https://localhost:8080/"
        },
        "id": "8yOr9pAsP_L8",
        "outputId": "98c5d50d-4bad-4c95-a911-e6abb19ad9de"
      },
      "execution_count": 19,
      "outputs": [
        {
          "output_type": "stream",
          "name": "stderr",
          "text": [
            "\u001b[32m[I 2023-01-04 05:35:03,695]\u001b[0m A new study created in memory with name: no-name-cd269785-26e7-4858-9329-c2dbf187e830\u001b[0m\n"
          ]
        }
      ]
    },
    {
      "cell_type": "code",
      "source": [
        "# optimize the study object to search through the hyperparameters\n",
        "\n",
        "study.optimize(func = objective,\n",
        "               n_trials = 50, \n",
        "               n_jobs =-1,\n",
        "               show_progress_bar = True)"
      ],
      "metadata": {
        "colab": {
          "base_uri": "https://localhost:8080/",
          "height": 937,
          "referenced_widgets": [
            "e174c1c188a547a296ed99ab8f6aa3a1",
            "eeb5851aa85d449c800e169bc7bf5441",
            "43b73f028b4446c2864d47f397c738b0",
            "51d2278755cd4c7a9de6014864fdace0",
            "005d28733bc844f8b27a47779ceaa489",
            "3a3a3a8f165643b09e709825e3d7f129",
            "8db7257bfc4f4a2e9434735c174662ca",
            "7bf87b8179e2425ca6f9637cb22bf149",
            "af3330798d4045f8bb287b92c268b852",
            "e4016169049543d090d694f9212d7867",
            "c8ce690b702541978ec4fa210f960c2e"
          ]
        },
        "id": "OgzbI469P_HL",
        "outputId": "15edbcb6-7856-489b-d3c8-6009cc209355"
      },
      "execution_count": 21,
      "outputs": [
        {
          "output_type": "display_data",
          "data": {
            "text/plain": [
              "  0%|          | 0/50 [00:00<?, ?it/s]"
            ],
            "application/vnd.jupyter.widget-view+json": {
              "version_major": 2,
              "version_minor": 0,
              "model_id": "e174c1c188a547a296ed99ab8f6aa3a1"
            }
          },
          "metadata": {}
        },
        {
          "output_type": "stream",
          "name": "stdout",
          "text": [
            "\u001b[32m[I 2023-01-04 05:37:59,297]\u001b[0m Trial 1 finished with value: 0.6281645569620252 and parameters: {'n_estimators': 977, 'criterion': 'entropy', 'max_depth': 1, 'min_samples_split': 0.7034592012837281}. Best is trial 1 with value: 0.6281645569620252.\u001b[0m\n",
            "\u001b[32m[I 2023-01-04 05:37:59,844]\u001b[0m Trial 0 finished with value: 0.9120253164556962 and parameters: {'n_estimators': 983, 'criterion': 'entropy', 'max_depth': 4, 'min_samples_split': 0.4760680924116854}. Best is trial 0 with value: 0.9120253164556962.\u001b[0m\n",
            "\u001b[32m[I 2023-01-04 05:38:00,928]\u001b[0m Trial 2 finished with value: 0.6281645569620252 and parameters: {'n_estimators': 231, 'criterion': 'gini', 'max_depth': 5, 'min_samples_split': 0.8852810509008352}. Best is trial 0 with value: 0.9120253164556962.\u001b[0m\n",
            "\u001b[32m[I 2023-01-04 05:38:10,144]\u001b[0m Trial 3 finished with value: 0.6281645569620252 and parameters: {'n_estimators': 500, 'criterion': 'gini', 'max_depth': 2, 'min_samples_split': 0.8291747238189285}. Best is trial 0 with value: 0.9120253164556962.\u001b[0m\n",
            "\u001b[32m[I 2023-01-04 05:38:12,043]\u001b[0m Trial 4 finished with value: 0.9372151898734178 and parameters: {'n_estimators': 982, 'criterion': 'entropy', 'max_depth': 5, 'min_samples_split': 0.23207446450624983}. Best is trial 4 with value: 0.9372151898734178.\u001b[0m\n",
            "\u001b[32m[I 2023-01-04 05:38:14,039]\u001b[0m Trial 5 finished with value: 0.9346835443037975 and parameters: {'n_estimators': 362, 'criterion': 'gini', 'max_depth': 4, 'min_samples_split': 0.29529367597659445}. Best is trial 4 with value: 0.9372151898734178.\u001b[0m\n",
            "\u001b[32m[I 2023-01-04 05:38:19,927]\u001b[0m Trial 6 finished with value: 0.9170253164556963 and parameters: {'n_estimators': 657, 'criterion': 'gini', 'max_depth': 1, 'min_samples_split': 0.47871398637055984}. Best is trial 4 with value: 0.9372151898734178.\u001b[0m\n",
            "\u001b[32m[I 2023-01-04 05:38:20,284]\u001b[0m Trial 7 finished with value: 0.949746835443038 and parameters: {'n_estimators': 351, 'criterion': 'gini', 'max_depth': 5, 'min_samples_split': 0.019369243231351176}. Best is trial 7 with value: 0.949746835443038.\u001b[0m\n",
            "\u001b[32m[I 2023-01-04 05:38:31,580]\u001b[0m Trial 8 finished with value: 0.6281645569620252 and parameters: {'n_estimators': 957, 'criterion': 'entropy', 'max_depth': 4, 'min_samples_split': 0.6776640656374127}. Best is trial 7 with value: 0.949746835443038.\u001b[0m\n",
            "\u001b[32m[I 2023-01-04 05:38:32,346]\u001b[0m Trial 9 finished with value: 0.9069620253164556 and parameters: {'n_estimators': 995, 'criterion': 'gini', 'max_depth': 5, 'min_samples_split': 0.5194995754139408}. Best is trial 7 with value: 0.949746835443038.\u001b[0m\n",
            "\u001b[32m[I 2023-01-04 05:38:40,190]\u001b[0m Trial 10 finished with value: 0.9396835443037975 and parameters: {'n_estimators': 651, 'criterion': 'gini', 'max_depth': 2, 'min_samples_split': 0.1751166053281164}. Best is trial 7 with value: 0.949746835443038.\u001b[0m\n",
            "\u001b[32m[I 2023-01-04 05:38:40,511]\u001b[0m Trial 11 finished with value: 0.6281645569620252 and parameters: {'n_estimators': 649, 'criterion': 'gini', 'max_depth': 5, 'min_samples_split': 0.6831276156012782}. Best is trial 7 with value: 0.949746835443038.\u001b[0m\n",
            "\u001b[32m[I 2023-01-04 05:38:45,580]\u001b[0m Trial 12 finished with value: 0.9169936708860759 and parameters: {'n_estimators': 123, 'criterion': 'gini', 'max_depth': 5, 'min_samples_split': 0.4736152751477725}. Best is trial 7 with value: 0.949746835443038.\u001b[0m\n",
            "\u001b[32m[I 2023-01-04 05:38:47,754]\u001b[0m Trial 13 finished with value: 0.9371835443037974 and parameters: {'n_estimators': 745, 'criterion': 'gini', 'max_depth': 5, 'min_samples_split': 0.24412392625475496}. Best is trial 7 with value: 0.949746835443038.\u001b[0m\n",
            "\u001b[32m[I 2023-01-04 05:38:49,123]\u001b[0m Trial 14 finished with value: 0.6281645569620252 and parameters: {'n_estimators': 310, 'criterion': 'entropy', 'max_depth': 5, 'min_samples_split': 0.8871472254845993}. Best is trial 7 with value: 0.949746835443038.\u001b[0m\n",
            "\u001b[32m[I 2023-01-04 05:38:55,799]\u001b[0m Trial 15 finished with value: 0.9472151898734177 and parameters: {'n_estimators': 311, 'criterion': 'gini', 'max_depth': 3, 'min_samples_split': 0.06782953602619105}. Best is trial 7 with value: 0.949746835443038.\u001b[0m\n",
            "\u001b[32m[I 2023-01-04 05:38:57,181]\u001b[0m Trial 16 finished with value: 0.6281645569620252 and parameters: {'n_estimators': 794, 'criterion': 'entropy', 'max_depth': 4, 'min_samples_split': 0.9176234057237785}. Best is trial 7 with value: 0.949746835443038.\u001b[0m\n",
            "\u001b[32m[I 2023-01-04 05:38:59,732]\u001b[0m Trial 17 finished with value: 0.9371518987341773 and parameters: {'n_estimators': 453, 'criterion': 'gini', 'max_depth': 2, 'min_samples_split': 0.03665407057172501}. Best is trial 7 with value: 0.949746835443038.\u001b[0m\n",
            "\u001b[32m[I 2023-01-04 05:39:02,507]\u001b[0m Trial 18 finished with value: 0.6281645569620252 and parameters: {'n_estimators': 120, 'criterion': 'entropy', 'max_depth': 1, 'min_samples_split': 0.8112035692452244}. Best is trial 7 with value: 0.949746835443038.\u001b[0m\n",
            "\u001b[32m[I 2023-01-04 05:39:03,413]\u001b[0m Trial 19 finished with value: 0.6281645569620252 and parameters: {'n_estimators': 423, 'criterion': 'gini', 'max_depth': 3, 'min_samples_split': 0.9219664337950304}. Best is trial 7 with value: 0.949746835443038.\u001b[0m\n",
            "\u001b[32m[I 2023-01-04 05:39:10,066]\u001b[0m Trial 20 finished with value: 0.9195253164556961 and parameters: {'n_estimators': 378, 'criterion': 'gini', 'max_depth': 3, 'min_samples_split': 0.5110935057656563}. Best is trial 7 with value: 0.949746835443038.\u001b[0m\n",
            "\u001b[32m[I 2023-01-04 05:39:12,249]\u001b[0m Trial 21 finished with value: 0.9145253164556962 and parameters: {'n_estimators': 812, 'criterion': 'entropy', 'max_depth': 1, 'min_samples_split': 0.1992171214732762}. Best is trial 7 with value: 0.949746835443038.\u001b[0m\n",
            "\u001b[32m[I 2023-01-04 05:39:22,892]\u001b[0m Trial 22 finished with value: 0.9422151898734177 and parameters: {'n_estimators': 919, 'criterion': 'gini', 'max_depth': 5, 'min_samples_split': 0.1720834182929399}. Best is trial 7 with value: 0.949746835443038.\u001b[0m\n",
            "\u001b[32m[I 2023-01-04 05:39:24,645]\u001b[0m Trial 23 finished with value: 0.9447151898734176 and parameters: {'n_estimators': 767, 'criterion': 'gini', 'max_depth': 5, 'min_samples_split': 0.11071783686699647}. Best is trial 7 with value: 0.949746835443038.\u001b[0m\n",
            "\u001b[32m[I 2023-01-04 05:39:33,895]\u001b[0m Trial 24 finished with value: 0.9195253164556961 and parameters: {'n_estimators': 923, 'criterion': 'gini', 'max_depth': 3, 'min_samples_split': 0.44109950963695344}. Best is trial 7 with value: 0.949746835443038.\u001b[0m\n",
            "\u001b[32m[I 2023-01-04 05:39:35,207]\u001b[0m Trial 25 finished with value: 0.6281645569620252 and parameters: {'n_estimators': 817, 'criterion': 'gini', 'max_depth': 2, 'min_samples_split': 0.8521242790642893}. Best is trial 7 with value: 0.949746835443038.\u001b[0m\n",
            "\u001b[32m[I 2023-01-04 05:39:41,348]\u001b[0m Trial 26 finished with value: 0.6281645569620252 and parameters: {'n_estimators': 699, 'criterion': 'entropy', 'max_depth': 3, 'min_samples_split': 0.7902112440800144}. Best is trial 7 with value: 0.949746835443038.\u001b[0m\n",
            "\u001b[32m[I 2023-01-04 05:39:41,936]\u001b[0m Trial 27 finished with value: 0.9195253164556961 and parameters: {'n_estimators': 425, 'criterion': 'entropy', 'max_depth': 1, 'min_samples_split': 0.26165646705388584}. Best is trial 7 with value: 0.949746835443038.\u001b[0m\n",
            "\u001b[32m[I 2023-01-04 05:39:47,425]\u001b[0m Trial 28 finished with value: 0.8943987341772152 and parameters: {'n_estimators': 341, 'criterion': 'entropy', 'max_depth': 3, 'min_samples_split': 0.634114240993009}. Best is trial 7 with value: 0.949746835443038.\u001b[0m\n",
            "\u001b[32m[I 2023-01-04 05:39:48,810]\u001b[0m Trial 29 finished with value: 0.9145253164556962 and parameters: {'n_estimators': 623, 'criterion': 'entropy', 'max_depth': 1, 'min_samples_split': 0.09616224075315563}. Best is trial 7 with value: 0.949746835443038.\u001b[0m\n",
            "\u001b[32m[I 2023-01-04 05:39:54,796]\u001b[0m Trial 30 finished with value: 0.9422151898734177 and parameters: {'n_estimators': 524, 'criterion': 'gini', 'max_depth': 2, 'min_samples_split': 0.15857264311137442}. Best is trial 7 with value: 0.949746835443038.\u001b[0m\n",
            "\u001b[32m[I 2023-01-04 05:39:56,148]\u001b[0m Trial 31 finished with value: 0.9447151898734176 and parameters: {'n_estimators': 447, 'criterion': 'entropy', 'max_depth': 3, 'min_samples_split': 0.054618596997362934}. Best is trial 7 with value: 0.949746835443038.\u001b[0m\n",
            "\u001b[32m[I 2023-01-04 05:40:01,826]\u001b[0m Trial 32 finished with value: 0.8793354430379747 and parameters: {'n_estimators': 632, 'criterion': 'entropy', 'max_depth': 4, 'min_samples_split': 0.6395180774669081}. Best is trial 7 with value: 0.949746835443038.\u001b[0m\n",
            "\u001b[32m[I 2023-01-04 05:40:01,873]\u001b[0m Trial 33 finished with value: 0.6281645569620252 and parameters: {'n_estimators': 428, 'criterion': 'gini', 'max_depth': 4, 'min_samples_split': 0.765980494331817}. Best is trial 7 with value: 0.949746835443038.\u001b[0m\n",
            "\u001b[32m[I 2023-01-04 05:40:09,343]\u001b[0m Trial 34 finished with value: 0.9220569620253164 and parameters: {'n_estimators': 325, 'criterion': 'entropy', 'max_depth': 1, 'min_samples_split': 0.4292575878823482}. Best is trial 7 with value: 0.949746835443038.\u001b[0m\n",
            "\u001b[32m[I 2023-01-04 05:40:11,034]\u001b[0m Trial 35 finished with value: 0.949746835443038 and parameters: {'n_estimators': 841, 'criterion': 'gini', 'max_depth': 5, 'min_samples_split': 0.06241223074204264}. Best is trial 7 with value: 0.949746835443038.\u001b[0m\n",
            "\u001b[32m[I 2023-01-04 05:40:11,170]\u001b[0m Trial 36 finished with value: 0.944746835443038 and parameters: {'n_estimators': 108, 'criterion': 'entropy', 'max_depth': 3, 'min_samples_split': 0.06743712214754287}. Best is trial 7 with value: 0.949746835443038.\u001b[0m\n",
            "\u001b[32m[I 2023-01-04 05:40:17,911]\u001b[0m Trial 38 finished with value: 0.9094936708860759 and parameters: {'n_estimators': 367, 'criterion': 'entropy', 'max_depth': 3, 'min_samples_split': 0.6149462415362071}. Best is trial 7 with value: 0.949746835443038.\u001b[0m\n",
            "\u001b[32m[I 2023-01-04 05:40:18,649]\u001b[0m Trial 37 finished with value: 0.6281645569620252 and parameters: {'n_estimators': 813, 'criterion': 'entropy', 'max_depth': 4, 'min_samples_split': 0.8971391670595567}. Best is trial 7 with value: 0.949746835443038.\u001b[0m\n",
            "\u001b[32m[I 2023-01-04 05:40:27,142]\u001b[0m Trial 40 finished with value: 0.6281645569620252 and parameters: {'n_estimators': 591, 'criterion': 'gini', 'max_depth': 3, 'min_samples_split': 0.8437668822007833}. Best is trial 7 with value: 0.949746835443038.\u001b[0m\n",
            "\u001b[32m[I 2023-01-04 05:40:27,249]\u001b[0m Trial 39 finished with value: 0.6281645569620252 and parameters: {'n_estimators': 872, 'criterion': 'gini', 'max_depth': 2, 'min_samples_split': 0.914761286541122}. Best is trial 7 with value: 0.949746835443038.\u001b[0m\n",
            "\u001b[32m[I 2023-01-04 05:40:32,038]\u001b[0m Trial 42 finished with value: 0.6281645569620252 and parameters: {'n_estimators': 261, 'criterion': 'gini', 'max_depth': 4, 'min_samples_split': 0.8900104687426516}. Best is trial 7 with value: 0.949746835443038.\u001b[0m\n",
            "\u001b[32m[I 2023-01-04 05:40:32,807]\u001b[0m Trial 41 finished with value: 0.6281645569620252 and parameters: {'n_estimators': 610, 'criterion': 'entropy', 'max_depth': 4, 'min_samples_split': 0.8759319973073126}. Best is trial 7 with value: 0.949746835443038.\u001b[0m\n",
            "\u001b[32m[I 2023-01-04 05:40:34,060]\u001b[0m Trial 43 finished with value: 0.944746835443038 and parameters: {'n_estimators': 182, 'criterion': 'entropy', 'max_depth': 3, 'min_samples_split': 0.08488059360334566}. Best is trial 7 with value: 0.949746835443038.\u001b[0m\n",
            "\u001b[32m[I 2023-01-04 05:40:41,520]\u001b[0m Trial 44 finished with value: 0.9145253164556962 and parameters: {'n_estimators': 568, 'criterion': 'entropy', 'max_depth': 2, 'min_samples_split': 0.6124980483141754}. Best is trial 7 with value: 0.949746835443038.\u001b[0m\n",
            "\u001b[32m[I 2023-01-04 05:40:41,597]\u001b[0m Trial 45 finished with value: 0.9145253164556962 and parameters: {'n_estimators': 571, 'criterion': 'entropy', 'max_depth': 1, 'min_samples_split': 0.6115291025436848}. Best is trial 7 with value: 0.949746835443038.\u001b[0m\n",
            "\u001b[32m[I 2023-01-04 05:40:48,507]\u001b[0m Trial 46 finished with value: 0.9321835443037976 and parameters: {'n_estimators': 324, 'criterion': 'entropy', 'max_depth': 4, 'min_samples_split': 0.35400256623377424}. Best is trial 7 with value: 0.949746835443038.\u001b[0m\n",
            "\u001b[32m[I 2023-01-04 05:40:48,656]\u001b[0m Trial 47 finished with value: 0.9371202531645568 and parameters: {'n_estimators': 363, 'criterion': 'entropy', 'max_depth': 2, 'min_samples_split': 0.045187520310142344}. Best is trial 7 with value: 0.949746835443038.\u001b[0m\n",
            "\u001b[32m[I 2023-01-04 05:40:58,064]\u001b[0m Trial 48 finished with value: 0.9169936708860759 and parameters: {'n_estimators': 191, 'criterion': 'entropy', 'max_depth': 1, 'min_samples_split': 0.08860089114833056}. Best is trial 7 with value: 0.949746835443038.\u001b[0m\n",
            "\u001b[32m[I 2023-01-04 05:40:59,166]\u001b[0m Trial 49 finished with value: 0.9170253164556963 and parameters: {'n_estimators': 775, 'criterion': 'entropy', 'max_depth': 2, 'min_samples_split': 0.5828921018076403}. Best is trial 7 with value: 0.949746835443038.\u001b[0m\n"
          ]
        }
      ]
    },
    {
      "cell_type": "markdown",
      "source": [
        "Explore the study object"
      ],
      "metadata": {
        "id": "8v0Cx0ZoUftf"
      }
    },
    {
      "cell_type": "code",
      "source": [
        "# best parameters\n",
        "best_params = study.best_params\n",
        "best_params"
      ],
      "metadata": {
        "colab": {
          "base_uri": "https://localhost:8080/"
        },
        "id": "OQfcWMM7P_Ep",
        "outputId": "8aec87d8-b1b5-4b26-a681-011dea693c49"
      },
      "execution_count": 25,
      "outputs": [
        {
          "output_type": "execute_result",
          "data": {
            "text/plain": [
              "{'n_estimators': 351,\n",
              " 'criterion': 'gini',\n",
              " 'max_depth': 5,\n",
              " 'min_samples_split': 0.019369243231351176}"
            ]
          },
          "metadata": {},
          "execution_count": 25
        }
      ]
    },
    {
      "cell_type": "code",
      "source": [
        "# best metric\n",
        "study.best_value"
      ],
      "metadata": {
        "colab": {
          "base_uri": "https://localhost:8080/"
        },
        "id": "pi2bpt6bP_B4",
        "outputId": "587189f5-39c6-4526-f305-cff21649571f"
      },
      "execution_count": 23,
      "outputs": [
        {
          "output_type": "execute_result",
          "data": {
            "text/plain": [
              "0.949746835443038"
            ]
          },
          "metadata": {},
          "execution_count": 23
        }
      ]
    },
    {
      "cell_type": "code",
      "source": [
        "res = study.trials_dataframe()\n",
        "res.head()"
      ],
      "metadata": {
        "colab": {
          "base_uri": "https://localhost:8080/",
          "height": 337
        },
        "id": "zW-r-AZLP-_K",
        "outputId": "6a63b583-a8ab-45b5-e86d-4ed7412d5b5c"
      },
      "execution_count": 26,
      "outputs": [
        {
          "output_type": "execute_result",
          "data": {
            "text/plain": [
              "   number     value             datetime_start          datetime_complete  \\\n",
              "0       0  0.912025 2023-01-04 05:37:44.685769 2023-01-04 05:37:59.844047   \n",
              "1       1  0.628165 2023-01-04 05:37:44.686868 2023-01-04 05:37:59.296702   \n",
              "2       2  0.628165 2023-01-04 05:37:59.304108 2023-01-04 05:38:00.927754   \n",
              "3       3  0.628165 2023-01-04 05:37:59.861566 2023-01-04 05:38:10.144112   \n",
              "4       4  0.937215 2023-01-04 05:38:00.935401 2023-01-04 05:38:12.042628   \n",
              "\n",
              "                duration params_criterion  params_max_depth  \\\n",
              "0 0 days 00:00:15.158278          entropy                 4   \n",
              "1 0 days 00:00:14.609834          entropy                 1   \n",
              "2 0 days 00:00:01.623646             gini                 5   \n",
              "3 0 days 00:00:10.282546             gini                 2   \n",
              "4 0 days 00:00:11.107227          entropy                 5   \n",
              "\n",
              "   params_min_samples_split  params_n_estimators     state  \n",
              "0                  0.476068                  983  COMPLETE  \n",
              "1                  0.703459                  977  COMPLETE  \n",
              "2                  0.885281                  231  COMPLETE  \n",
              "3                  0.829175                  500  COMPLETE  \n",
              "4                  0.232074                  982  COMPLETE  "
            ],
            "text/html": [
              "\n",
              "  <div id=\"df-ed0aeabd-33e3-44cf-8854-cd581be7a938\">\n",
              "    <div class=\"colab-df-container\">\n",
              "      <div>\n",
              "<style scoped>\n",
              "    .dataframe tbody tr th:only-of-type {\n",
              "        vertical-align: middle;\n",
              "    }\n",
              "\n",
              "    .dataframe tbody tr th {\n",
              "        vertical-align: top;\n",
              "    }\n",
              "\n",
              "    .dataframe thead th {\n",
              "        text-align: right;\n",
              "    }\n",
              "</style>\n",
              "<table border=\"1\" class=\"dataframe\">\n",
              "  <thead>\n",
              "    <tr style=\"text-align: right;\">\n",
              "      <th></th>\n",
              "      <th>number</th>\n",
              "      <th>value</th>\n",
              "      <th>datetime_start</th>\n",
              "      <th>datetime_complete</th>\n",
              "      <th>duration</th>\n",
              "      <th>params_criterion</th>\n",
              "      <th>params_max_depth</th>\n",
              "      <th>params_min_samples_split</th>\n",
              "      <th>params_n_estimators</th>\n",
              "      <th>state</th>\n",
              "    </tr>\n",
              "  </thead>\n",
              "  <tbody>\n",
              "    <tr>\n",
              "      <th>0</th>\n",
              "      <td>0</td>\n",
              "      <td>0.912025</td>\n",
              "      <td>2023-01-04 05:37:44.685769</td>\n",
              "      <td>2023-01-04 05:37:59.844047</td>\n",
              "      <td>0 days 00:00:15.158278</td>\n",
              "      <td>entropy</td>\n",
              "      <td>4</td>\n",
              "      <td>0.476068</td>\n",
              "      <td>983</td>\n",
              "      <td>COMPLETE</td>\n",
              "    </tr>\n",
              "    <tr>\n",
              "      <th>1</th>\n",
              "      <td>1</td>\n",
              "      <td>0.628165</td>\n",
              "      <td>2023-01-04 05:37:44.686868</td>\n",
              "      <td>2023-01-04 05:37:59.296702</td>\n",
              "      <td>0 days 00:00:14.609834</td>\n",
              "      <td>entropy</td>\n",
              "      <td>1</td>\n",
              "      <td>0.703459</td>\n",
              "      <td>977</td>\n",
              "      <td>COMPLETE</td>\n",
              "    </tr>\n",
              "    <tr>\n",
              "      <th>2</th>\n",
              "      <td>2</td>\n",
              "      <td>0.628165</td>\n",
              "      <td>2023-01-04 05:37:59.304108</td>\n",
              "      <td>2023-01-04 05:38:00.927754</td>\n",
              "      <td>0 days 00:00:01.623646</td>\n",
              "      <td>gini</td>\n",
              "      <td>5</td>\n",
              "      <td>0.885281</td>\n",
              "      <td>231</td>\n",
              "      <td>COMPLETE</td>\n",
              "    </tr>\n",
              "    <tr>\n",
              "      <th>3</th>\n",
              "      <td>3</td>\n",
              "      <td>0.628165</td>\n",
              "      <td>2023-01-04 05:37:59.861566</td>\n",
              "      <td>2023-01-04 05:38:10.144112</td>\n",
              "      <td>0 days 00:00:10.282546</td>\n",
              "      <td>gini</td>\n",
              "      <td>2</td>\n",
              "      <td>0.829175</td>\n",
              "      <td>500</td>\n",
              "      <td>COMPLETE</td>\n",
              "    </tr>\n",
              "    <tr>\n",
              "      <th>4</th>\n",
              "      <td>4</td>\n",
              "      <td>0.937215</td>\n",
              "      <td>2023-01-04 05:38:00.935401</td>\n",
              "      <td>2023-01-04 05:38:12.042628</td>\n",
              "      <td>0 days 00:00:11.107227</td>\n",
              "      <td>entropy</td>\n",
              "      <td>5</td>\n",
              "      <td>0.232074</td>\n",
              "      <td>982</td>\n",
              "      <td>COMPLETE</td>\n",
              "    </tr>\n",
              "  </tbody>\n",
              "</table>\n",
              "</div>\n",
              "      <button class=\"colab-df-convert\" onclick=\"convertToInteractive('df-ed0aeabd-33e3-44cf-8854-cd581be7a938')\"\n",
              "              title=\"Convert this dataframe to an interactive table.\"\n",
              "              style=\"display:none;\">\n",
              "        \n",
              "  <svg xmlns=\"http://www.w3.org/2000/svg\" height=\"24px\"viewBox=\"0 0 24 24\"\n",
              "       width=\"24px\">\n",
              "    <path d=\"M0 0h24v24H0V0z\" fill=\"none\"/>\n",
              "    <path d=\"M18.56 5.44l.94 2.06.94-2.06 2.06-.94-2.06-.94-.94-2.06-.94 2.06-2.06.94zm-11 1L8.5 8.5l.94-2.06 2.06-.94-2.06-.94L8.5 2.5l-.94 2.06-2.06.94zm10 10l.94 2.06.94-2.06 2.06-.94-2.06-.94-.94-2.06-.94 2.06-2.06.94z\"/><path d=\"M17.41 7.96l-1.37-1.37c-.4-.4-.92-.59-1.43-.59-.52 0-1.04.2-1.43.59L10.3 9.45l-7.72 7.72c-.78.78-.78 2.05 0 2.83L4 21.41c.39.39.9.59 1.41.59.51 0 1.02-.2 1.41-.59l7.78-7.78 2.81-2.81c.8-.78.8-2.07 0-2.86zM5.41 20L4 18.59l7.72-7.72 1.47 1.35L5.41 20z\"/>\n",
              "  </svg>\n",
              "      </button>\n",
              "      \n",
              "  <style>\n",
              "    .colab-df-container {\n",
              "      display:flex;\n",
              "      flex-wrap:wrap;\n",
              "      gap: 12px;\n",
              "    }\n",
              "\n",
              "    .colab-df-convert {\n",
              "      background-color: #E8F0FE;\n",
              "      border: none;\n",
              "      border-radius: 50%;\n",
              "      cursor: pointer;\n",
              "      display: none;\n",
              "      fill: #1967D2;\n",
              "      height: 32px;\n",
              "      padding: 0 0 0 0;\n",
              "      width: 32px;\n",
              "    }\n",
              "\n",
              "    .colab-df-convert:hover {\n",
              "      background-color: #E2EBFA;\n",
              "      box-shadow: 0px 1px 2px rgba(60, 64, 67, 0.3), 0px 1px 3px 1px rgba(60, 64, 67, 0.15);\n",
              "      fill: #174EA6;\n",
              "    }\n",
              "\n",
              "    [theme=dark] .colab-df-convert {\n",
              "      background-color: #3B4455;\n",
              "      fill: #D2E3FC;\n",
              "    }\n",
              "\n",
              "    [theme=dark] .colab-df-convert:hover {\n",
              "      background-color: #434B5C;\n",
              "      box-shadow: 0px 1px 3px 1px rgba(0, 0, 0, 0.15);\n",
              "      filter: drop-shadow(0px 1px 2px rgba(0, 0, 0, 0.3));\n",
              "      fill: #FFFFFF;\n",
              "    }\n",
              "  </style>\n",
              "\n",
              "      <script>\n",
              "        const buttonEl =\n",
              "          document.querySelector('#df-ed0aeabd-33e3-44cf-8854-cd581be7a938 button.colab-df-convert');\n",
              "        buttonEl.style.display =\n",
              "          google.colab.kernel.accessAllowed ? 'block' : 'none';\n",
              "\n",
              "        async function convertToInteractive(key) {\n",
              "          const element = document.querySelector('#df-ed0aeabd-33e3-44cf-8854-cd581be7a938');\n",
              "          const dataTable =\n",
              "            await google.colab.kernel.invokeFunction('convertToInteractive',\n",
              "                                                     [key], {});\n",
              "          if (!dataTable) return;\n",
              "\n",
              "          const docLinkHtml = 'Like what you see? Visit the ' +\n",
              "            '<a target=\"_blank\" href=https://colab.research.google.com/notebooks/data_table.ipynb>data table notebook</a>'\n",
              "            + ' to learn more about interactive tables.';\n",
              "          element.innerHTML = '';\n",
              "          dataTable['output_type'] = 'display_data';\n",
              "          await google.colab.output.renderOutput(dataTable, element);\n",
              "          const docLink = document.createElement('div');\n",
              "          docLink.innerHTML = docLinkHtml;\n",
              "          element.appendChild(docLink);\n",
              "        }\n",
              "      </script>\n",
              "    </div>\n",
              "  </div>\n",
              "  "
            ]
          },
          "metadata": {},
          "execution_count": 26
        }
      ]
    },
    {
      "cell_type": "code",
      "source": [
        "res.info()"
      ],
      "metadata": {
        "colab": {
          "base_uri": "https://localhost:8080/"
        },
        "id": "eHb0hZmVTcIR",
        "outputId": "1d6db79b-6a62-4b02-f545-aa5e469799f4"
      },
      "execution_count": 27,
      "outputs": [
        {
          "output_type": "stream",
          "name": "stdout",
          "text": [
            "<class 'pandas.core.frame.DataFrame'>\n",
            "RangeIndex: 50 entries, 0 to 49\n",
            "Data columns (total 10 columns):\n",
            " #   Column                    Non-Null Count  Dtype          \n",
            "---  ------                    --------------  -----          \n",
            " 0   number                    50 non-null     int64          \n",
            " 1   value                     50 non-null     float64        \n",
            " 2   datetime_start            50 non-null     datetime64[ns] \n",
            " 3   datetime_complete         50 non-null     datetime64[ns] \n",
            " 4   duration                  50 non-null     timedelta64[ns]\n",
            " 5   params_criterion          50 non-null     object         \n",
            " 6   params_max_depth          50 non-null     int64          \n",
            " 7   params_min_samples_split  50 non-null     float64        \n",
            " 8   params_n_estimators       50 non-null     int64          \n",
            " 9   state                     50 non-null     object         \n",
            "dtypes: datetime64[ns](2), float64(2), int64(3), object(2), timedelta64[ns](1)\n",
            "memory usage: 4.0+ KB\n"
          ]
        }
      ]
    },
    {
      "cell_type": "code",
      "source": [
        "sel_cols = ['params_n_estimators','params_max_depth','params_min_samples_split','params_criterion','value']"
      ],
      "metadata": {
        "id": "7N--jqyZTqAh"
      },
      "execution_count": 32,
      "outputs": []
    },
    {
      "cell_type": "code",
      "source": [
        "res = res[sel_cols].sort_values(by = 'value', ascending = False).reset_index()\n",
        "res.head()"
      ],
      "metadata": {
        "colab": {
          "base_uri": "https://localhost:8080/",
          "height": 206
        },
        "id": "aBhZDvqtUBvz",
        "outputId": "e8fa4805-163c-4f54-819f-d396ee3579fb"
      },
      "execution_count": 35,
      "outputs": [
        {
          "output_type": "execute_result",
          "data": {
            "text/plain": [
              "   index  params_n_estimators  params_max_depth  params_min_samples_split  \\\n",
              "0     35                  841                 5                  0.062412   \n",
              "1      7                  351                 5                  0.019369   \n",
              "2     15                  311                 3                  0.067830   \n",
              "3     36                  108                 3                  0.067437   \n",
              "4     43                  182                 3                  0.084881   \n",
              "\n",
              "  params_criterion     value  \n",
              "0             gini  0.949747  \n",
              "1             gini  0.949747  \n",
              "2             gini  0.947215  \n",
              "3          entropy  0.944747  \n",
              "4          entropy  0.944747  "
            ],
            "text/html": [
              "\n",
              "  <div id=\"df-5da4c242-fea5-4c86-9eac-de274e0c8f1a\">\n",
              "    <div class=\"colab-df-container\">\n",
              "      <div>\n",
              "<style scoped>\n",
              "    .dataframe tbody tr th:only-of-type {\n",
              "        vertical-align: middle;\n",
              "    }\n",
              "\n",
              "    .dataframe tbody tr th {\n",
              "        vertical-align: top;\n",
              "    }\n",
              "\n",
              "    .dataframe thead th {\n",
              "        text-align: right;\n",
              "    }\n",
              "</style>\n",
              "<table border=\"1\" class=\"dataframe\">\n",
              "  <thead>\n",
              "    <tr style=\"text-align: right;\">\n",
              "      <th></th>\n",
              "      <th>index</th>\n",
              "      <th>params_n_estimators</th>\n",
              "      <th>params_max_depth</th>\n",
              "      <th>params_min_samples_split</th>\n",
              "      <th>params_criterion</th>\n",
              "      <th>value</th>\n",
              "    </tr>\n",
              "  </thead>\n",
              "  <tbody>\n",
              "    <tr>\n",
              "      <th>0</th>\n",
              "      <td>35</td>\n",
              "      <td>841</td>\n",
              "      <td>5</td>\n",
              "      <td>0.062412</td>\n",
              "      <td>gini</td>\n",
              "      <td>0.949747</td>\n",
              "    </tr>\n",
              "    <tr>\n",
              "      <th>1</th>\n",
              "      <td>7</td>\n",
              "      <td>351</td>\n",
              "      <td>5</td>\n",
              "      <td>0.019369</td>\n",
              "      <td>gini</td>\n",
              "      <td>0.949747</td>\n",
              "    </tr>\n",
              "    <tr>\n",
              "      <th>2</th>\n",
              "      <td>15</td>\n",
              "      <td>311</td>\n",
              "      <td>3</td>\n",
              "      <td>0.067830</td>\n",
              "      <td>gini</td>\n",
              "      <td>0.947215</td>\n",
              "    </tr>\n",
              "    <tr>\n",
              "      <th>3</th>\n",
              "      <td>36</td>\n",
              "      <td>108</td>\n",
              "      <td>3</td>\n",
              "      <td>0.067437</td>\n",
              "      <td>entropy</td>\n",
              "      <td>0.944747</td>\n",
              "    </tr>\n",
              "    <tr>\n",
              "      <th>4</th>\n",
              "      <td>43</td>\n",
              "      <td>182</td>\n",
              "      <td>3</td>\n",
              "      <td>0.084881</td>\n",
              "      <td>entropy</td>\n",
              "      <td>0.944747</td>\n",
              "    </tr>\n",
              "  </tbody>\n",
              "</table>\n",
              "</div>\n",
              "      <button class=\"colab-df-convert\" onclick=\"convertToInteractive('df-5da4c242-fea5-4c86-9eac-de274e0c8f1a')\"\n",
              "              title=\"Convert this dataframe to an interactive table.\"\n",
              "              style=\"display:none;\">\n",
              "        \n",
              "  <svg xmlns=\"http://www.w3.org/2000/svg\" height=\"24px\"viewBox=\"0 0 24 24\"\n",
              "       width=\"24px\">\n",
              "    <path d=\"M0 0h24v24H0V0z\" fill=\"none\"/>\n",
              "    <path d=\"M18.56 5.44l.94 2.06.94-2.06 2.06-.94-2.06-.94-.94-2.06-.94 2.06-2.06.94zm-11 1L8.5 8.5l.94-2.06 2.06-.94-2.06-.94L8.5 2.5l-.94 2.06-2.06.94zm10 10l.94 2.06.94-2.06 2.06-.94-2.06-.94-.94-2.06-.94 2.06-2.06.94z\"/><path d=\"M17.41 7.96l-1.37-1.37c-.4-.4-.92-.59-1.43-.59-.52 0-1.04.2-1.43.59L10.3 9.45l-7.72 7.72c-.78.78-.78 2.05 0 2.83L4 21.41c.39.39.9.59 1.41.59.51 0 1.02-.2 1.41-.59l7.78-7.78 2.81-2.81c.8-.78.8-2.07 0-2.86zM5.41 20L4 18.59l7.72-7.72 1.47 1.35L5.41 20z\"/>\n",
              "  </svg>\n",
              "      </button>\n",
              "      \n",
              "  <style>\n",
              "    .colab-df-container {\n",
              "      display:flex;\n",
              "      flex-wrap:wrap;\n",
              "      gap: 12px;\n",
              "    }\n",
              "\n",
              "    .colab-df-convert {\n",
              "      background-color: #E8F0FE;\n",
              "      border: none;\n",
              "      border-radius: 50%;\n",
              "      cursor: pointer;\n",
              "      display: none;\n",
              "      fill: #1967D2;\n",
              "      height: 32px;\n",
              "      padding: 0 0 0 0;\n",
              "      width: 32px;\n",
              "    }\n",
              "\n",
              "    .colab-df-convert:hover {\n",
              "      background-color: #E2EBFA;\n",
              "      box-shadow: 0px 1px 2px rgba(60, 64, 67, 0.3), 0px 1px 3px 1px rgba(60, 64, 67, 0.15);\n",
              "      fill: #174EA6;\n",
              "    }\n",
              "\n",
              "    [theme=dark] .colab-df-convert {\n",
              "      background-color: #3B4455;\n",
              "      fill: #D2E3FC;\n",
              "    }\n",
              "\n",
              "    [theme=dark] .colab-df-convert:hover {\n",
              "      background-color: #434B5C;\n",
              "      box-shadow: 0px 1px 3px 1px rgba(0, 0, 0, 0.15);\n",
              "      filter: drop-shadow(0px 1px 2px rgba(0, 0, 0, 0.3));\n",
              "      fill: #FFFFFF;\n",
              "    }\n",
              "  </style>\n",
              "\n",
              "      <script>\n",
              "        const buttonEl =\n",
              "          document.querySelector('#df-5da4c242-fea5-4c86-9eac-de274e0c8f1a button.colab-df-convert');\n",
              "        buttonEl.style.display =\n",
              "          google.colab.kernel.accessAllowed ? 'block' : 'none';\n",
              "\n",
              "        async function convertToInteractive(key) {\n",
              "          const element = document.querySelector('#df-5da4c242-fea5-4c86-9eac-de274e0c8f1a');\n",
              "          const dataTable =\n",
              "            await google.colab.kernel.invokeFunction('convertToInteractive',\n",
              "                                                     [key], {});\n",
              "          if (!dataTable) return;\n",
              "\n",
              "          const docLinkHtml = 'Like what you see? Visit the ' +\n",
              "            '<a target=\"_blank\" href=https://colab.research.google.com/notebooks/data_table.ipynb>data table notebook</a>'\n",
              "            + ' to learn more about interactive tables.';\n",
              "          element.innerHTML = '';\n",
              "          dataTable['output_type'] = 'display_data';\n",
              "          await google.colab.output.renderOutput(dataTable, element);\n",
              "          const docLink = document.createElement('div');\n",
              "          docLink.innerHTML = docLinkHtml;\n",
              "          element.appendChild(docLink);\n",
              "        }\n",
              "      </script>\n",
              "    </div>\n",
              "  </div>\n",
              "  "
            ]
          },
          "metadata": {},
          "execution_count": 35
        }
      ]
    },
    {
      "cell_type": "markdown",
      "source": [
        "Lest create the best model & Evaluate"
      ],
      "metadata": {
        "id": "mIMXbJ7QUmDy"
      }
    },
    {
      "cell_type": "code",
      "source": [
        "rfc_random = RandomForestClassifier(**best_params)\n",
        "rfc_random.fit(X_train,y_train)"
      ],
      "metadata": {
        "colab": {
          "base_uri": "https://localhost:8080/"
        },
        "id": "G6yNXaAaUD-_",
        "outputId": "2aaa8b81-1ebe-4a2c-bf6e-ff8750cc4882"
      },
      "execution_count": 41,
      "outputs": [
        {
          "output_type": "execute_result",
          "data": {
            "text/plain": [
              "RandomForestClassifier(max_depth=5, min_samples_split=0.019369243231351176,\n",
              "                       n_estimators=351)"
            ]
          },
          "metadata": {},
          "execution_count": 41
        }
      ]
    },
    {
      "cell_type": "code",
      "source": [
        "from sklearn.metrics import accuracy_score"
      ],
      "metadata": {
        "id": "PuS7UuPcUxzQ"
      },
      "execution_count": 37,
      "outputs": []
    },
    {
      "cell_type": "code",
      "source": [
        "def evaluate_model(model):\n",
        "  print('train accuracy : ',accuracy_score(y_train,model.predict(X_train)))\n",
        "  print('test accuracy : ',accuracy_score(y_test,model.predict(X_test)))"
      ],
      "metadata": {
        "id": "mLVv9WPzU7bp"
      },
      "execution_count": 39,
      "outputs": []
    },
    {
      "cell_type": "code",
      "source": [
        "evaluate_model(rfc_random)"
      ],
      "metadata": {
        "colab": {
          "base_uri": "https://localhost:8080/"
        },
        "id": "-kclbDlPVPTg",
        "outputId": "8381b73f-2b3f-4d5a-e770-b82d14ec2772"
      },
      "execution_count": 42,
      "outputs": [
        {
          "output_type": "stream",
          "name": "stdout",
          "text": [
            "train accuracy :  0.9949748743718593\n",
            "test accuracy :  0.9766081871345029\n"
          ]
        }
      ]
    },
    {
      "cell_type": "markdown",
      "source": [
        "**TPE Search**"
      ],
      "metadata": {
        "id": "wRwH_zyRVh2G"
      }
    },
    {
      "cell_type": "code",
      "source": [
        "study_tpe = optuna.create_study(direction = 'maximize',\n",
        "                                sampler = optuna.samplers.TPESampler()) # TPE sampling search method"
      ],
      "metadata": {
        "colab": {
          "base_uri": "https://localhost:8080/"
        },
        "id": "biyL7t_TVThy",
        "outputId": "827e67e1-dc1e-4e5d-f9fb-5348dbf38faf"
      },
      "execution_count": 48,
      "outputs": [
        {
          "output_type": "stream",
          "name": "stderr",
          "text": [
            "\u001b[32m[I 2023-01-04 06:03:32,016]\u001b[0m A new study created in memory with name: no-name-15b9a4e6-288c-468b-ac50-1373388d9473\u001b[0m\n"
          ]
        }
      ]
    },
    {
      "cell_type": "code",
      "source": [
        "study_tpe.optimize(func = objective,\n",
        "               n_trials = 50, \n",
        "               n_jobs =-1,\n",
        "               show_progress_bar = True)"
      ],
      "metadata": {
        "colab": {
          "base_uri": "https://localhost:8080/",
          "height": 937,
          "referenced_widgets": [
            "56dc6dc9e62d47ad916e7422276796b1",
            "551e31c527f44b67b4a9d45d5f4595dd",
            "a1fa9afcdba24585b455490f2f803b3a",
            "227697f449e14608bb39b65e2b148f24",
            "61617934271b4e93a359e014c9fafcd4",
            "13905d420b564bd9875bb5ce85b49f3f",
            "0a39023743ae4641a9ab43aee2b6dbef",
            "b04c39d69b3642e79a032a1f6f5a1279",
            "71c106212b3c46dd87ce0f668ba6f1d3",
            "4b5793282e574b47a2bd3e5909834c6c",
            "78c75c47d3834a0ab098832e8e754bf5"
          ]
        },
        "id": "ZD7K1OtPVk-d",
        "outputId": "1e55c1b1-af0b-46a5-9d7e-3d4ce00eb83c"
      },
      "execution_count": 49,
      "outputs": [
        {
          "output_type": "display_data",
          "data": {
            "text/plain": [
              "  0%|          | 0/50 [00:00<?, ?it/s]"
            ],
            "application/vnd.jupyter.widget-view+json": {
              "version_major": 2,
              "version_minor": 0,
              "model_id": "56dc6dc9e62d47ad916e7422276796b1"
            }
          },
          "metadata": {}
        },
        {
          "output_type": "stream",
          "name": "stdout",
          "text": [
            "\u001b[32m[I 2023-01-04 06:03:42,737]\u001b[0m Trial 0 finished with value: 0.914493670886076 and parameters: {'n_estimators': 271, 'criterion': 'entropy', 'max_depth': 1, 'min_samples_split': 0.38870229308531834}. Best is trial 0 with value: 0.914493670886076.\u001b[0m\n",
            "\u001b[32m[I 2023-01-04 06:03:44,284]\u001b[0m Trial 1 finished with value: 0.9447151898734176 and parameters: {'n_estimators': 699, 'criterion': 'gini', 'max_depth': 4, 'min_samples_split': 0.14503613524666742}. Best is trial 1 with value: 0.9447151898734176.\u001b[0m\n",
            "\u001b[32m[I 2023-01-04 06:03:45,945]\u001b[0m Trial 2 finished with value: 0.9145569620253164 and parameters: {'n_estimators': 269, 'criterion': 'entropy', 'max_depth': 1, 'min_samples_split': 0.41461179206540094}. Best is trial 1 with value: 0.9447151898734176.\u001b[0m\n",
            "\u001b[32m[I 2023-01-04 06:03:46,751]\u001b[0m Trial 3 finished with value: 0.911993670886076 and parameters: {'n_estimators': 144, 'criterion': 'gini', 'max_depth': 1, 'min_samples_split': 0.4679297019422337}. Best is trial 1 with value: 0.9447151898734176.\u001b[0m\n",
            "\u001b[32m[I 2023-01-04 06:03:53,541]\u001b[0m Trial 4 finished with value: 0.6281645569620252 and parameters: {'n_estimators': 536, 'criterion': 'gini', 'max_depth': 3, 'min_samples_split': 0.9295620779944922}. Best is trial 1 with value: 0.9447151898734176.\u001b[0m\n",
            "\u001b[32m[I 2023-01-04 06:03:54,101]\u001b[0m Trial 5 finished with value: 0.6281645569620252 and parameters: {'n_estimators': 600, 'criterion': 'entropy', 'max_depth': 1, 'min_samples_split': 0.6990787454625392}. Best is trial 1 with value: 0.9447151898734176.\u001b[0m\n",
            "\u001b[32m[I 2023-01-04 06:04:03,005]\u001b[0m Trial 7 finished with value: 0.9346518987341771 and parameters: {'n_estimators': 363, 'criterion': 'entropy', 'max_depth': 4, 'min_samples_split': 0.3916758281306354}. Best is trial 1 with value: 0.9447151898734176.\u001b[0m\n",
            "\u001b[32m[I 2023-01-04 06:04:04,174]\u001b[0m Trial 6 finished with value: 0.9346835443037975 and parameters: {'n_estimators': 898, 'criterion': 'entropy', 'max_depth': 4, 'min_samples_split': 0.39319188806820166}. Best is trial 1 with value: 0.9447151898734176.\u001b[0m\n",
            "\u001b[32m[I 2023-01-04 06:04:12,097]\u001b[0m Trial 8 finished with value: 0.9170253164556963 and parameters: {'n_estimators': 718, 'criterion': 'gini', 'max_depth': 1, 'min_samples_split': 0.5811016578574587}. Best is trial 1 with value: 0.9447151898734176.\u001b[0m\n",
            "\u001b[32m[I 2023-01-04 06:04:12,737]\u001b[0m Trial 9 finished with value: 0.9170253164556963 and parameters: {'n_estimators': 581, 'criterion': 'gini', 'max_depth': 1, 'min_samples_split': 0.47962154293714454}. Best is trial 1 with value: 0.9447151898734176.\u001b[0m\n",
            "\u001b[32m[I 2023-01-04 06:04:23,783]\u001b[0m Trial 10 finished with value: 0.9296518987341773 and parameters: {'n_estimators': 578, 'criterion': 'entropy', 'max_depth': 5, 'min_samples_split': 0.3172090674027015}. Best is trial 1 with value: 0.9447151898734176.\u001b[0m\n",
            "\u001b[32m[I 2023-01-04 06:04:25,326]\u001b[0m Trial 11 finished with value: 0.9472468354430379 and parameters: {'n_estimators': 956, 'criterion': 'gini', 'max_depth': 5, 'min_samples_split': 0.04355978784794559}. Best is trial 11 with value: 0.9472468354430379.\u001b[0m\n",
            "\u001b[32m[I 2023-01-04 06:04:38,837]\u001b[0m Trial 12 finished with value: 0.9422151898734177 and parameters: {'n_estimators': 979, 'criterion': 'gini', 'max_depth': 3, 'min_samples_split': 0.013046147928737262}. Best is trial 11 with value: 0.9472468354430379.\u001b[0m\n",
            "\u001b[32m[I 2023-01-04 06:04:40,480]\u001b[0m Trial 13 finished with value: 0.9472151898734177 and parameters: {'n_estimators': 976, 'criterion': 'gini', 'max_depth': 5, 'min_samples_split': 0.011935432124998327}. Best is trial 11 with value: 0.9472468354430379.\u001b[0m\n",
            "\u001b[32m[I 2023-01-04 06:04:54,264]\u001b[0m Trial 14 finished with value: 0.9472468354430379 and parameters: {'n_estimators': 818, 'criterion': 'gini', 'max_depth': 5, 'min_samples_split': 0.028377728856263003}. Best is trial 11 with value: 0.9472468354430379.\u001b[0m\n",
            "\u001b[32m[I 2023-01-04 06:04:55,712]\u001b[0m Trial 15 finished with value: 0.9522468354430378 and parameters: {'n_estimators': 843, 'criterion': 'gini', 'max_depth': 5, 'min_samples_split': 0.02616555617747296}. Best is trial 15 with value: 0.9522468354430378.\u001b[0m\n",
            "\u001b[32m[I 2023-01-04 06:05:07,161]\u001b[0m Trial 16 finished with value: 0.9497784810126582 and parameters: {'n_estimators': 829, 'criterion': 'gini', 'max_depth': 5, 'min_samples_split': 0.1938165608584573}. Best is trial 15 with value: 0.9522468354430378.\u001b[0m\n",
            "\u001b[32m[I 2023-01-04 06:05:08,502]\u001b[0m Trial 17 finished with value: 0.9396835443037975 and parameters: {'n_estimators': 817, 'criterion': 'gini', 'max_depth': 4, 'min_samples_split': 0.2100529838473179}. Best is trial 15 with value: 0.9522468354430378.\u001b[0m\n",
            "\u001b[32m[I 2023-01-04 06:05:19,244]\u001b[0m Trial 18 finished with value: 0.9447468354430381 and parameters: {'n_estimators': 842, 'criterion': 'gini', 'max_depth': 2, 'min_samples_split': 0.20492127011069494}. Best is trial 15 with value: 0.9522468354430378.\u001b[0m\n",
            "\u001b[32m[I 2023-01-04 06:05:20,232]\u001b[0m Trial 19 finished with value: 0.9371518987341773 and parameters: {'n_estimators': 797, 'criterion': 'gini', 'max_depth': 2, 'min_samples_split': 0.14473067275905288}. Best is trial 15 with value: 0.9522468354430378.\u001b[0m\n",
            "\u001b[32m[I 2023-01-04 06:05:30,909]\u001b[0m Trial 20 finished with value: 0.9422151898734177 and parameters: {'n_estimators': 718, 'criterion': 'gini', 'max_depth': 5, 'min_samples_split': 0.14616845539947682}. Best is trial 15 with value: 0.9522468354430378.\u001b[0m\n",
            "\u001b[32m[I 2023-01-04 06:05:32,691]\u001b[0m Trial 21 finished with value: 0.9371835443037974 and parameters: {'n_estimators': 691, 'criterion': 'gini', 'max_depth': 5, 'min_samples_split': 0.24927876348356962}. Best is trial 15 with value: 0.9522468354430378.\u001b[0m\n",
            "\u001b[32m[I 2023-01-04 06:05:46,727]\u001b[0m Trial 22 finished with value: 0.9346835443037975 and parameters: {'n_estimators': 769, 'criterion': 'gini', 'max_depth': 5, 'min_samples_split': 0.2868228241073417}. Best is trial 15 with value: 0.9522468354430378.\u001b[0m\n",
            "\u001b[32m[I 2023-01-04 06:05:48,213]\u001b[0m Trial 23 finished with value: 0.9447151898734176 and parameters: {'n_estimators': 869, 'criterion': 'gini', 'max_depth': 4, 'min_samples_split': 0.09102605246954104}. Best is trial 15 with value: 0.9522468354430378.\u001b[0m\n",
            "\u001b[32m[I 2023-01-04 06:06:01,102]\u001b[0m Trial 24 finished with value: 0.9472468354430379 and parameters: {'n_estimators': 897, 'criterion': 'gini', 'max_depth': 4, 'min_samples_split': 0.10256502029362602}. Best is trial 15 with value: 0.9522468354430378.\u001b[0m\n",
            "\u001b[32m[I 2023-01-04 06:06:02,391]\u001b[0m Trial 25 finished with value: 0.944746835443038 and parameters: {'n_estimators': 942, 'criterion': 'gini', 'max_depth': 3, 'min_samples_split': 0.11610638409040186}. Best is trial 15 with value: 0.9522468354430378.\u001b[0m\n",
            "\u001b[32m[I 2023-01-04 06:06:09,039]\u001b[0m Trial 26 finished with value: 0.9422151898734177 and parameters: {'n_estimators': 489, 'criterion': 'gini', 'max_depth': 3, 'min_samples_split': 0.13950010198836557}. Best is trial 15 with value: 0.9522468354430378.\u001b[0m\n",
            "\u001b[32m[I 2023-01-04 06:06:10,418]\u001b[0m Trial 27 finished with value: 0.9220886075949368 and parameters: {'n_estimators': 639, 'criterion': 'gini', 'max_depth': 5, 'min_samples_split': 0.5699395614775411}. Best is trial 15 with value: 0.9522468354430378.\u001b[0m\n",
            "\u001b[32m[I 2023-01-04 06:06:18,424]\u001b[0m Trial 28 finished with value: 0.9195253164556961 and parameters: {'n_estimators': 638, 'criterion': 'gini', 'max_depth': 4, 'min_samples_split': 0.6185819386850138}. Best is trial 15 with value: 0.9522468354430378.\u001b[0m\n",
            "\u001b[32m[I 2023-01-04 06:06:20,206]\u001b[0m Trial 29 finished with value: 0.6281645569620252 and parameters: {'n_estimators': 890, 'criterion': 'gini', 'max_depth': 4, 'min_samples_split': 0.8870823675566231}. Best is trial 15 with value: 0.9522468354430378.\u001b[0m\n",
            "\u001b[32m[I 2023-01-04 06:06:23,156]\u001b[0m Trial 30 finished with value: 0.9296518987341773 and parameters: {'n_estimators': 450, 'criterion': 'entropy', 'max_depth': 5, 'min_samples_split': 0.3188926919614766}. Best is trial 15 with value: 0.9522468354430378.\u001b[0m\n",
            "\u001b[32m[I 2023-01-04 06:06:31,546]\u001b[0m Trial 31 finished with value: 0.9347151898734178 and parameters: {'n_estimators': 424, 'criterion': 'entropy', 'max_depth': 5, 'min_samples_split': 0.3185524800044506}. Best is trial 15 with value: 0.9522468354430378.\u001b[0m\n",
            "\u001b[32m[I 2023-01-04 06:06:32,672]\u001b[0m Trial 32 finished with value: 0.944746835443038 and parameters: {'n_estimators': 761, 'criterion': 'gini', 'max_depth': 5, 'min_samples_split': 0.0697053568068377}. Best is trial 15 with value: 0.9522468354430378.\u001b[0m\n",
            "\u001b[32m[I 2023-01-04 06:06:45,047]\u001b[0m Trial 33 finished with value: 0.9447151898734176 and parameters: {'n_estimators': 923, 'criterion': 'gini', 'max_depth': 4, 'min_samples_split': 0.05118186210055109}. Best is trial 15 with value: 0.9522468354430378.\u001b[0m\n",
            "\u001b[32m[I 2023-01-04 06:06:45,961]\u001b[0m Trial 34 finished with value: 0.9472468354430379 and parameters: {'n_estimators': 917, 'criterion': 'gini', 'max_depth': 4, 'min_samples_split': 0.20501947738832518}. Best is trial 15 with value: 0.9522468354430378.\u001b[0m\n",
            "\u001b[32m[I 2023-01-04 06:06:58,221]\u001b[0m Trial 35 finished with value: 0.9472468354430379 and parameters: {'n_estimators': 843, 'criterion': 'gini', 'max_depth': 4, 'min_samples_split': 0.2032498617971646}. Best is trial 15 with value: 0.9522468354430378.\u001b[0m\n",
            "\u001b[32m[I 2023-01-04 06:06:59,521]\u001b[0m Trial 36 finished with value: 0.9497784810126582 and parameters: {'n_estimators': 992, 'criterion': 'gini', 'max_depth': 4, 'min_samples_split': 0.19942981212489824}. Best is trial 15 with value: 0.9522468354430378.\u001b[0m\n",
            "\u001b[32m[I 2023-01-04 06:07:12,521]\u001b[0m Trial 37 finished with value: 0.9447151898734176 and parameters: {'n_estimators': 978, 'criterion': 'gini', 'max_depth': 5, 'min_samples_split': 0.04470844711893207}. Best is trial 15 with value: 0.9522468354430378.\u001b[0m\n",
            "\u001b[32m[I 2023-01-04 06:07:13,674]\u001b[0m Trial 38 finished with value: 0.9371835443037974 and parameters: {'n_estimators': 1000, 'criterion': 'gini', 'max_depth': 3, 'min_samples_split': 0.2571189814554401}. Best is trial 15 with value: 0.9522468354430378.\u001b[0m\n",
            "\u001b[32m[I 2023-01-04 06:07:14,801]\u001b[0m Trial 39 finished with value: 0.9346518987341772 and parameters: {'n_estimators': 191, 'criterion': 'gini', 'max_depth': 3, 'min_samples_split': 0.24322229115267222}. Best is trial 15 with value: 0.9522468354430378.\u001b[0m\n",
            "\u001b[32m[I 2023-01-04 06:07:20,148]\u001b[0m Trial 40 finished with value: 0.6281645569620252 and parameters: {'n_estimators': 290, 'criterion': 'entropy', 'max_depth': 4, 'min_samples_split': 0.8289326264198367}. Best is trial 15 with value: 0.9522468354430378.\u001b[0m\n",
            "\u001b[32m[I 2023-01-04 06:07:21,907]\u001b[0m Trial 41 finished with value: 0.6281645569620252 and parameters: {'n_estimators': 780, 'criterion': 'entropy', 'max_depth': 5, 'min_samples_split': 0.807680655617591}. Best is trial 15 with value: 0.9522468354430378.\u001b[0m\n",
            "\u001b[32m[I 2023-01-04 06:07:34,671]\u001b[0m Trial 42 finished with value: 0.9422151898734177 and parameters: {'n_estimators': 851, 'criterion': 'gini', 'max_depth': 5, 'min_samples_split': 0.14302985229340676}. Best is trial 15 with value: 0.9522468354430378.\u001b[0m\n",
            "\u001b[32m[I 2023-01-04 06:07:37,211]\u001b[0m Trial 43 finished with value: 0.9422151898734177 and parameters: {'n_estimators': 942, 'criterion': 'gini', 'max_depth': 5, 'min_samples_split': 0.1618386342456702}. Best is trial 15 with value: 0.9522468354430378.\u001b[0m\n",
            "\u001b[32m[I 2023-01-04 06:07:47,320]\u001b[0m Trial 44 finished with value: 0.9371835443037974 and parameters: {'n_estimators': 875, 'criterion': 'gini', 'max_depth': 4, 'min_samples_split': 0.3630355715140772}. Best is trial 15 with value: 0.9522468354430378.\u001b[0m\n",
            "\u001b[32m[I 2023-01-04 06:07:49,588]\u001b[0m Trial 45 finished with value: 0.9422151898734177 and parameters: {'n_estimators': 893, 'criterion': 'gini', 'max_depth': 4, 'min_samples_split': 0.0864960186862304}. Best is trial 15 with value: 0.9522468354430378.\u001b[0m\n",
            "\u001b[32m[I 2023-01-04 06:07:53,944]\u001b[0m Trial 46 finished with value: 0.9472151898734177 and parameters: {'n_estimators': 736, 'criterion': 'gini', 'max_depth': 4, 'min_samples_split': 0.09969308183283013}. Best is trial 15 with value: 0.9522468354430378.\u001b[0m\n",
            "\u001b[32m[I 2023-01-04 06:08:03,950]\u001b[0m Trial 48 finished with value: 0.9321202531645569 and parameters: {'n_estimators': 668, 'criterion': 'gini', 'max_depth': 3, 'min_samples_split': 0.41503847035133146}. Best is trial 15 with value: 0.9522468354430378.\u001b[0m\n",
            "\u001b[32m[I 2023-01-04 06:08:04,543]\u001b[0m Trial 47 finished with value: 0.9497151898734175 and parameters: {'n_estimators': 816, 'criterion': 'gini', 'max_depth': 5, 'min_samples_split': 0.0174830492345244}. Best is trial 15 with value: 0.9522468354430378.\u001b[0m\n",
            "\u001b[32m[I 2023-01-04 06:08:11,331]\u001b[0m Trial 49 finished with value: 0.9346518987341772 and parameters: {'n_estimators': 925, 'criterion': 'gini', 'max_depth': 4, 'min_samples_split': 0.21856445304386032}. Best is trial 15 with value: 0.9522468354430378.\u001b[0m\n"
          ]
        }
      ]
    },
    {
      "cell_type": "code",
      "source": [
        "best_params = study_tpe.best_params\n",
        "best_params"
      ],
      "metadata": {
        "colab": {
          "base_uri": "https://localhost:8080/"
        },
        "id": "XZy1ProLVk8l",
        "outputId": "370d94a2-9abe-4a70-e513-68ce3c6392c8"
      },
      "execution_count": 51,
      "outputs": [
        {
          "output_type": "execute_result",
          "data": {
            "text/plain": [
              "{'n_estimators': 843,\n",
              " 'criterion': 'gini',\n",
              " 'max_depth': 5,\n",
              " 'min_samples_split': 0.02616555617747296}"
            ]
          },
          "metadata": {},
          "execution_count": 51
        }
      ]
    },
    {
      "cell_type": "code",
      "source": [
        "study_tpe.best_value"
      ],
      "metadata": {
        "colab": {
          "base_uri": "https://localhost:8080/"
        },
        "id": "Olai4DhKVk6t",
        "outputId": "fe03ddf3-ef24-4759-e982-df980af89459"
      },
      "execution_count": 52,
      "outputs": [
        {
          "output_type": "execute_result",
          "data": {
            "text/plain": [
              "0.9522468354430378"
            ]
          },
          "metadata": {},
          "execution_count": 52
        }
      ]
    },
    {
      "cell_type": "code",
      "source": [
        "rfc_tpe = RandomForestClassifier(**best_params)"
      ],
      "metadata": {
        "id": "bwzCXLydVk4S"
      },
      "execution_count": 53,
      "outputs": []
    },
    {
      "cell_type": "code",
      "source": [
        "rfc_tpe.fit(X_train, y_train)"
      ],
      "metadata": {
        "colab": {
          "base_uri": "https://localhost:8080/"
        },
        "id": "jjgDTqZzVk2V",
        "outputId": "edc0ddbc-8491-4a86-c109-0429fdd93fc3"
      },
      "execution_count": 54,
      "outputs": [
        {
          "output_type": "execute_result",
          "data": {
            "text/plain": [
              "RandomForestClassifier(max_depth=5, min_samples_split=0.02616555617747296,\n",
              "                       n_estimators=843)"
            ]
          },
          "metadata": {},
          "execution_count": 54
        }
      ]
    },
    {
      "cell_type": "code",
      "source": [
        "evaluate_model(rfc_tpe)"
      ],
      "metadata": {
        "colab": {
          "base_uri": "https://localhost:8080/"
        },
        "id": "caU35Fz0Vkz3",
        "outputId": "29f3df45-7faf-403b-bdf9-6fcf3b345832"
      },
      "execution_count": 55,
      "outputs": [
        {
          "output_type": "stream",
          "name": "stdout",
          "text": [
            "train accuracy :  0.992462311557789\n",
            "test accuracy :  0.9707602339181286\n"
          ]
        }
      ]
    },
    {
      "cell_type": "markdown",
      "source": [
        "**CMA-ES Search**"
      ],
      "metadata": {
        "id": "D--HB34aZ-5i"
      }
    },
    {
      "cell_type": "code",
      "source": [
        "study_cmes = optuna.create_study(direction = 'maximize',\n",
        "                                 sampler = optuna.samplers.CmaEsSampler()) # CM ES Sampler"
      ],
      "metadata": {
        "colab": {
          "base_uri": "https://localhost:8080/"
        },
        "id": "ojZT_omEVkxe",
        "outputId": "fdf28ac6-22f3-4223-8607-ac5dcfdd8c06"
      },
      "execution_count": 58,
      "outputs": [
        {
          "output_type": "stream",
          "name": "stderr",
          "text": [
            "\u001b[32m[I 2023-01-04 06:14:22,341]\u001b[0m A new study created in memory with name: no-name-897da36c-4408-4e54-8777-5c343eb8f1e7\u001b[0m\n"
          ]
        }
      ]
    },
    {
      "cell_type": "code",
      "source": [
        "study_cmes.optimize(func = objective,\n",
        "                    n_trials = 50,\n",
        "                    n_jobs = -1,\n",
        "                    show_progress_bar = True)"
      ],
      "metadata": {
        "colab": {
          "base_uri": "https://localhost:8080/",
          "height": 1000,
          "referenced_widgets": [
            "cb45c7e8bf62478eb01133e98ef9c881",
            "93931e253cb54a22a02298d7117f94b4",
            "09d5cc6f7d65423da1e74837430ba45c",
            "e1ed796f012249699ad885ba5086fec5",
            "aedae47d7504496d86266f8e71710f65",
            "76caa5d6c7904904baed152a494bea3b",
            "baf5df0d90734314806133e91a382c56",
            "1ca2d479c6ad4130a1eec9d807dd7268",
            "846782a415a042a8ae5ac5b4fdfc7959",
            "592cc50713044b339473db3a2c62d0e2",
            "9224e5c5856e4b82b1dab602820cc1df"
          ]
        },
        "id": "4I1hS9gdaWOy",
        "outputId": "4f5bc08d-f16e-4de7-9523-08bd337e5094"
      },
      "execution_count": 59,
      "outputs": [
        {
          "output_type": "display_data",
          "data": {
            "text/plain": [
              "  0%|          | 0/50 [00:00<?, ?it/s]"
            ],
            "application/vnd.jupyter.widget-view+json": {
              "version_major": 2,
              "version_minor": 0,
              "model_id": "cb45c7e8bf62478eb01133e98ef9c881"
            }
          },
          "metadata": {}
        },
        {
          "output_type": "stream",
          "name": "stdout",
          "text": [
            "\u001b[32m[I 2023-01-04 06:14:36,637]\u001b[0m Trial 0 finished with value: 0.9472468354430379 and parameters: {'n_estimators': 254, 'criterion': 'entropy', 'max_depth': 4, 'min_samples_split': 0.06603350943258746}. Best is trial 0 with value: 0.9472468354430379.\u001b[0m\n",
            "\u001b[33m[W 2023-01-04 06:14:36,677]\u001b[0m The parameter 'criterion' in trial#2 is sampled independently by using `RandomSampler` instead of `CmaEsSampler` (optimization performance may be degraded). `CmaEsSampler` does not support dynamic search space or `CategoricalDistribution`. You can suppress this warning by setting `warn_independent_sampling` to `False` in the constructor of `CmaEsSampler`, if this independent sampling is intended behavior.\u001b[0m\n",
            "\u001b[32m[I 2023-01-04 06:14:38,315]\u001b[0m Trial 1 finished with value: 0.9396835443037975 and parameters: {'n_estimators': 556, 'criterion': 'entropy', 'max_depth': 4, 'min_samples_split': 0.21427267813839582}. Best is trial 0 with value: 0.9472468354430379.\u001b[0m\n",
            "\u001b[33m[W 2023-01-04 06:14:38,333]\u001b[0m The parameter 'criterion' in trial#3 is sampled independently by using `RandomSampler` instead of `CmaEsSampler` (optimization performance may be degraded). `CmaEsSampler` does not support dynamic search space or `CategoricalDistribution`. You can suppress this warning by setting `warn_independent_sampling` to `False` in the constructor of `CmaEsSampler`, if this independent sampling is intended behavior.\u001b[0m\n",
            "\u001b[32m[I 2023-01-04 06:14:46,421]\u001b[0m Trial 2 finished with value: 0.9120253164556962 and parameters: {'n_estimators': 550, 'criterion': 'entropy', 'max_depth': 3, 'min_samples_split': 0.6142618507116546}. Best is trial 0 with value: 0.9472468354430379.\u001b[0m\n",
            "\u001b[33m[W 2023-01-04 06:14:46,437]\u001b[0m The parameter 'criterion' in trial#4 is sampled independently by using `RandomSampler` instead of `CmaEsSampler` (optimization performance may be degraded). `CmaEsSampler` does not support dynamic search space or `CategoricalDistribution`. You can suppress this warning by setting `warn_independent_sampling` to `False` in the constructor of `CmaEsSampler`, if this independent sampling is intended behavior.\u001b[0m\n",
            "\u001b[32m[I 2023-01-04 06:14:49,035]\u001b[0m Trial 3 finished with value: 0.9346835443037975 and parameters: {'n_estimators': 550, 'criterion': 'gini', 'max_depth': 3, 'min_samples_split': 0.2828525540497337}. Best is trial 0 with value: 0.9472468354430379.\u001b[0m\n",
            "\u001b[33m[W 2023-01-04 06:14:49,051]\u001b[0m The parameter 'criterion' in trial#5 is sampled independently by using `RandomSampler` instead of `CmaEsSampler` (optimization performance may be degraded). `CmaEsSampler` does not support dynamic search space or `CategoricalDistribution`. You can suppress this warning by setting `warn_independent_sampling` to `False` in the constructor of `CmaEsSampler`, if this independent sampling is intended behavior.\u001b[0m\n",
            "\u001b[32m[I 2023-01-04 06:14:56,524]\u001b[0m Trial 4 finished with value: 0.9372151898734178 and parameters: {'n_estimators': 550, 'criterion': 'gini', 'max_depth': 3, 'min_samples_split': 0.388874608108842}. Best is trial 0 with value: 0.9472468354430379.\u001b[0m\n",
            "\u001b[33m[W 2023-01-04 06:14:56,559]\u001b[0m The parameter 'criterion' in trial#6 is sampled independently by using `RandomSampler` instead of `CmaEsSampler` (optimization performance may be degraded). `CmaEsSampler` does not support dynamic search space or `CategoricalDistribution`. You can suppress this warning by setting `warn_independent_sampling` to `False` in the constructor of `CmaEsSampler`, if this independent sampling is intended behavior.\u001b[0m\n",
            "\u001b[32m[I 2023-01-04 06:14:57,751]\u001b[0m Trial 5 finished with value: 0.914493670886076 and parameters: {'n_estimators': 550, 'criterion': 'gini', 'max_depth': 3, 'min_samples_split': 0.5530377245296311}. Best is trial 0 with value: 0.9472468354430379.\u001b[0m\n",
            "\u001b[33m[W 2023-01-04 06:14:57,769]\u001b[0m The parameter 'criterion' in trial#7 is sampled independently by using `RandomSampler` instead of `CmaEsSampler` (optimization performance may be degraded). `CmaEsSampler` does not support dynamic search space or `CategoricalDistribution`. You can suppress this warning by setting `warn_independent_sampling` to `False` in the constructor of `CmaEsSampler`, if this independent sampling is intended behavior.\u001b[0m\n",
            "\u001b[32m[I 2023-01-04 06:15:03,988]\u001b[0m Trial 6 finished with value: 0.9371835443037974 and parameters: {'n_estimators': 550, 'criterion': 'gini', 'max_depth': 3, 'min_samples_split': 0.24857913582237562}. Best is trial 0 with value: 0.9472468354430379.\u001b[0m\n",
            "\u001b[33m[W 2023-01-04 06:15:04,005]\u001b[0m The parameter 'criterion' in trial#8 is sampled independently by using `RandomSampler` instead of `CmaEsSampler` (optimization performance may be degraded). `CmaEsSampler` does not support dynamic search space or `CategoricalDistribution`. You can suppress this warning by setting `warn_independent_sampling` to `False` in the constructor of `CmaEsSampler`, if this independent sampling is intended behavior.\u001b[0m\n",
            "\u001b[32m[I 2023-01-04 06:15:05,594]\u001b[0m Trial 7 finished with value: 0.9371835443037974 and parameters: {'n_estimators': 550, 'criterion': 'entropy', 'max_depth': 3, 'min_samples_split': 0.23649303691435092}. Best is trial 0 with value: 0.9472468354430379.\u001b[0m\n",
            "\u001b[33m[W 2023-01-04 06:15:05,604]\u001b[0m The parameter 'criterion' in trial#9 is sampled independently by using `RandomSampler` instead of `CmaEsSampler` (optimization performance may be degraded). `CmaEsSampler` does not support dynamic search space or `CategoricalDistribution`. You can suppress this warning by setting `warn_independent_sampling` to `False` in the constructor of `CmaEsSampler`, if this independent sampling is intended behavior.\u001b[0m\n",
            "\u001b[32m[I 2023-01-04 06:15:08,196]\u001b[0m Trial 8 finished with value: 0.9095253164556961 and parameters: {'n_estimators': 550, 'criterion': 'gini', 'max_depth': 3, 'min_samples_split': 0.5958437844659858}. Best is trial 0 with value: 0.9472468354430379.\u001b[0m\n",
            "\u001b[33m[W 2023-01-04 06:15:08,211]\u001b[0m The parameter 'criterion' in trial#10 is sampled independently by using `RandomSampler` instead of `CmaEsSampler` (optimization performance may be degraded). `CmaEsSampler` does not support dynamic search space or `CategoricalDistribution`. You can suppress this warning by setting `warn_independent_sampling` to `False` in the constructor of `CmaEsSampler`, if this independent sampling is intended behavior.\u001b[0m\n",
            "\u001b[32m[I 2023-01-04 06:15:15,381]\u001b[0m Trial 9 finished with value: 0.9170569620253165 and parameters: {'n_estimators': 550, 'criterion': 'gini', 'max_depth': 3, 'min_samples_split': 0.5350851530737132}. Best is trial 0 with value: 0.9472468354430379.\u001b[0m\n",
            "\u001b[33m[W 2023-01-04 06:15:15,412]\u001b[0m The parameter 'criterion' in trial#11 is sampled independently by using `RandomSampler` instead of `CmaEsSampler` (optimization performance may be degraded). `CmaEsSampler` does not support dynamic search space or `CategoricalDistribution`. You can suppress this warning by setting `warn_independent_sampling` to `False` in the constructor of `CmaEsSampler`, if this independent sampling is intended behavior.\u001b[0m\n",
            "\u001b[32m[I 2023-01-04 06:15:15,826]\u001b[0m Trial 10 finished with value: 0.944746835443038 and parameters: {'n_estimators': 550, 'criterion': 'entropy', 'max_depth': 3, 'min_samples_split': 0.16315876602200496}. Best is trial 0 with value: 0.9472468354430379.\u001b[0m\n",
            "\u001b[33m[W 2023-01-04 06:15:15,840]\u001b[0m The parameter 'criterion' in trial#12 is sampled independently by using `RandomSampler` instead of `CmaEsSampler` (optimization performance may be degraded). `CmaEsSampler` does not support dynamic search space or `CategoricalDistribution`. You can suppress this warning by setting `warn_independent_sampling` to `False` in the constructor of `CmaEsSampler`, if this independent sampling is intended behavior.\u001b[0m\n",
            "\u001b[32m[I 2023-01-04 06:15:23,037]\u001b[0m Trial 11 finished with value: 0.9472784810126582 and parameters: {'n_estimators': 550, 'criterion': 'entropy', 'max_depth': 3, 'min_samples_split': 0.19277611687312313}. Best is trial 11 with value: 0.9472784810126582.\u001b[0m\n",
            "\u001b[33m[W 2023-01-04 06:15:23,054]\u001b[0m The parameter 'criterion' in trial#13 is sampled independently by using `RandomSampler` instead of `CmaEsSampler` (optimization performance may be degraded). `CmaEsSampler` does not support dynamic search space or `CategoricalDistribution`. You can suppress this warning by setting `warn_independent_sampling` to `False` in the constructor of `CmaEsSampler`, if this independent sampling is intended behavior.\u001b[0m\n",
            "\u001b[32m[I 2023-01-04 06:15:23,099]\u001b[0m Trial 12 finished with value: 0.914493670886076 and parameters: {'n_estimators': 550, 'criterion': 'gini', 'max_depth': 3, 'min_samples_split': 0.5782987220442646}. Best is trial 11 with value: 0.9472784810126582.\u001b[0m\n",
            "\u001b[33m[W 2023-01-04 06:15:23,105]\u001b[0m The parameter 'criterion' in trial#14 is sampled independently by using `RandomSampler` instead of `CmaEsSampler` (optimization performance may be degraded). `CmaEsSampler` does not support dynamic search space or `CategoricalDistribution`. You can suppress this warning by setting `warn_independent_sampling` to `False` in the constructor of `CmaEsSampler`, if this independent sampling is intended behavior.\u001b[0m\n",
            "\u001b[32m[I 2023-01-04 06:15:30,120]\u001b[0m Trial 13 finished with value: 0.9220886075949368 and parameters: {'n_estimators': 550, 'criterion': 'entropy', 'max_depth': 3, 'min_samples_split': 0.46265823062879063}. Best is trial 11 with value: 0.9472784810126582.\u001b[0m\n",
            "\u001b[32m[I 2023-01-04 06:15:30,131]\u001b[0m Trial 14 finished with value: 0.9371835443037974 and parameters: {'n_estimators': 550, 'criterion': 'gini', 'max_depth': 3, 'min_samples_split': 0.3640796101935395}. Best is trial 11 with value: 0.9472784810126582.\u001b[0m\n",
            "\u001b[33m[W 2023-01-04 06:15:30,136]\u001b[0m The parameter 'criterion' in trial#16 is sampled independently by using `RandomSampler` instead of `CmaEsSampler` (optimization performance may be degraded). `CmaEsSampler` does not support dynamic search space or `CategoricalDistribution`. You can suppress this warning by setting `warn_independent_sampling` to `False` in the constructor of `CmaEsSampler`, if this independent sampling is intended behavior.\u001b[0m\n",
            "\u001b[33m[W 2023-01-04 06:15:30,146]\u001b[0m The parameter 'criterion' in trial#15 is sampled independently by using `RandomSampler` instead of `CmaEsSampler` (optimization performance may be degraded). `CmaEsSampler` does not support dynamic search space or `CategoricalDistribution`. You can suppress this warning by setting `warn_independent_sampling` to `False` in the constructor of `CmaEsSampler`, if this independent sampling is intended behavior.\u001b[0m\n",
            "\u001b[32m[I 2023-01-04 06:15:37,125]\u001b[0m Trial 16 finished with value: 0.9346835443037975 and parameters: {'n_estimators': 550, 'criterion': 'gini', 'max_depth': 3, 'min_samples_split': 0.33916555032241924}. Best is trial 11 with value: 0.9472784810126582.\u001b[0m\n",
            "\u001b[33m[W 2023-01-04 06:15:37,137]\u001b[0m The parameter 'criterion' in trial#17 is sampled independently by using `RandomSampler` instead of `CmaEsSampler` (optimization performance may be degraded). `CmaEsSampler` does not support dynamic search space or `CategoricalDistribution`. You can suppress this warning by setting `warn_independent_sampling` to `False` in the constructor of `CmaEsSampler`, if this independent sampling is intended behavior.\u001b[0m\n",
            "\u001b[32m[I 2023-01-04 06:15:37,270]\u001b[0m Trial 15 finished with value: 0.9346518987341772 and parameters: {'n_estimators': 550, 'criterion': 'gini', 'max_depth': 3, 'min_samples_split': 0.24090949773459736}. Best is trial 11 with value: 0.9472784810126582.\u001b[0m\n",
            "\u001b[33m[W 2023-01-04 06:15:37,287]\u001b[0m The parameter 'criterion' in trial#18 is sampled independently by using `RandomSampler` instead of `CmaEsSampler` (optimization performance may be degraded). `CmaEsSampler` does not support dynamic search space or `CategoricalDistribution`. You can suppress this warning by setting `warn_independent_sampling` to `False` in the constructor of `CmaEsSampler`, if this independent sampling is intended behavior.\u001b[0m\n",
            "\u001b[32m[I 2023-01-04 06:15:44,354]\u001b[0m Trial 17 finished with value: 0.914493670886076 and parameters: {'n_estimators': 550, 'criterion': 'entropy', 'max_depth': 3, 'min_samples_split': 0.45730010075399286}. Best is trial 11 with value: 0.9472784810126582.\u001b[0m\n",
            "\u001b[33m[W 2023-01-04 06:15:44,368]\u001b[0m The parameter 'criterion' in trial#19 is sampled independently by using `RandomSampler` instead of `CmaEsSampler` (optimization performance may be degraded). `CmaEsSampler` does not support dynamic search space or `CategoricalDistribution`. You can suppress this warning by setting `warn_independent_sampling` to `False` in the constructor of `CmaEsSampler`, if this independent sampling is intended behavior.\u001b[0m\n",
            "\u001b[32m[I 2023-01-04 06:15:44,681]\u001b[0m Trial 18 finished with value: 0.9321518987341773 and parameters: {'n_estimators': 550, 'criterion': 'entropy', 'max_depth': 3, 'min_samples_split': 0.3654361570066993}. Best is trial 11 with value: 0.9472784810126582.\u001b[0m\n",
            "\u001b[33m[W 2023-01-04 06:15:44,704]\u001b[0m The parameter 'criterion' in trial#20 is sampled independently by using `RandomSampler` instead of `CmaEsSampler` (optimization performance may be degraded). `CmaEsSampler` does not support dynamic search space or `CategoricalDistribution`. You can suppress this warning by setting `warn_independent_sampling` to `False` in the constructor of `CmaEsSampler`, if this independent sampling is intended behavior.\u001b[0m\n",
            "\u001b[32m[I 2023-01-04 06:15:51,956]\u001b[0m Trial 19 finished with value: 0.944746835443038 and parameters: {'n_estimators': 550, 'criterion': 'gini', 'max_depth': 3, 'min_samples_split': 0.02800163063633604}. Best is trial 11 with value: 0.9472784810126582.\u001b[0m\n",
            "\u001b[33m[W 2023-01-04 06:15:51,976]\u001b[0m The parameter 'criterion' in trial#21 is sampled independently by using `RandomSampler` instead of `CmaEsSampler` (optimization performance may be degraded). `CmaEsSampler` does not support dynamic search space or `CategoricalDistribution`. You can suppress this warning by setting `warn_independent_sampling` to `False` in the constructor of `CmaEsSampler`, if this independent sampling is intended behavior.\u001b[0m\n",
            "\u001b[32m[I 2023-01-04 06:15:52,465]\u001b[0m Trial 20 finished with value: 0.9397151898734176 and parameters: {'n_estimators': 550, 'criterion': 'entropy', 'max_depth': 3, 'min_samples_split': 0.21230147368894717}. Best is trial 11 with value: 0.9472784810126582.\u001b[0m\n",
            "\u001b[33m[W 2023-01-04 06:15:52,487]\u001b[0m The parameter 'criterion' in trial#22 is sampled independently by using `RandomSampler` instead of `CmaEsSampler` (optimization performance may be degraded). `CmaEsSampler` does not support dynamic search space or `CategoricalDistribution`. You can suppress this warning by setting `warn_independent_sampling` to `False` in the constructor of `CmaEsSampler`, if this independent sampling is intended behavior.\u001b[0m\n",
            "\u001b[32m[I 2023-01-04 06:16:00,091]\u001b[0m Trial 21 finished with value: 0.944746835443038 and parameters: {'n_estimators': 550, 'criterion': 'entropy', 'max_depth': 3, 'min_samples_split': 0.16765073560213944}. Best is trial 11 with value: 0.9472784810126582.\u001b[0m\n",
            "\u001b[33m[W 2023-01-04 06:16:00,111]\u001b[0m The parameter 'criterion' in trial#23 is sampled independently by using `RandomSampler` instead of `CmaEsSampler` (optimization performance may be degraded). `CmaEsSampler` does not support dynamic search space or `CategoricalDistribution`. You can suppress this warning by setting `warn_independent_sampling` to `False` in the constructor of `CmaEsSampler`, if this independent sampling is intended behavior.\u001b[0m\n",
            "\u001b[32m[I 2023-01-04 06:16:00,631]\u001b[0m Trial 22 finished with value: 0.9397151898734176 and parameters: {'n_estimators': 550, 'criterion': 'entropy', 'max_depth': 3, 'min_samples_split': 0.2394172126025625}. Best is trial 11 with value: 0.9472784810126582.\u001b[0m\n",
            "\u001b[33m[W 2023-01-04 06:16:00,639]\u001b[0m The parameter 'criterion' in trial#24 is sampled independently by using `RandomSampler` instead of `CmaEsSampler` (optimization performance may be degraded). `CmaEsSampler` does not support dynamic search space or `CategoricalDistribution`. You can suppress this warning by setting `warn_independent_sampling` to `False` in the constructor of `CmaEsSampler`, if this independent sampling is intended behavior.\u001b[0m\n",
            "\u001b[32m[I 2023-01-04 06:16:08,329]\u001b[0m Trial 23 finished with value: 0.9472151898734177 and parameters: {'n_estimators': 550, 'criterion': 'entropy', 'max_depth': 3, 'min_samples_split': 0.16890004688627214}. Best is trial 11 with value: 0.9472784810126582.\u001b[0m\n",
            "\u001b[33m[W 2023-01-04 06:16:08,344]\u001b[0m The parameter 'criterion' in trial#25 is sampled independently by using `RandomSampler` instead of `CmaEsSampler` (optimization performance may be degraded). `CmaEsSampler` does not support dynamic search space or `CategoricalDistribution`. You can suppress this warning by setting `warn_independent_sampling` to `False` in the constructor of `CmaEsSampler`, if this independent sampling is intended behavior.\u001b[0m\n",
            "\u001b[32m[I 2023-01-04 06:16:08,954]\u001b[0m Trial 24 finished with value: 0.9472468354430379 and parameters: {'n_estimators': 550, 'criterion': 'entropy', 'max_depth': 3, 'min_samples_split': 0.07459570976647589}. Best is trial 11 with value: 0.9472784810126582.\u001b[0m\n",
            "\u001b[33m[W 2023-01-04 06:16:08,975]\u001b[0m The parameter 'criterion' in trial#26 is sampled independently by using `RandomSampler` instead of `CmaEsSampler` (optimization performance may be degraded). `CmaEsSampler` does not support dynamic search space or `CategoricalDistribution`. You can suppress this warning by setting `warn_independent_sampling` to `False` in the constructor of `CmaEsSampler`, if this independent sampling is intended behavior.\u001b[0m\n",
            "\u001b[32m[I 2023-01-04 06:16:15,673]\u001b[0m Trial 25 finished with value: 0.9396835443037975 and parameters: {'n_estimators': 550, 'criterion': 'gini', 'max_depth': 3, 'min_samples_split': 0.16180487211252703}. Best is trial 11 with value: 0.9472784810126582.\u001b[0m\n",
            "\u001b[33m[W 2023-01-04 06:16:15,701]\u001b[0m The parameter 'criterion' in trial#27 is sampled independently by using `RandomSampler` instead of `CmaEsSampler` (optimization performance may be degraded). `CmaEsSampler` does not support dynamic search space or `CategoricalDistribution`. You can suppress this warning by setting `warn_independent_sampling` to `False` in the constructor of `CmaEsSampler`, if this independent sampling is intended behavior.\u001b[0m\n",
            "\u001b[32m[I 2023-01-04 06:16:16,126]\u001b[0m Trial 26 finished with value: 0.9371835443037974 and parameters: {'n_estimators': 550, 'criterion': 'gini', 'max_depth': 3, 'min_samples_split': 0.23503240954205745}. Best is trial 11 with value: 0.9472784810126582.\u001b[0m\n",
            "\u001b[33m[W 2023-01-04 06:16:16,145]\u001b[0m The parameter 'criterion' in trial#28 is sampled independently by using `RandomSampler` instead of `CmaEsSampler` (optimization performance may be degraded). `CmaEsSampler` does not support dynamic search space or `CategoricalDistribution`. You can suppress this warning by setting `warn_independent_sampling` to `False` in the constructor of `CmaEsSampler`, if this independent sampling is intended behavior.\u001b[0m\n",
            "\u001b[32m[I 2023-01-04 06:16:23,250]\u001b[0m Trial 27 finished with value: 0.9422151898734177 and parameters: {'n_estimators': 550, 'criterion': 'gini', 'max_depth': 3, 'min_samples_split': 0.17932029361467727}. Best is trial 11 with value: 0.9472784810126582.\u001b[0m\n",
            "\u001b[33m[W 2023-01-04 06:16:23,262]\u001b[0m The parameter 'criterion' in trial#29 is sampled independently by using `RandomSampler` instead of `CmaEsSampler` (optimization performance may be degraded). `CmaEsSampler` does not support dynamic search space or `CategoricalDistribution`. You can suppress this warning by setting `warn_independent_sampling` to `False` in the constructor of `CmaEsSampler`, if this independent sampling is intended behavior.\u001b[0m\n",
            "\u001b[32m[I 2023-01-04 06:16:24,027]\u001b[0m Trial 28 finished with value: 0.9472784810126582 and parameters: {'n_estimators': 550, 'criterion': 'entropy', 'max_depth': 3, 'min_samples_split': 0.16954044110323793}. Best is trial 11 with value: 0.9472784810126582.\u001b[0m\n",
            "\u001b[33m[W 2023-01-04 06:16:24,052]\u001b[0m The parameter 'criterion' in trial#30 is sampled independently by using `RandomSampler` instead of `CmaEsSampler` (optimization performance may be degraded). `CmaEsSampler` does not support dynamic search space or `CategoricalDistribution`. You can suppress this warning by setting `warn_independent_sampling` to `False` in the constructor of `CmaEsSampler`, if this independent sampling is intended behavior.\u001b[0m\n",
            "\u001b[32m[I 2023-01-04 06:16:30,720]\u001b[0m Trial 29 finished with value: 0.9421835443037974 and parameters: {'n_estimators': 550, 'criterion': 'gini', 'max_depth': 3, 'min_samples_split': 0.21670147510762106}. Best is trial 11 with value: 0.9472784810126582.\u001b[0m\n",
            "\u001b[33m[W 2023-01-04 06:16:30,752]\u001b[0m The parameter 'criterion' in trial#31 is sampled independently by using `RandomSampler` instead of `CmaEsSampler` (optimization performance may be degraded). `CmaEsSampler` does not support dynamic search space or `CategoricalDistribution`. You can suppress this warning by setting `warn_independent_sampling` to `False` in the constructor of `CmaEsSampler`, if this independent sampling is intended behavior.\u001b[0m\n",
            "\u001b[32m[I 2023-01-04 06:16:31,478]\u001b[0m Trial 30 finished with value: 0.9472151898734177 and parameters: {'n_estimators': 550, 'criterion': 'gini', 'max_depth': 3, 'min_samples_split': 0.07865421519124852}. Best is trial 11 with value: 0.9472784810126582.\u001b[0m\n",
            "\u001b[33m[W 2023-01-04 06:16:31,503]\u001b[0m The parameter 'criterion' in trial#32 is sampled independently by using `RandomSampler` instead of `CmaEsSampler` (optimization performance may be degraded). `CmaEsSampler` does not support dynamic search space or `CategoricalDistribution`. You can suppress this warning by setting `warn_independent_sampling` to `False` in the constructor of `CmaEsSampler`, if this independent sampling is intended behavior.\u001b[0m\n",
            "\u001b[32m[I 2023-01-04 06:16:38,041]\u001b[0m Trial 31 finished with value: 0.9371835443037974 and parameters: {'n_estimators': 550, 'criterion': 'gini', 'max_depth': 3, 'min_samples_split': 0.30747680733396665}. Best is trial 11 with value: 0.9472784810126582.\u001b[0m\n",
            "\u001b[33m[W 2023-01-04 06:16:38,061]\u001b[0m The parameter 'criterion' in trial#33 is sampled independently by using `RandomSampler` instead of `CmaEsSampler` (optimization performance may be degraded). `CmaEsSampler` does not support dynamic search space or `CategoricalDistribution`. You can suppress this warning by setting `warn_independent_sampling` to `False` in the constructor of `CmaEsSampler`, if this independent sampling is intended behavior.\u001b[0m\n",
            "\u001b[32m[I 2023-01-04 06:16:38,691]\u001b[0m Trial 32 finished with value: 0.9422151898734177 and parameters: {'n_estimators': 550, 'criterion': 'gini', 'max_depth': 3, 'min_samples_split': 0.16841010964009456}. Best is trial 11 with value: 0.9472784810126582.\u001b[0m\n",
            "\u001b[33m[W 2023-01-04 06:16:38,702]\u001b[0m The parameter 'criterion' in trial#34 is sampled independently by using `RandomSampler` instead of `CmaEsSampler` (optimization performance may be degraded). `CmaEsSampler` does not support dynamic search space or `CategoricalDistribution`. You can suppress this warning by setting `warn_independent_sampling` to `False` in the constructor of `CmaEsSampler`, if this independent sampling is intended behavior.\u001b[0m\n",
            "\u001b[32m[I 2023-01-04 06:16:45,614]\u001b[0m Trial 33 finished with value: 0.9422151898734177 and parameters: {'n_estimators': 550, 'criterion': 'gini', 'max_depth': 3, 'min_samples_split': 0.04550311592405621}. Best is trial 11 with value: 0.9472784810126582.\u001b[0m\n",
            "\u001b[33m[W 2023-01-04 06:16:45,624]\u001b[0m The parameter 'criterion' in trial#35 is sampled independently by using `RandomSampler` instead of `CmaEsSampler` (optimization performance may be degraded). `CmaEsSampler` does not support dynamic search space or `CategoricalDistribution`. You can suppress this warning by setting `warn_independent_sampling` to `False` in the constructor of `CmaEsSampler`, if this independent sampling is intended behavior.\u001b[0m\n",
            "\u001b[32m[I 2023-01-04 06:16:46,298]\u001b[0m Trial 34 finished with value: 0.9321835443037976 and parameters: {'n_estimators': 550, 'criterion': 'entropy', 'max_depth': 3, 'min_samples_split': 0.334070747120798}. Best is trial 11 with value: 0.9472784810126582.\u001b[0m\n",
            "\u001b[33m[W 2023-01-04 06:16:46,309]\u001b[0m The parameter 'criterion' in trial#36 is sampled independently by using `RandomSampler` instead of `CmaEsSampler` (optimization performance may be degraded). `CmaEsSampler` does not support dynamic search space or `CategoricalDistribution`. You can suppress this warning by setting `warn_independent_sampling` to `False` in the constructor of `CmaEsSampler`, if this independent sampling is intended behavior.\u001b[0m\n",
            "\u001b[32m[I 2023-01-04 06:16:53,729]\u001b[0m Trial 35 finished with value: 0.9422151898734178 and parameters: {'n_estimators': 550, 'criterion': 'entropy', 'max_depth': 3, 'min_samples_split': 0.2153902008397346}. Best is trial 11 with value: 0.9472784810126582.\u001b[0m\n",
            "\u001b[33m[W 2023-01-04 06:16:53,739]\u001b[0m The parameter 'criterion' in trial#37 is sampled independently by using `RandomSampler` instead of `CmaEsSampler` (optimization performance may be degraded). `CmaEsSampler` does not support dynamic search space or `CategoricalDistribution`. You can suppress this warning by setting `warn_independent_sampling` to `False` in the constructor of `CmaEsSampler`, if this independent sampling is intended behavior.\u001b[0m\n",
            "\u001b[32m[I 2023-01-04 06:16:54,511]\u001b[0m Trial 36 finished with value: 0.9371835443037974 and parameters: {'n_estimators': 550, 'criterion': 'entropy', 'max_depth': 3, 'min_samples_split': 0.22455712737142247}. Best is trial 11 with value: 0.9472784810126582.\u001b[0m\n",
            "\u001b[33m[W 2023-01-04 06:16:54,523]\u001b[0m The parameter 'criterion' in trial#38 is sampled independently by using `RandomSampler` instead of `CmaEsSampler` (optimization performance may be degraded). `CmaEsSampler` does not support dynamic search space or `CategoricalDistribution`. You can suppress this warning by setting `warn_independent_sampling` to `False` in the constructor of `CmaEsSampler`, if this independent sampling is intended behavior.\u001b[0m\n",
            "\u001b[32m[I 2023-01-04 06:17:01,691]\u001b[0m Trial 37 finished with value: 0.9447151898734176 and parameters: {'n_estimators': 550, 'criterion': 'entropy', 'max_depth': 3, 'min_samples_split': 0.1576908325138563}. Best is trial 11 with value: 0.9472784810126582.\u001b[0m\n",
            "\u001b[33m[W 2023-01-04 06:17:01,718]\u001b[0m The parameter 'criterion' in trial#39 is sampled independently by using `RandomSampler` instead of `CmaEsSampler` (optimization performance may be degraded). `CmaEsSampler` does not support dynamic search space or `CategoricalDistribution`. You can suppress this warning by setting `warn_independent_sampling` to `False` in the constructor of `CmaEsSampler`, if this independent sampling is intended behavior.\u001b[0m\n",
            "\u001b[32m[I 2023-01-04 06:17:02,321]\u001b[0m Trial 38 finished with value: 0.9447151898734176 and parameters: {'n_estimators': 550, 'criterion': 'gini', 'max_depth': 3, 'min_samples_split': 0.05567944694116017}. Best is trial 11 with value: 0.9472784810126582.\u001b[0m\n",
            "\u001b[33m[W 2023-01-04 06:17:02,331]\u001b[0m The parameter 'criterion' in trial#40 is sampled independently by using `RandomSampler` instead of `CmaEsSampler` (optimization performance may be degraded). `CmaEsSampler` does not support dynamic search space or `CategoricalDistribution`. You can suppress this warning by setting `warn_independent_sampling` to `False` in the constructor of `CmaEsSampler`, if this independent sampling is intended behavior.\u001b[0m\n",
            "\u001b[32m[I 2023-01-04 06:17:09,339]\u001b[0m Trial 39 finished with value: 0.9447151898734176 and parameters: {'n_estimators': 550, 'criterion': 'gini', 'max_depth': 3, 'min_samples_split': 0.17391882086168747}. Best is trial 11 with value: 0.9472784810126582.\u001b[0m\n",
            "\u001b[33m[W 2023-01-04 06:17:09,364]\u001b[0m The parameter 'criterion' in trial#41 is sampled independently by using `RandomSampler` instead of `CmaEsSampler` (optimization performance may be degraded). `CmaEsSampler` does not support dynamic search space or `CategoricalDistribution`. You can suppress this warning by setting `warn_independent_sampling` to `False` in the constructor of `CmaEsSampler`, if this independent sampling is intended behavior.\u001b[0m\n",
            "\u001b[32m[I 2023-01-04 06:17:10,057]\u001b[0m Trial 40 finished with value: 0.9371835443037974 and parameters: {'n_estimators': 550, 'criterion': 'entropy', 'max_depth': 3, 'min_samples_split': 0.28809454558355824}. Best is trial 11 with value: 0.9472784810126582.\u001b[0m\n",
            "\u001b[33m[W 2023-01-04 06:17:10,074]\u001b[0m The parameter 'criterion' in trial#42 is sampled independently by using `RandomSampler` instead of `CmaEsSampler` (optimization performance may be degraded). `CmaEsSampler` does not support dynamic search space or `CategoricalDistribution`. You can suppress this warning by setting `warn_independent_sampling` to `False` in the constructor of `CmaEsSampler`, if this independent sampling is intended behavior.\u001b[0m\n",
            "\u001b[32m[I 2023-01-04 06:17:16,651]\u001b[0m Trial 41 finished with value: 0.9422151898734177 and parameters: {'n_estimators': 550, 'criterion': 'gini', 'max_depth': 3, 'min_samples_split': 0.17654061071809038}. Best is trial 11 with value: 0.9472784810126582.\u001b[0m\n",
            "\u001b[33m[W 2023-01-04 06:17:16,667]\u001b[0m The parameter 'criterion' in trial#43 is sampled independently by using `RandomSampler` instead of `CmaEsSampler` (optimization performance may be degraded). `CmaEsSampler` does not support dynamic search space or `CategoricalDistribution`. You can suppress this warning by setting `warn_independent_sampling` to `False` in the constructor of `CmaEsSampler`, if this independent sampling is intended behavior.\u001b[0m\n",
            "\u001b[32m[I 2023-01-04 06:17:17,532]\u001b[0m Trial 42 finished with value: 0.9422151898734177 and parameters: {'n_estimators': 550, 'criterion': 'gini', 'max_depth': 3, 'min_samples_split': 0.11263355324655851}. Best is trial 11 with value: 0.9472784810126582.\u001b[0m\n",
            "\u001b[33m[W 2023-01-04 06:17:17,545]\u001b[0m The parameter 'criterion' in trial#44 is sampled independently by using `RandomSampler` instead of `CmaEsSampler` (optimization performance may be degraded). `CmaEsSampler` does not support dynamic search space or `CategoricalDistribution`. You can suppress this warning by setting `warn_independent_sampling` to `False` in the constructor of `CmaEsSampler`, if this independent sampling is intended behavior.\u001b[0m\n",
            "\u001b[32m[I 2023-01-04 06:17:24,767]\u001b[0m Trial 43 finished with value: 0.9422151898734178 and parameters: {'n_estimators': 550, 'criterion': 'entropy', 'max_depth': 3, 'min_samples_split': 0.19422973134215318}. Best is trial 11 with value: 0.9472784810126582.\u001b[0m\n",
            "\u001b[33m[W 2023-01-04 06:17:24,792]\u001b[0m The parameter 'criterion' in trial#45 is sampled independently by using `RandomSampler` instead of `CmaEsSampler` (optimization performance may be degraded). `CmaEsSampler` does not support dynamic search space or `CategoricalDistribution`. You can suppress this warning by setting `warn_independent_sampling` to `False` in the constructor of `CmaEsSampler`, if this independent sampling is intended behavior.\u001b[0m\n",
            "\u001b[32m[I 2023-01-04 06:17:25,765]\u001b[0m Trial 44 finished with value: 0.9472784810126582 and parameters: {'n_estimators': 550, 'criterion': 'entropy', 'max_depth': 3, 'min_samples_split': 0.1996593653780739}. Best is trial 11 with value: 0.9472784810126582.\u001b[0m\n",
            "\u001b[33m[W 2023-01-04 06:17:25,776]\u001b[0m The parameter 'criterion' in trial#46 is sampled independently by using `RandomSampler` instead of `CmaEsSampler` (optimization performance may be degraded). `CmaEsSampler` does not support dynamic search space or `CategoricalDistribution`. You can suppress this warning by setting `warn_independent_sampling` to `False` in the constructor of `CmaEsSampler`, if this independent sampling is intended behavior.\u001b[0m\n",
            "\u001b[32m[I 2023-01-04 06:17:33,074]\u001b[0m Trial 45 finished with value: 0.9447468354430381 and parameters: {'n_estimators': 550, 'criterion': 'entropy', 'max_depth': 3, 'min_samples_split': 0.17928287582093563}. Best is trial 11 with value: 0.9472784810126582.\u001b[0m\n",
            "\u001b[33m[W 2023-01-04 06:17:33,091]\u001b[0m The parameter 'criterion' in trial#47 is sampled independently by using `RandomSampler` instead of `CmaEsSampler` (optimization performance may be degraded). `CmaEsSampler` does not support dynamic search space or `CategoricalDistribution`. You can suppress this warning by setting `warn_independent_sampling` to `False` in the constructor of `CmaEsSampler`, if this independent sampling is intended behavior.\u001b[0m\n",
            "\u001b[32m[I 2023-01-04 06:17:34,084]\u001b[0m Trial 46 finished with value: 0.9472468354430379 and parameters: {'n_estimators': 550, 'criterion': 'entropy', 'max_depth': 3, 'min_samples_split': 0.14012330872022188}. Best is trial 11 with value: 0.9472784810126582.\u001b[0m\n",
            "\u001b[33m[W 2023-01-04 06:17:34,096]\u001b[0m The parameter 'criterion' in trial#48 is sampled independently by using `RandomSampler` instead of `CmaEsSampler` (optimization performance may be degraded). `CmaEsSampler` does not support dynamic search space or `CategoricalDistribution`. You can suppress this warning by setting `warn_independent_sampling` to `False` in the constructor of `CmaEsSampler`, if this independent sampling is intended behavior.\u001b[0m\n",
            "\u001b[32m[I 2023-01-04 06:17:41,036]\u001b[0m Trial 47 finished with value: 0.9472468354430379 and parameters: {'n_estimators': 550, 'criterion': 'entropy', 'max_depth': 3, 'min_samples_split': 0.06276201309357173}. Best is trial 11 with value: 0.9472784810126582.\u001b[0m\n",
            "\u001b[33m[W 2023-01-04 06:17:41,047]\u001b[0m The parameter 'criterion' in trial#49 is sampled independently by using `RandomSampler` instead of `CmaEsSampler` (optimization performance may be degraded). `CmaEsSampler` does not support dynamic search space or `CategoricalDistribution`. You can suppress this warning by setting `warn_independent_sampling` to `False` in the constructor of `CmaEsSampler`, if this independent sampling is intended behavior.\u001b[0m\n",
            "\u001b[32m[I 2023-01-04 06:17:41,908]\u001b[0m Trial 48 finished with value: 0.9497784810126582 and parameters: {'n_estimators': 550, 'criterion': 'gini', 'max_depth': 3, 'min_samples_split': 0.19647059853196552}. Best is trial 48 with value: 0.9497784810126582.\u001b[0m\n",
            "\u001b[32m[I 2023-01-04 06:17:45,731]\u001b[0m Trial 49 finished with value: 0.9422151898734177 and parameters: {'n_estimators': 550, 'criterion': 'entropy', 'max_depth': 3, 'min_samples_split': 0.10682795670158865}. Best is trial 48 with value: 0.9497784810126582.\u001b[0m\n"
          ]
        }
      ]
    },
    {
      "cell_type": "code",
      "source": [
        "study_cmes.best_value"
      ],
      "metadata": {
        "colab": {
          "base_uri": "https://localhost:8080/"
        },
        "id": "02tW1bHlarX8",
        "outputId": "967f6aec-f09d-4757-a4e2-984d01b60f2b"
      },
      "execution_count": 60,
      "outputs": [
        {
          "output_type": "execute_result",
          "data": {
            "text/plain": [
              "0.9497784810126582"
            ]
          },
          "metadata": {},
          "execution_count": 60
        }
      ]
    },
    {
      "cell_type": "code",
      "source": [
        "best_params = study_cmes.best_params\n",
        "best_params"
      ],
      "metadata": {
        "colab": {
          "base_uri": "https://localhost:8080/"
        },
        "id": "is5bKQ4Ebe_k",
        "outputId": "34f7ec76-f3b5-4fcc-bf7a-36982327a4db"
      },
      "execution_count": 63,
      "outputs": [
        {
          "output_type": "execute_result",
          "data": {
            "text/plain": [
              "{'n_estimators': 550,\n",
              " 'criterion': 'gini',\n",
              " 'max_depth': 3,\n",
              " 'min_samples_split': 0.19647059853196552}"
            ]
          },
          "metadata": {},
          "execution_count": 63
        }
      ]
    },
    {
      "cell_type": "code",
      "source": [
        "rfc_cmes = RandomForestClassifier(**best_params)"
      ],
      "metadata": {
        "id": "W0mLyU7Pbi47"
      },
      "execution_count": 64,
      "outputs": []
    },
    {
      "cell_type": "code",
      "source": [
        "rfc_cmes.fit(X_train,y_train)"
      ],
      "metadata": {
        "colab": {
          "base_uri": "https://localhost:8080/"
        },
        "id": "LYZrKPcQbs_h",
        "outputId": "0feec17b-7429-4182-ee0e-d50614b6a678"
      },
      "execution_count": 65,
      "outputs": [
        {
          "output_type": "execute_result",
          "data": {
            "text/plain": [
              "RandomForestClassifier(max_depth=3, min_samples_split=0.19647059853196552,\n",
              "                       n_estimators=550)"
            ]
          },
          "metadata": {},
          "execution_count": 65
        }
      ]
    },
    {
      "cell_type": "code",
      "source": [
        "evaluate_model(rfc_cmes)"
      ],
      "metadata": {
        "colab": {
          "base_uri": "https://localhost:8080/"
        },
        "id": "sRWf4QPYbv9L",
        "outputId": "a8751e6a-1231-4b32-f0ff-8ae3da334216"
      },
      "execution_count": 67,
      "outputs": [
        {
          "output_type": "stream",
          "name": "stdout",
          "text": [
            "train accuracy :  0.964824120603015\n",
            "test accuracy :  0.9649122807017544\n"
          ]
        }
      ]
    },
    {
      "cell_type": "markdown",
      "source": [
        "**Grid Search Using Optuna**"
      ],
      "metadata": {
        "id": "Dt6V8vqxb6qB"
      }
    },
    {
      "cell_type": "code",
      "source": [
        "# create a grid samples space\n",
        "\n",
        "params_grid2 = {'n_estimators': [100,200,500,800,1000],\n",
        "                'criterion': ['gini','entropy'],\n",
        "                'max_depth':[1,2,3,5,8],\n",
        "                'min_samples_split': [0.1,1.0]}"
      ],
      "metadata": {
        "id": "HPVCn8yob0RI"
      },
      "execution_count": 68,
      "outputs": []
    },
    {
      "cell_type": "code",
      "source": [
        "study_grid = optuna.create_study(direction = 'maximize',\n",
        "                                 sampler = optuna.samplers.GridSampler(params_grid2)) # grid search have take one - argument - which are the grid of the hyperparameters"
      ],
      "metadata": {
        "colab": {
          "base_uri": "https://localhost:8080/"
        },
        "id": "-UAAfByZcuia",
        "outputId": "41b3350c-632f-47f7-df0c-79bc04b164ac"
      },
      "execution_count": 72,
      "outputs": [
        {
          "output_type": "stream",
          "name": "stderr",
          "text": [
            "\u001b[32m[I 2023-01-04 06:25:56,799]\u001b[0m A new study created in memory with name: no-name-9208aae6-bcd1-42f0-b694-96df6f8acb70\u001b[0m\n"
          ]
        }
      ]
    },
    {
      "cell_type": "code",
      "source": [
        "study_grid.optimize(func = objective, \n",
        "                    n_jobs = -1,\n",
        "                    show_progress_bar = True)"
      ],
      "metadata": {
        "colab": {
          "base_uri": "https://localhost:8080/"
        },
        "id": "e8Ga93YTdCm9",
        "outputId": "4d4e95f8-b40a-4d02-ae59-1ede50604214"
      },
      "execution_count": 73,
      "outputs": [
        {
          "output_type": "stream",
          "name": "stderr",
          "text": [
            "\u001b[32m[I 2023-01-04 06:27:10,027]\u001b[0m Trial 1 finished with value: 0.911993670886076 and parameters: {'n_estimators': 100, 'criterion': 'gini', 'max_depth': 1, 'min_samples_split': 0.1}. Best is trial 1 with value: 0.911993670886076.\u001b[0m\n",
            "\u001b[32m[I 2023-01-04 06:27:11,336]\u001b[0m Trial 2 finished with value: 0.6281645569620252 and parameters: {'n_estimators': 100, 'criterion': 'gini', 'max_depth': 5, 'min_samples_split': 1.0}. Best is trial 1 with value: 0.911993670886076.\u001b[0m\n",
            "\u001b[32m[I 2023-01-04 06:27:12,401]\u001b[0m Trial 0 finished with value: 0.6281645569620252 and parameters: {'n_estimators': 1000, 'criterion': 'gini', 'max_depth': 8, 'min_samples_split': 1.0}. Best is trial 1 with value: 0.911993670886076.\u001b[0m\n",
            "\u001b[32m[I 2023-01-04 06:27:18,362]\u001b[0m Trial 4 finished with value: 0.9447151898734176 and parameters: {'n_estimators': 100, 'criterion': 'gini', 'max_depth': 5, 'min_samples_split': 0.1}. Best is trial 4 with value: 0.9447151898734176.\u001b[0m\n",
            "\u001b[32m[I 2023-01-04 06:27:19,716]\u001b[0m Trial 5 finished with value: 0.6281645569620252 and parameters: {'n_estimators': 100, 'criterion': 'gini', 'max_depth': 2, 'min_samples_split': 1.0}. Best is trial 4 with value: 0.9447151898734176.\u001b[0m\n",
            "\u001b[32m[I 2023-01-04 06:27:20,305]\u001b[0m Trial 3 finished with value: 0.6281645569620252 and parameters: {'n_estimators': 1000, 'criterion': 'gini', 'max_depth': 5, 'min_samples_split': 1.0}. Best is trial 4 with value: 0.9447151898734176.\u001b[0m\n",
            "\u001b[32m[I 2023-01-04 06:27:31,709]\u001b[0m Trial 6 finished with value: 0.6281645569620252 and parameters: {'n_estimators': 800, 'criterion': 'gini', 'max_depth': 2, 'min_samples_split': 1.0}. Best is trial 4 with value: 0.9447151898734176.\u001b[0m\n",
            "\u001b[32m[I 2023-01-04 06:27:32,698]\u001b[0m Trial 7 finished with value: 0.9145253164556962 and parameters: {'n_estimators': 1000, 'criterion': 'gini', 'max_depth': 1, 'min_samples_split': 0.1}. Best is trial 4 with value: 0.9447151898734176.\u001b[0m\n",
            "\u001b[32m[I 2023-01-04 06:27:37,079]\u001b[0m Trial 9 finished with value: 0.6281645569620252 and parameters: {'n_estimators': 100, 'criterion': 'gini', 'max_depth': 3, 'min_samples_split': 1.0}. Best is trial 4 with value: 0.9447151898734176.\u001b[0m\n",
            "\u001b[32m[I 2023-01-04 06:27:38,705]\u001b[0m Trial 8 finished with value: 0.6281645569620252 and parameters: {'n_estimators': 800, 'criterion': 'gini', 'max_depth': 8, 'min_samples_split': 1.0}. Best is trial 4 with value: 0.9447151898734176.\u001b[0m\n",
            "\u001b[32m[I 2023-01-04 06:27:48,704]\u001b[0m Trial 10 finished with value: 0.944746835443038 and parameters: {'n_estimators': 500, 'criterion': 'entropy', 'max_depth': 5, 'min_samples_split': 0.1}. Best is trial 10 with value: 0.944746835443038.\u001b[0m\n",
            "\u001b[32m[I 2023-01-04 06:27:50,631]\u001b[0m Trial 11 finished with value: 0.9145253164556962 and parameters: {'n_estimators': 800, 'criterion': 'entropy', 'max_depth': 1, 'min_samples_split': 0.1}. Best is trial 10 with value: 0.944746835443038.\u001b[0m\n",
            "\u001b[32m[I 2023-01-04 06:27:54,497]\u001b[0m Trial 12 finished with value: 0.6281645569620252 and parameters: {'n_estimators': 800, 'criterion': 'entropy', 'max_depth': 1, 'min_samples_split': 1.0}. Best is trial 10 with value: 0.944746835443038.\u001b[0m\n",
            "\u001b[32m[I 2023-01-04 06:27:57,543]\u001b[0m Trial 14 finished with value: 0.6281645569620252 and parameters: {'n_estimators': 100, 'criterion': 'gini', 'max_depth': 1, 'min_samples_split': 1.0}. Best is trial 10 with value: 0.944746835443038.\u001b[0m\n",
            "\u001b[32m[I 2023-01-04 06:27:59,008]\u001b[0m Trial 13 finished with value: 0.6281645569620252 and parameters: {'n_estimators': 500, 'criterion': 'gini', 'max_depth': 5, 'min_samples_split': 1.0}. Best is trial 10 with value: 0.944746835443038.\u001b[0m\n",
            "\u001b[32m[I 2023-01-04 06:28:00,564]\u001b[0m Trial 15 finished with value: 0.6281645569620252 and parameters: {'n_estimators': 200, 'criterion': 'entropy', 'max_depth': 2, 'min_samples_split': 1.0}. Best is trial 10 with value: 0.944746835443038.\u001b[0m\n",
            "\u001b[32m[I 2023-01-04 06:28:11,265]\u001b[0m Trial 16 finished with value: 0.6281645569620252 and parameters: {'n_estimators': 800, 'criterion': 'gini', 'max_depth': 1, 'min_samples_split': 1.0}. Best is trial 10 with value: 0.944746835443038.\u001b[0m\n",
            "\u001b[32m[I 2023-01-04 06:28:12,612]\u001b[0m Trial 17 finished with value: 0.944746835443038 and parameters: {'n_estimators': 800, 'criterion': 'entropy', 'max_depth': 8, 'min_samples_split': 0.1}. Best is trial 10 with value: 0.944746835443038.\u001b[0m\n",
            "\u001b[32m[I 2023-01-04 06:28:12,940]\u001b[0m Trial 18 finished with value: 0.9446835443037974 and parameters: {'n_estimators': 100, 'criterion': 'entropy', 'max_depth': 5, 'min_samples_split': 0.1}. Best is trial 10 with value: 0.944746835443038.\u001b[0m\n",
            "\u001b[32m[I 2023-01-04 06:28:13,581]\u001b[0m Trial 19 finished with value: 0.9472468354430379 and parameters: {'n_estimators': 100, 'criterion': 'gini', 'max_depth': 8, 'min_samples_split': 0.1}. Best is trial 19 with value: 0.9472468354430379.\u001b[0m\n",
            "\u001b[32m[I 2023-01-04 06:28:16,235]\u001b[0m Trial 21 finished with value: 0.9195253164556961 and parameters: {'n_estimators': 200, 'criterion': 'gini', 'max_depth': 1, 'min_samples_split': 0.1}. Best is trial 19 with value: 0.9472468354430379.\u001b[0m\n",
            "\u001b[32m[I 2023-01-04 06:28:16,261]\u001b[0m Trial 20 finished with value: 0.9170253164556963 and parameters: {'n_estimators': 200, 'criterion': 'entropy', 'max_depth': 1, 'min_samples_split': 0.1}. Best is trial 19 with value: 0.9472468354430379.\u001b[0m\n",
            "\u001b[32m[I 2023-01-04 06:28:32,399]\u001b[0m Trial 23 finished with value: 0.6281645569620252 and parameters: {'n_estimators': 800, 'criterion': 'entropy', 'max_depth': 5, 'min_samples_split': 1.0}. Best is trial 19 with value: 0.9472468354430379.\u001b[0m\n",
            "\u001b[32m[I 2023-01-04 06:28:33,473]\u001b[0m Trial 22 finished with value: 0.9396518987341771 and parameters: {'n_estimators': 1000, 'criterion': 'entropy', 'max_depth': 2, 'min_samples_split': 0.1}. Best is trial 19 with value: 0.9472468354430379.\u001b[0m\n",
            "\u001b[32m[I 2023-01-04 06:28:37,710]\u001b[0m Trial 25 finished with value: 0.6281645569620252 and parameters: {'n_estimators': 200, 'criterion': 'gini', 'max_depth': 5, 'min_samples_split': 1.0}. Best is trial 19 with value: 0.9472468354430379.\u001b[0m\n",
            "\u001b[32m[I 2023-01-04 06:28:38,867]\u001b[0m Trial 24 finished with value: 0.944746835443038 and parameters: {'n_estimators': 500, 'criterion': 'entropy', 'max_depth': 8, 'min_samples_split': 0.1}. Best is trial 19 with value: 0.9472468354430379.\u001b[0m\n",
            "\u001b[32m[I 2023-01-04 06:28:52,919]\u001b[0m Trial 26 finished with value: 0.944746835443038 and parameters: {'n_estimators': 1000, 'criterion': 'entropy', 'max_depth': 5, 'min_samples_split': 0.1}. Best is trial 19 with value: 0.9472468354430379.\u001b[0m\n",
            "\u001b[32m[I 2023-01-04 06:28:53,683]\u001b[0m Trial 27 finished with value: 0.9472468354430379 and parameters: {'n_estimators': 1000, 'criterion': 'gini', 'max_depth': 5, 'min_samples_split': 0.1}. Best is trial 19 with value: 0.9472468354430379.\u001b[0m\n",
            "\u001b[32m[I 2023-01-04 06:29:07,042]\u001b[0m Trial 28 finished with value: 0.6281645569620252 and parameters: {'n_estimators': 1000, 'criterion': 'entropy', 'max_depth': 1, 'min_samples_split': 1.0}. Best is trial 19 with value: 0.9472468354430379.\u001b[0m\n",
            "\u001b[32m[I 2023-01-04 06:29:08,593]\u001b[0m Trial 29 finished with value: 0.9422151898734177 and parameters: {'n_estimators': 1000, 'criterion': 'gini', 'max_depth': 3, 'min_samples_split': 0.1}. Best is trial 19 with value: 0.9472468354430379.\u001b[0m\n",
            "\u001b[32m[I 2023-01-04 06:29:17,741]\u001b[0m Trial 31 finished with value: 0.9371518987341773 and parameters: {'n_estimators': 500, 'criterion': 'gini', 'max_depth': 2, 'min_samples_split': 0.1}. Best is trial 19 with value: 0.9472468354430379.\u001b[0m\n",
            "\u001b[32m[I 2023-01-04 06:29:18,358]\u001b[0m Trial 30 finished with value: 0.9422151898734177 and parameters: {'n_estimators': 1000, 'criterion': 'gini', 'max_depth': 8, 'min_samples_split': 0.1}. Best is trial 19 with value: 0.9472468354430379.\u001b[0m\n",
            "\u001b[32m[I 2023-01-04 06:29:18,837]\u001b[0m Trial 32 finished with value: 0.9396835443037975 and parameters: {'n_estimators': 100, 'criterion': 'gini', 'max_depth': 2, 'min_samples_split': 0.1}. Best is trial 19 with value: 0.9472468354430379.\u001b[0m\n",
            "\u001b[32m[I 2023-01-04 06:29:25,166]\u001b[0m Trial 34 finished with value: 0.9396835443037975 and parameters: {'n_estimators': 200, 'criterion': 'gini', 'max_depth': 2, 'min_samples_split': 0.1}. Best is trial 19 with value: 0.9472468354430379.\u001b[0m\n",
            "\u001b[32m[I 2023-01-04 06:29:27,028]\u001b[0m Trial 33 finished with value: 0.9447151898734176 and parameters: {'n_estimators': 800, 'criterion': 'entropy', 'max_depth': 3, 'min_samples_split': 0.1}. Best is trial 19 with value: 0.9472468354430379.\u001b[0m\n",
            "\u001b[32m[I 2023-01-04 06:29:29,261]\u001b[0m Trial 35 finished with value: 0.6281645569620252 and parameters: {'n_estimators': 500, 'criterion': 'entropy', 'max_depth': 8, 'min_samples_split': 1.0}. Best is trial 19 with value: 0.9472468354430379.\u001b[0m\n",
            "\u001b[32m[I 2023-01-04 06:29:30,441]\u001b[0m Trial 36 finished with value: 0.9396518987341773 and parameters: {'n_estimators': 200, 'criterion': 'entropy', 'max_depth': 2, 'min_samples_split': 0.1}. Best is trial 19 with value: 0.9472468354430379.\u001b[0m\n",
            "\u001b[32m[I 2023-01-04 06:29:35,088]\u001b[0m Trial 38 finished with value: 0.9396518987341771 and parameters: {'n_estimators': 100, 'criterion': 'entropy', 'max_depth': 2, 'min_samples_split': 0.1}. Best is trial 19 with value: 0.9472468354430379.\u001b[0m\n",
            "\u001b[32m[I 2023-01-04 06:29:36,616]\u001b[0m Trial 37 finished with value: 0.9145253164556962 and parameters: {'n_estimators': 800, 'criterion': 'gini', 'max_depth': 1, 'min_samples_split': 0.1}. Best is trial 19 with value: 0.9472468354430379.\u001b[0m\n",
            "\u001b[32m[I 2023-01-04 06:29:37,272]\u001b[0m Trial 39 finished with value: 0.9422151898734177 and parameters: {'n_estimators': 200, 'criterion': 'gini', 'max_depth': 3, 'min_samples_split': 0.1}. Best is trial 19 with value: 0.9472468354430379.\u001b[0m\n",
            "\u001b[32m[I 2023-01-04 06:29:39,702]\u001b[0m Trial 40 finished with value: 0.6281645569620252 and parameters: {'n_estimators': 200, 'criterion': 'gini', 'max_depth': 1, 'min_samples_split': 1.0}. Best is trial 19 with value: 0.9472468354430379.\u001b[0m\n",
            "\u001b[32m[I 2023-01-04 06:29:39,858]\u001b[0m Trial 41 finished with value: 0.9447151898734176 and parameters: {'n_estimators': 200, 'criterion': 'gini', 'max_depth': 8, 'min_samples_split': 0.1}. Best is trial 19 with value: 0.9472468354430379.\u001b[0m\n",
            "\u001b[32m[I 2023-01-04 06:29:43,751]\u001b[0m Trial 42 finished with value: 0.9447151898734176 and parameters: {'n_estimators': 100, 'criterion': 'entropy', 'max_depth': 8, 'min_samples_split': 0.1}. Best is trial 19 with value: 0.9472468354430379.\u001b[0m\n",
            "\u001b[32m[I 2023-01-04 06:29:45,152]\u001b[0m Trial 43 finished with value: 0.9422151898734177 and parameters: {'n_estimators': 500, 'criterion': 'entropy', 'max_depth': 3, 'min_samples_split': 0.1}. Best is trial 19 with value: 0.9472468354430379.\u001b[0m\n",
            "\u001b[32m[I 2023-01-04 06:29:47,419]\u001b[0m Trial 44 finished with value: 0.6281645569620252 and parameters: {'n_estimators': 500, 'criterion': 'entropy', 'max_depth': 3, 'min_samples_split': 1.0}. Best is trial 19 with value: 0.9472468354430379.\u001b[0m\n",
            "\u001b[32m[I 2023-01-04 06:29:49,421]\u001b[0m Trial 46 finished with value: 0.9346518987341772 and parameters: {'n_estimators': 100, 'criterion': 'gini', 'max_depth': 3, 'min_samples_split': 0.1}. Best is trial 19 with value: 0.9472468354430379.\u001b[0m\n",
            "\u001b[32m[I 2023-01-04 06:29:49,519]\u001b[0m Trial 45 finished with value: 0.9421835443037974 and parameters: {'n_estimators': 200, 'criterion': 'entropy', 'max_depth': 3, 'min_samples_split': 0.1}. Best is trial 19 with value: 0.9472468354430379.\u001b[0m\n",
            "\u001b[32m[I 2023-01-04 06:29:50,615]\u001b[0m Trial 47 finished with value: 0.6281645569620252 and parameters: {'n_estimators': 100, 'criterion': 'gini', 'max_depth': 8, 'min_samples_split': 1.0}. Best is trial 19 with value: 0.9472468354430379.\u001b[0m\n",
            "\u001b[32m[I 2023-01-04 06:29:50,680]\u001b[0m Trial 48 finished with value: 0.6281645569620252 and parameters: {'n_estimators': 100, 'criterion': 'entropy', 'max_depth': 3, 'min_samples_split': 1.0}. Best is trial 19 with value: 0.9472468354430379.\u001b[0m\n",
            "\u001b[32m[I 2023-01-04 06:29:59,838]\u001b[0m Trial 49 finished with value: 0.9421835443037974 and parameters: {'n_estimators': 500, 'criterion': 'gini', 'max_depth': 3, 'min_samples_split': 0.1}. Best is trial 19 with value: 0.9472468354430379.\u001b[0m\n",
            "\u001b[32m[I 2023-01-04 06:30:01,066]\u001b[0m Trial 50 finished with value: 0.9371518987341773 and parameters: {'n_estimators': 1000, 'criterion': 'gini', 'max_depth': 2, 'min_samples_split': 0.1}. Best is trial 19 with value: 0.9472468354430379.\u001b[0m\n",
            "\u001b[32m[I 2023-01-04 06:30:14,114]\u001b[0m Trial 51 finished with value: 0.944746835443038 and parameters: {'n_estimators': 1000, 'criterion': 'entropy', 'max_depth': 8, 'min_samples_split': 0.1}. Best is trial 19 with value: 0.9472468354430379.\u001b[0m\n",
            "\u001b[32m[I 2023-01-04 06:30:14,295]\u001b[0m Trial 52 finished with value: 0.6281645569620252 and parameters: {'n_estimators': 1000, 'criterion': 'entropy', 'max_depth': 2, 'min_samples_split': 1.0}. Best is trial 19 with value: 0.9472468354430379.\u001b[0m\n",
            "\u001b[32m[I 2023-01-04 06:30:19,904]\u001b[0m Trial 53 finished with value: 0.9422151898734177 and parameters: {'n_estimators': 200, 'criterion': 'entropy', 'max_depth': 5, 'min_samples_split': 0.1}. Best is trial 19 with value: 0.9472468354430379.\u001b[0m\n",
            "\u001b[32m[I 2023-01-04 06:30:21,304]\u001b[0m Trial 54 finished with value: 0.6281645569620252 and parameters: {'n_estimators': 800, 'criterion': 'gini', 'max_depth': 5, 'min_samples_split': 1.0}. Best is trial 19 with value: 0.9472468354430379.\u001b[0m\n",
            "\u001b[32m[I 2023-01-04 06:30:21,971]\u001b[0m Trial 55 finished with value: 0.6281645569620252 and parameters: {'n_estimators': 200, 'criterion': 'gini', 'max_depth': 2, 'min_samples_split': 1.0}. Best is trial 19 with value: 0.9472468354430379.\u001b[0m\n",
            "\u001b[32m[I 2023-01-04 06:30:25,891]\u001b[0m Trial 57 finished with value: 0.6281645569620252 and parameters: {'n_estimators': 200, 'criterion': 'entropy', 'max_depth': 8, 'min_samples_split': 1.0}. Best is trial 19 with value: 0.9472468354430379.\u001b[0m\n",
            "\u001b[32m[I 2023-01-04 06:30:26,483]\u001b[0m Trial 56 finished with value: 0.6281645569620252 and parameters: {'n_estimators': 500, 'criterion': 'entropy', 'max_depth': 2, 'min_samples_split': 1.0}. Best is trial 19 with value: 0.9472468354430379.\u001b[0m\n",
            "\u001b[32m[I 2023-01-04 06:30:36,870]\u001b[0m Trial 58 finished with value: 0.6281645569620252 and parameters: {'n_estimators': 800, 'criterion': 'gini', 'max_depth': 3, 'min_samples_split': 1.0}. Best is trial 19 with value: 0.9472468354430379.\u001b[0m\n",
            "\u001b[32m[I 2023-01-04 06:30:38,232]\u001b[0m Trial 59 finished with value: 0.6281645569620252 and parameters: {'n_estimators': 1000, 'criterion': 'entropy', 'max_depth': 3, 'min_samples_split': 1.0}. Best is trial 19 with value: 0.9472468354430379.\u001b[0m\n",
            "\u001b[32m[I 2023-01-04 06:30:38,557]\u001b[0m Trial 60 finished with value: 0.6281645569620252 and parameters: {'n_estimators': 100, 'criterion': 'entropy', 'max_depth': 8, 'min_samples_split': 1.0}. Best is trial 19 with value: 0.9472468354430379.\u001b[0m\n",
            "\u001b[32m[I 2023-01-04 06:30:52,472]\u001b[0m Trial 61 finished with value: 0.9447151898734176 and parameters: {'n_estimators': 800, 'criterion': 'gini', 'max_depth': 8, 'min_samples_split': 0.1}. Best is trial 19 with value: 0.9472468354430379.\u001b[0m\n",
            "\u001b[32m[I 2023-01-04 06:30:52,544]\u001b[0m Trial 62 finished with value: 0.6281645569620252 and parameters: {'n_estimators': 1000, 'criterion': 'gini', 'max_depth': 1, 'min_samples_split': 1.0}. Best is trial 19 with value: 0.9472468354430379.\u001b[0m\n",
            "\u001b[32m[I 2023-01-04 06:31:03,436]\u001b[0m Trial 64 finished with value: 0.9371518987341773 and parameters: {'n_estimators': 500, 'criterion': 'entropy', 'max_depth': 2, 'min_samples_split': 0.1}. Best is trial 19 with value: 0.9472468354430379.\u001b[0m\n",
            "\u001b[32m[I 2023-01-04 06:31:04,584]\u001b[0m Trial 63 finished with value: 0.9195569620253166 and parameters: {'n_estimators': 1000, 'criterion': 'entropy', 'max_depth': 1, 'min_samples_split': 0.1}. Best is trial 19 with value: 0.9472468354430379.\u001b[0m\n",
            "\u001b[32m[I 2023-01-04 06:31:05,615]\u001b[0m Trial 65 finished with value: 0.6281645569620252 and parameters: {'n_estimators': 200, 'criterion': 'entropy', 'max_depth': 3, 'min_samples_split': 1.0}. Best is trial 19 with value: 0.9472468354430379.\u001b[0m\n",
            "\u001b[32m[I 2023-01-04 06:31:14,253]\u001b[0m Trial 66 finished with value: 0.6281645569620252 and parameters: {'n_estimators': 500, 'criterion': 'gini', 'max_depth': 1, 'min_samples_split': 1.0}. Best is trial 19 with value: 0.9472468354430379.\u001b[0m\n",
            "\u001b[32m[I 2023-01-04 06:31:16,007]\u001b[0m Trial 67 finished with value: 0.9371202531645568 and parameters: {'n_estimators': 800, 'criterion': 'entropy', 'max_depth': 2, 'min_samples_split': 0.1}. Best is trial 19 with value: 0.9472468354430379.\u001b[0m\n",
            "\u001b[32m[I 2023-01-04 06:31:21,238]\u001b[0m Trial 69 finished with value: 0.6281645569620252 and parameters: {'n_estimators': 100, 'criterion': 'entropy', 'max_depth': 1, 'min_samples_split': 1.0}. Best is trial 19 with value: 0.9472468354430379.\u001b[0m\n",
            "\u001b[32m[I 2023-01-04 06:31:22,798]\u001b[0m Trial 68 finished with value: 0.9447151898734176 and parameters: {'n_estimators': 800, 'criterion': 'gini', 'max_depth': 5, 'min_samples_split': 0.1}. Best is trial 19 with value: 0.9472468354430379.\u001b[0m\n",
            "\u001b[32m[I 2023-01-04 06:31:33,963]\u001b[0m Trial 70 finished with value: 0.6281645569620252 and parameters: {'n_estimators': 1000, 'criterion': 'entropy', 'max_depth': 5, 'min_samples_split': 1.0}. Best is trial 19 with value: 0.9472468354430379.\u001b[0m\n",
            "\u001b[32m[I 2023-01-04 06:31:35,550]\u001b[0m Trial 71 finished with value: 0.6281645569620252 and parameters: {'n_estimators': 1000, 'criterion': 'entropy', 'max_depth': 8, 'min_samples_split': 1.0}. Best is trial 19 with value: 0.9472468354430379.\u001b[0m\n",
            "\u001b[32m[I 2023-01-04 06:31:46,112]\u001b[0m Trial 73 finished with value: 0.6281645569620252 and parameters: {'n_estimators': 500, 'criterion': 'entropy', 'max_depth': 1, 'min_samples_split': 1.0}. Best is trial 19 with value: 0.9472468354430379.\u001b[0m\n",
            "\u001b[32m[I 2023-01-04 06:31:47,226]\u001b[0m Trial 72 finished with value: 0.9447151898734176 and parameters: {'n_estimators': 1000, 'criterion': 'entropy', 'max_depth': 3, 'min_samples_split': 0.1}. Best is trial 19 with value: 0.9472468354430379.\u001b[0m\n",
            "\u001b[32m[I 2023-01-04 06:31:57,574]\u001b[0m Trial 74 finished with value: 0.6281645569620252 and parameters: {'n_estimators': 1000, 'criterion': 'gini', 'max_depth': 2, 'min_samples_split': 1.0}. Best is trial 19 with value: 0.9472468354430379.\u001b[0m\n",
            "\u001b[32m[I 2023-01-04 06:31:58,143]\u001b[0m Trial 75 finished with value: 0.6281645569620252 and parameters: {'n_estimators': 800, 'criterion': 'entropy', 'max_depth': 2, 'min_samples_split': 1.0}. Best is trial 19 with value: 0.9472468354430379.\u001b[0m\n",
            "\u001b[32m[I 2023-01-04 06:32:01,545]\u001b[0m Trial 77 finished with value: 0.9195253164556961 and parameters: {'n_estimators': 100, 'criterion': 'entropy', 'max_depth': 1, 'min_samples_split': 0.1}. Best is trial 19 with value: 0.9472468354430379.\u001b[0m\n",
            "\u001b[32m[I 2023-01-04 06:32:02,565]\u001b[0m Trial 76 finished with value: 0.9169936708860759 and parameters: {'n_estimators': 500, 'criterion': 'gini', 'max_depth': 1, 'min_samples_split': 0.1}. Best is trial 19 with value: 0.9472468354430379.\u001b[0m\n",
            "\u001b[32m[I 2023-01-04 06:32:06,164]\u001b[0m Trial 79 finished with value: 0.6281645569620252 and parameters: {'n_estimators': 200, 'criterion': 'entropy', 'max_depth': 1, 'min_samples_split': 1.0}. Best is trial 19 with value: 0.9472468354430379.\u001b[0m\n",
            "\u001b[32m[I 2023-01-04 06:32:06,827]\u001b[0m Trial 78 finished with value: 0.6281645569620252 and parameters: {'n_estimators': 500, 'criterion': 'gini', 'max_depth': 8, 'min_samples_split': 1.0}. Best is trial 19 with value: 0.9472468354430379.\u001b[0m\n",
            "\u001b[32m[I 2023-01-04 06:32:12,608]\u001b[0m Trial 80 finished with value: 0.6281645569620252 and parameters: {'n_estimators': 500, 'criterion': 'gini', 'max_depth': 2, 'min_samples_split': 1.0}. Best is trial 19 with value: 0.9472468354430379.\u001b[0m\n",
            "\u001b[32m[I 2023-01-04 06:32:13,109]\u001b[0m Trial 81 finished with value: 0.6281645569620252 and parameters: {'n_estimators': 500, 'criterion': 'entropy', 'max_depth': 5, 'min_samples_split': 1.0}. Best is trial 19 with value: 0.9472468354430379.\u001b[0m\n",
            "\u001b[32m[I 2023-01-04 06:32:13,646]\u001b[0m Trial 82 finished with value: 0.6281645569620252 and parameters: {'n_estimators': 100, 'criterion': 'entropy', 'max_depth': 2, 'min_samples_split': 1.0}. Best is trial 19 with value: 0.9472468354430379.\u001b[0m\n",
            "\u001b[32m[I 2023-01-04 06:32:23,449]\u001b[0m Trial 83 finished with value: 0.6281645569620252 and parameters: {'n_estimators': 800, 'criterion': 'entropy', 'max_depth': 3, 'min_samples_split': 1.0}. Best is trial 19 with value: 0.9472468354430379.\u001b[0m\n",
            "\u001b[32m[I 2023-01-04 06:32:23,990]\u001b[0m Trial 84 finished with value: 0.9396835443037975 and parameters: {'n_estimators': 800, 'criterion': 'gini', 'max_depth': 2, 'min_samples_split': 0.1}. Best is trial 19 with value: 0.9472468354430379.\u001b[0m\n",
            "\u001b[32m[I 2023-01-04 06:32:29,460]\u001b[0m Trial 86 finished with value: 0.6281645569620252 and parameters: {'n_estimators': 200, 'criterion': 'gini', 'max_depth': 3, 'min_samples_split': 1.0}. Best is trial 19 with value: 0.9472468354430379.\u001b[0m\n",
            "\u001b[32m[I 2023-01-04 06:32:30,870]\u001b[0m Trial 85 finished with value: 0.9447151898734176 and parameters: {'n_estimators': 800, 'criterion': 'gini', 'max_depth': 3, 'min_samples_split': 0.1}. Best is trial 19 with value: 0.9472468354430379.\u001b[0m\n",
            "\u001b[32m[I 2023-01-04 06:32:31,794]\u001b[0m Trial 87 finished with value: 0.9472151898734177 and parameters: {'n_estimators': 200, 'criterion': 'gini', 'max_depth': 5, 'min_samples_split': 0.1}. Best is trial 19 with value: 0.9472468354430379.\u001b[0m\n",
            "\u001b[32m[I 2023-01-04 06:32:44,426]\u001b[0m Trial 89 finished with value: 0.949746835443038 and parameters: {'n_estimators': 500, 'criterion': 'gini', 'max_depth': 8, 'min_samples_split': 0.1}. Best is trial 89 with value: 0.949746835443038.\u001b[0m\n",
            "\u001b[32m[I 2023-01-04 06:32:45,212]\u001b[0m Trial 88 finished with value: 0.944746835443038 and parameters: {'n_estimators': 800, 'criterion': 'entropy', 'max_depth': 5, 'min_samples_split': 0.1}. Best is trial 89 with value: 0.949746835443038.\u001b[0m\n",
            "\u001b[32m[I 2023-01-04 06:32:54,630]\u001b[0m Trial 90 finished with value: 0.6281645569620252 and parameters: {'n_estimators': 1000, 'criterion': 'gini', 'max_depth': 3, 'min_samples_split': 1.0}. Best is trial 89 with value: 0.949746835443038.\u001b[0m\n",
            "\u001b[32m[I 2023-01-04 06:32:55,131]\u001b[0m Trial 91 finished with value: 0.6281645569620252 and parameters: {'n_estimators': 800, 'criterion': 'entropy', 'max_depth': 8, 'min_samples_split': 1.0}. Best is trial 89 with value: 0.949746835443038.\u001b[0m\n",
            "\u001b[32m[I 2023-01-04 06:32:56,084]\u001b[0m Trial 92 finished with value: 0.6281645569620252 and parameters: {'n_estimators': 200, 'criterion': 'gini', 'max_depth': 8, 'min_samples_split': 1.0}. Best is trial 89 with value: 0.949746835443038.\u001b[0m\n",
            "\u001b[32m[I 2023-01-04 06:33:00,632]\u001b[0m Trial 93 finished with value: 0.9472784810126582 and parameters: {'n_estimators': 200, 'criterion': 'entropy', 'max_depth': 8, 'min_samples_split': 0.1}. Best is trial 89 with value: 0.949746835443038.\u001b[0m\n",
            "\u001b[32m[I 2023-01-04 06:33:01,411]\u001b[0m Trial 94 finished with value: 0.9422151898734177 and parameters: {'n_estimators': 500, 'criterion': 'gini', 'max_depth': 5, 'min_samples_split': 0.1}. Best is trial 89 with value: 0.949746835443038.\u001b[0m\n",
            "\u001b[32m[I 2023-01-04 06:33:02,013]\u001b[0m Trial 95 finished with value: 0.9447151898734176 and parameters: {'n_estimators': 100, 'criterion': 'entropy', 'max_depth': 3, 'min_samples_split': 0.1}. Best is trial 89 with value: 0.949746835443038.\u001b[0m\n",
            "\u001b[32m[I 2023-01-04 06:33:03,610]\u001b[0m Trial 97 finished with value: 0.6281645569620252 and parameters: {'n_estimators': 100, 'criterion': 'entropy', 'max_depth': 5, 'min_samples_split': 1.0}. Best is trial 89 with value: 0.949746835443038.\u001b[0m\n",
            "\u001b[32m[I 2023-01-04 06:33:03,622]\u001b[0m Trial 96 finished with value: 0.6281645569620252 and parameters: {'n_estimators': 200, 'criterion': 'entropy', 'max_depth': 5, 'min_samples_split': 1.0}. Best is trial 89 with value: 0.949746835443038.\u001b[0m\n",
            "\u001b[32m[I 2023-01-04 06:33:09,469]\u001b[0m Trial 98 finished with value: 0.6281645569620252 and parameters: {'n_estimators': 500, 'criterion': 'gini', 'max_depth': 3, 'min_samples_split': 1.0}. Best is trial 89 with value: 0.949746835443038.\u001b[0m\n",
            "\u001b[32m[I 2023-01-04 06:33:09,684]\u001b[0m Trial 99 finished with value: 0.9220886075949368 and parameters: {'n_estimators': 500, 'criterion': 'entropy', 'max_depth': 1, 'min_samples_split': 0.1}. Best is trial 89 with value: 0.949746835443038.\u001b[0m\n",
            "\u001b[32m[I 2023-01-04 06:33:12,961]\u001b[0m Trial 100 finished with value: 0.9145253164556962 and parameters: {'n_estimators': 500, 'criterion': 'entropy', 'max_depth': 1, 'min_samples_split': 0.1}. Best is trial 89 with value: 0.949746835443038.\u001b[0m\n"
          ]
        }
      ]
    },
    {
      "cell_type": "code",
      "source": [
        "best_params = study_grid.best_params \n",
        "best_params"
      ],
      "metadata": {
        "colab": {
          "base_uri": "https://localhost:8080/"
        },
        "id": "1x8JMM-cdi-c",
        "outputId": "20d62386-b28e-4557-d98b-a8fe12b1f26a"
      },
      "execution_count": 74,
      "outputs": [
        {
          "output_type": "execute_result",
          "data": {
            "text/plain": [
              "{'n_estimators': 500,\n",
              " 'criterion': 'gini',\n",
              " 'max_depth': 8,\n",
              " 'min_samples_split': 0.1}"
            ]
          },
          "metadata": {},
          "execution_count": 74
        }
      ]
    },
    {
      "cell_type": "code",
      "source": [
        "study_grid.best_value"
      ],
      "metadata": {
        "colab": {
          "base_uri": "https://localhost:8080/"
        },
        "id": "Pwr73JZKfTTY",
        "outputId": "078f657d-0831-4fdf-d1b3-cd32d5905846"
      },
      "execution_count": 75,
      "outputs": [
        {
          "output_type": "execute_result",
          "data": {
            "text/plain": [
              "0.949746835443038"
            ]
          },
          "metadata": {},
          "execution_count": 75
        }
      ]
    },
    {
      "cell_type": "code",
      "source": [
        "rfc_grid = RandomForestClassifier(**best_params)"
      ],
      "metadata": {
        "id": "zDeaat3qfaAM"
      },
      "execution_count": 76,
      "outputs": []
    },
    {
      "cell_type": "code",
      "source": [
        "rfc_grid.fit(X_train,y_train)"
      ],
      "metadata": {
        "colab": {
          "base_uri": "https://localhost:8080/"
        },
        "id": "o4cLxi3Vfkvx",
        "outputId": "f33b4bbd-2e86-4685-f743-f329e52ed247"
      },
      "execution_count": 78,
      "outputs": [
        {
          "output_type": "execute_result",
          "data": {
            "text/plain": [
              "RandomForestClassifier(max_depth=8, min_samples_split=0.1, n_estimators=500)"
            ]
          },
          "metadata": {},
          "execution_count": 78
        }
      ]
    },
    {
      "cell_type": "code",
      "source": [
        "evaluate_model(rfc_grid)"
      ],
      "metadata": {
        "colab": {
          "base_uri": "https://localhost:8080/"
        },
        "id": "n58MiDuGfnl6",
        "outputId": "c63b82ed-fba4-45fe-abb3-e98dface88a5"
      },
      "execution_count": 79,
      "outputs": [
        {
          "output_type": "stream",
          "name": "stdout",
          "text": [
            "train accuracy :  0.9723618090452262\n",
            "test accuracy :  0.9649122807017544\n"
          ]
        }
      ]
    }
  ]
}